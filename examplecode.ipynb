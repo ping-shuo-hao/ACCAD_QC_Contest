{
  "cells": [
    {
      "cell_type": "markdown",
      "metadata": {
        "id": "gj3jZbCBSn71"
      },
      "source": [
        "# Example Code for Estimating the Ground State Energy of Hydroxyl (·OH)"
      ]
    },
    {
      "cell_type": "markdown",
      "metadata": {
        "id": "54NH9S1vHrq8"
      },
      "source": [
        "## Basic Installation"
      ]
    },
    {
      "cell_type": "markdown",
      "metadata": {
        "id": "R0OZ3HZZS9Me"
      },
      "source": [
        "Install required package, we highly recommend participant to use qiskit platform, or at least participants can finish preprocessing at other platform and transfer the circuit to qiskit format, since our noise model is from IBM real machine backend and we restricted some algorithmic seeds which could be varied from different platform."
      ]
    },
    {
      "cell_type": "code",
      "execution_count": 1,
      "metadata": {
        "colab": {
          "base_uri": "https://localhost:8080/"
        },
        "id": "Pi-oJxidjBSw",
        "outputId": "d23754fa-04a2-4afc-fce2-cc4d90db62d4"
      },
      "outputs": [
        {
          "name": "stdout",
          "output_type": "stream",
          "text": [
            "Requirement already satisfied: qiskit in /common/home/zl606/.conda/envs/qiskit43/lib/python3.11/site-packages (0.43.2)\n",
            "Requirement already satisfied: qiskit-terra==0.24.1 in /common/home/zl606/.conda/envs/qiskit43/lib/python3.11/site-packages (from qiskit) (0.24.1)\n",
            "Requirement already satisfied: qiskit-aer==0.12.1 in /common/home/zl606/.conda/envs/qiskit43/lib/python3.11/site-packages (from qiskit) (0.12.1)\n",
            "Requirement already satisfied: qiskit-ibmq-provider==0.20.2 in /common/home/zl606/.conda/envs/qiskit43/lib/python3.11/site-packages (from qiskit) (0.20.2)\n",
            "Requirement already satisfied: numpy>=1.16.3 in /common/home/zl606/.conda/envs/qiskit43/lib/python3.11/site-packages (from qiskit-aer==0.12.1->qiskit) (1.23.5)\n",
            "Requirement already satisfied: scipy>=1.0 in /common/home/zl606/.conda/envs/qiskit43/lib/python3.11/site-packages (from qiskit-aer==0.12.1->qiskit) (1.11.1)\n",
            "Requirement already satisfied: requests>=2.19 in /common/home/zl606/.conda/envs/qiskit43/lib/python3.11/site-packages (from qiskit-ibmq-provider==0.20.2->qiskit) (2.31.0)\n",
            "Requirement already satisfied: requests-ntlm<=1.1.0 in /common/home/zl606/.conda/envs/qiskit43/lib/python3.11/site-packages (from qiskit-ibmq-provider==0.20.2->qiskit) (1.1.0)\n",
            "Requirement already satisfied: urllib3>=1.21.1 in /common/home/zl606/.conda/envs/qiskit43/lib/python3.11/site-packages (from qiskit-ibmq-provider==0.20.2->qiskit) (2.0.3)\n",
            "Requirement already satisfied: python-dateutil>=2.8.0 in /common/home/zl606/.conda/envs/qiskit43/lib/python3.11/site-packages (from qiskit-ibmq-provider==0.20.2->qiskit) (2.8.2)\n",
            "Requirement already satisfied: websocket-client>=1.5.1 in /common/home/zl606/.conda/envs/qiskit43/lib/python3.11/site-packages (from qiskit-ibmq-provider==0.20.2->qiskit) (1.6.1)\n",
            "Requirement already satisfied: websockets>=10.0 in /common/home/zl606/.conda/envs/qiskit43/lib/python3.11/site-packages (from qiskit-ibmq-provider==0.20.2->qiskit) (11.0.3)\n",
            "Requirement already satisfied: rustworkx>=0.12.0 in /common/home/zl606/.conda/envs/qiskit43/lib/python3.11/site-packages (from qiskit-terra==0.24.1->qiskit) (0.13.0)\n",
            "Requirement already satisfied: ply>=3.10 in /common/home/zl606/.conda/envs/qiskit43/lib/python3.11/site-packages (from qiskit-terra==0.24.1->qiskit) (3.11)\n",
            "Requirement already satisfied: psutil>=5 in /common/home/zl606/.conda/envs/qiskit43/lib/python3.11/site-packages (from qiskit-terra==0.24.1->qiskit) (5.9.0)\n",
            "Requirement already satisfied: sympy>=1.3 in /common/home/zl606/.conda/envs/qiskit43/lib/python3.11/site-packages (from qiskit-terra==0.24.1->qiskit) (1.12)\n",
            "Requirement already satisfied: dill>=0.3 in /common/home/zl606/.conda/envs/qiskit43/lib/python3.11/site-packages (from qiskit-terra==0.24.1->qiskit) (0.3.6)\n",
            "Requirement already satisfied: stevedore>=3.0.0 in /common/home/zl606/.conda/envs/qiskit43/lib/python3.11/site-packages (from qiskit-terra==0.24.1->qiskit) (5.1.0)\n",
            "Requirement already satisfied: symengine<0.10,>=0.9 in /common/home/zl606/.conda/envs/qiskit43/lib/python3.11/site-packages (from qiskit-terra==0.24.1->qiskit) (0.9.2)\n",
            "Requirement already satisfied: six>=1.5 in /common/home/zl606/.conda/envs/qiskit43/lib/python3.11/site-packages (from python-dateutil>=2.8.0->qiskit-ibmq-provider==0.20.2->qiskit) (1.16.0)\n",
            "Requirement already satisfied: charset-normalizer<4,>=2 in /common/home/zl606/.conda/envs/qiskit43/lib/python3.11/site-packages (from requests>=2.19->qiskit-ibmq-provider==0.20.2->qiskit) (3.2.0)\n",
            "Requirement already satisfied: idna<4,>=2.5 in /common/home/zl606/.conda/envs/qiskit43/lib/python3.11/site-packages (from requests>=2.19->qiskit-ibmq-provider==0.20.2->qiskit) (3.4)\n",
            "Requirement already satisfied: certifi>=2017.4.17 in /common/home/zl606/.conda/envs/qiskit43/lib/python3.11/site-packages (from requests>=2.19->qiskit-ibmq-provider==0.20.2->qiskit) (2023.5.7)\n",
            "Requirement already satisfied: ntlm-auth>=1.0.2 in /common/home/zl606/.conda/envs/qiskit43/lib/python3.11/site-packages (from requests-ntlm<=1.1.0->qiskit-ibmq-provider==0.20.2->qiskit) (1.5.0)\n",
            "Requirement already satisfied: cryptography>=1.3 in /common/home/zl606/.conda/envs/qiskit43/lib/python3.11/site-packages (from requests-ntlm<=1.1.0->qiskit-ibmq-provider==0.20.2->qiskit) (41.0.2)\n",
            "Requirement already satisfied: pbr!=2.1.0,>=2.0.0 in /common/home/zl606/.conda/envs/qiskit43/lib/python3.11/site-packages (from stevedore>=3.0.0->qiskit-terra==0.24.1->qiskit) (5.11.1)\n",
            "Requirement already satisfied: mpmath>=0.19 in /common/home/zl606/.conda/envs/qiskit43/lib/python3.11/site-packages (from sympy>=1.3->qiskit-terra==0.24.1->qiskit) (1.3.0)\n",
            "Requirement already satisfied: cffi>=1.12 in /common/home/zl606/.conda/envs/qiskit43/lib/python3.11/site-packages (from cryptography>=1.3->requests-ntlm<=1.1.0->qiskit-ibmq-provider==0.20.2->qiskit) (1.15.1)\n",
            "Requirement already satisfied: pycparser in /common/home/zl606/.conda/envs/qiskit43/lib/python3.11/site-packages (from cffi>=1.12->cryptography>=1.3->requests-ntlm<=1.1.0->qiskit-ibmq-provider==0.20.2->qiskit) (2.21)\n",
            "Requirement already satisfied: qiskit-nature[pyscf] in /common/home/zl606/.conda/envs/qiskit43/lib/python3.11/site-packages (0.6.2)\n",
            "Requirement already satisfied: qiskit-terra>=0.24 in /common/home/zl606/.conda/envs/qiskit43/lib/python3.11/site-packages (from qiskit-nature[pyscf]) (0.24.1)\n",
            "Requirement already satisfied: scipy>=1.4 in /common/home/zl606/.conda/envs/qiskit43/lib/python3.11/site-packages (from qiskit-nature[pyscf]) (1.11.1)\n",
            "Requirement already satisfied: numpy>=1.17 in /common/home/zl606/.conda/envs/qiskit43/lib/python3.11/site-packages (from qiskit-nature[pyscf]) (1.23.5)\n",
            "Requirement already satisfied: psutil>=5 in /common/home/zl606/.conda/envs/qiskit43/lib/python3.11/site-packages (from qiskit-nature[pyscf]) (5.9.0)\n",
            "Requirement already satisfied: scikit-learn>=0.20.0 in /common/home/zl606/.conda/envs/qiskit43/lib/python3.11/site-packages (from qiskit-nature[pyscf]) (1.3.0)\n",
            "Requirement already satisfied: setuptools>=40.1.0 in /common/home/zl606/.conda/envs/qiskit43/lib/python3.11/site-packages (from qiskit-nature[pyscf]) (67.8.0)\n",
            "Requirement already satisfied: typing-extensions in /common/home/zl606/.conda/envs/qiskit43/lib/python3.11/site-packages (from qiskit-nature[pyscf]) (4.7.1)\n",
            "Requirement already satisfied: h5py in /common/home/zl606/.conda/envs/qiskit43/lib/python3.11/site-packages (from qiskit-nature[pyscf]) (3.9.0)\n",
            "Requirement already satisfied: rustworkx in /common/home/zl606/.conda/envs/qiskit43/lib/python3.11/site-packages (from qiskit-nature[pyscf]) (0.13.0)\n",
            "Requirement already satisfied: pyscf in /common/home/zl606/.conda/envs/qiskit43/lib/python3.11/site-packages (from qiskit-nature[pyscf]) (2.3.0)\n",
            "Requirement already satisfied: ply>=3.10 in /common/home/zl606/.conda/envs/qiskit43/lib/python3.11/site-packages (from qiskit-terra>=0.24->qiskit-nature[pyscf]) (3.11)\n",
            "Requirement already satisfied: sympy>=1.3 in /common/home/zl606/.conda/envs/qiskit43/lib/python3.11/site-packages (from qiskit-terra>=0.24->qiskit-nature[pyscf]) (1.12)\n",
            "Requirement already satisfied: dill>=0.3 in /common/home/zl606/.conda/envs/qiskit43/lib/python3.11/site-packages (from qiskit-terra>=0.24->qiskit-nature[pyscf]) (0.3.6)\n",
            "Requirement already satisfied: python-dateutil>=2.8.0 in /common/home/zl606/.conda/envs/qiskit43/lib/python3.11/site-packages (from qiskit-terra>=0.24->qiskit-nature[pyscf]) (2.8.2)\n",
            "Requirement already satisfied: stevedore>=3.0.0 in /common/home/zl606/.conda/envs/qiskit43/lib/python3.11/site-packages (from qiskit-terra>=0.24->qiskit-nature[pyscf]) (5.1.0)\n",
            "Requirement already satisfied: symengine<0.10,>=0.9 in /common/home/zl606/.conda/envs/qiskit43/lib/python3.11/site-packages (from qiskit-terra>=0.24->qiskit-nature[pyscf]) (0.9.2)\n",
            "Requirement already satisfied: joblib>=1.1.1 in /common/home/zl606/.conda/envs/qiskit43/lib/python3.11/site-packages (from scikit-learn>=0.20.0->qiskit-nature[pyscf]) (1.3.1)\n",
            "Requirement already satisfied: threadpoolctl>=2.0.0 in /common/home/zl606/.conda/envs/qiskit43/lib/python3.11/site-packages (from scikit-learn>=0.20.0->qiskit-nature[pyscf]) (3.1.0)\n",
            "Requirement already satisfied: six>=1.5 in /common/home/zl606/.conda/envs/qiskit43/lib/python3.11/site-packages (from python-dateutil>=2.8.0->qiskit-terra>=0.24->qiskit-nature[pyscf]) (1.16.0)\n",
            "Requirement already satisfied: pbr!=2.1.0,>=2.0.0 in /common/home/zl606/.conda/envs/qiskit43/lib/python3.11/site-packages (from stevedore>=3.0.0->qiskit-terra>=0.24->qiskit-nature[pyscf]) (5.11.1)\n",
            "Requirement already satisfied: mpmath>=0.19 in /common/home/zl606/.conda/envs/qiskit43/lib/python3.11/site-packages (from sympy>=1.3->qiskit-terra>=0.24->qiskit-nature[pyscf]) (1.3.0)\n"
          ]
        }
      ],
      "source": [
        "!pip install qiskit\n",
        "!pip install qiskit-nature[pyscf] -U"
      ]
    },
    {
      "cell_type": "code",
      "execution_count": 2,
      "metadata": {
        "colab": {
          "base_uri": "https://localhost:8080/"
        },
        "id": "-kyJUxyJzk_k",
        "outputId": "153f1581-81d4-43b0-d14e-40f75cd99e39"
      },
      "outputs": [
        {
          "name": "stdout",
          "output_type": "stream",
          "text": [
            "Requirement already satisfied: qiskit_aer in /common/home/zl606/.conda/envs/qiskit43/lib/python3.11/site-packages (0.12.1)\n",
            "Requirement already satisfied: qiskit-terra>=0.21.0 in /common/home/zl606/.conda/envs/qiskit43/lib/python3.11/site-packages (from qiskit_aer) (0.24.1)\n",
            "Requirement already satisfied: numpy>=1.16.3 in /common/home/zl606/.conda/envs/qiskit43/lib/python3.11/site-packages (from qiskit_aer) (1.23.5)\n",
            "Requirement already satisfied: scipy>=1.0 in /common/home/zl606/.conda/envs/qiskit43/lib/python3.11/site-packages (from qiskit_aer) (1.11.1)\n",
            "Requirement already satisfied: rustworkx>=0.12.0 in /common/home/zl606/.conda/envs/qiskit43/lib/python3.11/site-packages (from qiskit-terra>=0.21.0->qiskit_aer) (0.13.0)\n",
            "Requirement already satisfied: ply>=3.10 in /common/home/zl606/.conda/envs/qiskit43/lib/python3.11/site-packages (from qiskit-terra>=0.21.0->qiskit_aer) (3.11)\n",
            "Requirement already satisfied: psutil>=5 in /common/home/zl606/.conda/envs/qiskit43/lib/python3.11/site-packages (from qiskit-terra>=0.21.0->qiskit_aer) (5.9.0)\n",
            "Requirement already satisfied: sympy>=1.3 in /common/home/zl606/.conda/envs/qiskit43/lib/python3.11/site-packages (from qiskit-terra>=0.21.0->qiskit_aer) (1.12)\n",
            "Requirement already satisfied: dill>=0.3 in /common/home/zl606/.conda/envs/qiskit43/lib/python3.11/site-packages (from qiskit-terra>=0.21.0->qiskit_aer) (0.3.6)\n",
            "Requirement already satisfied: python-dateutil>=2.8.0 in /common/home/zl606/.conda/envs/qiskit43/lib/python3.11/site-packages (from qiskit-terra>=0.21.0->qiskit_aer) (2.8.2)\n",
            "Requirement already satisfied: stevedore>=3.0.0 in /common/home/zl606/.conda/envs/qiskit43/lib/python3.11/site-packages (from qiskit-terra>=0.21.0->qiskit_aer) (5.1.0)\n",
            "Requirement already satisfied: symengine<0.10,>=0.9 in /common/home/zl606/.conda/envs/qiskit43/lib/python3.11/site-packages (from qiskit-terra>=0.21.0->qiskit_aer) (0.9.2)\n",
            "Requirement already satisfied: six>=1.5 in /common/home/zl606/.conda/envs/qiskit43/lib/python3.11/site-packages (from python-dateutil>=2.8.0->qiskit-terra>=0.21.0->qiskit_aer) (1.16.0)\n",
            "Requirement already satisfied: pbr!=2.1.0,>=2.0.0 in /common/home/zl606/.conda/envs/qiskit43/lib/python3.11/site-packages (from stevedore>=3.0.0->qiskit-terra>=0.21.0->qiskit_aer) (5.11.1)\n",
            "Requirement already satisfied: mpmath>=0.19 in /common/home/zl606/.conda/envs/qiskit43/lib/python3.11/site-packages (from sympy>=1.3->qiskit-terra>=0.21.0->qiskit_aer) (1.3.0)\n"
          ]
        }
      ],
      "source": [
        "!pip install qiskit_aer"
      ]
    },
    {
      "cell_type": "code",
      "execution_count": 3,
      "metadata": {
        "id": "Ib7BjPjxvJNk"
      },
      "outputs": [],
      "source": [
        "from qiskit_nature.units import DistanceUnit\n",
        "from qiskit_nature.second_q.drivers import PySCFDriver\n",
        "from qiskit_nature.second_q.mappers import JordanWignerMapper,ParityMapper,QubitConverter\n",
        "from qiskit.algorithms.minimum_eigensolvers import VQE\n",
        "from qiskit.algorithms.optimizers import SLSQP\n",
        "from qiskit_aer.primitives import Estimator\n",
        "from qiskit_nature.second_q.circuit.library import HartreeFock, UCCSD\n",
        "import numpy as np\n",
        "import pylab\n",
        "import qiskit.providers\n",
        "from qiskit import Aer,pulse, QuantumCircuit\n",
        "from qiskit.utils import QuantumInstance, algorithm_globals\n",
        "import time"
      ]
    },
    {
      "cell_type": "markdown",
      "metadata": {
        "id": "QRxsKX9zTc9g"
      },
      "source": [
        "Here we require paticipants to fix the algorithm seed in qiskit. *MUST* translate other format circuit to qiskit before any place need algorithm seed. And we give 20, 21, 30, 33, 36, 42, 43, 55, 67, 170 as seeds that requires to run, and the result will be calculated as the average of results from each seed. And please use shots as 4000."
      ]
    },
    {
      "cell_type": "code",
      "execution_count": 4,
      "metadata": {
        "id": "_z5kT9vNSWus"
      },
      "outputs": [],
      "source": [
        "seeds = 170\n",
        "algorithm_globals.random_seed = seeds\n",
        "seed_transpiler = seeds\n",
        "iterations = 125\n",
        "shot = 4000"
      ]
    },
    {
      "cell_type": "markdown",
      "metadata": {
        "id": "67IPjEJPJAWk"
      },
      "source": [
        "## Generate Hamiltonian and Pauli String"
      ]
    },
    {
      "cell_type": "markdown",
      "metadata": {
        "id": "7TljW2BrJKHC"
      },
      "source": [
        "At this step, the example code uses PySCF to generate the hamiltonian of hydroxyl with basis function as 'sto3g' to fit the spin orbital, then uses JordanWignerMapper to map the fermionic terms to pauli strings. To be noticed, other chemistry tool also allowed to be used at this step, but keep in mind to use 'sto-3g' and Jordan Wigner Mapper which should gives 12 qubits and 631 paulil terms."
      ]
    },
    {
      "cell_type": "code",
      "execution_count": 5,
      "metadata": {
        "id": "kXSoiGtopCRX"
      },
      "outputs": [
        {
          "name": "stderr",
          "output_type": "stream",
          "text": [
            "/common/home/zl606/.conda/envs/qiskit43/lib/python3.11/site-packages/pyscf/dft/libxc.py:772: UserWarning: Since PySCF-2.3, B3LYP (and B3P86) are changed to the VWN-RPA variant, the same to the B3LYP functional in Gaussian and ORCA (issue 1480). To restore the VWN5 definition, you can put the setting \"B3LYP_WITH_VWN5 = True\" in pyscf_conf.py\n",
            "  warnings.warn('Since PySCF-2.3, B3LYP (and B3P86) are changed to the VWN-RPA variant, '\n"
          ]
        }
      ],
      "source": [
        "ultra_simplified_ala_string = \"\"\"\n",
        "O 0.0 0.0 0.0\n",
        "H 0.45 -0.1525 -0.8454\n",
        "\"\"\"\n",
        "\n",
        "driver = PySCFDriver(\n",
        "    atom=ultra_simplified_ala_string.strip(),\n",
        "    basis='sto3g',\n",
        "    charge=1,\n",
        "    spin=0,\n",
        "    unit=DistanceUnit.ANGSTROM\n",
        ")\n",
        "qmolecule = driver.run()"
      ]
    },
    {
      "cell_type": "code",
      "execution_count": 6,
      "metadata": {
        "colab": {
          "base_uri": "https://localhost:8080/"
        },
        "id": "ojwVkSeRwTH4",
        "outputId": "127b9320-1734-4c77-e753-677181892158"
      },
      "outputs": [
        {
          "name": "stdout",
          "output_type": "stream",
          "text": [
            "Polynomial Tensor\n",
            " \"+-\":\n",
            "[[-3.21461222e+01  5.59899100e-01  1.87617178e-01 -9.76137454e-16\n",
            "   4.93049743e-16 -1.94702445e-01]\n",
            " [ 5.59899100e-01 -7.35898345e+00 -2.46352634e-01  2.11135809e-15\n",
            "  -6.83133174e-16  9.51226718e-01]\n",
            " [ 1.87617178e-01 -2.46352634e-01 -6.56995119e+00 -5.81847574e-15\n",
            "   2.57659687e-15 -1.09726793e+00]\n",
            " [-9.77633513e-16  2.11758743e-15 -5.71488448e-15 -6.94886145e+00\n",
            "   7.23887716e-16  5.64658986e-15]\n",
            " [ 4.95723154e-16 -4.85436689e-16  2.27894958e-15  8.08994311e-16\n",
            "  -6.94886145e+00 -1.49655559e-15]\n",
            " [-1.94702445e-01  9.51226718e-01 -1.09726793e+00  5.57235821e-15\n",
            "  -1.35112157e-15 -4.64967973e+00]]\n",
            " \"++--\":\n",
            "[[[[ 4.74977044e+00 -4.38465691e-01 -1.51436760e-01  7.94518990e-16\n",
            "    -3.52993155e-16  1.59790984e-01]\n",
            "   [-4.38465691e-01  6.47204045e-02  1.84429506e-02 -1.02178234e-16\n",
            "     5.15455923e-17 -2.66865302e-02]\n",
            "   [-1.51436760e-01  1.84429506e-02  2.46189939e-02  2.15683896e-17\n",
            "    -1.08634391e-17  6.40512562e-03]\n",
            "   [ 7.94300484e-16 -1.02070980e-16  2.10343470e-17  2.58536922e-02\n",
            "    -3.37138716e-18 -3.33711586e-17]\n",
            "   [-3.52236563e-16  5.12586134e-17 -1.45052703e-17 -3.00236707e-18\n",
            "     2.58536922e-02  1.02368348e-17]\n",
            "   [ 1.59790984e-01 -2.66865302e-02  6.40512562e-03 -3.22762418e-17\n",
            "     1.42437128e-17  2.11708054e-02]]\n",
            "\n",
            "  [[-4.38465691e-01  6.47204045e-02  1.84429506e-02 -1.02150189e-16\n",
            "     5.17510241e-17 -2.66865302e-02]\n",
            "   [ 1.06368185e+00 -1.50469869e-02 -1.72330627e-02  7.59323602e-17\n",
            "    -1.48612157e-17 -2.69295995e-03]\n",
            "   [ 8.78369520e-02 -9.36020789e-03  2.16452114e-02  8.21039621e-17\n",
            "    -4.40465711e-17  2.03747148e-02]\n",
            "   [-6.26592553e-16  4.46422416e-17  8.36752258e-17  3.38081759e-02\n",
            "    -3.87373757e-18 -1.07626786e-16]\n",
            "   [ 3.14205121e-16 -1.74896925e-17 -4.13236502e-17 -3.86482954e-18\n",
            "     3.38081759e-02  4.58210554e-17]\n",
            "   [-2.42118626e-01  4.54101197e-03  1.65509332e-02 -8.97704161e-17\n",
            "     4.54867710e-17  8.74204002e-03]]\n",
            "\n",
            "  [[-1.51436760e-01  1.84429506e-02  2.46189939e-02  2.15737103e-17\n",
            "    -1.21262069e-17  6.40512562e-03]\n",
            "   [ 8.78369520e-02 -9.36020789e-03  2.16452114e-02  8.19877584e-17\n",
            "    -4.38203845e-17  2.03747148e-02]\n",
            "   [ 9.90974245e-01 -1.31679803e-02  8.70090353e-03  8.29693038e-17\n",
            "    -3.59054487e-17  1.41651559e-02]\n",
            "   [ 1.27105693e-15 -5.21086127e-18 -2.04511089e-18  1.12083197e-02\n",
            "    -1.30119441e-18 -5.12839953e-17]\n",
            "   [-7.04906090e-16  2.38842765e-17 -3.00191296e-18 -1.34850876e-18\n",
            "     1.12083197e-02  2.45656161e-17]\n",
            "   [ 2.65843254e-01 -5.34487452e-03  2.07171914e-03 -6.80832245e-17\n",
            "     2.36082024e-17  4.81053325e-03]]\n",
            "\n",
            "  [[ 7.94405586e-16 -1.02194401e-16  2.14636421e-17  2.58536922e-02\n",
            "    -3.20832781e-18 -3.28160822e-17]\n",
            "   [-6.21534094e-16  4.53691986e-17  8.30633454e-17  3.38081759e-02\n",
            "    -3.27877449e-18 -1.07138587e-16]\n",
            "   [ 1.28542497e-15 -6.59324686e-18 -2.73387239e-18  1.12083197e-02\n",
            "    -1.29077584e-18 -5.12202766e-17]\n",
            "   [ 1.11539591e+00 -1.22985373e-02 -4.28354178e-03 -9.39256066e-17\n",
            "    -9.81098846e-18  4.10551212e-03]\n",
            "   [-8.54685514e-17 -3.75817951e-18 -1.19490073e-18  2.31541268e-17\n",
            "    -5.82640428e-17 -1.05858001e-18]\n",
            "   [-1.35718752e-15  3.24899506e-17 -6.81034495e-17 -1.03687761e-02\n",
            "     1.56830342e-18 -3.10094080e-17]]\n",
            "\n",
            "  [[-3.52374603e-16  5.15750792e-17 -1.40245566e-17 -3.06286450e-18\n",
            "     2.58536922e-02  1.08916660e-17]\n",
            "   [ 3.27060310e-16 -1.66605887e-17 -3.63355210e-17 -3.70898791e-18\n",
            "     3.38081759e-02  4.62295039e-17]\n",
            "   [-6.66059953e-16  2.12108133e-17 -3.66964392e-18 -1.37350765e-18\n",
            "     1.12083197e-02  2.89511923e-17]\n",
            "   [-8.91121067e-17 -3.80301128e-18 -1.13012496e-18  2.31476751e-17\n",
            "    -5.82608780e-17 -9.25746813e-19]\n",
            "   [ 1.11539591e+00 -1.22985373e-02 -4.28354178e-03  2.21115260e-17\n",
            "     3.63803291e-17  4.10551212e-03]\n",
            "   [ 2.99530019e-16  2.76054707e-17  4.32308104e-17  1.86610249e-18\n",
            "    -1.03687761e-02  3.20867031e-18]]\n",
            "\n",
            "  [[ 1.59790984e-01 -2.66865302e-02  6.40512562e-03 -3.23953706e-17\n",
            "     1.11005516e-17  2.11708054e-02]\n",
            "   [-2.42118626e-01  4.54101197e-03  1.65509332e-02 -8.83569741e-17\n",
            "     4.29296251e-17  8.74204002e-03]\n",
            "   [ 2.65843254e-01 -5.34487452e-03  2.07171914e-03 -6.91195642e-17\n",
            "     2.31850598e-17  4.81053325e-03]\n",
            "   [-1.32654506e-15  2.52219657e-17 -6.95182525e-17 -1.03687761e-02\n",
            "     1.46650386e-18 -3.03464209e-17]\n",
            "   [ 2.99272718e-16  1.40232753e-17  3.86033442e-17  1.64150464e-18\n",
            "    -1.03687761e-02  1.99753915e-17]\n",
            "   [ 7.34481338e-01 -5.21692816e-03 -1.59999430e-02  8.28003642e-17\n",
            "    -3.41532202e-17 -8.28037465e-03]]]\n",
            "\n",
            "\n",
            " [[[-4.38465691e-01  1.06368185e+00  8.78369520e-02 -6.11600674e-16\n",
            "     2.82628657e-16 -2.42118626e-01]\n",
            "   [ 6.47204045e-02 -1.50469869e-02 -9.36020789e-03  4.29663502e-17\n",
            "    -1.39761996e-17  4.54101197e-03]\n",
            "   [ 1.84429506e-02 -1.72330627e-02  2.16452114e-02  8.16087599e-17\n",
            "    -3.77293777e-17  1.65509332e-02]\n",
            "   [-1.02179401e-16  7.56935057e-17  8.32700456e-17  3.38081759e-02\n",
            "    -3.15797943e-18 -8.71085127e-17]\n",
            "   [ 5.12586134e-17 -1.40952142e-17 -4.15487887e-17 -2.81826947e-18\n",
            "     3.38081759e-02  4.31324050e-17]\n",
            "   [-2.66865302e-02 -2.69295995e-03  2.03747148e-02 -1.07833874e-16\n",
            "     4.99729321e-17  8.74204002e-03]]\n",
            "\n",
            "  [[ 6.47204045e-02 -1.50469869e-02 -9.36020789e-03  4.29020226e-17\n",
            "    -1.42003871e-17  4.54101197e-03]\n",
            "   [-1.50469869e-02  7.82246148e-01 -2.82736344e-02 -3.62998531e-18\n",
            "     3.66956529e-17 -1.20862414e-01]\n",
            "   [-9.36020789e-03 -2.82736344e-02  1.38461310e-01  1.71700636e-16\n",
            "    -5.08955568e-17  2.11790621e-02]\n",
            "   [ 4.50433041e-17 -1.48323329e-18  1.70396361e-16  1.56942623e-01\n",
            "    -1.88322352e-17 -1.06329659e-16]\n",
            "   [-1.39826034e-17  5.02002157e-17 -5.63559830e-17 -1.27565837e-17\n",
            "     1.56942623e-01  7.53503946e-17]\n",
            "   [ 4.54101197e-03 -1.20862414e-01  2.11790621e-02 -9.82594228e-17\n",
            "     6.97862716e-17  8.19731113e-02]]\n",
            "\n",
            "  [[ 1.84429506e-02 -1.72330627e-02  2.16452114e-02  8.20820601e-17\n",
            "    -3.54384171e-17  1.65509332e-02]\n",
            "   [-9.36020789e-03 -2.82736344e-02  1.38461310e-01  1.65964886e-16\n",
            "    -3.21254615e-17  2.11790621e-02]\n",
            "   [-1.31679803e-02  7.08160916e-01  6.20624861e-02  4.72518302e-17\n",
            "    -4.13463856e-17 -5.09591903e-02]\n",
            "   [-5.44883165e-18  7.51772627e-16  1.90566678e-16  4.03035161e-02\n",
            "    -6.55269335e-18 -4.30611514e-16]\n",
            "   [ 6.31118914e-18 -2.41308515e-16 -1.29288028e-16 -9.26942635e-18\n",
            "     4.03035161e-02  2.19112501e-16]\n",
            "   [-5.34487452e-03  1.01782960e-01  6.86961222e-02 -6.19631865e-16\n",
            "     2.63567839e-16 -6.06860239e-02]]\n",
            "\n",
            "  [[-1.02378697e-16  7.53899457e-17  8.35687624e-17  3.38081759e-02\n",
            "    -3.99768647e-18 -8.69707138e-17]\n",
            "   [ 4.58608080e-17  2.10312174e-18  1.68876883e-16  1.56942623e-01\n",
            "    -2.18305987e-17 -1.04785198e-16]\n",
            "   [-7.25785111e-18  7.34596558e-16  1.87518524e-16  4.03035161e-02\n",
            "    -8.14228669e-18 -4.16901851e-16]\n",
            "   [-1.22985373e-02  7.77829097e-01  4.78181725e-02 -7.64179677e-16\n",
            "     1.19815252e-16 -1.21924948e-01]\n",
            "   [ 1.59675849e-18 -6.11017839e-17 -6.22242031e-18  8.48152438e-17\n",
            "    -2.19737189e-16 -3.11880694e-18]\n",
            "   [ 3.43673132e-17 -4.98357843e-16 -6.30559811e-16 -4.16508161e-02\n",
            "     5.38811916e-18  3.30097919e-16]]\n",
            "\n",
            "  [[ 5.15364070e-17 -1.51845312e-17 -4.20553216e-17 -4.11886667e-18\n",
            "     3.38081759e-02  4.30966327e-17]\n",
            "   [-1.39228578e-17  1.20769170e-17 -4.72576233e-17 -1.47755934e-17\n",
            "     1.56942623e-01  8.08913612e-17]\n",
            "   [ 6.06327355e-18 -1.94726852e-16 -1.28536690e-16 -9.69171241e-18\n",
            "     4.03035161e-02  2.23509523e-16]\n",
            "   [ 1.56425123e-18 -8.40084205e-17 -6.50076011e-18  8.40957147e-17\n",
            "    -2.19635904e-16  3.00684209e-18]\n",
            "   [-1.22985373e-02  7.77829097e-01  4.78181725e-02 -3.49446726e-16\n",
            "     2.80388885e-16 -1.21924948e-01]\n",
            "   [-4.49709893e-18  5.40733854e-17  3.60308330e-16  3.70467185e-19\n",
            "    -4.16508161e-02 -2.25265648e-16]]\n",
            "\n",
            "  [[-2.66865302e-02 -2.69295995e-03  2.03747148e-02 -1.06808989e-16\n",
            "     5.12714078e-17  8.74204002e-03]\n",
            "   [ 4.54101197e-03 -1.20862414e-01  2.11790621e-02 -1.06460419e-16\n",
            "     5.38679996e-17  8.19731113e-02]\n",
            "   [-5.34487452e-03  1.01782960e-01  6.86961222e-02 -6.22316300e-16\n",
            "     2.83128775e-16 -6.06860239e-02]\n",
            "   [ 2.60739417e-17 -5.10639616e-16 -6.39195020e-16 -4.16508161e-02\n",
            "    -6.00408626e-19  3.65219684e-16]\n",
            "   [-4.98260205e-18  8.41232825e-19  3.68558254e-16 -2.35171728e-18\n",
            "    -4.16508161e-02 -1.71938407e-16]\n",
            "   [-5.21692816e-03  6.12883783e-01 -9.90962252e-02  4.45623113e-16\n",
            "    -2.01377817e-16 -1.95498046e-02]]]\n",
            "\n",
            "\n",
            " [[[-1.51436760e-01  8.78369520e-02  9.90974245e-01  1.24799983e-15\n",
            "    -5.55068254e-16  2.65843254e-01]\n",
            "   [ 1.84429506e-02 -9.36020789e-03 -1.31679803e-02 -1.82870451e-18\n",
            "     6.28736627e-18 -5.34487452e-03]\n",
            "   [ 2.46189939e-02  2.16452114e-02  8.70090353e-03 -2.02877288e-18\n",
            "    -6.13164366e-18  2.07171914e-03]\n",
            "   [ 2.19017087e-17  8.45058513e-17  8.41307041e-17  1.12083197e-02\n",
            "    -1.34919853e-18 -6.82237765e-17]\n",
            "   [-1.45052703e-17 -4.66776749e-17 -3.61812074e-17 -1.45421548e-18\n",
            "     1.12083197e-02  2.45364882e-17]\n",
            "   [ 6.40512562e-03  2.03747148e-02  1.41651559e-02 -5.11387325e-17\n",
            "     2.05907285e-17  4.81053325e-03]]\n",
            "\n",
            "  [[ 1.84429506e-02 -9.36020789e-03 -1.31679803e-02 -1.93031344e-18\n",
            "     6.11458780e-18 -5.34487452e-03]\n",
            "   [-1.72330627e-02 -2.82736344e-02  7.08160916e-01  7.62610775e-16\n",
            "    -2.23725454e-16  1.01782960e-01]\n",
            "   [ 2.16452114e-02  1.38461310e-01  6.20624861e-02  1.91714089e-16\n",
            "    -1.13761884e-16  6.86961222e-02]\n",
            "   [ 8.36752258e-17  1.66926914e-16  5.22234498e-17  4.03035161e-02\n",
            "    -8.57134109e-18 -6.22471013e-16]\n",
            "   [-3.95889267e-17 -5.63559830e-17 -4.70797007e-17 -7.75896206e-18\n",
            "     4.03035161e-02  2.67152228e-16]\n",
            "   [ 1.65509332e-02  2.11790621e-02 -5.09591903e-02 -4.47281974e-16\n",
            "     1.88998153e-16 -6.06860239e-02]]\n",
            "\n",
            "  [[ 2.46189939e-02  2.16452114e-02  8.70090353e-03 -1.75412420e-18\n",
            "    -6.76651095e-18  2.07171914e-03]\n",
            "   [ 2.16452114e-02  1.38461310e-01  6.20624861e-02  1.94976018e-16\n",
            "    -1.11246819e-16  6.86961222e-02]\n",
            "   [ 8.70090353e-03  6.20624861e-02  7.76790044e-01  7.35318080e-16\n",
            "    -3.45783897e-16  1.24533083e-01]\n",
            "   [-2.64957669e-18  1.94727059e-16  7.50096787e-16  5.15571898e-02\n",
            "     7.21795802e-18  2.22038348e-16]\n",
            "   [-7.32931112e-18 -1.41961269e-16 -3.72559416e-16  8.98394260e-18\n",
            "     5.15571898e-02 -2.30249320e-16]\n",
            "   [ 2.07171914e-03  6.86961222e-02  1.24533083e-01  2.17806325e-16\n",
            "    -2.05889744e-16  1.22969373e-01]]\n",
            "\n",
            "  [[ 2.24046696e-17  8.37527803e-17  8.33037479e-17  1.12083197e-02\n",
            "    -1.28041019e-18 -6.81836527e-17]\n",
            "   [ 8.35795764e-17  1.60798371e-16  5.01350414e-17  4.03035161e-02\n",
            "    -7.52538701e-18 -6.14680026e-16]\n",
            "   [-3.48824276e-18  1.91325546e-16  7.27894138e-16  5.15571898e-02\n",
            "     9.10004915e-18  2.19744820e-16]\n",
            "   [-4.28354178e-03  4.78181725e-02  7.25741700e-01  6.99730834e-16\n",
            "    -2.28291077e-16  1.36326286e-01]\n",
            "   [ 6.78876964e-19 -5.97694995e-18 -5.91784874e-17 -7.21626584e-18\n",
            "     3.44004109e-17 -9.72869347e-18]\n",
            "   [-6.86119175e-17 -6.19984005e-16 -4.97335103e-16  7.58596288e-03\n",
            "     1.94811522e-17 -5.39804536e-16]]\n",
            "\n",
            "  [[-1.40866015e-17 -4.35926718e-17 -3.79248873e-17 -1.52734908e-18\n",
            "     1.12083197e-02  1.99864640e-17]\n",
            "   [-3.76498178e-17 -4.44473721e-17 -5.09066462e-17 -7.24587219e-18\n",
            "     4.03035161e-02  2.75420982e-16]\n",
            "   [-7.80596335e-18 -1.41949181e-16 -3.33781481e-16  9.40954681e-18\n",
            "     5.15571898e-02 -2.22987306e-16]\n",
            "   [ 6.12753122e-19 -5.48364176e-18 -7.84759154e-17 -5.81303243e-18\n",
            "     3.37164108e-17 -1.38037642e-17]\n",
            "   [-4.28354178e-03  4.78181725e-02  7.25741700e-01  7.44392227e-16\n",
            "    -2.49180516e-16  1.36326286e-01]\n",
            "   [ 3.31376661e-17  3.35087298e-16 -2.13430000e-17  1.71800349e-17\n",
            "     7.58596288e-03  3.93367679e-16]]\n",
            "\n",
            "  [[ 6.40512562e-03  2.03747148e-02  1.41651559e-02 -5.20835220e-17\n",
            "     1.95436071e-17  4.81053325e-03]\n",
            "   [ 1.65509332e-02  2.11790621e-02 -5.09591903e-02 -4.46226627e-16\n",
            "     1.59967571e-16 -6.06860239e-02]\n",
            "   [ 2.07171914e-03  6.86961222e-02  1.24533083e-01  2.19931125e-16\n",
            "    -2.52123829e-16  1.22969373e-01]\n",
            "   [-7.03529958e-17 -6.27988248e-16 -4.94336830e-16  7.58596288e-03\n",
            "     2.34358328e-17 -5.32333960e-16]\n",
            "   [ 2.98920847e-17  3.45853093e-16 -8.65486402e-17  1.55203660e-17\n",
            "     7.58596288e-03  4.21391796e-16]\n",
            "   [-1.59999430e-02 -9.90962252e-02  5.81960146e-01  1.67989690e-16\n",
            "    -1.34073012e-16 -4.47663569e-02]]]\n",
            "\n",
            "\n",
            " [[[ 7.94375556e-16 -6.17227581e-16  1.27856820e-15  1.11539591e+00\n",
            "    -1.38797504e-16 -1.36124359e-15]\n",
            "   [-1.02244444e-16  4.46332718e-17 -4.28536392e-18 -1.22985373e-02\n",
            "     7.01515344e-20  3.69275760e-17]\n",
            "   [ 2.18771043e-17  8.18300566e-17 -1.58664034e-18 -4.28354178e-03\n",
            "    -5.36751666e-19 -6.74296643e-17]\n",
            "   [ 2.58536922e-02  3.38081759e-02  1.12083197e-02 -9.38930253e-17\n",
            "     2.32090110e-17 -1.03687761e-02]\n",
            "   [-2.79493716e-18 -3.87424007e-18 -1.66164539e-18 -9.89801827e-18\n",
            "    -5.83323821e-17  1.63951287e-18]\n",
            "   [-3.20195810e-17 -1.08084736e-16 -5.40002518e-17  4.10551212e-03\n",
            "     1.27251625e-18 -3.05503531e-17]]\n",
            "\n",
            "  [[-1.02282939e-16  4.42747030e-17 -4.17544961e-18 -1.22985373e-02\n",
            "    -9.01496626e-20  3.67498705e-17]\n",
            "   [ 7.55149066e-17 -6.72825037e-19  7.53610657e-16  7.77829097e-01\n",
            "    -7.30326717e-17 -4.95037079e-16]\n",
            "   [ 8.31711222e-17  1.65851074e-16  1.86924021e-16  4.78181725e-02\n",
            "    -6.45894531e-18 -6.16306333e-16]\n",
            "   [ 3.38081759e-02  1.56942623e-01  4.03035161e-02 -7.68557939e-16\n",
            "     8.43267522e-17 -4.16508161e-02]\n",
            "   [-3.03510990e-18 -2.12043485e-17 -6.49556156e-18  1.22795943e-16\n",
            "    -2.18905806e-16  8.74649435e-19]\n",
            "   [-8.81770111e-17 -1.03827394e-16 -4.36377924e-16 -1.21924948e-01\n",
            "     1.95645914e-17  3.53063329e-16]]\n",
            "\n",
            "  [[ 2.20503521e-17  8.29437556e-17 -1.44512433e-18 -4.28354178e-03\n",
            "    -2.81378750e-19 -6.74877241e-17]\n",
            "   [ 8.29484875e-17  1.64940092e-16  1.87344510e-16  4.78181725e-02\n",
            "    -2.88352016e-18 -6.27909701e-16]\n",
            "   [ 8.37213434e-17  5.18816558e-17  7.27901773e-16  7.25741700e-01\n",
            "    -6.59982734e-17 -5.05394830e-16]\n",
            "   [ 1.12083197e-02  4.03035161e-02  5.15571898e-02  7.07074955e-16\n",
            "    -1.02542684e-17  7.58596288e-03]\n",
            "   [-1.68788520e-18 -8.47734881e-18  6.04228177e-18 -2.63349168e-16\n",
            "     2.85691023e-17 -4.53656695e-18]\n",
            "   [-6.69099898e-17 -6.21513928e-16  2.22317410e-16  1.36326286e-01\n",
            "    -1.39278928e-17 -5.29616139e-16]]\n",
            "\n",
            "  [[ 2.58536922e-02  3.38081759e-02  1.12083197e-02 -9.38502617e-17\n",
            "     2.32160724e-17 -1.03687761e-02]\n",
            "   [ 3.38081759e-02  1.56942623e-01  4.03035161e-02 -7.67215911e-16\n",
            "     8.40809492e-17 -4.16508161e-02]\n",
            "   [ 1.12083197e-02  4.03035161e-02  5.15571898e-02  7.12998122e-16\n",
            "    -1.04877837e-17  7.58596288e-03]\n",
            "   [-9.38919801e-17 -7.64613358e-16  7.01768765e-16  8.80159093e-01\n",
            "    -7.36880166e-17 -8.20157363e-16]\n",
            "   [ 2.31815260e-17  8.39478820e-17 -7.06569744e-18 -7.76352349e-17\n",
            "     4.74444451e-02  3.43417125e-17]\n",
            "   [-1.03687761e-02 -4.16508161e-02  7.58596288e-03 -8.26255208e-16\n",
            "     2.57307858e-17  2.41407920e-02]]\n",
            "\n",
            "  [[-2.20163814e-18 -4.45558623e-18 -1.48686595e-18 -1.01489968e-17\n",
            "    -5.82943063e-17  1.48729200e-18]\n",
            "   [-3.87037915e-18 -2.02126143e-17 -4.99929030e-18  1.27895322e-16\n",
            "    -2.19714336e-16  4.28330498e-18]\n",
            "   [-1.60290601e-18 -8.68420722e-18  5.09349130e-18 -3.52113855e-16\n",
            "     3.03005552e-17 -6.95296776e-18]\n",
            "   [ 2.31754569e-17  8.36383158e-17 -7.89012697e-18 -8.25662999e-17\n",
            "     4.74444451e-02  3.45048283e-17]\n",
            "   [ 2.21799629e-17 -3.47223059e-16  7.49520379e-16  7.85270203e-01\n",
            "    -1.16785021e-16 -6.71818060e-16]\n",
            "   [ 2.27448862e-18  5.25751996e-18  1.25730784e-17  1.97479261e-16\n",
            "    -1.97323887e-17 -3.07779644e-18]]\n",
            "\n",
            "  [[-3.20260936e-17 -1.07005623e-16 -5.41977055e-17  4.10551212e-03\n",
            "     5.36876915e-19 -3.28789387e-17]\n",
            "   [-8.70749190e-17 -1.12572543e-16 -4.23956773e-16 -1.21924948e-01\n",
            "     4.24343265e-18  3.68999129e-16]\n",
            "   [-6.91305296e-17 -6.18205570e-16  2.22015881e-16  1.36326286e-01\n",
            "    -6.22076655e-18 -5.38824126e-16]\n",
            "   [-1.03687761e-02 -4.16508161e-02  7.58596288e-03 -8.19760839e-16\n",
            "     2.91601485e-17  2.41407920e-02]\n",
            "   [ 2.08459603e-18  5.98312120e-18  5.05261182e-18  1.17746734e-16\n",
            "    -1.22919872e-17 -1.21751666e-17]\n",
            "   [ 8.12944779e-17  4.77438307e-16  1.50359251e-16  5.54511357e-01\n",
            "    -7.34042998e-18  3.09728247e-16]]]\n",
            "\n",
            "\n",
            " [[[-3.52897647e-16  3.10377527e-16 -6.19402920e-16 -1.07290850e-16\n",
            "     1.11539591e+00  4.25022723e-16]\n",
            "   [ 5.15336541e-17 -1.93244400e-17  2.27533620e-17 -4.65909807e-18\n",
            "    -1.22985373e-02 -1.33397744e-17]\n",
            "   [-1.14574620e-17 -3.63845369e-17  3.65153421e-18 -2.19672252e-18\n",
            "    -4.28354178e-03  2.94100959e-17]\n",
            "   [-3.12192831e-18 -3.89486751e-18 -1.96710142e-18  2.31857289e-17\n",
            "     2.22757374e-17  1.79843224e-18]\n",
            "   [ 2.58536922e-02  3.38081759e-02  1.12083197e-02 -5.82934241e-17\n",
            "     3.62752768e-17 -1.03687761e-02]\n",
            "   [ 1.38538537e-17  5.45024567e-17  1.01065471e-17  3.07225852e-18\n",
            "     4.10551212e-03  7.66419711e-18]]\n",
            "\n",
            "  [[ 5.14485226e-17 -1.83925489e-17  2.26488799e-17 -4.75654728e-18\n",
            "    -1.22985373e-02 -9.61099506e-18]\n",
            "   [-1.53544124e-17  2.66914573e-17 -2.87924712e-16 -8.23146505e-17\n",
            "     7.77829097e-01  3.73304930e-17]\n",
            "   [-4.09060635e-17 -5.19507857e-17 -1.45917746e-16 -7.41952577e-18\n",
            "     4.78181725e-02  3.40926730e-16]\n",
            "   [-4.80633613e-18 -1.70975118e-17 -8.26813388e-18  8.35671138e-17\n",
            "    -3.44932556e-16  5.06041961e-18]\n",
            "   [ 3.38081759e-02  1.56942623e-01  4.03035161e-02 -2.18132434e-16\n",
            "     2.86920302e-16 -4.16508161e-02]\n",
            "   [ 4.90000573e-17  8.02914685e-17  2.24702813e-16  1.40283282e-17\n",
            "    -1.21924948e-01 -2.73125118e-16]]\n",
            "\n",
            "  [[-1.20576133e-17 -3.91386747e-17 -1.40542278e-18 -1.97615391e-18\n",
            "    -4.28354178e-03  3.34141572e-17]\n",
            "   [-4.29625598e-17 -4.14949756e-17 -1.53373002e-16 -6.79200555e-18\n",
            "     4.78181725e-02  3.55292136e-16]\n",
            "   [-3.58215271e-17 -3.90906878e-17 -3.57924049e-16 -6.38838772e-17\n",
            "     7.25741700e-01 -6.68539389e-17]\n",
            "   [-1.44223304e-18 -9.89166664e-18  1.07103819e-17 -7.43349953e-18\n",
            "     7.28567795e-16  4.45835124e-18]\n",
            "   [ 1.12083197e-02  4.03035161e-02  5.15571898e-02  2.35541423e-17\n",
            "    -3.11633036e-16  7.58596288e-03]\n",
            "   [ 2.48546633e-17  2.79555360e-16 -1.87181120e-16 -1.50490767e-17\n",
            "     1.36326286e-01  3.80773371e-16]]\n",
            "\n",
            "  [[-2.89041443e-18 -3.99473413e-18 -1.30345172e-18  2.31848429e-17\n",
            "     2.23295629e-17  1.27928906e-18]\n",
            "   [-3.36481083e-18 -2.12628661e-17 -7.85366685e-18  8.28725960e-17\n",
            "    -3.44529252e-16  3.84765371e-18]\n",
            "   [-1.11832835e-18 -1.05642533e-17  1.01658770e-17 -7.26035010e-18\n",
            "     7.32041498e-16  4.36913811e-18]\n",
            "   [-1.00277709e-17  1.03995201e-16 -2.40020611e-16 -7.71574636e-17\n",
            "     7.85270203e-01  1.41852383e-16]\n",
            "   [-5.82515330e-17 -2.18800416e-16  2.16139928e-17  4.74444451e-02\n",
            "    -9.71466107e-17 -2.79078985e-17]\n",
            "   [ 8.83043344e-19  4.58126701e-18  1.76557578e-17  3.17528765e-17\n",
            "    -7.01428414e-16 -2.74827818e-19]]\n",
            "\n",
            "  [[ 2.58536922e-02  3.38081759e-02  1.12083197e-02 -5.82440655e-17\n",
            "     3.62983315e-17 -1.03687761e-02]\n",
            "   [ 3.38081759e-02  1.56942623e-01  4.03035161e-02 -2.19264279e-16\n",
            "     2.80243476e-16 -4.16508161e-02]\n",
            "   [ 1.12083197e-02  4.03035161e-02  5.15571898e-02  2.67521449e-17\n",
            "    -2.87956273e-16  7.58596288e-03]\n",
            "   [-5.82509684e-17 -2.19028566e-16  2.19647675e-17  4.74444451e-02\n",
            "    -1.03015394e-16 -2.78261098e-17]\n",
            "   [ 3.63873994e-17  2.80747281e-16 -3.05143372e-16 -1.07244041e-16\n",
            "     8.80159093e-01  2.33605873e-16]\n",
            "   [-1.03687761e-02 -4.16508161e-02  7.58596288e-03 -3.05324471e-17\n",
            "     2.53364581e-16  2.41407920e-02]]\n",
            "\n",
            "  [[ 1.13092015e-17  5.01946449e-17  1.14942733e-17  2.55628333e-18\n",
            "     4.10551212e-03  9.23087128e-18]\n",
            "   [ 4.31438504e-17  7.74129237e-17  2.53125716e-16  6.21134180e-18\n",
            "    -1.21924948e-01 -2.54216883e-16]\n",
            "   [ 2.35551399e-17  2.85437055e-16 -2.02207957e-16 -1.27325163e-18\n",
            "     1.36326286e-01  3.32575794e-16]\n",
            "   [ 1.51543148e-18  1.24181157e-18  1.73882011e-17  3.34894484e-17\n",
            "    -6.99373985e-16 -4.76019839e-21]\n",
            "   [-1.03687761e-02 -4.16508161e-02  7.58596288e-03 -2.09331244e-17\n",
            "     3.40995886e-16  2.41407920e-02]\n",
            "   [-3.37357042e-17 -2.56810243e-16 -1.32168201e-16 -1.66531098e-17\n",
            "     5.54511357e-01 -7.20238626e-16]]]\n",
            "\n",
            "\n",
            " [[[ 1.59790984e-01 -2.42118626e-01  2.65843254e-01 -1.37567429e-15\n",
            "     4.45761737e-16  7.34481338e-01]\n",
            "   [-2.66865302e-02  4.54101197e-03 -5.34487452e-03  3.14815986e-17\n",
            "    -1.64364593e-17 -5.21692816e-03]\n",
            "   [ 6.40512562e-03  1.65509332e-02  2.07171914e-03 -6.93536888e-17\n",
            "     3.08178710e-17 -1.59999430e-02]\n",
            "   [-3.27206373e-17 -8.70758943e-17 -6.78332790e-17 -1.03687761e-02\n",
            "     1.08841834e-18  8.40395170e-17]\n",
            "   [ 1.19715583e-17  4.30947629e-17  2.64127679e-17  1.09741178e-18\n",
            "    -1.03687761e-02 -4.11058373e-17]\n",
            "   [ 2.11708054e-02  8.74204002e-03  4.81053325e-03 -2.58056782e-17\n",
            "     1.39068715e-17 -8.28037465e-03]]\n",
            "\n",
            "  [[-2.66865302e-02  4.54101197e-03 -5.34487452e-03  3.15207331e-17\n",
            "    -1.60311931e-17 -5.21692816e-03]\n",
            "   [-2.69295995e-03 -1.20862414e-01  1.01782960e-01 -4.94584474e-16\n",
            "     1.21948999e-17  6.12883783e-01]\n",
            "   [ 2.03747148e-02  2.11790621e-02  6.86961222e-02 -6.16793074e-16\n",
            "     3.39190911e-16 -9.90962252e-02]\n",
            "   [-1.09058302e-16 -1.05984192e-16 -6.17788737e-16 -4.16508161e-02\n",
            "     5.42886365e-18  4.78292934e-16]\n",
            "   [ 4.77063473e-17  5.51359865e-17  2.59080885e-16  7.73825914e-18\n",
            "    -4.16508161e-02 -2.65338302e-16]\n",
            "   [ 8.74204002e-03  8.19731113e-02 -6.06860239e-02  3.41882288e-16\n",
            "    -2.60970074e-16 -1.95498046e-02]]\n",
            "\n",
            "  [[ 6.40512562e-03  1.65509332e-02  2.07171914e-03 -6.93830398e-17\n",
            "     2.97882282e-17 -1.59999430e-02]\n",
            "   [ 2.03747148e-02  2.11790621e-02  6.86961222e-02 -6.22460042e-16\n",
            "     3.57280058e-16 -9.90962252e-02]\n",
            "   [ 1.41651559e-02 -5.09591903e-02  1.24533083e-01 -5.09162137e-16\n",
            "    -6.34201004e-17  5.81960146e-01]\n",
            "   [-5.05576722e-17 -4.51205814e-16  2.12934743e-16  7.58596288e-03\n",
            "     3.70182009e-18  1.44089269e-16]\n",
            "   [ 1.85317261e-17  2.44609551e-16 -1.83182746e-16 -5.05759394e-18\n",
            "     7.58596288e-03  2.41437265e-17]\n",
            "   [ 4.81053325e-03 -6.06860239e-02  1.22969373e-01 -5.36369262e-16\n",
            "     3.92319515e-16 -4.47663569e-02]]\n",
            "\n",
            "  [[-3.19301166e-17 -8.75423867e-17 -6.84302787e-17 -1.03687761e-02\n",
            "     1.10129901e-18  8.39738038e-17]\n",
            "   [-1.07689586e-16 -1.06631402e-16 -6.14549198e-16 -4.16508161e-02\n",
            "     1.02471387e-18  4.70972527e-16]\n",
            "   [-4.95817705e-17 -4.45062738e-16  2.11070343e-16  7.58596288e-03\n",
            "     1.96653895e-18  1.41007435e-16]\n",
            "   [ 4.10551212e-03 -1.21924948e-01  1.36326286e-01 -8.26793050e-16\n",
            "     1.54791347e-16  5.54511357e-01]\n",
            "   [-9.19525787e-19  4.12122377e-18 -1.55367309e-17  3.44922809e-17\n",
            "    -2.20810981e-17 -3.89725689e-17]\n",
            "   [-2.88537439e-17  3.23967873e-16 -5.45153349e-16  2.41407920e-02\n",
            "     3.94112478e-18  3.26916889e-16]]\n",
            "\n",
            "  [[ 1.07432460e-17  4.20770349e-17  2.36229954e-17  1.00951100e-18\n",
            "    -1.03687761e-02 -2.84420893e-17]\n",
            "   [ 4.50835351e-17  6.96259578e-17  2.81100269e-16  4.51239061e-18\n",
            "    -4.16508161e-02 -2.75551960e-16]\n",
            "   [ 2.00628185e-17  2.44964985e-16 -1.93069740e-16 -8.15762347e-18\n",
            "     7.58596288e-03  5.20508770e-18]\n",
            "   [-7.82066938e-19  7.52007832e-18 -1.64903692e-17  3.52204063e-17\n",
            "    -2.18198145e-17 -3.61917250e-17]\n",
            "   [ 4.10551212e-03 -1.21924948e-01  1.36326286e-01 -6.69566674e-16\n",
            "     2.75314520e-16  5.54511357e-01]\n",
            "   [ 1.16433689e-17 -2.15607422e-16  4.10118676e-16 -7.70431499e-18\n",
            "     2.41407920e-02 -6.61088744e-16]]\n",
            "\n",
            "  [[ 2.11708054e-02  8.74204002e-03  4.81053325e-03 -2.67891975e-17\n",
            "     1.87616859e-17 -8.28037465e-03]\n",
            "   [ 8.74204002e-03  8.19731113e-02 -6.06860239e-02  3.55751885e-16\n",
            "    -2.32728478e-16 -1.95498046e-02]\n",
            "   [ 4.81053325e-03 -6.06860239e-02  1.22969373e-01 -5.43543975e-16\n",
            "     3.30393855e-16 -4.47663569e-02]\n",
            "   [-2.85989766e-17  3.45009417e-16 -5.48637405e-16  2.41407920e-02\n",
            "     1.67436792e-18  3.38125386e-16]\n",
            "   [ 1.99678700e-17 -2.06331740e-16  4.20187248e-16 -1.60312418e-17\n",
            "     2.41407920e-02 -6.95776102e-16]\n",
            "   [-8.28037465e-03 -1.95498046e-02 -4.47663569e-02  3.20494683e-16\n",
            "    -7.38308884e-16  7.04304126e-01]]]]\n"
          ]
        }
      ],
      "source": [
        "hamiltonian = qmolecule.hamiltonian\n",
        "coefficients = hamiltonian.electronic_integrals\n",
        "print(coefficients.alpha)\n",
        "second_q_op = hamiltonian.second_q_op()"
      ]
    },
    {
      "cell_type": "code",
      "execution_count": 7,
      "metadata": {
        "id": "zLhtOziW8xCC"
      },
      "outputs": [
        {
          "name": "stderr",
          "output_type": "stream",
          "text": [
            "/tmp/ipykernel_2640202/561404713.py:2: DeprecationWarning: The QubitConverter class is deprecated as of version 0.6.0 and will be removed no sooner than 3 months after the release . Instead you should directly use the QubitMapper instance which you used to pass into the QubitConverter as the first argument. Refer to the documentation of the qiskit_nature.second_q.mappers module for more information.\n",
            "  converter = QubitConverter(mapper=mapper, two_qubit_reduction=False)\n",
            "/common/home/zl606/.conda/envs/qiskit43/lib/python3.11/site-packages/qiskit_nature/deprecation.py:297: PauliSumOpDeprecationWarning: PauliSumOp is deprecated as of version 0.6.0 and support for them will be removed no sooner than 3 months after the release. Instead, use SparsePauliOp. You can switch to SparsePauliOp immediately, by setting `qiskit_nature.settings.use_pauli_sum_op` to `False`.\n",
            "  return func(*args, **kwargs)\n"
          ]
        }
      ],
      "source": [
        "mapper = JordanWignerMapper()\n",
        "converter = QubitConverter(mapper=mapper, two_qubit_reduction=False)\n",
        "qubit_op = converter.convert(second_q_op)"
      ]
    },
    {
      "cell_type": "markdown",
      "metadata": {
        "id": "rAQ3oSvbKFIU"
      },
      "source": [
        "We recommend to use classical minimum eigensolver to obtain a reference energy at this step. In case some of the classical minimum eigensolver donot directly gives nuclear repulsion energy, we give reference energies below: *Comupted Energy*: -78.75252123, *Nuclear Repulsion_energy*: 4.36537496654537. *Obtained Reference Ground State Energy*: -74.38714627."
      ]
    },
    {
      "cell_type": "code",
      "execution_count": 8,
      "metadata": {
        "id": "gZQaJ8T441s7"
      },
      "outputs": [],
      "source": [
        "from qiskit.algorithms.minimum_eigensolvers import NumPyMinimumEigensolver\n",
        "from qiskit_nature.second_q.algorithms import GroundStateEigensolver\n",
        "\n",
        "solver = GroundStateEigensolver(\n",
        "    JordanWignerMapper(),\n",
        "    NumPyMinimumEigensolver(),\n",
        ")"
      ]
    },
    {
      "cell_type": "code",
      "execution_count": 9,
      "metadata": {
        "colab": {
          "base_uri": "https://localhost:8080/"
        },
        "id": "CzsPX9Fg42zY",
        "outputId": "57ff628a-9fb8-479d-af26-fb644d807202"
      },
      "outputs": [
        {
          "name": "stdout",
          "output_type": "stream",
          "text": [
            "[-78.75252123]\n"
          ]
        }
      ],
      "source": [
        "result = solver.solve(qmolecule)\n",
        "print(result.computed_energies)"
      ]
    },
    {
      "cell_type": "code",
      "execution_count": 10,
      "metadata": {
        "colab": {
          "base_uri": "https://localhost:8080/"
        },
        "id": "zP_A04usULdu",
        "outputId": "b09f2d22-4a51-4f60-a4f5-5d83b0b9477a"
      },
      "outputs": [
        {
          "name": "stdout",
          "output_type": "stream",
          "text": [
            "4.36537496654537\n"
          ]
        }
      ],
      "source": [
        "print(result.nuclear_repulsion_energy)"
      ]
    },
    {
      "cell_type": "code",
      "execution_count": 11,
      "metadata": {
        "colab": {
          "base_uri": "https://localhost:8080/"
        },
        "id": "CjUk5SkJUQkn",
        "outputId": "925ff152-1a4f-4cb0-f3f2-cbe3798562be"
      },
      "outputs": [
        {
          "name": "stdout",
          "output_type": "stream",
          "text": [
            "[-74.38714627]\n"
          ]
        }
      ],
      "source": [
        "ref_value = result.computed_energies + result.nuclear_repulsion_energy\n",
        "print(ref_value)"
      ]
    },
    {
      "cell_type": "markdown",
      "metadata": {
        "id": "7FoppB2vK3Pb"
      },
      "source": [
        "## Construct Ansatz"
      ]
    },
    {
      "cell_type": "markdown",
      "metadata": {
        "id": "FXhkX--4LLjy"
      },
      "source": [
        "At this stage, you can implement various techniques to search good ansatz architecture which is important for variational quantum algorihms. Moreover, how to obtain a good initial state is a good topic to do research, we require participant to self-reflection there techniques (include the techniques for preprocessing ansatz or initial states) with maximum 10 points, and submit a short description for used techniques, we will have three graders to evaluate the techniques."
      ]
    },
    {
      "cell_type": "code",
      "execution_count": 12,
      "metadata": {
        "id": "TR3cvipPWCQ5"
      },
      "outputs": [],
      "source": [
        "ansatz = UCCSD(\n",
        "    qmolecule.num_spatial_orbitals,\n",
        "    qmolecule.num_particles,\n",
        "    mapper,\n",
        "    initial_state=HartreeFock(\n",
        "        qmolecule.num_spatial_orbitals,\n",
        "        qmolecule.num_particles,\n",
        "        mapper,\n",
        "    ),\n",
        ")\n"
      ]
    },
    {
      "cell_type": "code",
      "execution_count": 13,
      "metadata": {
        "id": "HAepMEuOyygR"
      },
      "outputs": [],
      "source": [
        "from qiskit_nature.second_q.algorithms import GroundStateEigensolver"
      ]
    },
    {
      "cell_type": "code",
      "execution_count": 14,
      "metadata": {
        "id": "vzVDjGNVfWA8"
      },
      "outputs": [],
      "source": [
        "estimator = Estimator(\n",
        "    backend_options = {\n",
        "        'method': 'statevector',\n",
        "        'device': 'CPU'\n",
        "        # 'noise_model': noise_model\n",
        "    },\n",
        "    run_options = {\n",
        "        'shots': shot,\n",
        "        'seed': seeds,\n",
        "    },\n",
        "    transpile_options = {\n",
        "        'seed_transpiler':seed_transpiler\n",
        "    }\n",
        ")"
      ]
    },
    {
      "cell_type": "code",
      "execution_count": 19,
      "metadata": {},
      "outputs": [
        {
          "name": "stdout",
          "output_type": "stream",
          "text": [
            "CircuitInstruction(operation=Instruction(name='x', num_qubits=1, num_clbits=0, params=[]), qubits=(Qubit(QuantumRegister(12, 'q'), 0),), clbits=())\n",
            "CircuitInstruction(operation=Instruction(name='x', num_qubits=1, num_clbits=0, params=[]), qubits=(Qubit(QuantumRegister(12, 'q'), 1),), clbits=())\n",
            "CircuitInstruction(operation=Instruction(name='x', num_qubits=1, num_clbits=0, params=[]), qubits=(Qubit(QuantumRegister(12, 'q'), 2),), clbits=())\n",
            "CircuitInstruction(operation=Instruction(name='x', num_qubits=1, num_clbits=0, params=[]), qubits=(Qubit(QuantumRegister(12, 'q'), 3),), clbits=())\n",
            "CircuitInstruction(operation=Instruction(name='x', num_qubits=1, num_clbits=0, params=[]), qubits=(Qubit(QuantumRegister(12, 'q'), 6),), clbits=())\n",
            "CircuitInstruction(operation=Instruction(name='x', num_qubits=1, num_clbits=0, params=[]), qubits=(Qubit(QuantumRegister(12, 'q'), 7),), clbits=())\n",
            "CircuitInstruction(operation=Instruction(name='x', num_qubits=1, num_clbits=0, params=[]), qubits=(Qubit(QuantumRegister(12, 'q'), 8),), clbits=())\n",
            "CircuitInstruction(operation=Instruction(name='x', num_qubits=1, num_clbits=0, params=[]), qubits=(Qubit(QuantumRegister(12, 'q'), 9),), clbits=())\n",
            "CircuitInstruction(operation=Instruction(name='PauliEvolution', num_qubits=12, num_clbits=0, params=[ParameterExpression(1.0*t[0])]), qubits=(Qubit(QuantumRegister(12, 'q'), 0), Qubit(QuantumRegister(12, 'q'), 1), Qubit(QuantumRegister(12, 'q'), 2), Qubit(QuantumRegister(12, 'q'), 3), Qubit(QuantumRegister(12, 'q'), 4), Qubit(QuantumRegister(12, 'q'), 5), Qubit(QuantumRegister(12, 'q'), 6), Qubit(QuantumRegister(12, 'q'), 7), Qubit(QuantumRegister(12, 'q'), 8), Qubit(QuantumRegister(12, 'q'), 9), Qubit(QuantumRegister(12, 'q'), 10), Qubit(QuantumRegister(12, 'q'), 11)), clbits=())\n",
            "CircuitInstruction(operation=Instruction(name='PauliEvolution', num_qubits=12, num_clbits=0, params=[ParameterExpression(1.0*t[1])]), qubits=(Qubit(QuantumRegister(12, 'q'), 0), Qubit(QuantumRegister(12, 'q'), 1), Qubit(QuantumRegister(12, 'q'), 2), Qubit(QuantumRegister(12, 'q'), 3), Qubit(QuantumRegister(12, 'q'), 4), Qubit(QuantumRegister(12, 'q'), 5), Qubit(QuantumRegister(12, 'q'), 6), Qubit(QuantumRegister(12, 'q'), 7), Qubit(QuantumRegister(12, 'q'), 8), Qubit(QuantumRegister(12, 'q'), 9), Qubit(QuantumRegister(12, 'q'), 10), Qubit(QuantumRegister(12, 'q'), 11)), clbits=())\n",
            "CircuitInstruction(operation=Instruction(name='PauliEvolution', num_qubits=12, num_clbits=0, params=[ParameterExpression(1.0*t[2])]), qubits=(Qubit(QuantumRegister(12, 'q'), 0), Qubit(QuantumRegister(12, 'q'), 1), Qubit(QuantumRegister(12, 'q'), 2), Qubit(QuantumRegister(12, 'q'), 3), Qubit(QuantumRegister(12, 'q'), 4), Qubit(QuantumRegister(12, 'q'), 5), Qubit(QuantumRegister(12, 'q'), 6), Qubit(QuantumRegister(12, 'q'), 7), Qubit(QuantumRegister(12, 'q'), 8), Qubit(QuantumRegister(12, 'q'), 9), Qubit(QuantumRegister(12, 'q'), 10), Qubit(QuantumRegister(12, 'q'), 11)), clbits=())\n",
            "CircuitInstruction(operation=Instruction(name='PauliEvolution', num_qubits=12, num_clbits=0, params=[ParameterExpression(1.0*t[3])]), qubits=(Qubit(QuantumRegister(12, 'q'), 0), Qubit(QuantumRegister(12, 'q'), 1), Qubit(QuantumRegister(12, 'q'), 2), Qubit(QuantumRegister(12, 'q'), 3), Qubit(QuantumRegister(12, 'q'), 4), Qubit(QuantumRegister(12, 'q'), 5), Qubit(QuantumRegister(12, 'q'), 6), Qubit(QuantumRegister(12, 'q'), 7), Qubit(QuantumRegister(12, 'q'), 8), Qubit(QuantumRegister(12, 'q'), 9), Qubit(QuantumRegister(12, 'q'), 10), Qubit(QuantumRegister(12, 'q'), 11)), clbits=())\n",
            "CircuitInstruction(operation=Instruction(name='PauliEvolution', num_qubits=12, num_clbits=0, params=[ParameterExpression(1.0*t[4])]), qubits=(Qubit(QuantumRegister(12, 'q'), 0), Qubit(QuantumRegister(12, 'q'), 1), Qubit(QuantumRegister(12, 'q'), 2), Qubit(QuantumRegister(12, 'q'), 3), Qubit(QuantumRegister(12, 'q'), 4), Qubit(QuantumRegister(12, 'q'), 5), Qubit(QuantumRegister(12, 'q'), 6), Qubit(QuantumRegister(12, 'q'), 7), Qubit(QuantumRegister(12, 'q'), 8), Qubit(QuantumRegister(12, 'q'), 9), Qubit(QuantumRegister(12, 'q'), 10), Qubit(QuantumRegister(12, 'q'), 11)), clbits=())\n",
            "CircuitInstruction(operation=Instruction(name='PauliEvolution', num_qubits=12, num_clbits=0, params=[ParameterExpression(1.0*t[5])]), qubits=(Qubit(QuantumRegister(12, 'q'), 0), Qubit(QuantumRegister(12, 'q'), 1), Qubit(QuantumRegister(12, 'q'), 2), Qubit(QuantumRegister(12, 'q'), 3), Qubit(QuantumRegister(12, 'q'), 4), Qubit(QuantumRegister(12, 'q'), 5), Qubit(QuantumRegister(12, 'q'), 6), Qubit(QuantumRegister(12, 'q'), 7), Qubit(QuantumRegister(12, 'q'), 8), Qubit(QuantumRegister(12, 'q'), 9), Qubit(QuantumRegister(12, 'q'), 10), Qubit(QuantumRegister(12, 'q'), 11)), clbits=())\n",
            "CircuitInstruction(operation=Instruction(name='PauliEvolution', num_qubits=12, num_clbits=0, params=[ParameterExpression(1.0*t[6])]), qubits=(Qubit(QuantumRegister(12, 'q'), 0), Qubit(QuantumRegister(12, 'q'), 1), Qubit(QuantumRegister(12, 'q'), 2), Qubit(QuantumRegister(12, 'q'), 3), Qubit(QuantumRegister(12, 'q'), 4), Qubit(QuantumRegister(12, 'q'), 5), Qubit(QuantumRegister(12, 'q'), 6), Qubit(QuantumRegister(12, 'q'), 7), Qubit(QuantumRegister(12, 'q'), 8), Qubit(QuantumRegister(12, 'q'), 9), Qubit(QuantumRegister(12, 'q'), 10), Qubit(QuantumRegister(12, 'q'), 11)), clbits=())\n",
            "CircuitInstruction(operation=Instruction(name='PauliEvolution', num_qubits=12, num_clbits=0, params=[ParameterExpression(1.0*t[7])]), qubits=(Qubit(QuantumRegister(12, 'q'), 0), Qubit(QuantumRegister(12, 'q'), 1), Qubit(QuantumRegister(12, 'q'), 2), Qubit(QuantumRegister(12, 'q'), 3), Qubit(QuantumRegister(12, 'q'), 4), Qubit(QuantumRegister(12, 'q'), 5), Qubit(QuantumRegister(12, 'q'), 6), Qubit(QuantumRegister(12, 'q'), 7), Qubit(QuantumRegister(12, 'q'), 8), Qubit(QuantumRegister(12, 'q'), 9), Qubit(QuantumRegister(12, 'q'), 10), Qubit(QuantumRegister(12, 'q'), 11)), clbits=())\n",
            "CircuitInstruction(operation=Instruction(name='PauliEvolution', num_qubits=12, num_clbits=0, params=[ParameterExpression(1.0*t[8])]), qubits=(Qubit(QuantumRegister(12, 'q'), 0), Qubit(QuantumRegister(12, 'q'), 1), Qubit(QuantumRegister(12, 'q'), 2), Qubit(QuantumRegister(12, 'q'), 3), Qubit(QuantumRegister(12, 'q'), 4), Qubit(QuantumRegister(12, 'q'), 5), Qubit(QuantumRegister(12, 'q'), 6), Qubit(QuantumRegister(12, 'q'), 7), Qubit(QuantumRegister(12, 'q'), 8), Qubit(QuantumRegister(12, 'q'), 9), Qubit(QuantumRegister(12, 'q'), 10), Qubit(QuantumRegister(12, 'q'), 11)), clbits=())\n",
            "CircuitInstruction(operation=Instruction(name='PauliEvolution', num_qubits=12, num_clbits=0, params=[ParameterExpression(1.0*t[9])]), qubits=(Qubit(QuantumRegister(12, 'q'), 0), Qubit(QuantumRegister(12, 'q'), 1), Qubit(QuantumRegister(12, 'q'), 2), Qubit(QuantumRegister(12, 'q'), 3), Qubit(QuantumRegister(12, 'q'), 4), Qubit(QuantumRegister(12, 'q'), 5), Qubit(QuantumRegister(12, 'q'), 6), Qubit(QuantumRegister(12, 'q'), 7), Qubit(QuantumRegister(12, 'q'), 8), Qubit(QuantumRegister(12, 'q'), 9), Qubit(QuantumRegister(12, 'q'), 10), Qubit(QuantumRegister(12, 'q'), 11)), clbits=())\n",
            "CircuitInstruction(operation=Instruction(name='PauliEvolution', num_qubits=12, num_clbits=0, params=[ParameterExpression(1.0*t[10])]), qubits=(Qubit(QuantumRegister(12, 'q'), 0), Qubit(QuantumRegister(12, 'q'), 1), Qubit(QuantumRegister(12, 'q'), 2), Qubit(QuantumRegister(12, 'q'), 3), Qubit(QuantumRegister(12, 'q'), 4), Qubit(QuantumRegister(12, 'q'), 5), Qubit(QuantumRegister(12, 'q'), 6), Qubit(QuantumRegister(12, 'q'), 7), Qubit(QuantumRegister(12, 'q'), 8), Qubit(QuantumRegister(12, 'q'), 9), Qubit(QuantumRegister(12, 'q'), 10), Qubit(QuantumRegister(12, 'q'), 11)), clbits=())\n",
            "CircuitInstruction(operation=Instruction(name='PauliEvolution', num_qubits=12, num_clbits=0, params=[ParameterExpression(1.0*t[11])]), qubits=(Qubit(QuantumRegister(12, 'q'), 0), Qubit(QuantumRegister(12, 'q'), 1), Qubit(QuantumRegister(12, 'q'), 2), Qubit(QuantumRegister(12, 'q'), 3), Qubit(QuantumRegister(12, 'q'), 4), Qubit(QuantumRegister(12, 'q'), 5), Qubit(QuantumRegister(12, 'q'), 6), Qubit(QuantumRegister(12, 'q'), 7), Qubit(QuantumRegister(12, 'q'), 8), Qubit(QuantumRegister(12, 'q'), 9), Qubit(QuantumRegister(12, 'q'), 10), Qubit(QuantumRegister(12, 'q'), 11)), clbits=())\n",
            "CircuitInstruction(operation=Instruction(name='PauliEvolution', num_qubits=12, num_clbits=0, params=[ParameterExpression(1.0*t[12])]), qubits=(Qubit(QuantumRegister(12, 'q'), 0), Qubit(QuantumRegister(12, 'q'), 1), Qubit(QuantumRegister(12, 'q'), 2), Qubit(QuantumRegister(12, 'q'), 3), Qubit(QuantumRegister(12, 'q'), 4), Qubit(QuantumRegister(12, 'q'), 5), Qubit(QuantumRegister(12, 'q'), 6), Qubit(QuantumRegister(12, 'q'), 7), Qubit(QuantumRegister(12, 'q'), 8), Qubit(QuantumRegister(12, 'q'), 9), Qubit(QuantumRegister(12, 'q'), 10), Qubit(QuantumRegister(12, 'q'), 11)), clbits=())\n",
            "CircuitInstruction(operation=Instruction(name='PauliEvolution', num_qubits=12, num_clbits=0, params=[ParameterExpression(1.0*t[13])]), qubits=(Qubit(QuantumRegister(12, 'q'), 0), Qubit(QuantumRegister(12, 'q'), 1), Qubit(QuantumRegister(12, 'q'), 2), Qubit(QuantumRegister(12, 'q'), 3), Qubit(QuantumRegister(12, 'q'), 4), Qubit(QuantumRegister(12, 'q'), 5), Qubit(QuantumRegister(12, 'q'), 6), Qubit(QuantumRegister(12, 'q'), 7), Qubit(QuantumRegister(12, 'q'), 8), Qubit(QuantumRegister(12, 'q'), 9), Qubit(QuantumRegister(12, 'q'), 10), Qubit(QuantumRegister(12, 'q'), 11)), clbits=())\n",
            "CircuitInstruction(operation=Instruction(name='PauliEvolution', num_qubits=12, num_clbits=0, params=[ParameterExpression(1.0*t[14])]), qubits=(Qubit(QuantumRegister(12, 'q'), 0), Qubit(QuantumRegister(12, 'q'), 1), Qubit(QuantumRegister(12, 'q'), 2), Qubit(QuantumRegister(12, 'q'), 3), Qubit(QuantumRegister(12, 'q'), 4), Qubit(QuantumRegister(12, 'q'), 5), Qubit(QuantumRegister(12, 'q'), 6), Qubit(QuantumRegister(12, 'q'), 7), Qubit(QuantumRegister(12, 'q'), 8), Qubit(QuantumRegister(12, 'q'), 9), Qubit(QuantumRegister(12, 'q'), 10), Qubit(QuantumRegister(12, 'q'), 11)), clbits=())\n",
            "CircuitInstruction(operation=Instruction(name='PauliEvolution', num_qubits=12, num_clbits=0, params=[ParameterExpression(1.0*t[15])]), qubits=(Qubit(QuantumRegister(12, 'q'), 0), Qubit(QuantumRegister(12, 'q'), 1), Qubit(QuantumRegister(12, 'q'), 2), Qubit(QuantumRegister(12, 'q'), 3), Qubit(QuantumRegister(12, 'q'), 4), Qubit(QuantumRegister(12, 'q'), 5), Qubit(QuantumRegister(12, 'q'), 6), Qubit(QuantumRegister(12, 'q'), 7), Qubit(QuantumRegister(12, 'q'), 8), Qubit(QuantumRegister(12, 'q'), 9), Qubit(QuantumRegister(12, 'q'), 10), Qubit(QuantumRegister(12, 'q'), 11)), clbits=())\n",
            "CircuitInstruction(operation=Instruction(name='PauliEvolution', num_qubits=12, num_clbits=0, params=[ParameterExpression(1.0*t[16])]), qubits=(Qubit(QuantumRegister(12, 'q'), 0), Qubit(QuantumRegister(12, 'q'), 1), Qubit(QuantumRegister(12, 'q'), 2), Qubit(QuantumRegister(12, 'q'), 3), Qubit(QuantumRegister(12, 'q'), 4), Qubit(QuantumRegister(12, 'q'), 5), Qubit(QuantumRegister(12, 'q'), 6), Qubit(QuantumRegister(12, 'q'), 7), Qubit(QuantumRegister(12, 'q'), 8), Qubit(QuantumRegister(12, 'q'), 9), Qubit(QuantumRegister(12, 'q'), 10), Qubit(QuantumRegister(12, 'q'), 11)), clbits=())\n",
            "CircuitInstruction(operation=Instruction(name='PauliEvolution', num_qubits=12, num_clbits=0, params=[ParameterExpression(1.0*t[17])]), qubits=(Qubit(QuantumRegister(12, 'q'), 0), Qubit(QuantumRegister(12, 'q'), 1), Qubit(QuantumRegister(12, 'q'), 2), Qubit(QuantumRegister(12, 'q'), 3), Qubit(QuantumRegister(12, 'q'), 4), Qubit(QuantumRegister(12, 'q'), 5), Qubit(QuantumRegister(12, 'q'), 6), Qubit(QuantumRegister(12, 'q'), 7), Qubit(QuantumRegister(12, 'q'), 8), Qubit(QuantumRegister(12, 'q'), 9), Qubit(QuantumRegister(12, 'q'), 10), Qubit(QuantumRegister(12, 'q'), 11)), clbits=())\n",
            "CircuitInstruction(operation=Instruction(name='PauliEvolution', num_qubits=12, num_clbits=0, params=[ParameterExpression(1.0*t[18])]), qubits=(Qubit(QuantumRegister(12, 'q'), 0), Qubit(QuantumRegister(12, 'q'), 1), Qubit(QuantumRegister(12, 'q'), 2), Qubit(QuantumRegister(12, 'q'), 3), Qubit(QuantumRegister(12, 'q'), 4), Qubit(QuantumRegister(12, 'q'), 5), Qubit(QuantumRegister(12, 'q'), 6), Qubit(QuantumRegister(12, 'q'), 7), Qubit(QuantumRegister(12, 'q'), 8), Qubit(QuantumRegister(12, 'q'), 9), Qubit(QuantumRegister(12, 'q'), 10), Qubit(QuantumRegister(12, 'q'), 11)), clbits=())\n",
            "CircuitInstruction(operation=Instruction(name='PauliEvolution', num_qubits=12, num_clbits=0, params=[ParameterExpression(1.0*t[19])]), qubits=(Qubit(QuantumRegister(12, 'q'), 0), Qubit(QuantumRegister(12, 'q'), 1), Qubit(QuantumRegister(12, 'q'), 2), Qubit(QuantumRegister(12, 'q'), 3), Qubit(QuantumRegister(12, 'q'), 4), Qubit(QuantumRegister(12, 'q'), 5), Qubit(QuantumRegister(12, 'q'), 6), Qubit(QuantumRegister(12, 'q'), 7), Qubit(QuantumRegister(12, 'q'), 8), Qubit(QuantumRegister(12, 'q'), 9), Qubit(QuantumRegister(12, 'q'), 10), Qubit(QuantumRegister(12, 'q'), 11)), clbits=())\n",
            "CircuitInstruction(operation=Instruction(name='PauliEvolution', num_qubits=12, num_clbits=0, params=[ParameterExpression(1.0*t[20])]), qubits=(Qubit(QuantumRegister(12, 'q'), 0), Qubit(QuantumRegister(12, 'q'), 1), Qubit(QuantumRegister(12, 'q'), 2), Qubit(QuantumRegister(12, 'q'), 3), Qubit(QuantumRegister(12, 'q'), 4), Qubit(QuantumRegister(12, 'q'), 5), Qubit(QuantumRegister(12, 'q'), 6), Qubit(QuantumRegister(12, 'q'), 7), Qubit(QuantumRegister(12, 'q'), 8), Qubit(QuantumRegister(12, 'q'), 9), Qubit(QuantumRegister(12, 'q'), 10), Qubit(QuantumRegister(12, 'q'), 11)), clbits=())\n",
            "CircuitInstruction(operation=Instruction(name='PauliEvolution', num_qubits=12, num_clbits=0, params=[ParameterExpression(1.0*t[21])]), qubits=(Qubit(QuantumRegister(12, 'q'), 0), Qubit(QuantumRegister(12, 'q'), 1), Qubit(QuantumRegister(12, 'q'), 2), Qubit(QuantumRegister(12, 'q'), 3), Qubit(QuantumRegister(12, 'q'), 4), Qubit(QuantumRegister(12, 'q'), 5), Qubit(QuantumRegister(12, 'q'), 6), Qubit(QuantumRegister(12, 'q'), 7), Qubit(QuantumRegister(12, 'q'), 8), Qubit(QuantumRegister(12, 'q'), 9), Qubit(QuantumRegister(12, 'q'), 10), Qubit(QuantumRegister(12, 'q'), 11)), clbits=())\n",
            "CircuitInstruction(operation=Instruction(name='PauliEvolution', num_qubits=12, num_clbits=0, params=[ParameterExpression(1.0*t[22])]), qubits=(Qubit(QuantumRegister(12, 'q'), 0), Qubit(QuantumRegister(12, 'q'), 1), Qubit(QuantumRegister(12, 'q'), 2), Qubit(QuantumRegister(12, 'q'), 3), Qubit(QuantumRegister(12, 'q'), 4), Qubit(QuantumRegister(12, 'q'), 5), Qubit(QuantumRegister(12, 'q'), 6), Qubit(QuantumRegister(12, 'q'), 7), Qubit(QuantumRegister(12, 'q'), 8), Qubit(QuantumRegister(12, 'q'), 9), Qubit(QuantumRegister(12, 'q'), 10), Qubit(QuantumRegister(12, 'q'), 11)), clbits=())\n",
            "CircuitInstruction(operation=Instruction(name='PauliEvolution', num_qubits=12, num_clbits=0, params=[ParameterExpression(1.0*t[23])]), qubits=(Qubit(QuantumRegister(12, 'q'), 0), Qubit(QuantumRegister(12, 'q'), 1), Qubit(QuantumRegister(12, 'q'), 2), Qubit(QuantumRegister(12, 'q'), 3), Qubit(QuantumRegister(12, 'q'), 4), Qubit(QuantumRegister(12, 'q'), 5), Qubit(QuantumRegister(12, 'q'), 6), Qubit(QuantumRegister(12, 'q'), 7), Qubit(QuantumRegister(12, 'q'), 8), Qubit(QuantumRegister(12, 'q'), 9), Qubit(QuantumRegister(12, 'q'), 10), Qubit(QuantumRegister(12, 'q'), 11)), clbits=())\n",
            "CircuitInstruction(operation=Instruction(name='PauliEvolution', num_qubits=12, num_clbits=0, params=[ParameterExpression(1.0*t[24])]), qubits=(Qubit(QuantumRegister(12, 'q'), 0), Qubit(QuantumRegister(12, 'q'), 1), Qubit(QuantumRegister(12, 'q'), 2), Qubit(QuantumRegister(12, 'q'), 3), Qubit(QuantumRegister(12, 'q'), 4), Qubit(QuantumRegister(12, 'q'), 5), Qubit(QuantumRegister(12, 'q'), 6), Qubit(QuantumRegister(12, 'q'), 7), Qubit(QuantumRegister(12, 'q'), 8), Qubit(QuantumRegister(12, 'q'), 9), Qubit(QuantumRegister(12, 'q'), 10), Qubit(QuantumRegister(12, 'q'), 11)), clbits=())\n",
            "CircuitInstruction(operation=Instruction(name='PauliEvolution', num_qubits=12, num_clbits=0, params=[ParameterExpression(1.0*t[25])]), qubits=(Qubit(QuantumRegister(12, 'q'), 0), Qubit(QuantumRegister(12, 'q'), 1), Qubit(QuantumRegister(12, 'q'), 2), Qubit(QuantumRegister(12, 'q'), 3), Qubit(QuantumRegister(12, 'q'), 4), Qubit(QuantumRegister(12, 'q'), 5), Qubit(QuantumRegister(12, 'q'), 6), Qubit(QuantumRegister(12, 'q'), 7), Qubit(QuantumRegister(12, 'q'), 8), Qubit(QuantumRegister(12, 'q'), 9), Qubit(QuantumRegister(12, 'q'), 10), Qubit(QuantumRegister(12, 'q'), 11)), clbits=())\n",
            "CircuitInstruction(operation=Instruction(name='PauliEvolution', num_qubits=12, num_clbits=0, params=[ParameterExpression(1.0*t[26])]), qubits=(Qubit(QuantumRegister(12, 'q'), 0), Qubit(QuantumRegister(12, 'q'), 1), Qubit(QuantumRegister(12, 'q'), 2), Qubit(QuantumRegister(12, 'q'), 3), Qubit(QuantumRegister(12, 'q'), 4), Qubit(QuantumRegister(12, 'q'), 5), Qubit(QuantumRegister(12, 'q'), 6), Qubit(QuantumRegister(12, 'q'), 7), Qubit(QuantumRegister(12, 'q'), 8), Qubit(QuantumRegister(12, 'q'), 9), Qubit(QuantumRegister(12, 'q'), 10), Qubit(QuantumRegister(12, 'q'), 11)), clbits=())\n",
            "CircuitInstruction(operation=Instruction(name='PauliEvolution', num_qubits=12, num_clbits=0, params=[ParameterExpression(1.0*t[27])]), qubits=(Qubit(QuantumRegister(12, 'q'), 0), Qubit(QuantumRegister(12, 'q'), 1), Qubit(QuantumRegister(12, 'q'), 2), Qubit(QuantumRegister(12, 'q'), 3), Qubit(QuantumRegister(12, 'q'), 4), Qubit(QuantumRegister(12, 'q'), 5), Qubit(QuantumRegister(12, 'q'), 6), Qubit(QuantumRegister(12, 'q'), 7), Qubit(QuantumRegister(12, 'q'), 8), Qubit(QuantumRegister(12, 'q'), 9), Qubit(QuantumRegister(12, 'q'), 10), Qubit(QuantumRegister(12, 'q'), 11)), clbits=())\n",
            "CircuitInstruction(operation=Instruction(name='PauliEvolution', num_qubits=12, num_clbits=0, params=[ParameterExpression(1.0*t[28])]), qubits=(Qubit(QuantumRegister(12, 'q'), 0), Qubit(QuantumRegister(12, 'q'), 1), Qubit(QuantumRegister(12, 'q'), 2), Qubit(QuantumRegister(12, 'q'), 3), Qubit(QuantumRegister(12, 'q'), 4), Qubit(QuantumRegister(12, 'q'), 5), Qubit(QuantumRegister(12, 'q'), 6), Qubit(QuantumRegister(12, 'q'), 7), Qubit(QuantumRegister(12, 'q'), 8), Qubit(QuantumRegister(12, 'q'), 9), Qubit(QuantumRegister(12, 'q'), 10), Qubit(QuantumRegister(12, 'q'), 11)), clbits=())\n",
            "CircuitInstruction(operation=Instruction(name='PauliEvolution', num_qubits=12, num_clbits=0, params=[ParameterExpression(1.0*t[29])]), qubits=(Qubit(QuantumRegister(12, 'q'), 0), Qubit(QuantumRegister(12, 'q'), 1), Qubit(QuantumRegister(12, 'q'), 2), Qubit(QuantumRegister(12, 'q'), 3), Qubit(QuantumRegister(12, 'q'), 4), Qubit(QuantumRegister(12, 'q'), 5), Qubit(QuantumRegister(12, 'q'), 6), Qubit(QuantumRegister(12, 'q'), 7), Qubit(QuantumRegister(12, 'q'), 8), Qubit(QuantumRegister(12, 'q'), 9), Qubit(QuantumRegister(12, 'q'), 10), Qubit(QuantumRegister(12, 'q'), 11)), clbits=())\n",
            "CircuitInstruction(operation=Instruction(name='PauliEvolution', num_qubits=12, num_clbits=0, params=[ParameterExpression(1.0*t[30])]), qubits=(Qubit(QuantumRegister(12, 'q'), 0), Qubit(QuantumRegister(12, 'q'), 1), Qubit(QuantumRegister(12, 'q'), 2), Qubit(QuantumRegister(12, 'q'), 3), Qubit(QuantumRegister(12, 'q'), 4), Qubit(QuantumRegister(12, 'q'), 5), Qubit(QuantumRegister(12, 'q'), 6), Qubit(QuantumRegister(12, 'q'), 7), Qubit(QuantumRegister(12, 'q'), 8), Qubit(QuantumRegister(12, 'q'), 9), Qubit(QuantumRegister(12, 'q'), 10), Qubit(QuantumRegister(12, 'q'), 11)), clbits=())\n",
            "CircuitInstruction(operation=Instruction(name='PauliEvolution', num_qubits=12, num_clbits=0, params=[ParameterExpression(1.0*t[31])]), qubits=(Qubit(QuantumRegister(12, 'q'), 0), Qubit(QuantumRegister(12, 'q'), 1), Qubit(QuantumRegister(12, 'q'), 2), Qubit(QuantumRegister(12, 'q'), 3), Qubit(QuantumRegister(12, 'q'), 4), Qubit(QuantumRegister(12, 'q'), 5), Qubit(QuantumRegister(12, 'q'), 6), Qubit(QuantumRegister(12, 'q'), 7), Qubit(QuantumRegister(12, 'q'), 8), Qubit(QuantumRegister(12, 'q'), 9), Qubit(QuantumRegister(12, 'q'), 10), Qubit(QuantumRegister(12, 'q'), 11)), clbits=())\n",
            "CircuitInstruction(operation=Instruction(name='PauliEvolution', num_qubits=12, num_clbits=0, params=[ParameterExpression(1.0*t[32])]), qubits=(Qubit(QuantumRegister(12, 'q'), 0), Qubit(QuantumRegister(12, 'q'), 1), Qubit(QuantumRegister(12, 'q'), 2), Qubit(QuantumRegister(12, 'q'), 3), Qubit(QuantumRegister(12, 'q'), 4), Qubit(QuantumRegister(12, 'q'), 5), Qubit(QuantumRegister(12, 'q'), 6), Qubit(QuantumRegister(12, 'q'), 7), Qubit(QuantumRegister(12, 'q'), 8), Qubit(QuantumRegister(12, 'q'), 9), Qubit(QuantumRegister(12, 'q'), 10), Qubit(QuantumRegister(12, 'q'), 11)), clbits=())\n",
            "CircuitInstruction(operation=Instruction(name='PauliEvolution', num_qubits=12, num_clbits=0, params=[ParameterExpression(1.0*t[33])]), qubits=(Qubit(QuantumRegister(12, 'q'), 0), Qubit(QuantumRegister(12, 'q'), 1), Qubit(QuantumRegister(12, 'q'), 2), Qubit(QuantumRegister(12, 'q'), 3), Qubit(QuantumRegister(12, 'q'), 4), Qubit(QuantumRegister(12, 'q'), 5), Qubit(QuantumRegister(12, 'q'), 6), Qubit(QuantumRegister(12, 'q'), 7), Qubit(QuantumRegister(12, 'q'), 8), Qubit(QuantumRegister(12, 'q'), 9), Qubit(QuantumRegister(12, 'q'), 10), Qubit(QuantumRegister(12, 'q'), 11)), clbits=())\n",
            "CircuitInstruction(operation=Instruction(name='PauliEvolution', num_qubits=12, num_clbits=0, params=[ParameterExpression(1.0*t[34])]), qubits=(Qubit(QuantumRegister(12, 'q'), 0), Qubit(QuantumRegister(12, 'q'), 1), Qubit(QuantumRegister(12, 'q'), 2), Qubit(QuantumRegister(12, 'q'), 3), Qubit(QuantumRegister(12, 'q'), 4), Qubit(QuantumRegister(12, 'q'), 5), Qubit(QuantumRegister(12, 'q'), 6), Qubit(QuantumRegister(12, 'q'), 7), Qubit(QuantumRegister(12, 'q'), 8), Qubit(QuantumRegister(12, 'q'), 9), Qubit(QuantumRegister(12, 'q'), 10), Qubit(QuantumRegister(12, 'q'), 11)), clbits=())\n",
            "CircuitInstruction(operation=Instruction(name='PauliEvolution', num_qubits=12, num_clbits=0, params=[ParameterExpression(1.0*t[35])]), qubits=(Qubit(QuantumRegister(12, 'q'), 0), Qubit(QuantumRegister(12, 'q'), 1), Qubit(QuantumRegister(12, 'q'), 2), Qubit(QuantumRegister(12, 'q'), 3), Qubit(QuantumRegister(12, 'q'), 4), Qubit(QuantumRegister(12, 'q'), 5), Qubit(QuantumRegister(12, 'q'), 6), Qubit(QuantumRegister(12, 'q'), 7), Qubit(QuantumRegister(12, 'q'), 8), Qubit(QuantumRegister(12, 'q'), 9), Qubit(QuantumRegister(12, 'q'), 10), Qubit(QuantumRegister(12, 'q'), 11)), clbits=())\n",
            "CircuitInstruction(operation=Instruction(name='PauliEvolution', num_qubits=12, num_clbits=0, params=[ParameterExpression(1.0*t[36])]), qubits=(Qubit(QuantumRegister(12, 'q'), 0), Qubit(QuantumRegister(12, 'q'), 1), Qubit(QuantumRegister(12, 'q'), 2), Qubit(QuantumRegister(12, 'q'), 3), Qubit(QuantumRegister(12, 'q'), 4), Qubit(QuantumRegister(12, 'q'), 5), Qubit(QuantumRegister(12, 'q'), 6), Qubit(QuantumRegister(12, 'q'), 7), Qubit(QuantumRegister(12, 'q'), 8), Qubit(QuantumRegister(12, 'q'), 9), Qubit(QuantumRegister(12, 'q'), 10), Qubit(QuantumRegister(12, 'q'), 11)), clbits=())\n",
            "CircuitInstruction(operation=Instruction(name='PauliEvolution', num_qubits=12, num_clbits=0, params=[ParameterExpression(1.0*t[37])]), qubits=(Qubit(QuantumRegister(12, 'q'), 0), Qubit(QuantumRegister(12, 'q'), 1), Qubit(QuantumRegister(12, 'q'), 2), Qubit(QuantumRegister(12, 'q'), 3), Qubit(QuantumRegister(12, 'q'), 4), Qubit(QuantumRegister(12, 'q'), 5), Qubit(QuantumRegister(12, 'q'), 6), Qubit(QuantumRegister(12, 'q'), 7), Qubit(QuantumRegister(12, 'q'), 8), Qubit(QuantumRegister(12, 'q'), 9), Qubit(QuantumRegister(12, 'q'), 10), Qubit(QuantumRegister(12, 'q'), 11)), clbits=())\n",
            "CircuitInstruction(operation=Instruction(name='PauliEvolution', num_qubits=12, num_clbits=0, params=[ParameterExpression(1.0*t[38])]), qubits=(Qubit(QuantumRegister(12, 'q'), 0), Qubit(QuantumRegister(12, 'q'), 1), Qubit(QuantumRegister(12, 'q'), 2), Qubit(QuantumRegister(12, 'q'), 3), Qubit(QuantumRegister(12, 'q'), 4), Qubit(QuantumRegister(12, 'q'), 5), Qubit(QuantumRegister(12, 'q'), 6), Qubit(QuantumRegister(12, 'q'), 7), Qubit(QuantumRegister(12, 'q'), 8), Qubit(QuantumRegister(12, 'q'), 9), Qubit(QuantumRegister(12, 'q'), 10), Qubit(QuantumRegister(12, 'q'), 11)), clbits=())\n",
            "CircuitInstruction(operation=Instruction(name='PauliEvolution', num_qubits=12, num_clbits=0, params=[ParameterExpression(1.0*t[39])]), qubits=(Qubit(QuantumRegister(12, 'q'), 0), Qubit(QuantumRegister(12, 'q'), 1), Qubit(QuantumRegister(12, 'q'), 2), Qubit(QuantumRegister(12, 'q'), 3), Qubit(QuantumRegister(12, 'q'), 4), Qubit(QuantumRegister(12, 'q'), 5), Qubit(QuantumRegister(12, 'q'), 6), Qubit(QuantumRegister(12, 'q'), 7), Qubit(QuantumRegister(12, 'q'), 8), Qubit(QuantumRegister(12, 'q'), 9), Qubit(QuantumRegister(12, 'q'), 10), Qubit(QuantumRegister(12, 'q'), 11)), clbits=())\n",
            "CircuitInstruction(operation=Instruction(name='PauliEvolution', num_qubits=12, num_clbits=0, params=[ParameterExpression(1.0*t[40])]), qubits=(Qubit(QuantumRegister(12, 'q'), 0), Qubit(QuantumRegister(12, 'q'), 1), Qubit(QuantumRegister(12, 'q'), 2), Qubit(QuantumRegister(12, 'q'), 3), Qubit(QuantumRegister(12, 'q'), 4), Qubit(QuantumRegister(12, 'q'), 5), Qubit(QuantumRegister(12, 'q'), 6), Qubit(QuantumRegister(12, 'q'), 7), Qubit(QuantumRegister(12, 'q'), 8), Qubit(QuantumRegister(12, 'q'), 9), Qubit(QuantumRegister(12, 'q'), 10), Qubit(QuantumRegister(12, 'q'), 11)), clbits=())\n",
            "CircuitInstruction(operation=Instruction(name='PauliEvolution', num_qubits=12, num_clbits=0, params=[ParameterExpression(1.0*t[41])]), qubits=(Qubit(QuantumRegister(12, 'q'), 0), Qubit(QuantumRegister(12, 'q'), 1), Qubit(QuantumRegister(12, 'q'), 2), Qubit(QuantumRegister(12, 'q'), 3), Qubit(QuantumRegister(12, 'q'), 4), Qubit(QuantumRegister(12, 'q'), 5), Qubit(QuantumRegister(12, 'q'), 6), Qubit(QuantumRegister(12, 'q'), 7), Qubit(QuantumRegister(12, 'q'), 8), Qubit(QuantumRegister(12, 'q'), 9), Qubit(QuantumRegister(12, 'q'), 10), Qubit(QuantumRegister(12, 'q'), 11)), clbits=())\n",
            "CircuitInstruction(operation=Instruction(name='PauliEvolution', num_qubits=12, num_clbits=0, params=[ParameterExpression(1.0*t[42])]), qubits=(Qubit(QuantumRegister(12, 'q'), 0), Qubit(QuantumRegister(12, 'q'), 1), Qubit(QuantumRegister(12, 'q'), 2), Qubit(QuantumRegister(12, 'q'), 3), Qubit(QuantumRegister(12, 'q'), 4), Qubit(QuantumRegister(12, 'q'), 5), Qubit(QuantumRegister(12, 'q'), 6), Qubit(QuantumRegister(12, 'q'), 7), Qubit(QuantumRegister(12, 'q'), 8), Qubit(QuantumRegister(12, 'q'), 9), Qubit(QuantumRegister(12, 'q'), 10), Qubit(QuantumRegister(12, 'q'), 11)), clbits=())\n",
            "CircuitInstruction(operation=Instruction(name='PauliEvolution', num_qubits=12, num_clbits=0, params=[ParameterExpression(1.0*t[43])]), qubits=(Qubit(QuantumRegister(12, 'q'), 0), Qubit(QuantumRegister(12, 'q'), 1), Qubit(QuantumRegister(12, 'q'), 2), Qubit(QuantumRegister(12, 'q'), 3), Qubit(QuantumRegister(12, 'q'), 4), Qubit(QuantumRegister(12, 'q'), 5), Qubit(QuantumRegister(12, 'q'), 6), Qubit(QuantumRegister(12, 'q'), 7), Qubit(QuantumRegister(12, 'q'), 8), Qubit(QuantumRegister(12, 'q'), 9), Qubit(QuantumRegister(12, 'q'), 10), Qubit(QuantumRegister(12, 'q'), 11)), clbits=())\n",
            "CircuitInstruction(operation=Instruction(name='PauliEvolution', num_qubits=12, num_clbits=0, params=[ParameterExpression(1.0*t[44])]), qubits=(Qubit(QuantumRegister(12, 'q'), 0), Qubit(QuantumRegister(12, 'q'), 1), Qubit(QuantumRegister(12, 'q'), 2), Qubit(QuantumRegister(12, 'q'), 3), Qubit(QuantumRegister(12, 'q'), 4), Qubit(QuantumRegister(12, 'q'), 5), Qubit(QuantumRegister(12, 'q'), 6), Qubit(QuantumRegister(12, 'q'), 7), Qubit(QuantumRegister(12, 'q'), 8), Qubit(QuantumRegister(12, 'q'), 9), Qubit(QuantumRegister(12, 'q'), 10), Qubit(QuantumRegister(12, 'q'), 11)), clbits=())\n",
            "CircuitInstruction(operation=Instruction(name='PauliEvolution', num_qubits=12, num_clbits=0, params=[ParameterExpression(1.0*t[45])]), qubits=(Qubit(QuantumRegister(12, 'q'), 0), Qubit(QuantumRegister(12, 'q'), 1), Qubit(QuantumRegister(12, 'q'), 2), Qubit(QuantumRegister(12, 'q'), 3), Qubit(QuantumRegister(12, 'q'), 4), Qubit(QuantumRegister(12, 'q'), 5), Qubit(QuantumRegister(12, 'q'), 6), Qubit(QuantumRegister(12, 'q'), 7), Qubit(QuantumRegister(12, 'q'), 8), Qubit(QuantumRegister(12, 'q'), 9), Qubit(QuantumRegister(12, 'q'), 10), Qubit(QuantumRegister(12, 'q'), 11)), clbits=())\n",
            "CircuitInstruction(operation=Instruction(name='PauliEvolution', num_qubits=12, num_clbits=0, params=[ParameterExpression(1.0*t[46])]), qubits=(Qubit(QuantumRegister(12, 'q'), 0), Qubit(QuantumRegister(12, 'q'), 1), Qubit(QuantumRegister(12, 'q'), 2), Qubit(QuantumRegister(12, 'q'), 3), Qubit(QuantumRegister(12, 'q'), 4), Qubit(QuantumRegister(12, 'q'), 5), Qubit(QuantumRegister(12, 'q'), 6), Qubit(QuantumRegister(12, 'q'), 7), Qubit(QuantumRegister(12, 'q'), 8), Qubit(QuantumRegister(12, 'q'), 9), Qubit(QuantumRegister(12, 'q'), 10), Qubit(QuantumRegister(12, 'q'), 11)), clbits=())\n",
            "CircuitInstruction(operation=Instruction(name='PauliEvolution', num_qubits=12, num_clbits=0, params=[ParameterExpression(1.0*t[47])]), qubits=(Qubit(QuantumRegister(12, 'q'), 0), Qubit(QuantumRegister(12, 'q'), 1), Qubit(QuantumRegister(12, 'q'), 2), Qubit(QuantumRegister(12, 'q'), 3), Qubit(QuantumRegister(12, 'q'), 4), Qubit(QuantumRegister(12, 'q'), 5), Qubit(QuantumRegister(12, 'q'), 6), Qubit(QuantumRegister(12, 'q'), 7), Qubit(QuantumRegister(12, 'q'), 8), Qubit(QuantumRegister(12, 'q'), 9), Qubit(QuantumRegister(12, 'q'), 10), Qubit(QuantumRegister(12, 'q'), 11)), clbits=())\n",
            "CircuitInstruction(operation=Instruction(name='PauliEvolution', num_qubits=12, num_clbits=0, params=[ParameterExpression(1.0*t[48])]), qubits=(Qubit(QuantumRegister(12, 'q'), 0), Qubit(QuantumRegister(12, 'q'), 1), Qubit(QuantumRegister(12, 'q'), 2), Qubit(QuantumRegister(12, 'q'), 3), Qubit(QuantumRegister(12, 'q'), 4), Qubit(QuantumRegister(12, 'q'), 5), Qubit(QuantumRegister(12, 'q'), 6), Qubit(QuantumRegister(12, 'q'), 7), Qubit(QuantumRegister(12, 'q'), 8), Qubit(QuantumRegister(12, 'q'), 9), Qubit(QuantumRegister(12, 'q'), 10), Qubit(QuantumRegister(12, 'q'), 11)), clbits=())\n",
            "CircuitInstruction(operation=Instruction(name='PauliEvolution', num_qubits=12, num_clbits=0, params=[ParameterExpression(1.0*t[49])]), qubits=(Qubit(QuantumRegister(12, 'q'), 0), Qubit(QuantumRegister(12, 'q'), 1), Qubit(QuantumRegister(12, 'q'), 2), Qubit(QuantumRegister(12, 'q'), 3), Qubit(QuantumRegister(12, 'q'), 4), Qubit(QuantumRegister(12, 'q'), 5), Qubit(QuantumRegister(12, 'q'), 6), Qubit(QuantumRegister(12, 'q'), 7), Qubit(QuantumRegister(12, 'q'), 8), Qubit(QuantumRegister(12, 'q'), 9), Qubit(QuantumRegister(12, 'q'), 10), Qubit(QuantumRegister(12, 'q'), 11)), clbits=())\n",
            "CircuitInstruction(operation=Instruction(name='PauliEvolution', num_qubits=12, num_clbits=0, params=[ParameterExpression(1.0*t[50])]), qubits=(Qubit(QuantumRegister(12, 'q'), 0), Qubit(QuantumRegister(12, 'q'), 1), Qubit(QuantumRegister(12, 'q'), 2), Qubit(QuantumRegister(12, 'q'), 3), Qubit(QuantumRegister(12, 'q'), 4), Qubit(QuantumRegister(12, 'q'), 5), Qubit(QuantumRegister(12, 'q'), 6), Qubit(QuantumRegister(12, 'q'), 7), Qubit(QuantumRegister(12, 'q'), 8), Qubit(QuantumRegister(12, 'q'), 9), Qubit(QuantumRegister(12, 'q'), 10), Qubit(QuantumRegister(12, 'q'), 11)), clbits=())\n",
            "CircuitInstruction(operation=Instruction(name='PauliEvolution', num_qubits=12, num_clbits=0, params=[ParameterExpression(1.0*t[51])]), qubits=(Qubit(QuantumRegister(12, 'q'), 0), Qubit(QuantumRegister(12, 'q'), 1), Qubit(QuantumRegister(12, 'q'), 2), Qubit(QuantumRegister(12, 'q'), 3), Qubit(QuantumRegister(12, 'q'), 4), Qubit(QuantumRegister(12, 'q'), 5), Qubit(QuantumRegister(12, 'q'), 6), Qubit(QuantumRegister(12, 'q'), 7), Qubit(QuantumRegister(12, 'q'), 8), Qubit(QuantumRegister(12, 'q'), 9), Qubit(QuantumRegister(12, 'q'), 10), Qubit(QuantumRegister(12, 'q'), 11)), clbits=())\n",
            "CircuitInstruction(operation=Instruction(name='PauliEvolution', num_qubits=12, num_clbits=0, params=[ParameterExpression(1.0*t[52])]), qubits=(Qubit(QuantumRegister(12, 'q'), 0), Qubit(QuantumRegister(12, 'q'), 1), Qubit(QuantumRegister(12, 'q'), 2), Qubit(QuantumRegister(12, 'q'), 3), Qubit(QuantumRegister(12, 'q'), 4), Qubit(QuantumRegister(12, 'q'), 5), Qubit(QuantumRegister(12, 'q'), 6), Qubit(QuantumRegister(12, 'q'), 7), Qubit(QuantumRegister(12, 'q'), 8), Qubit(QuantumRegister(12, 'q'), 9), Qubit(QuantumRegister(12, 'q'), 10), Qubit(QuantumRegister(12, 'q'), 11)), clbits=())\n",
            "CircuitInstruction(operation=Instruction(name='PauliEvolution', num_qubits=12, num_clbits=0, params=[ParameterExpression(1.0*t[53])]), qubits=(Qubit(QuantumRegister(12, 'q'), 0), Qubit(QuantumRegister(12, 'q'), 1), Qubit(QuantumRegister(12, 'q'), 2), Qubit(QuantumRegister(12, 'q'), 3), Qubit(QuantumRegister(12, 'q'), 4), Qubit(QuantumRegister(12, 'q'), 5), Qubit(QuantumRegister(12, 'q'), 6), Qubit(QuantumRegister(12, 'q'), 7), Qubit(QuantumRegister(12, 'q'), 8), Qubit(QuantumRegister(12, 'q'), 9), Qubit(QuantumRegister(12, 'q'), 10), Qubit(QuantumRegister(12, 'q'), 11)), clbits=())\n",
            "CircuitInstruction(operation=Instruction(name='PauliEvolution', num_qubits=12, num_clbits=0, params=[ParameterExpression(1.0*t[54])]), qubits=(Qubit(QuantumRegister(12, 'q'), 0), Qubit(QuantumRegister(12, 'q'), 1), Qubit(QuantumRegister(12, 'q'), 2), Qubit(QuantumRegister(12, 'q'), 3), Qubit(QuantumRegister(12, 'q'), 4), Qubit(QuantumRegister(12, 'q'), 5), Qubit(QuantumRegister(12, 'q'), 6), Qubit(QuantumRegister(12, 'q'), 7), Qubit(QuantumRegister(12, 'q'), 8), Qubit(QuantumRegister(12, 'q'), 9), Qubit(QuantumRegister(12, 'q'), 10), Qubit(QuantumRegister(12, 'q'), 11)), clbits=())\n",
            "CircuitInstruction(operation=Instruction(name='PauliEvolution', num_qubits=12, num_clbits=0, params=[ParameterExpression(1.0*t[55])]), qubits=(Qubit(QuantumRegister(12, 'q'), 0), Qubit(QuantumRegister(12, 'q'), 1), Qubit(QuantumRegister(12, 'q'), 2), Qubit(QuantumRegister(12, 'q'), 3), Qubit(QuantumRegister(12, 'q'), 4), Qubit(QuantumRegister(12, 'q'), 5), Qubit(QuantumRegister(12, 'q'), 6), Qubit(QuantumRegister(12, 'q'), 7), Qubit(QuantumRegister(12, 'q'), 8), Qubit(QuantumRegister(12, 'q'), 9), Qubit(QuantumRegister(12, 'q'), 10), Qubit(QuantumRegister(12, 'q'), 11)), clbits=())\n",
            "CircuitInstruction(operation=Instruction(name='PauliEvolution', num_qubits=12, num_clbits=0, params=[ParameterExpression(1.0*t[56])]), qubits=(Qubit(QuantumRegister(12, 'q'), 0), Qubit(QuantumRegister(12, 'q'), 1), Qubit(QuantumRegister(12, 'q'), 2), Qubit(QuantumRegister(12, 'q'), 3), Qubit(QuantumRegister(12, 'q'), 4), Qubit(QuantumRegister(12, 'q'), 5), Qubit(QuantumRegister(12, 'q'), 6), Qubit(QuantumRegister(12, 'q'), 7), Qubit(QuantumRegister(12, 'q'), 8), Qubit(QuantumRegister(12, 'q'), 9), Qubit(QuantumRegister(12, 'q'), 10), Qubit(QuantumRegister(12, 'q'), 11)), clbits=())\n",
            "CircuitInstruction(operation=Instruction(name='PauliEvolution', num_qubits=12, num_clbits=0, params=[ParameterExpression(1.0*t[57])]), qubits=(Qubit(QuantumRegister(12, 'q'), 0), Qubit(QuantumRegister(12, 'q'), 1), Qubit(QuantumRegister(12, 'q'), 2), Qubit(QuantumRegister(12, 'q'), 3), Qubit(QuantumRegister(12, 'q'), 4), Qubit(QuantumRegister(12, 'q'), 5), Qubit(QuantumRegister(12, 'q'), 6), Qubit(QuantumRegister(12, 'q'), 7), Qubit(QuantumRegister(12, 'q'), 8), Qubit(QuantumRegister(12, 'q'), 9), Qubit(QuantumRegister(12, 'q'), 10), Qubit(QuantumRegister(12, 'q'), 11)), clbits=())\n",
            "CircuitInstruction(operation=Instruction(name='PauliEvolution', num_qubits=12, num_clbits=0, params=[ParameterExpression(1.0*t[58])]), qubits=(Qubit(QuantumRegister(12, 'q'), 0), Qubit(QuantumRegister(12, 'q'), 1), Qubit(QuantumRegister(12, 'q'), 2), Qubit(QuantumRegister(12, 'q'), 3), Qubit(QuantumRegister(12, 'q'), 4), Qubit(QuantumRegister(12, 'q'), 5), Qubit(QuantumRegister(12, 'q'), 6), Qubit(QuantumRegister(12, 'q'), 7), Qubit(QuantumRegister(12, 'q'), 8), Qubit(QuantumRegister(12, 'q'), 9), Qubit(QuantumRegister(12, 'q'), 10), Qubit(QuantumRegister(12, 'q'), 11)), clbits=())\n",
            "CircuitInstruction(operation=Instruction(name='PauliEvolution', num_qubits=12, num_clbits=0, params=[ParameterExpression(1.0*t[59])]), qubits=(Qubit(QuantumRegister(12, 'q'), 0), Qubit(QuantumRegister(12, 'q'), 1), Qubit(QuantumRegister(12, 'q'), 2), Qubit(QuantumRegister(12, 'q'), 3), Qubit(QuantumRegister(12, 'q'), 4), Qubit(QuantumRegister(12, 'q'), 5), Qubit(QuantumRegister(12, 'q'), 6), Qubit(QuantumRegister(12, 'q'), 7), Qubit(QuantumRegister(12, 'q'), 8), Qubit(QuantumRegister(12, 'q'), 9), Qubit(QuantumRegister(12, 'q'), 10), Qubit(QuantumRegister(12, 'q'), 11)), clbits=())\n",
            "CircuitInstruction(operation=Instruction(name='PauliEvolution', num_qubits=12, num_clbits=0, params=[ParameterExpression(1.0*t[60])]), qubits=(Qubit(QuantumRegister(12, 'q'), 0), Qubit(QuantumRegister(12, 'q'), 1), Qubit(QuantumRegister(12, 'q'), 2), Qubit(QuantumRegister(12, 'q'), 3), Qubit(QuantumRegister(12, 'q'), 4), Qubit(QuantumRegister(12, 'q'), 5), Qubit(QuantumRegister(12, 'q'), 6), Qubit(QuantumRegister(12, 'q'), 7), Qubit(QuantumRegister(12, 'q'), 8), Qubit(QuantumRegister(12, 'q'), 9), Qubit(QuantumRegister(12, 'q'), 10), Qubit(QuantumRegister(12, 'q'), 11)), clbits=())\n",
            "CircuitInstruction(operation=Instruction(name='PauliEvolution', num_qubits=12, num_clbits=0, params=[ParameterExpression(1.0*t[61])]), qubits=(Qubit(QuantumRegister(12, 'q'), 0), Qubit(QuantumRegister(12, 'q'), 1), Qubit(QuantumRegister(12, 'q'), 2), Qubit(QuantumRegister(12, 'q'), 3), Qubit(QuantumRegister(12, 'q'), 4), Qubit(QuantumRegister(12, 'q'), 5), Qubit(QuantumRegister(12, 'q'), 6), Qubit(QuantumRegister(12, 'q'), 7), Qubit(QuantumRegister(12, 'q'), 8), Qubit(QuantumRegister(12, 'q'), 9), Qubit(QuantumRegister(12, 'q'), 10), Qubit(QuantumRegister(12, 'q'), 11)), clbits=())\n",
            "CircuitInstruction(operation=Instruction(name='PauliEvolution', num_qubits=12, num_clbits=0, params=[ParameterExpression(1.0*t[62])]), qubits=(Qubit(QuantumRegister(12, 'q'), 0), Qubit(QuantumRegister(12, 'q'), 1), Qubit(QuantumRegister(12, 'q'), 2), Qubit(QuantumRegister(12, 'q'), 3), Qubit(QuantumRegister(12, 'q'), 4), Qubit(QuantumRegister(12, 'q'), 5), Qubit(QuantumRegister(12, 'q'), 6), Qubit(QuantumRegister(12, 'q'), 7), Qubit(QuantumRegister(12, 'q'), 8), Qubit(QuantumRegister(12, 'q'), 9), Qubit(QuantumRegister(12, 'q'), 10), Qubit(QuantumRegister(12, 'q'), 11)), clbits=())\n",
            "CircuitInstruction(operation=Instruction(name='PauliEvolution', num_qubits=12, num_clbits=0, params=[ParameterExpression(1.0*t[63])]), qubits=(Qubit(QuantumRegister(12, 'q'), 0), Qubit(QuantumRegister(12, 'q'), 1), Qubit(QuantumRegister(12, 'q'), 2), Qubit(QuantumRegister(12, 'q'), 3), Qubit(QuantumRegister(12, 'q'), 4), Qubit(QuantumRegister(12, 'q'), 5), Qubit(QuantumRegister(12, 'q'), 6), Qubit(QuantumRegister(12, 'q'), 7), Qubit(QuantumRegister(12, 'q'), 8), Qubit(QuantumRegister(12, 'q'), 9), Qubit(QuantumRegister(12, 'q'), 10), Qubit(QuantumRegister(12, 'q'), 11)), clbits=())\n",
            "CircuitInstruction(operation=Instruction(name='PauliEvolution', num_qubits=12, num_clbits=0, params=[ParameterExpression(1.0*t[64])]), qubits=(Qubit(QuantumRegister(12, 'q'), 0), Qubit(QuantumRegister(12, 'q'), 1), Qubit(QuantumRegister(12, 'q'), 2), Qubit(QuantumRegister(12, 'q'), 3), Qubit(QuantumRegister(12, 'q'), 4), Qubit(QuantumRegister(12, 'q'), 5), Qubit(QuantumRegister(12, 'q'), 6), Qubit(QuantumRegister(12, 'q'), 7), Qubit(QuantumRegister(12, 'q'), 8), Qubit(QuantumRegister(12, 'q'), 9), Qubit(QuantumRegister(12, 'q'), 10), Qubit(QuantumRegister(12, 'q'), 11)), clbits=())\n",
            "CircuitInstruction(operation=Instruction(name='PauliEvolution', num_qubits=12, num_clbits=0, params=[ParameterExpression(1.0*t[65])]), qubits=(Qubit(QuantumRegister(12, 'q'), 0), Qubit(QuantumRegister(12, 'q'), 1), Qubit(QuantumRegister(12, 'q'), 2), Qubit(QuantumRegister(12, 'q'), 3), Qubit(QuantumRegister(12, 'q'), 4), Qubit(QuantumRegister(12, 'q'), 5), Qubit(QuantumRegister(12, 'q'), 6), Qubit(QuantumRegister(12, 'q'), 7), Qubit(QuantumRegister(12, 'q'), 8), Qubit(QuantumRegister(12, 'q'), 9), Qubit(QuantumRegister(12, 'q'), 10), Qubit(QuantumRegister(12, 'q'), 11)), clbits=())\n",
            "CircuitInstruction(operation=Instruction(name='PauliEvolution', num_qubits=12, num_clbits=0, params=[ParameterExpression(1.0*t[66])]), qubits=(Qubit(QuantumRegister(12, 'q'), 0), Qubit(QuantumRegister(12, 'q'), 1), Qubit(QuantumRegister(12, 'q'), 2), Qubit(QuantumRegister(12, 'q'), 3), Qubit(QuantumRegister(12, 'q'), 4), Qubit(QuantumRegister(12, 'q'), 5), Qubit(QuantumRegister(12, 'q'), 6), Qubit(QuantumRegister(12, 'q'), 7), Qubit(QuantumRegister(12, 'q'), 8), Qubit(QuantumRegister(12, 'q'), 9), Qubit(QuantumRegister(12, 'q'), 10), Qubit(QuantumRegister(12, 'q'), 11)), clbits=())\n",
            "CircuitInstruction(operation=Instruction(name='PauliEvolution', num_qubits=12, num_clbits=0, params=[ParameterExpression(1.0*t[67])]), qubits=(Qubit(QuantumRegister(12, 'q'), 0), Qubit(QuantumRegister(12, 'q'), 1), Qubit(QuantumRegister(12, 'q'), 2), Qubit(QuantumRegister(12, 'q'), 3), Qubit(QuantumRegister(12, 'q'), 4), Qubit(QuantumRegister(12, 'q'), 5), Qubit(QuantumRegister(12, 'q'), 6), Qubit(QuantumRegister(12, 'q'), 7), Qubit(QuantumRegister(12, 'q'), 8), Qubit(QuantumRegister(12, 'q'), 9), Qubit(QuantumRegister(12, 'q'), 10), Qubit(QuantumRegister(12, 'q'), 11)), clbits=())\n",
            "CircuitInstruction(operation=Instruction(name='PauliEvolution', num_qubits=12, num_clbits=0, params=[ParameterExpression(1.0*t[68])]), qubits=(Qubit(QuantumRegister(12, 'q'), 0), Qubit(QuantumRegister(12, 'q'), 1), Qubit(QuantumRegister(12, 'q'), 2), Qubit(QuantumRegister(12, 'q'), 3), Qubit(QuantumRegister(12, 'q'), 4), Qubit(QuantumRegister(12, 'q'), 5), Qubit(QuantumRegister(12, 'q'), 6), Qubit(QuantumRegister(12, 'q'), 7), Qubit(QuantumRegister(12, 'q'), 8), Qubit(QuantumRegister(12, 'q'), 9), Qubit(QuantumRegister(12, 'q'), 10), Qubit(QuantumRegister(12, 'q'), 11)), clbits=())\n",
            "CircuitInstruction(operation=Instruction(name='PauliEvolution', num_qubits=12, num_clbits=0, params=[ParameterExpression(1.0*t[69])]), qubits=(Qubit(QuantumRegister(12, 'q'), 0), Qubit(QuantumRegister(12, 'q'), 1), Qubit(QuantumRegister(12, 'q'), 2), Qubit(QuantumRegister(12, 'q'), 3), Qubit(QuantumRegister(12, 'q'), 4), Qubit(QuantumRegister(12, 'q'), 5), Qubit(QuantumRegister(12, 'q'), 6), Qubit(QuantumRegister(12, 'q'), 7), Qubit(QuantumRegister(12, 'q'), 8), Qubit(QuantumRegister(12, 'q'), 9), Qubit(QuantumRegister(12, 'q'), 10), Qubit(QuantumRegister(12, 'q'), 11)), clbits=())\n",
            "CircuitInstruction(operation=Instruction(name='PauliEvolution', num_qubits=12, num_clbits=0, params=[ParameterExpression(1.0*t[70])]), qubits=(Qubit(QuantumRegister(12, 'q'), 0), Qubit(QuantumRegister(12, 'q'), 1), Qubit(QuantumRegister(12, 'q'), 2), Qubit(QuantumRegister(12, 'q'), 3), Qubit(QuantumRegister(12, 'q'), 4), Qubit(QuantumRegister(12, 'q'), 5), Qubit(QuantumRegister(12, 'q'), 6), Qubit(QuantumRegister(12, 'q'), 7), Qubit(QuantumRegister(12, 'q'), 8), Qubit(QuantumRegister(12, 'q'), 9), Qubit(QuantumRegister(12, 'q'), 10), Qubit(QuantumRegister(12, 'q'), 11)), clbits=())\n",
            "CircuitInstruction(operation=Instruction(name='PauliEvolution', num_qubits=12, num_clbits=0, params=[ParameterExpression(1.0*t[71])]), qubits=(Qubit(QuantumRegister(12, 'q'), 0), Qubit(QuantumRegister(12, 'q'), 1), Qubit(QuantumRegister(12, 'q'), 2), Qubit(QuantumRegister(12, 'q'), 3), Qubit(QuantumRegister(12, 'q'), 4), Qubit(QuantumRegister(12, 'q'), 5), Qubit(QuantumRegister(12, 'q'), 6), Qubit(QuantumRegister(12, 'q'), 7), Qubit(QuantumRegister(12, 'q'), 8), Qubit(QuantumRegister(12, 'q'), 9), Qubit(QuantumRegister(12, 'q'), 10), Qubit(QuantumRegister(12, 'q'), 11)), clbits=())\n",
            "CircuitInstruction(operation=Instruction(name='PauliEvolution', num_qubits=12, num_clbits=0, params=[ParameterExpression(1.0*t[72])]), qubits=(Qubit(QuantumRegister(12, 'q'), 0), Qubit(QuantumRegister(12, 'q'), 1), Qubit(QuantumRegister(12, 'q'), 2), Qubit(QuantumRegister(12, 'q'), 3), Qubit(QuantumRegister(12, 'q'), 4), Qubit(QuantumRegister(12, 'q'), 5), Qubit(QuantumRegister(12, 'q'), 6), Qubit(QuantumRegister(12, 'q'), 7), Qubit(QuantumRegister(12, 'q'), 8), Qubit(QuantumRegister(12, 'q'), 9), Qubit(QuantumRegister(12, 'q'), 10), Qubit(QuantumRegister(12, 'q'), 11)), clbits=())\n",
            "CircuitInstruction(operation=Instruction(name='PauliEvolution', num_qubits=12, num_clbits=0, params=[ParameterExpression(1.0*t[73])]), qubits=(Qubit(QuantumRegister(12, 'q'), 0), Qubit(QuantumRegister(12, 'q'), 1), Qubit(QuantumRegister(12, 'q'), 2), Qubit(QuantumRegister(12, 'q'), 3), Qubit(QuantumRegister(12, 'q'), 4), Qubit(QuantumRegister(12, 'q'), 5), Qubit(QuantumRegister(12, 'q'), 6), Qubit(QuantumRegister(12, 'q'), 7), Qubit(QuantumRegister(12, 'q'), 8), Qubit(QuantumRegister(12, 'q'), 9), Qubit(QuantumRegister(12, 'q'), 10), Qubit(QuantumRegister(12, 'q'), 11)), clbits=())\n",
            "CircuitInstruction(operation=Instruction(name='PauliEvolution', num_qubits=12, num_clbits=0, params=[ParameterExpression(1.0*t[74])]), qubits=(Qubit(QuantumRegister(12, 'q'), 0), Qubit(QuantumRegister(12, 'q'), 1), Qubit(QuantumRegister(12, 'q'), 2), Qubit(QuantumRegister(12, 'q'), 3), Qubit(QuantumRegister(12, 'q'), 4), Qubit(QuantumRegister(12, 'q'), 5), Qubit(QuantumRegister(12, 'q'), 6), Qubit(QuantumRegister(12, 'q'), 7), Qubit(QuantumRegister(12, 'q'), 8), Qubit(QuantumRegister(12, 'q'), 9), Qubit(QuantumRegister(12, 'q'), 10), Qubit(QuantumRegister(12, 'q'), 11)), clbits=())\n",
            "CircuitInstruction(operation=Instruction(name='PauliEvolution', num_qubits=12, num_clbits=0, params=[ParameterExpression(1.0*t[75])]), qubits=(Qubit(QuantumRegister(12, 'q'), 0), Qubit(QuantumRegister(12, 'q'), 1), Qubit(QuantumRegister(12, 'q'), 2), Qubit(QuantumRegister(12, 'q'), 3), Qubit(QuantumRegister(12, 'q'), 4), Qubit(QuantumRegister(12, 'q'), 5), Qubit(QuantumRegister(12, 'q'), 6), Qubit(QuantumRegister(12, 'q'), 7), Qubit(QuantumRegister(12, 'q'), 8), Qubit(QuantumRegister(12, 'q'), 9), Qubit(QuantumRegister(12, 'q'), 10), Qubit(QuantumRegister(12, 'q'), 11)), clbits=())\n",
            "CircuitInstruction(operation=Instruction(name='PauliEvolution', num_qubits=12, num_clbits=0, params=[ParameterExpression(1.0*t[76])]), qubits=(Qubit(QuantumRegister(12, 'q'), 0), Qubit(QuantumRegister(12, 'q'), 1), Qubit(QuantumRegister(12, 'q'), 2), Qubit(QuantumRegister(12, 'q'), 3), Qubit(QuantumRegister(12, 'q'), 4), Qubit(QuantumRegister(12, 'q'), 5), Qubit(QuantumRegister(12, 'q'), 6), Qubit(QuantumRegister(12, 'q'), 7), Qubit(QuantumRegister(12, 'q'), 8), Qubit(QuantumRegister(12, 'q'), 9), Qubit(QuantumRegister(12, 'q'), 10), Qubit(QuantumRegister(12, 'q'), 11)), clbits=())\n",
            "CircuitInstruction(operation=Instruction(name='PauliEvolution', num_qubits=12, num_clbits=0, params=[ParameterExpression(1.0*t[77])]), qubits=(Qubit(QuantumRegister(12, 'q'), 0), Qubit(QuantumRegister(12, 'q'), 1), Qubit(QuantumRegister(12, 'q'), 2), Qubit(QuantumRegister(12, 'q'), 3), Qubit(QuantumRegister(12, 'q'), 4), Qubit(QuantumRegister(12, 'q'), 5), Qubit(QuantumRegister(12, 'q'), 6), Qubit(QuantumRegister(12, 'q'), 7), Qubit(QuantumRegister(12, 'q'), 8), Qubit(QuantumRegister(12, 'q'), 9), Qubit(QuantumRegister(12, 'q'), 10), Qubit(QuantumRegister(12, 'q'), 11)), clbits=())\n",
            "CircuitInstruction(operation=Instruction(name='PauliEvolution', num_qubits=12, num_clbits=0, params=[ParameterExpression(1.0*t[78])]), qubits=(Qubit(QuantumRegister(12, 'q'), 0), Qubit(QuantumRegister(12, 'q'), 1), Qubit(QuantumRegister(12, 'q'), 2), Qubit(QuantumRegister(12, 'q'), 3), Qubit(QuantumRegister(12, 'q'), 4), Qubit(QuantumRegister(12, 'q'), 5), Qubit(QuantumRegister(12, 'q'), 6), Qubit(QuantumRegister(12, 'q'), 7), Qubit(QuantumRegister(12, 'q'), 8), Qubit(QuantumRegister(12, 'q'), 9), Qubit(QuantumRegister(12, 'q'), 10), Qubit(QuantumRegister(12, 'q'), 11)), clbits=())\n",
            "CircuitInstruction(operation=Instruction(name='PauliEvolution', num_qubits=12, num_clbits=0, params=[ParameterExpression(1.0*t[79])]), qubits=(Qubit(QuantumRegister(12, 'q'), 0), Qubit(QuantumRegister(12, 'q'), 1), Qubit(QuantumRegister(12, 'q'), 2), Qubit(QuantumRegister(12, 'q'), 3), Qubit(QuantumRegister(12, 'q'), 4), Qubit(QuantumRegister(12, 'q'), 5), Qubit(QuantumRegister(12, 'q'), 6), Qubit(QuantumRegister(12, 'q'), 7), Qubit(QuantumRegister(12, 'q'), 8), Qubit(QuantumRegister(12, 'q'), 9), Qubit(QuantumRegister(12, 'q'), 10), Qubit(QuantumRegister(12, 'q'), 11)), clbits=())\n",
            "CircuitInstruction(operation=Instruction(name='PauliEvolution', num_qubits=12, num_clbits=0, params=[ParameterExpression(1.0*t[80])]), qubits=(Qubit(QuantumRegister(12, 'q'), 0), Qubit(QuantumRegister(12, 'q'), 1), Qubit(QuantumRegister(12, 'q'), 2), Qubit(QuantumRegister(12, 'q'), 3), Qubit(QuantumRegister(12, 'q'), 4), Qubit(QuantumRegister(12, 'q'), 5), Qubit(QuantumRegister(12, 'q'), 6), Qubit(QuantumRegister(12, 'q'), 7), Qubit(QuantumRegister(12, 'q'), 8), Qubit(QuantumRegister(12, 'q'), 9), Qubit(QuantumRegister(12, 'q'), 10), Qubit(QuantumRegister(12, 'q'), 11)), clbits=())\n",
            "CircuitInstruction(operation=Instruction(name='PauliEvolution', num_qubits=12, num_clbits=0, params=[ParameterExpression(1.0*t[81])]), qubits=(Qubit(QuantumRegister(12, 'q'), 0), Qubit(QuantumRegister(12, 'q'), 1), Qubit(QuantumRegister(12, 'q'), 2), Qubit(QuantumRegister(12, 'q'), 3), Qubit(QuantumRegister(12, 'q'), 4), Qubit(QuantumRegister(12, 'q'), 5), Qubit(QuantumRegister(12, 'q'), 6), Qubit(QuantumRegister(12, 'q'), 7), Qubit(QuantumRegister(12, 'q'), 8), Qubit(QuantumRegister(12, 'q'), 9), Qubit(QuantumRegister(12, 'q'), 10), Qubit(QuantumRegister(12, 'q'), 11)), clbits=())\n",
            "CircuitInstruction(operation=Instruction(name='PauliEvolution', num_qubits=12, num_clbits=0, params=[ParameterExpression(1.0*t[82])]), qubits=(Qubit(QuantumRegister(12, 'q'), 0), Qubit(QuantumRegister(12, 'q'), 1), Qubit(QuantumRegister(12, 'q'), 2), Qubit(QuantumRegister(12, 'q'), 3), Qubit(QuantumRegister(12, 'q'), 4), Qubit(QuantumRegister(12, 'q'), 5), Qubit(QuantumRegister(12, 'q'), 6), Qubit(QuantumRegister(12, 'q'), 7), Qubit(QuantumRegister(12, 'q'), 8), Qubit(QuantumRegister(12, 'q'), 9), Qubit(QuantumRegister(12, 'q'), 10), Qubit(QuantumRegister(12, 'q'), 11)), clbits=())\n",
            "CircuitInstruction(operation=Instruction(name='PauliEvolution', num_qubits=12, num_clbits=0, params=[ParameterExpression(1.0*t[83])]), qubits=(Qubit(QuantumRegister(12, 'q'), 0), Qubit(QuantumRegister(12, 'q'), 1), Qubit(QuantumRegister(12, 'q'), 2), Qubit(QuantumRegister(12, 'q'), 3), Qubit(QuantumRegister(12, 'q'), 4), Qubit(QuantumRegister(12, 'q'), 5), Qubit(QuantumRegister(12, 'q'), 6), Qubit(QuantumRegister(12, 'q'), 7), Qubit(QuantumRegister(12, 'q'), 8), Qubit(QuantumRegister(12, 'q'), 9), Qubit(QuantumRegister(12, 'q'), 10), Qubit(QuantumRegister(12, 'q'), 11)), clbits=())\n",
            "CircuitInstruction(operation=Instruction(name='PauliEvolution', num_qubits=12, num_clbits=0, params=[ParameterExpression(1.0*t[84])]), qubits=(Qubit(QuantumRegister(12, 'q'), 0), Qubit(QuantumRegister(12, 'q'), 1), Qubit(QuantumRegister(12, 'q'), 2), Qubit(QuantumRegister(12, 'q'), 3), Qubit(QuantumRegister(12, 'q'), 4), Qubit(QuantumRegister(12, 'q'), 5), Qubit(QuantumRegister(12, 'q'), 6), Qubit(QuantumRegister(12, 'q'), 7), Qubit(QuantumRegister(12, 'q'), 8), Qubit(QuantumRegister(12, 'q'), 9), Qubit(QuantumRegister(12, 'q'), 10), Qubit(QuantumRegister(12, 'q'), 11)), clbits=())\n",
            "CircuitInstruction(operation=Instruction(name='PauliEvolution', num_qubits=12, num_clbits=0, params=[ParameterExpression(1.0*t[85])]), qubits=(Qubit(QuantumRegister(12, 'q'), 0), Qubit(QuantumRegister(12, 'q'), 1), Qubit(QuantumRegister(12, 'q'), 2), Qubit(QuantumRegister(12, 'q'), 3), Qubit(QuantumRegister(12, 'q'), 4), Qubit(QuantumRegister(12, 'q'), 5), Qubit(QuantumRegister(12, 'q'), 6), Qubit(QuantumRegister(12, 'q'), 7), Qubit(QuantumRegister(12, 'q'), 8), Qubit(QuantumRegister(12, 'q'), 9), Qubit(QuantumRegister(12, 'q'), 10), Qubit(QuantumRegister(12, 'q'), 11)), clbits=())\n",
            "CircuitInstruction(operation=Instruction(name='PauliEvolution', num_qubits=12, num_clbits=0, params=[ParameterExpression(1.0*t[86])]), qubits=(Qubit(QuantumRegister(12, 'q'), 0), Qubit(QuantumRegister(12, 'q'), 1), Qubit(QuantumRegister(12, 'q'), 2), Qubit(QuantumRegister(12, 'q'), 3), Qubit(QuantumRegister(12, 'q'), 4), Qubit(QuantumRegister(12, 'q'), 5), Qubit(QuantumRegister(12, 'q'), 6), Qubit(QuantumRegister(12, 'q'), 7), Qubit(QuantumRegister(12, 'q'), 8), Qubit(QuantumRegister(12, 'q'), 9), Qubit(QuantumRegister(12, 'q'), 10), Qubit(QuantumRegister(12, 'q'), 11)), clbits=())\n",
            "CircuitInstruction(operation=Instruction(name='PauliEvolution', num_qubits=12, num_clbits=0, params=[ParameterExpression(1.0*t[87])]), qubits=(Qubit(QuantumRegister(12, 'q'), 0), Qubit(QuantumRegister(12, 'q'), 1), Qubit(QuantumRegister(12, 'q'), 2), Qubit(QuantumRegister(12, 'q'), 3), Qubit(QuantumRegister(12, 'q'), 4), Qubit(QuantumRegister(12, 'q'), 5), Qubit(QuantumRegister(12, 'q'), 6), Qubit(QuantumRegister(12, 'q'), 7), Qubit(QuantumRegister(12, 'q'), 8), Qubit(QuantumRegister(12, 'q'), 9), Qubit(QuantumRegister(12, 'q'), 10), Qubit(QuantumRegister(12, 'q'), 11)), clbits=())\n",
            "CircuitInstruction(operation=Instruction(name='PauliEvolution', num_qubits=12, num_clbits=0, params=[ParameterExpression(1.0*t[88])]), qubits=(Qubit(QuantumRegister(12, 'q'), 0), Qubit(QuantumRegister(12, 'q'), 1), Qubit(QuantumRegister(12, 'q'), 2), Qubit(QuantumRegister(12, 'q'), 3), Qubit(QuantumRegister(12, 'q'), 4), Qubit(QuantumRegister(12, 'q'), 5), Qubit(QuantumRegister(12, 'q'), 6), Qubit(QuantumRegister(12, 'q'), 7), Qubit(QuantumRegister(12, 'q'), 8), Qubit(QuantumRegister(12, 'q'), 9), Qubit(QuantumRegister(12, 'q'), 10), Qubit(QuantumRegister(12, 'q'), 11)), clbits=())\n",
            "CircuitInstruction(operation=Instruction(name='PauliEvolution', num_qubits=12, num_clbits=0, params=[ParameterExpression(1.0*t[89])]), qubits=(Qubit(QuantumRegister(12, 'q'), 0), Qubit(QuantumRegister(12, 'q'), 1), Qubit(QuantumRegister(12, 'q'), 2), Qubit(QuantumRegister(12, 'q'), 3), Qubit(QuantumRegister(12, 'q'), 4), Qubit(QuantumRegister(12, 'q'), 5), Qubit(QuantumRegister(12, 'q'), 6), Qubit(QuantumRegister(12, 'q'), 7), Qubit(QuantumRegister(12, 'q'), 8), Qubit(QuantumRegister(12, 'q'), 9), Qubit(QuantumRegister(12, 'q'), 10), Qubit(QuantumRegister(12, 'q'), 11)), clbits=())\n",
            "CircuitInstruction(operation=Instruction(name='PauliEvolution', num_qubits=12, num_clbits=0, params=[ParameterExpression(1.0*t[90])]), qubits=(Qubit(QuantumRegister(12, 'q'), 0), Qubit(QuantumRegister(12, 'q'), 1), Qubit(QuantumRegister(12, 'q'), 2), Qubit(QuantumRegister(12, 'q'), 3), Qubit(QuantumRegister(12, 'q'), 4), Qubit(QuantumRegister(12, 'q'), 5), Qubit(QuantumRegister(12, 'q'), 6), Qubit(QuantumRegister(12, 'q'), 7), Qubit(QuantumRegister(12, 'q'), 8), Qubit(QuantumRegister(12, 'q'), 9), Qubit(QuantumRegister(12, 'q'), 10), Qubit(QuantumRegister(12, 'q'), 11)), clbits=())\n",
            "CircuitInstruction(operation=Instruction(name='PauliEvolution', num_qubits=12, num_clbits=0, params=[ParameterExpression(1.0*t[91])]), qubits=(Qubit(QuantumRegister(12, 'q'), 0), Qubit(QuantumRegister(12, 'q'), 1), Qubit(QuantumRegister(12, 'q'), 2), Qubit(QuantumRegister(12, 'q'), 3), Qubit(QuantumRegister(12, 'q'), 4), Qubit(QuantumRegister(12, 'q'), 5), Qubit(QuantumRegister(12, 'q'), 6), Qubit(QuantumRegister(12, 'q'), 7), Qubit(QuantumRegister(12, 'q'), 8), Qubit(QuantumRegister(12, 'q'), 9), Qubit(QuantumRegister(12, 'q'), 10), Qubit(QuantumRegister(12, 'q'), 11)), clbits=())\n"
          ]
        }
      ],
      "source": [
        "for i in (ansatz.decompose()):\n",
        "    print(i)"
      ]
    },
    {
      "cell_type": "code",
      "execution_count": 16,
      "metadata": {},
      "outputs": [],
      "source": [
        "def callback(eval_count, params, value, meta):\n",
        "    with open('log.txt', 'a') as f:\n",
        "        f.write(str(eval_count) + '\\n')\n",
        "        f.write(str(params) + '\\n')\n",
        "        f.write(str(value) + '\\n')\n",
        "        f.write(str(meta) + '\\n')\n",
        "        print(eval_count)\n",
        "        print('\\n')\n",
        "        print(params)\n",
        "        print('\\n')\n",
        "        print(value)\n",
        "        print('\\n')\n",
        "        print(meta)\n",
        "        print('\\n')"
      ]
    },
    {
      "cell_type": "code",
      "execution_count": 17,
      "metadata": {
        "id": "37uQ745tydW3"
      },
      "outputs": [],
      "source": [
        "vqe_solver = VQE(estimator, ansatz, SLSQP(), callback=callback)\n",
        "vqe_solver.initial_point = [0.0] * ansatz.num_parameters"
      ]
    },
    {
      "cell_type": "code",
      "execution_count": 18,
      "metadata": {},
      "outputs": [],
      "source": [
        "from utils.varsaw import parseHamiltonian, group_measurements, varsaw_expectation"
      ]
    },
    {
      "cell_type": "code",
      "execution_count": 19,
      "metadata": {},
      "outputs": [],
      "source": [
        "import pickle\n",
        "# run once!\n",
        "h, first_term = parseHamiltonian('Hamiltonian/OHhamiltonian.txt')\n",
        "# measurements, measurement_dict = group_measurements(h)\n",
        "# filehandler = open(b\"142observables.obj\",\"wb\")\n",
        "# pickle.dump((measurements, measurement_dict),filehandler)\n",
        "\n",
        "filehandler = open(b\"142observables.obj\",\"rb\")\n",
        "measurements, measurement_dict = pickle.load(filehandler)\n"
      ]
    },
    {
      "cell_type": "code",
      "execution_count": 20,
      "metadata": {},
      "outputs": [
        {
          "data": {
            "text/plain": [
              "-31.9283887528659"
            ]
          },
          "execution_count": 20,
          "metadata": {},
          "output_type": "execute_result"
        }
      ],
      "source": [
        "test_ansatz = QuantumCircuit(12, 12)\n",
        "test_ansatz.x(0)\n",
        "test_ansatz.x(1)\n",
        "test_ansatz.x(2)\n",
        "test_ansatz.x(3)\n",
        "test_ansatz.x(6)\n",
        "test_ansatz.x(7)\n",
        "test_ansatz.x(8)\n",
        "test_ansatz.x(9)\n",
        "varsaw_expectation(test_ansatz, measurements, measurement_dict, first_term, h)"
      ]
    },
    {
      "cell_type": "code",
      "execution_count": null,
      "metadata": {
        "colab": {
          "base_uri": "https://localhost:8080/"
        },
        "id": "HiJ4ojaDy38R",
        "outputId": "5cdb012c-8e39-4112-9605-ae60821e7ca2"
      },
      "outputs": [],
      "source": [
        "# start_time = time.time()\n",
        "# calc = GroundStateEigensolver(mapper, vqe_solver)\n",
        "# res = calc.solve(qmolecule)\n",
        "# end_time = time.time()\n",
        "# print(res)"
      ]
    },
    {
      "cell_type": "code",
      "execution_count": 28,
      "metadata": {},
      "outputs": [
        {
          "data": {
            "text/plain": [
              "<qiskit.circuit.quantumcircuit.QuantumCircuit at 0x7efe53f09650>"
            ]
          },
          "execution_count": 28,
          "metadata": {},
          "output_type": "execute_result"
        }
      ],
      "source": [
        "ansatz.bind_parameters([0.0] * ansatz.num_parameters)\n",
        "test_ansatz = QuantumCircuit(12, 12)\n",
        "# varsaw_expectation(test_ansatz, measurements, measurement_dict, first_term, h)\n",
        "for i in ansatz.decompose():\n",
        "    test_ansatz.append(i)\n",
        "test_ansatz.bind_parameters([0.0] * ansatz.num_parameters)\n"
      ]
    },
    {
      "cell_type": "code",
      "execution_count": 30,
      "metadata": {},
      "outputs": [
        {
          "data": {
            "text/plain": [
              "-31.92410357129299"
            ]
          },
          "execution_count": 30,
          "metadata": {},
          "output_type": "execute_result"
        }
      ],
      "source": [
        "varsaw_expectation(test_ansatz, measurements, measurement_dict, first_term, h, params=[0.0] * ansatz.num_parameters)"
      ]
    },
    {
      "cell_type": "markdown",
      "metadata": {
        "id": "vNP5HcDxlq-d"
      },
      "source": [
        "## Calculate the Accuracy (Most Important Metric)"
      ]
    },
    {
      "cell_type": "code",
      "execution_count": null,
      "metadata": {
        "colab": {
          "base_uri": "https://localhost:8080/"
        },
        "id": "qbP7CkZxlh8X",
        "outputId": "0d85b95a-4eba-4830-e98c-283a86f9f683"
      },
      "outputs": [],
      "source": [
        "result = res.computed_energies + res.nuclear_repulsion_energy\n",
        "error_rate = abs(abs(ref_value - result) / ref_value * 100)\n",
        "print(\"Error rate: %f%%\" % (error_rate))"
      ]
    },
    {
      "cell_type": "code",
      "execution_count": 20,
      "metadata": {},
      "outputs": [],
      "source": [
        "from arch import load_coupling_map\n",
        "from time import time as ctime\n",
        "from utils.parallel_bl import gate_count_oriented_scheduling\n",
        "from utils.synthesis_broccoli import synthesis\n",
        "from qiskit import QuantumCircuit, transpile\n",
        "\n",
        "def Tetris_Montreal(parr, use_bridge=False):\n",
        "    print('Tetris passes, Our schedule, Our synthesis, montreal', flush=True)\n",
        "    lnq = len(parr[0][0]) # lnq: number of qubits\n",
        "    length = lnq // 2 # `length' is a hyperparameter, and can be adjusted for best performance. Here we keep `length' fixed for simplicity.\n",
        "    coup = load_coupling_map('montreal')\n",
        "    t0 = ctime()\n",
        "    a2 = gate_count_oriented_scheduling(parr) # parr is the pauli_block list\n",
        "    # a2 = [[block] for block in parr]\n",
        "    qc, metrics = synthesis(a2, arch='montreal', use_bridge=use_bridge)\n",
        "    pnq = qc.num_qubits\n",
        "    print(pnq)\n",
        "    print('Tetris, Time costed:', ctime()-t0, flush=True)\n",
        "    t0 = ctime()\n",
        "    qc2 = transpile(qc, basis_gates=['u3', 'cx'], coupling_map=coup, initial_layout=list(range(pnq)), optimization_level=3)\n",
        "    print('Qiskit L3, Time costed:', ctime()-t0, flush=True)\n",
        "    return qc2\n"
      ]
    },
    {
      "cell_type": "code",
      "execution_count": 21,
      "metadata": {},
      "outputs": [
        {
          "name": "stdout",
          "output_type": "stream",
          "text": [
            "Tetris passes, Our schedule, Our synthesis, montreal\n",
            "27\n",
            "27\n",
            "Tetris, Time costed: 0.3336620330810547\n",
            "Qiskit L3, Time costed: 17.822885751724243\n"
          ]
        }
      ],
      "source": [
        "import ast\n",
        "from benchmark.mypauli import pauliString\n",
        "\n",
        "pauli_blocks = []\n",
        "for pauli_list in ansatz._operators: # load all pauli blocks to a list\n",
        "    block = ast.literal_eval(pauli_list._primitive._pauli_list.__str__())\n",
        "    block = [pauliString(ps) for ps in block]\n",
        "    pauli_blocks.append(block)\n",
        "\n",
        "new_ansatz = Tetris_Montreal(pauli_blocks, use_bridge=False)"
      ]
    },
    {
      "cell_type": "code",
      "execution_count": 27,
      "metadata": {},
      "outputs": [],
      "source": [
        "with open('pauli_string.txt', 'w') as f:\n",
        "    for block in pauli_blocks:\n",
        "        f.write(str(block) + '\\n')"
      ]
    },
    {
      "cell_type": "code",
      "execution_count": 40,
      "metadata": {},
      "outputs": [
        {
          "name": "stdout",
          "output_type": "stream",
          "text": [
            "640\n"
          ]
        }
      ],
      "source": [
        "cnt = 0\n",
        "for block in pauli_blocks:\n",
        "    for ps in block:\n",
        "        cnt = cnt + 1\n",
        "print(cnt)"
      ]
    },
    {
      "cell_type": "markdown",
      "metadata": {
        "id": "hw8SxNyclYyT"
      },
      "source": [
        "## Obtain the Duration of Quantum Circuit"
      ]
    },
    {
      "cell_type": "code",
      "execution_count": 32,
      "metadata": {
        "id": "3TBtAF24iuFD"
      },
      "outputs": [],
      "source": [
        "from qiskit.providers.fake_provider import *\n",
        "backend = FakeMontreal()"
      ]
    },
    {
      "cell_type": "code",
      "execution_count": 37,
      "metadata": {
        "id": "_julUiabi5iI"
      },
      "outputs": [],
      "source": [
        "with pulse.build(backend) as my_program1:\n",
        "  pulse.call(ansatz)"
      ]
    },
    {
      "cell_type": "code",
      "execution_count": 38,
      "metadata": {
        "colab": {
          "base_uri": "https://localhost:8080/"
        },
        "id": "E3jGzVpNkT00",
        "outputId": "01595668-7f90-44de-d2b5-cbac21f44497"
      },
      "outputs": [
        {
          "data": {
            "text/plain": [
              "19696160"
            ]
          },
          "execution_count": 38,
          "metadata": {},
          "output_type": "execute_result"
        }
      ],
      "source": [
        "my_program1.duration "
      ]
    }
  ],
  "metadata": {
    "colab": {
      "provenance": []
    },
    "kernelspec": {
      "display_name": "Python 3 (ipykernel)",
      "language": "python",
      "name": "python3"
    },
    "language_info": {
      "codemirror_mode": {
        "name": "ipython",
        "version": 3
      },
      "file_extension": ".py",
      "mimetype": "text/x-python",
      "name": "python",
      "nbconvert_exporter": "python",
      "pygments_lexer": "ipython3",
      "version": "3.11.4"
    }
  },
  "nbformat": 4,
  "nbformat_minor": 0
}
