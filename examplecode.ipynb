{
  "cells": [
    {
      "cell_type": "markdown",
      "metadata": {
        "id": "gj3jZbCBSn71"
      },
      "source": [
        "# Example Code for Estimating the Ground State Energy of Hydroxyl (·OH)"
      ]
    },
    {
      "cell_type": "markdown",
      "metadata": {
        "id": "54NH9S1vHrq8"
      },
      "source": [
        "## Basic Installation"
      ]
    },
    {
      "cell_type": "markdown",
      "metadata": {
        "id": "R0OZ3HZZS9Me"
      },
      "source": [
        "Install required package, we highly recommend participant to use qiskit platform, or at least participants can finish preprocessing at other platform and transfer the circuit to qiskit format, since our noise model is from IBM real machine backend and we restricted some algorithmic seeds which could be varied from different platform."
      ]
    },
    {
      "cell_type": "code",
      "execution_count": 2,
      "metadata": {
        "colab": {
          "base_uri": "https://localhost:8080/"
        },
        "id": "Pi-oJxidjBSw",
        "outputId": "d23754fa-04a2-4afc-fce2-cc4d90db62d4"
      },
      "outputs": [
        {
          "name": "stdout",
          "output_type": "stream",
          "text": [
            "Requirement already satisfied: qiskit in /common/home/zl606/.conda/envs/qiskit43/lib/python3.11/site-packages (0.43.2)\n",
            "Requirement already satisfied: qiskit-terra==0.24.1 in /common/home/zl606/.conda/envs/qiskit43/lib/python3.11/site-packages (from qiskit) (0.24.1)\n",
            "Requirement already satisfied: qiskit-aer==0.12.1 in /common/home/zl606/.conda/envs/qiskit43/lib/python3.11/site-packages (from qiskit) (0.12.1)\n",
            "Requirement already satisfied: qiskit-ibmq-provider==0.20.2 in /common/home/zl606/.conda/envs/qiskit43/lib/python3.11/site-packages (from qiskit) (0.20.2)\n",
            "Requirement already satisfied: numpy>=1.16.3 in /common/home/zl606/.conda/envs/qiskit43/lib/python3.11/site-packages (from qiskit-aer==0.12.1->qiskit) (1.23.5)\n",
            "Requirement already satisfied: scipy>=1.0 in /common/home/zl606/.conda/envs/qiskit43/lib/python3.11/site-packages (from qiskit-aer==0.12.1->qiskit) (1.11.1)\n",
            "Requirement already satisfied: requests>=2.19 in /common/home/zl606/.conda/envs/qiskit43/lib/python3.11/site-packages (from qiskit-ibmq-provider==0.20.2->qiskit) (2.31.0)\n",
            "Requirement already satisfied: requests-ntlm<=1.1.0 in /common/home/zl606/.conda/envs/qiskit43/lib/python3.11/site-packages (from qiskit-ibmq-provider==0.20.2->qiskit) (1.1.0)\n",
            "Requirement already satisfied: urllib3>=1.21.1 in /common/home/zl606/.conda/envs/qiskit43/lib/python3.11/site-packages (from qiskit-ibmq-provider==0.20.2->qiskit) (2.0.3)\n",
            "Requirement already satisfied: python-dateutil>=2.8.0 in /common/home/zl606/.conda/envs/qiskit43/lib/python3.11/site-packages (from qiskit-ibmq-provider==0.20.2->qiskit) (2.8.2)\n",
            "Requirement already satisfied: websocket-client>=1.5.1 in /common/home/zl606/.conda/envs/qiskit43/lib/python3.11/site-packages (from qiskit-ibmq-provider==0.20.2->qiskit) (1.6.1)\n",
            "Requirement already satisfied: websockets>=10.0 in /common/home/zl606/.conda/envs/qiskit43/lib/python3.11/site-packages (from qiskit-ibmq-provider==0.20.2->qiskit) (11.0.3)\n",
            "Requirement already satisfied: rustworkx>=0.12.0 in /common/home/zl606/.conda/envs/qiskit43/lib/python3.11/site-packages (from qiskit-terra==0.24.1->qiskit) (0.13.0)\n",
            "Requirement already satisfied: ply>=3.10 in /common/home/zl606/.conda/envs/qiskit43/lib/python3.11/site-packages (from qiskit-terra==0.24.1->qiskit) (3.11)\n",
            "Requirement already satisfied: psutil>=5 in /common/home/zl606/.conda/envs/qiskit43/lib/python3.11/site-packages (from qiskit-terra==0.24.1->qiskit) (5.9.0)\n",
            "Requirement already satisfied: sympy>=1.3 in /common/home/zl606/.conda/envs/qiskit43/lib/python3.11/site-packages (from qiskit-terra==0.24.1->qiskit) (1.12)\n",
            "Requirement already satisfied: dill>=0.3 in /common/home/zl606/.conda/envs/qiskit43/lib/python3.11/site-packages (from qiskit-terra==0.24.1->qiskit) (0.3.6)\n",
            "Requirement already satisfied: stevedore>=3.0.0 in /common/home/zl606/.conda/envs/qiskit43/lib/python3.11/site-packages (from qiskit-terra==0.24.1->qiskit) (5.1.0)\n",
            "Requirement already satisfied: symengine<0.10,>=0.9 in /common/home/zl606/.conda/envs/qiskit43/lib/python3.11/site-packages (from qiskit-terra==0.24.1->qiskit) (0.9.2)\n",
            "Requirement already satisfied: six>=1.5 in /common/home/zl606/.conda/envs/qiskit43/lib/python3.11/site-packages (from python-dateutil>=2.8.0->qiskit-ibmq-provider==0.20.2->qiskit) (1.16.0)\n",
            "Requirement already satisfied: charset-normalizer<4,>=2 in /common/home/zl606/.conda/envs/qiskit43/lib/python3.11/site-packages (from requests>=2.19->qiskit-ibmq-provider==0.20.2->qiskit) (3.2.0)\n",
            "Requirement already satisfied: idna<4,>=2.5 in /common/home/zl606/.conda/envs/qiskit43/lib/python3.11/site-packages (from requests>=2.19->qiskit-ibmq-provider==0.20.2->qiskit) (3.4)\n",
            "Requirement already satisfied: certifi>=2017.4.17 in /common/home/zl606/.conda/envs/qiskit43/lib/python3.11/site-packages (from requests>=2.19->qiskit-ibmq-provider==0.20.2->qiskit) (2023.5.7)\n",
            "Requirement already satisfied: ntlm-auth>=1.0.2 in /common/home/zl606/.conda/envs/qiskit43/lib/python3.11/site-packages (from requests-ntlm<=1.1.0->qiskit-ibmq-provider==0.20.2->qiskit) (1.5.0)\n",
            "Requirement already satisfied: cryptography>=1.3 in /common/home/zl606/.conda/envs/qiskit43/lib/python3.11/site-packages (from requests-ntlm<=1.1.0->qiskit-ibmq-provider==0.20.2->qiskit) (41.0.2)\n",
            "Requirement already satisfied: pbr!=2.1.0,>=2.0.0 in /common/home/zl606/.conda/envs/qiskit43/lib/python3.11/site-packages (from stevedore>=3.0.0->qiskit-terra==0.24.1->qiskit) (5.11.1)\n",
            "Requirement already satisfied: mpmath>=0.19 in /common/home/zl606/.conda/envs/qiskit43/lib/python3.11/site-packages (from sympy>=1.3->qiskit-terra==0.24.1->qiskit) (1.3.0)\n",
            "Requirement already satisfied: cffi>=1.12 in /common/home/zl606/.conda/envs/qiskit43/lib/python3.11/site-packages (from cryptography>=1.3->requests-ntlm<=1.1.0->qiskit-ibmq-provider==0.20.2->qiskit) (1.15.1)\n",
            "Requirement already satisfied: pycparser in /common/home/zl606/.conda/envs/qiskit43/lib/python3.11/site-packages (from cffi>=1.12->cryptography>=1.3->requests-ntlm<=1.1.0->qiskit-ibmq-provider==0.20.2->qiskit) (2.21)\n",
            "Requirement already satisfied: qiskit-nature[pyscf] in /common/home/zl606/.conda/envs/qiskit43/lib/python3.11/site-packages (0.6.2)\n",
            "Requirement already satisfied: qiskit-terra>=0.24 in /common/home/zl606/.conda/envs/qiskit43/lib/python3.11/site-packages (from qiskit-nature[pyscf]) (0.24.1)\n",
            "Requirement already satisfied: scipy>=1.4 in /common/home/zl606/.conda/envs/qiskit43/lib/python3.11/site-packages (from qiskit-nature[pyscf]) (1.11.1)\n",
            "Requirement already satisfied: numpy>=1.17 in /common/home/zl606/.conda/envs/qiskit43/lib/python3.11/site-packages (from qiskit-nature[pyscf]) (1.23.5)\n",
            "Requirement already satisfied: psutil>=5 in /common/home/zl606/.conda/envs/qiskit43/lib/python3.11/site-packages (from qiskit-nature[pyscf]) (5.9.0)\n",
            "Requirement already satisfied: scikit-learn>=0.20.0 in /common/home/zl606/.conda/envs/qiskit43/lib/python3.11/site-packages (from qiskit-nature[pyscf]) (1.3.0)\n",
            "Requirement already satisfied: setuptools>=40.1.0 in /common/home/zl606/.conda/envs/qiskit43/lib/python3.11/site-packages (from qiskit-nature[pyscf]) (67.8.0)\n",
            "Requirement already satisfied: typing-extensions in /common/home/zl606/.conda/envs/qiskit43/lib/python3.11/site-packages (from qiskit-nature[pyscf]) (4.7.1)\n",
            "Requirement already satisfied: h5py in /common/home/zl606/.conda/envs/qiskit43/lib/python3.11/site-packages (from qiskit-nature[pyscf]) (3.9.0)\n",
            "Requirement already satisfied: rustworkx in /common/home/zl606/.conda/envs/qiskit43/lib/python3.11/site-packages (from qiskit-nature[pyscf]) (0.13.0)\n",
            "Requirement already satisfied: pyscf in /common/home/zl606/.conda/envs/qiskit43/lib/python3.11/site-packages (from qiskit-nature[pyscf]) (2.3.0)\n",
            "Requirement already satisfied: ply>=3.10 in /common/home/zl606/.conda/envs/qiskit43/lib/python3.11/site-packages (from qiskit-terra>=0.24->qiskit-nature[pyscf]) (3.11)\n",
            "Requirement already satisfied: sympy>=1.3 in /common/home/zl606/.conda/envs/qiskit43/lib/python3.11/site-packages (from qiskit-terra>=0.24->qiskit-nature[pyscf]) (1.12)\n",
            "Requirement already satisfied: dill>=0.3 in /common/home/zl606/.conda/envs/qiskit43/lib/python3.11/site-packages (from qiskit-terra>=0.24->qiskit-nature[pyscf]) (0.3.6)\n",
            "Requirement already satisfied: python-dateutil>=2.8.0 in /common/home/zl606/.conda/envs/qiskit43/lib/python3.11/site-packages (from qiskit-terra>=0.24->qiskit-nature[pyscf]) (2.8.2)\n",
            "Requirement already satisfied: stevedore>=3.0.0 in /common/home/zl606/.conda/envs/qiskit43/lib/python3.11/site-packages (from qiskit-terra>=0.24->qiskit-nature[pyscf]) (5.1.0)\n",
            "Requirement already satisfied: symengine<0.10,>=0.9 in /common/home/zl606/.conda/envs/qiskit43/lib/python3.11/site-packages (from qiskit-terra>=0.24->qiskit-nature[pyscf]) (0.9.2)\n",
            "Requirement already satisfied: joblib>=1.1.1 in /common/home/zl606/.conda/envs/qiskit43/lib/python3.11/site-packages (from scikit-learn>=0.20.0->qiskit-nature[pyscf]) (1.3.1)\n",
            "Requirement already satisfied: threadpoolctl>=2.0.0 in /common/home/zl606/.conda/envs/qiskit43/lib/python3.11/site-packages (from scikit-learn>=0.20.0->qiskit-nature[pyscf]) (3.1.0)\n",
            "Requirement already satisfied: six>=1.5 in /common/home/zl606/.conda/envs/qiskit43/lib/python3.11/site-packages (from python-dateutil>=2.8.0->qiskit-terra>=0.24->qiskit-nature[pyscf]) (1.16.0)\n",
            "Requirement already satisfied: pbr!=2.1.0,>=2.0.0 in /common/home/zl606/.conda/envs/qiskit43/lib/python3.11/site-packages (from stevedore>=3.0.0->qiskit-terra>=0.24->qiskit-nature[pyscf]) (5.11.1)\n",
            "Requirement already satisfied: mpmath>=0.19 in /common/home/zl606/.conda/envs/qiskit43/lib/python3.11/site-packages (from sympy>=1.3->qiskit-terra>=0.24->qiskit-nature[pyscf]) (1.3.0)\n"
          ]
        }
      ],
      "source": [
        "!pip install qiskit\n",
        "!pip install qiskit-nature[pyscf] -U"
      ]
    },
    {
      "cell_type": "code",
      "execution_count": 3,
      "metadata": {
        "colab": {
          "base_uri": "https://localhost:8080/"
        },
        "id": "-kyJUxyJzk_k",
        "outputId": "153f1581-81d4-43b0-d14e-40f75cd99e39"
      },
      "outputs": [
        {
          "name": "stdout",
          "output_type": "stream",
          "text": [
            "Requirement already satisfied: qiskit_aer in /common/home/zl606/.conda/envs/qiskit43/lib/python3.11/site-packages (0.12.1)\n",
            "Requirement already satisfied: qiskit-terra>=0.21.0 in /common/home/zl606/.conda/envs/qiskit43/lib/python3.11/site-packages (from qiskit_aer) (0.24.1)\n",
            "Requirement already satisfied: numpy>=1.16.3 in /common/home/zl606/.conda/envs/qiskit43/lib/python3.11/site-packages (from qiskit_aer) (1.23.5)\n",
            "Requirement already satisfied: scipy>=1.0 in /common/home/zl606/.conda/envs/qiskit43/lib/python3.11/site-packages (from qiskit_aer) (1.11.1)\n",
            "Requirement already satisfied: rustworkx>=0.12.0 in /common/home/zl606/.conda/envs/qiskit43/lib/python3.11/site-packages (from qiskit-terra>=0.21.0->qiskit_aer) (0.13.0)\n",
            "Requirement already satisfied: ply>=3.10 in /common/home/zl606/.conda/envs/qiskit43/lib/python3.11/site-packages (from qiskit-terra>=0.21.0->qiskit_aer) (3.11)\n",
            "Requirement already satisfied: psutil>=5 in /common/home/zl606/.conda/envs/qiskit43/lib/python3.11/site-packages (from qiskit-terra>=0.21.0->qiskit_aer) (5.9.0)\n",
            "Requirement already satisfied: sympy>=1.3 in /common/home/zl606/.conda/envs/qiskit43/lib/python3.11/site-packages (from qiskit-terra>=0.21.0->qiskit_aer) (1.12)\n",
            "Requirement already satisfied: dill>=0.3 in /common/home/zl606/.conda/envs/qiskit43/lib/python3.11/site-packages (from qiskit-terra>=0.21.0->qiskit_aer) (0.3.6)\n",
            "Requirement already satisfied: python-dateutil>=2.8.0 in /common/home/zl606/.conda/envs/qiskit43/lib/python3.11/site-packages (from qiskit-terra>=0.21.0->qiskit_aer) (2.8.2)\n",
            "Requirement already satisfied: stevedore>=3.0.0 in /common/home/zl606/.conda/envs/qiskit43/lib/python3.11/site-packages (from qiskit-terra>=0.21.0->qiskit_aer) (5.1.0)\n",
            "Requirement already satisfied: symengine<0.10,>=0.9 in /common/home/zl606/.conda/envs/qiskit43/lib/python3.11/site-packages (from qiskit-terra>=0.21.0->qiskit_aer) (0.9.2)\n",
            "Requirement already satisfied: six>=1.5 in /common/home/zl606/.conda/envs/qiskit43/lib/python3.11/site-packages (from python-dateutil>=2.8.0->qiskit-terra>=0.21.0->qiskit_aer) (1.16.0)\n",
            "Requirement already satisfied: pbr!=2.1.0,>=2.0.0 in /common/home/zl606/.conda/envs/qiskit43/lib/python3.11/site-packages (from stevedore>=3.0.0->qiskit-terra>=0.21.0->qiskit_aer) (5.11.1)\n",
            "Requirement already satisfied: mpmath>=0.19 in /common/home/zl606/.conda/envs/qiskit43/lib/python3.11/site-packages (from sympy>=1.3->qiskit-terra>=0.21.0->qiskit_aer) (1.3.0)\n"
          ]
        }
      ],
      "source": [
        "!pip install qiskit_aer"
      ]
    },
    {
      "cell_type": "code",
      "execution_count": 4,
      "metadata": {
        "id": "Ib7BjPjxvJNk"
      },
      "outputs": [],
      "source": [
        "from qiskit_nature.units import DistanceUnit\n",
        "from qiskit_nature.second_q.drivers import PySCFDriver\n",
        "from qiskit_nature.second_q.mappers import JordanWignerMapper,ParityMapper,QubitConverter\n",
        "from qiskit.algorithms.minimum_eigensolvers import VQE\n",
        "from qiskit.algorithms.optimizers import SLSQP\n",
        "from qiskit_aer.primitives import Estimator\n",
        "from qiskit_nature.second_q.circuit.library import HartreeFock, UCCSD\n",
        "import numpy as np\n",
        "import pylab\n",
        "import qiskit.providers\n",
        "from qiskit import Aer,pulse, QuantumCircuit\n",
        "from qiskit.utils import QuantumInstance, algorithm_globals\n",
        "import time"
      ]
    },
    {
      "cell_type": "markdown",
      "metadata": {
        "id": "QRxsKX9zTc9g"
      },
      "source": [
        "Here we require paticipants to fix the algorithm seed in qiskit. *MUST* translate other format circuit to qiskit before any place need algorithm seed. And we give 20, 21, 30, 33, 36, 42, 43, 55, 67, 170 as seeds that requires to run, and the result will be calculated as the average of results from each seed. And please use shots as 4000."
      ]
    },
    {
      "cell_type": "code",
      "execution_count": 5,
      "metadata": {
        "id": "_z5kT9vNSWus"
      },
      "outputs": [],
      "source": [
        "seeds = 170\n",
        "algorithm_globals.random_seed = seeds\n",
        "seed_transpiler = seeds\n",
        "iterations = 125\n",
        "shot = 4000"
      ]
    },
    {
      "cell_type": "markdown",
      "metadata": {
        "id": "67IPjEJPJAWk"
      },
      "source": [
        "## Generate Hamiltonian and Pauli String"
      ]
    },
    {
      "cell_type": "markdown",
      "metadata": {
        "id": "7TljW2BrJKHC"
      },
      "source": [
        "At this step, the example code uses PySCF to generate the hamiltonian of hydroxyl with basis function as 'sto3g' to fit the spin orbital, then uses JordanWignerMapper to map the fermionic terms to pauli strings. To be noticed, other chemistry tool also allowed to be used at this step, but keep in mind to use 'sto-3g' and Jordan Wigner Mapper which should gives 12 qubits and 631 paulil terms."
      ]
    },
    {
      "cell_type": "code",
      "execution_count": 6,
      "metadata": {
        "id": "kXSoiGtopCRX"
      },
      "outputs": [
        {
          "name": "stderr",
          "output_type": "stream",
          "text": [
            "/common/home/zl606/.conda/envs/qiskit43/lib/python3.11/site-packages/pyscf/dft/libxc.py:772: UserWarning: Since PySCF-2.3, B3LYP (and B3P86) are changed to the VWN-RPA variant, the same to the B3LYP functional in Gaussian and ORCA (issue 1480). To restore the VWN5 definition, you can put the setting \"B3LYP_WITH_VWN5 = True\" in pyscf_conf.py\n",
            "  warnings.warn('Since PySCF-2.3, B3LYP (and B3P86) are changed to the VWN-RPA variant, '\n"
          ]
        }
      ],
      "source": [
        "ultra_simplified_ala_string = \"\"\"\n",
        "O 0.0 0.0 0.0\n",
        "H 0.45 -0.1525 -0.8454\n",
        "\"\"\"\n",
        "\n",
        "driver = PySCFDriver(\n",
        "    atom=ultra_simplified_ala_string.strip(),\n",
        "    basis='sto3g',\n",
        "    charge=1,\n",
        "    spin=0,\n",
        "    unit=DistanceUnit.ANGSTROM\n",
        ")\n",
        "qmolecule = driver.run()"
      ]
    },
    {
      "cell_type": "code",
      "execution_count": 7,
      "metadata": {
        "colab": {
          "base_uri": "https://localhost:8080/"
        },
        "id": "ojwVkSeRwTH4",
        "outputId": "127b9320-1734-4c77-e753-677181892158"
      },
      "outputs": [
        {
          "name": "stdout",
          "output_type": "stream",
          "text": [
            "Polynomial Tensor\n",
            " \"+-\":\n",
            "[[-3.21461222e+01  5.59899100e-01  1.87617178e-01 -3.18613674e-16\n",
            "   9.07255349e-16 -1.94702445e-01]\n",
            " [ 5.59899100e-01 -7.35898345e+00 -2.46352634e-01  8.08767034e-16\n",
            "  -2.82822878e-15  9.51226718e-01]\n",
            " [ 1.87617178e-01 -2.46352634e-01 -6.56995119e+00 -2.15655373e-15\n",
            "   3.50875064e-15 -1.09726793e+00]\n",
            " [-3.18825505e-16  8.22366955e-16 -2.12979123e-15 -6.94886145e+00\n",
            "  -9.36728071e-16  1.73332183e-15]\n",
            " [ 9.06756018e-16 -2.90193554e-15  3.52320577e-15 -1.03586711e-15\n",
            "  -6.94886145e+00 -7.30448968e-15]\n",
            " [-1.94702445e-01  9.51226718e-01 -1.09726793e+00  1.80054384e-15\n",
            "  -7.18015535e-15 -4.64967973e+00]]\n",
            " \"++--\":\n",
            "[[[[ 4.74977044e+00 -4.38465691e-01 -1.51436760e-01  2.56320242e-16\n",
            "    -7.13238654e-16  1.59790984e-01]\n",
            "   [-4.38465691e-01  6.47204045e-02  1.84429506e-02 -3.41296763e-17\n",
            "     1.08604492e-16 -2.66865302e-02]\n",
            "   [-1.51436760e-01  1.84429506e-02  2.46189939e-02  8.03884806e-18\n",
            "    -2.04869647e-17  6.40512562e-03]\n",
            "   [ 2.56124747e-16 -3.42561671e-17  9.07666995e-18  2.58536922e-02\n",
            "     3.67763477e-18 -1.22614366e-17]\n",
            "   [-7.12351592e-16  1.07626673e-16 -2.13324124e-17  2.97685206e-18\n",
            "     2.58536922e-02  2.95658383e-17]\n",
            "   [ 1.59790984e-01 -2.66865302e-02  6.40512562e-03 -1.18794098e-17\n",
            "     2.99943415e-17  2.11708054e-02]]\n",
            "\n",
            "  [[-4.38465691e-01  6.47204045e-02  1.84429506e-02 -3.41834819e-17\n",
            "     1.08109899e-16 -2.66865302e-02]\n",
            "   [ 1.06368185e+00 -1.50469869e-02 -1.72330627e-02  2.10114568e-17\n",
            "    -1.95081461e-17 -2.69295995e-03]\n",
            "   [ 8.78369520e-02 -9.36020789e-03  2.16452114e-02  2.87707141e-17\n",
            "    -7.75255099e-17  2.03747148e-02]\n",
            "   [-2.42694011e-16  1.39806172e-17  2.91936514e-17  3.38081759e-02\n",
            "     4.88463013e-18 -3.80443670e-17]\n",
            "   [ 8.77004699e-16 -3.15073057e-17 -6.92781910e-17  4.37411109e-18\n",
            "     3.38081759e-02  1.13822550e-16]\n",
            "   [-2.42118626e-01  4.54101197e-03  1.65509332e-02 -2.91288148e-17\n",
            "     1.01261756e-16  8.74204002e-03]]\n",
            "\n",
            "  [[-1.51436760e-01  1.84429506e-02  2.46189939e-02  8.24947521e-18\n",
            "    -2.09255233e-17  6.40512562e-03]\n",
            "   [ 8.78369520e-02 -9.36020789e-03  2.16452114e-02  2.79129108e-17\n",
            "    -7.76862666e-17  2.03747148e-02]\n",
            "   [ 9.90974245e-01 -1.31679803e-02  8.70090353e-03  2.76923343e-17\n",
            "    -6.74972899e-17  1.41651559e-02]\n",
            "   [ 5.18998387e-16 -4.37244433e-18 -1.20262508e-18  1.12083197e-02\n",
            "     1.47448510e-18 -1.83680340e-17]\n",
            "   [-1.12582452e-15  3.22455848e-17  2.91593550e-18  1.28948166e-18\n",
            "     1.12083197e-02  2.93630117e-17]\n",
            "   [ 2.65843254e-01 -5.34487452e-03  2.07171914e-03 -2.31149424e-17\n",
            "     4.84230626e-17  4.81053325e-03]]\n",
            "\n",
            "  [[ 2.56160742e-16 -3.43013889e-17  8.51061010e-18  2.58536922e-02\n",
            "     3.24161281e-18 -1.26700702e-17]\n",
            "   [-2.50887176e-16  1.40907143e-17  2.92626638e-17  3.38081759e-02\n",
            "     4.87196637e-18 -3.71720652e-17]\n",
            "   [ 5.33846972e-16 -4.58886960e-18 -1.33705428e-18  1.12083197e-02\n",
            "     1.57541260e-18 -1.76396943e-17]\n",
            "   [ 1.11539591e+00 -1.22985373e-02 -4.28354178e-03 -2.96614718e-17\n",
            "    -1.93725179e-17  4.10551212e-03]\n",
            "   [ 1.98475354e-16 -5.19374923e-18 -1.83069293e-18  4.81792446e-17\n",
            "    -1.86504651e-17  1.61949765e-18]\n",
            "   [-4.23539932e-16  1.12992214e-17 -2.45610865e-17 -1.03687761e-02\n",
            "    -1.57751287e-18 -9.93447622e-18]]\n",
            "\n",
            "  [[-7.12482704e-16  1.08184393e-16 -2.20049041e-17  3.25619963e-18\n",
            "     2.58536922e-02  2.96539535e-17]\n",
            "   [ 8.69804912e-16 -3.01806076e-17 -6.64069667e-17  4.25417412e-18\n",
            "     3.38081759e-02  1.14089557e-16]\n",
            "   [-1.07445522e-15  2.94349860e-17  1.38077384e-18  1.43720445e-18\n",
            "     1.12083197e-02  3.30554880e-17]\n",
            "   [ 1.95945866e-16 -5.27473230e-18 -1.89592016e-18  4.81827614e-17\n",
            "    -1.86516371e-17  1.57572348e-18]\n",
            "   [ 1.11539591e+00 -1.22985373e-02 -4.28354178e-03  7.15094193e-18\n",
            "     7.68718954e-17  4.10551212e-03]\n",
            "   [ 1.38678051e-15 -9.72258120e-18  6.66531356e-17 -1.34661333e-18\n",
            "    -1.03687761e-02  1.08111843e-17]]\n",
            "\n",
            "  [[ 1.59790984e-01 -2.66865302e-02  6.40512562e-03 -1.19747546e-17\n",
            "     3.07372900e-17  2.11708054e-02]\n",
            "   [-2.42118626e-01  4.54101197e-03  1.65509332e-02 -2.92465010e-17\n",
            "     9.87554053e-17  8.74204002e-03]\n",
            "   [ 2.65843254e-01 -5.34487452e-03  2.07171914e-03 -2.32327546e-17\n",
            "     4.54846935e-17  4.81053325e-03]\n",
            "   [-4.22910942e-16  8.93030019e-18 -2.61702930e-17 -1.03687761e-02\n",
            "    -1.33592893e-18 -8.78050959e-18]\n",
            "   [ 1.27878250e-15 -2.39080830e-17  6.12115790e-17 -1.36086992e-18\n",
            "    -1.03687761e-02  2.33246642e-17]\n",
            "   [ 7.34481338e-01 -5.21692816e-03 -1.59999430e-02  2.75647812e-17\n",
            "    -6.80774272e-17 -8.28037465e-03]]]\n",
            "\n",
            "\n",
            " [[[-4.38465691e-01  1.06368185e+00  8.78369520e-02 -2.33568109e-16\n",
            "     8.34680441e-16 -2.42118626e-01]\n",
            "   [ 6.47204045e-02 -1.50469869e-02 -9.36020789e-03  1.37074682e-17\n",
            "    -2.89096872e-17  4.54101197e-03]\n",
            "   [ 1.84429506e-02 -1.72330627e-02  2.16452114e-02  3.10308063e-17\n",
            "    -6.75913756e-17  1.65509332e-02]\n",
            "   [-3.43729020e-17  2.13134942e-17  2.94801259e-17  3.38081759e-02\n",
            "     4.75159527e-18 -2.96136088e-17]\n",
            "   [ 1.08902650e-16 -1.99190137e-17 -7.91212943e-17  4.80779196e-18\n",
            "     3.38081759e-02  1.01792631e-16]\n",
            "   [-2.66865302e-02 -2.69295995e-03  2.03747148e-02 -3.52734429e-17\n",
            "     1.12822086e-16  8.74204002e-03]]\n",
            "\n",
            "  [[ 6.47204045e-02 -1.50469869e-02 -9.36020789e-03  1.39584815e-17\n",
            "    -2.93501809e-17  4.54101197e-03]\n",
            "   [-1.50469869e-02  7.82246148e-01 -2.82736344e-02 -3.12074527e-17\n",
            "     2.81471884e-16 -1.20862414e-01]\n",
            "   [-9.36020789e-03 -2.82736344e-02  1.38461310e-01  4.51102914e-17\n",
            "    -5.14564327e-17  2.11790621e-02]\n",
            "   [ 1.28134330e-17 -3.14863312e-17  5.64380845e-17  1.56942623e-01\n",
            "     2.00576941e-17 -3.39227839e-17]\n",
            "   [-2.78009273e-17  2.71360152e-16 -6.68975893e-17  2.46927188e-17\n",
            "     1.56942623e-01  2.27285687e-16]\n",
            "   [ 4.54101197e-03 -1.20862414e-01  2.11790621e-02 -3.26755991e-17\n",
            "     2.46650927e-16  8.19731113e-02]]\n",
            "\n",
            "  [[ 1.84429506e-02 -1.72330627e-02  2.16452114e-02  2.93403523e-17\n",
            "    -6.63751743e-17  1.65509332e-02]\n",
            "   [-9.36020789e-03 -2.82736344e-02  1.38461310e-01  5.31250350e-17\n",
            "    -5.17286548e-17  2.11790621e-02]\n",
            "   [-1.31679803e-02  7.08160916e-01  6.20624861e-02  4.83197644e-18\n",
            "     1.02183860e-16 -5.09591903e-02]\n",
            "   [-2.53926226e-18  2.45789437e-16  6.51422233e-17  4.03035161e-02\n",
            "     2.36621748e-18 -1.58510640e-16]\n",
            "   [ 1.47678537e-17 -3.00141048e-16 -2.53251523e-16  1.25560578e-18\n",
            "     4.03035161e-02  4.23618591e-16]\n",
            "   [-5.34487452e-03  1.01782960e-01  6.86961222e-02 -2.21743248e-16\n",
            "     5.15496858e-16 -6.06860239e-02]]\n",
            "\n",
            "  [[-3.42587690e-17  2.07991430e-17  2.78161391e-17  3.38081759e-02\n",
            "     4.39579544e-18 -2.88874387e-17]\n",
            "   [ 1.38044234e-17 -3.17921382e-17  5.32970025e-17  1.56942623e-01\n",
            "     1.86999182e-17 -3.26707979e-17]\n",
            "   [-4.47073488e-18  2.58287989e-16  6.47634361e-17  4.03035161e-02\n",
            "    -1.56210616e-19 -1.52997092e-16]\n",
            "   [-1.22985373e-02  7.77829097e-01  4.78181725e-02 -2.59679292e-16\n",
            "     4.13408476e-16 -1.21924948e-01]\n",
            "   [-1.81452094e-18  1.05247555e-16  4.51131717e-18  1.86574609e-16\n",
            "    -7.46739325e-17 -1.78238078e-17]\n",
            "   [ 1.49101340e-17 -1.53935763e-16 -2.25255367e-16 -4.16508161e-02\n",
            "    -4.61016112e-18  1.00696080e-16]]\n",
            "\n",
            "  [[ 1.08508716e-16 -2.07532303e-17 -7.84049767e-17  5.30189066e-18\n",
            "     3.38081759e-02  9.68205638e-17]\n",
            "   [-2.83562265e-17  2.83561960e-16 -6.92536471e-17  2.47018143e-17\n",
            "     1.56942623e-01  2.12737917e-16]\n",
            "   [ 1.42912943e-17 -3.50645373e-16 -2.37643159e-16  1.36115852e-18\n",
            "     4.03035161e-02  4.23263229e-16]\n",
            "   [-1.88974969e-18  1.11576788e-16  3.79407941e-18  1.86701769e-16\n",
            "    -7.47563840e-17 -1.98050828e-17]\n",
            "   [-1.22985373e-02  7.77829097e-01  4.78181725e-02 -1.31841256e-16\n",
            "     7.72746396e-16 -1.21924948e-01]\n",
            "   [-2.88881258e-17  5.12463789e-16  6.44634908e-16 -1.00478675e-17\n",
            "    -4.16508161e-02 -4.61423247e-16]]\n",
            "\n",
            "  [[-2.66865302e-02 -2.69295995e-03  2.03747148e-02 -3.65510528e-17\n",
            "     1.11803398e-16  8.74204002e-03]\n",
            "   [ 4.54101197e-03 -1.20862414e-01  2.11790621e-02 -3.00133369e-17\n",
            "     2.24558631e-16  8.19731113e-02]\n",
            "   [-5.34487452e-03  1.01782960e-01  6.86961222e-02 -2.17381754e-16\n",
            "     5.45733758e-16 -6.06860239e-02]\n",
            "   [ 7.16931512e-18 -1.59517929e-16 -2.26334176e-16 -4.16508161e-02\n",
            "    -1.05037612e-17  1.14339412e-16]\n",
            "   [-3.09197831e-17  5.26756313e-16  6.51448344e-16 -1.14491718e-17\n",
            "    -4.16508161e-02 -4.38122360e-16]\n",
            "   [-5.21692816e-03  6.12883783e-01 -9.90962252e-02  1.37787811e-16\n",
            "    -3.78352142e-16 -1.95498046e-02]]]\n",
            "\n",
            "\n",
            " [[[-1.51436760e-01  8.78369520e-02  9.90974245e-01  4.53429549e-16\n",
            "    -9.26325715e-16  2.65843254e-01]\n",
            "   [ 1.84429506e-02 -9.36020789e-03 -1.31679803e-02  1.03800034e-18\n",
            "     2.81252843e-17 -5.34487452e-03]\n",
            "   [ 2.46189939e-02  2.16452114e-02  8.70090353e-03  2.30825414e-18\n",
            "    -2.75859449e-20  2.07171914e-03]\n",
            "   [ 8.57647165e-18  2.89799276e-17  2.82643747e-17  1.12083197e-02\n",
            "     1.50873198e-18 -2.31709838e-17]\n",
            "   [-1.80634938e-17 -7.58523757e-17 -6.59689060e-17  1.51756360e-18\n",
            "     1.12083197e-02  4.84482060e-17]\n",
            "   [ 6.40512562e-03  2.03747148e-02  1.41651559e-02 -2.14552805e-17\n",
            "     3.19155049e-17  4.81053325e-03]]\n",
            "\n",
            "  [[ 1.84429506e-02 -9.36020789e-03 -1.31679803e-02 -8.96103104e-18\n",
            "     1.61207069e-17 -5.34487452e-03]\n",
            "   [-1.72330627e-02 -2.82736344e-02  7.08160916e-01  2.43371859e-16\n",
            "    -2.81896401e-16  1.01782960e-01]\n",
            "   [ 2.16452114e-02  1.38461310e-01  6.20624861e-02  5.31312128e-17\n",
            "    -2.03075915e-16  6.86961222e-02]\n",
            "   [ 2.91936514e-17  5.29686376e-17  1.64916774e-18  4.03035161e-02\n",
            "     1.65856154e-18 -2.19738476e-16]\n",
            "   [-7.10129144e-17 -5.99586954e-17  1.13258350e-16  5.03624305e-19\n",
            "     4.03035161e-02  5.41458363e-16]\n",
            "   [ 1.65509332e-02  2.11790621e-02 -5.09591903e-02 -1.38815900e-16\n",
            "     3.60839639e-16 -6.06860239e-02]]\n",
            "\n",
            "  [[ 2.46189939e-02  2.16452114e-02  8.70090353e-03 -1.13962327e-18\n",
            "    -8.31655734e-18  2.07171914e-03]\n",
            "   [ 2.16452114e-02  1.38461310e-01  6.20624861e-02  5.44433853e-17\n",
            "    -2.05910176e-16  6.86961222e-02]\n",
            "   [ 8.70090353e-03  6.20624861e-02  7.76790044e-01  2.82792589e-16\n",
            "    -4.16589466e-16  1.24533083e-01]\n",
            "   [ 5.30945536e-19  7.20811172e-17  2.80556970e-16  5.15571898e-02\n",
            "     1.91271371e-17  9.57666241e-17]\n",
            "   [-7.21926186e-18 -2.39373735e-16 -5.69669313e-16  2.65406366e-17\n",
            "     5.15571898e-02 -3.06263819e-16]\n",
            "   [ 2.07171914e-03  6.86961222e-02  1.24533083e-01  1.08864055e-16\n",
            "    -2.63264718e-16  1.22969373e-01]]\n",
            "\n",
            "  [[ 7.97115279e-18  2.72292412e-17  2.77359153e-17  1.12083197e-02\n",
            "     1.54642094e-18 -2.34034720e-17]\n",
            "   [ 2.95764201e-17  4.96519911e-17 -7.75237209e-19  4.03035161e-02\n",
            "     2.28781667e-18 -2.17397298e-16]\n",
            "   [ 2.53688750e-19  6.66801670e-17  2.80512014e-16  5.15571898e-02\n",
            "     2.07981159e-17  9.01407906e-17]\n",
            "   [-4.28354178e-03  4.78181725e-02  7.25741700e-01  2.36897923e-16\n",
            "    -3.93179465e-16  1.36326286e-01]\n",
            "   [-4.14317828e-19  2.75152765e-18  1.30113093e-16 -1.85717994e-17\n",
            "     3.12044146e-17  2.27065242e-17]\n",
            "   [-2.11249031e-17 -2.14267562e-16 -1.28068212e-16  7.58596288e-03\n",
            "     1.64730964e-17 -1.88864753e-16]]\n",
            "\n",
            "  [[-2.06992963e-17 -7.68248990e-17 -6.61046271e-17  1.50301679e-18\n",
            "     1.12083197e-02  4.62251182e-17]\n",
            "   [-7.19590441e-17 -7.13018173e-17  1.11589823e-16  1.74386225e-18\n",
            "     4.03035161e-02  5.50706763e-16]\n",
            "   [-8.70018753e-18 -2.31502534e-16 -5.44212045e-16  2.66598070e-17\n",
            "     5.15571898e-02 -2.89446437e-16]\n",
            "   [-5.16382185e-19  2.09261465e-18  1.35450734e-16 -1.12082523e-17\n",
            "     3.19930947e-17  2.52582670e-17]\n",
            "   [-4.28354178e-03  4.78181725e-02  7.25741700e-01  2.85562821e-16\n",
            "    -3.16664109e-16  1.36326286e-01]\n",
            "   [ 6.33021196e-17  6.53203811e-16  3.59623392e-16  2.25475554e-17\n",
            "     7.58596288e-03  7.55504826e-16]]\n",
            "\n",
            "  [[ 6.40512562e-03  2.03747148e-02  1.41651559e-02 -1.70275669e-17\n",
            "     4.80633546e-17  4.81053325e-03]\n",
            "   [ 1.65509332e-02  2.11790621e-02 -5.09591903e-02 -1.38057512e-16\n",
            "     3.61137572e-16 -6.06860239e-02]\n",
            "   [ 2.07171914e-03  6.86961222e-02  1.24533083e-01  1.12713557e-16\n",
            "    -2.99440649e-16  1.22969373e-01]\n",
            "   [-2.24933084e-17 -2.21430651e-16 -1.54495356e-16  7.58596288e-03\n",
            "     2.19588830e-17 -1.94686915e-16]\n",
            "   [ 5.82609611e-17  6.65727188e-16  4.30054305e-16  1.92449668e-17\n",
            "     7.58596288e-03  7.97636293e-16]\n",
            "   [-1.59999430e-02 -9.90962252e-02  5.81960146e-01  8.83850746e-17\n",
            "     1.11406038e-16 -4.47663569e-02]]]\n",
            "\n",
            "\n",
            " [[[ 2.56215365e-16 -2.33974108e-16  4.63283138e-16  1.11539591e+00\n",
            "     1.56046484e-16 -4.44354889e-16]\n",
            "   [-3.42415717e-17  1.45271520e-17 -6.37995227e-18 -1.22985373e-02\n",
            "    -3.25280829e-18  1.04247531e-17]\n",
            "   [ 8.48160268e-18  3.01963584e-17 -1.02057806e-18 -4.28354178e-03\n",
            "    -9.76565171e-19 -2.33701912e-17]\n",
            "   [ 2.58536922e-02  3.38081759e-02  1.12083197e-02 -2.96820651e-17\n",
            "     4.82172938e-17 -1.03687761e-02]\n",
            "   [ 2.97685206e-18  3.55688145e-18  1.53636313e-18 -1.94584771e-17\n",
            "    -1.86831855e-17 -1.23494169e-18]\n",
            "   [-1.14763950e-17 -3.66213255e-17 -1.71283382e-17  4.10551212e-03\n",
            "     2.58395062e-19 -8.45899885e-18]]\n",
            "\n",
            "  [[-3.42306935e-17  1.46540146e-17 -6.11948241e-18 -1.22985373e-02\n",
            "    -3.34853423e-18  9.42664548e-18]\n",
            "   [ 2.08611949e-17 -3.11712957e-17  2.72928844e-16  7.77829097e-01\n",
            "     1.14334590e-16 -1.42512417e-16]\n",
            "   [ 2.94347282e-17  5.01020148e-17  6.58628657e-17  4.78181725e-02\n",
            "     3.53921433e-18 -2.06234050e-16]\n",
            "   [ 3.38081759e-02  1.56942623e-01  4.03035161e-02 -2.63362072e-16\n",
            "     1.85837508e-16 -4.16508161e-02]\n",
            "   [ 4.34904504e-18  2.45924546e-17  2.95531322e-18  4.42105467e-16\n",
            "    -7.43472955e-17 -4.31969943e-18]\n",
            "   [-2.87729335e-17 -3.15483282e-17 -1.49386769e-16 -1.21924948e-01\n",
            "    -1.18417969e-17  1.14580218e-16]]\n",
            "\n",
            "  [[ 8.52757325e-18  2.87613136e-17 -7.74092655e-19 -4.28354178e-03\n",
            "    -7.67602379e-19 -2.36697061e-17]\n",
            "   [ 2.80022989e-17  5.44082580e-17  6.75781986e-17  4.78181725e-02\n",
            "     4.55580156e-18 -2.15348430e-16]\n",
            "   [ 2.75976318e-17  5.99944210e-18  2.81345502e-16  7.25741700e-01\n",
            "     1.16987545e-16 -1.44282335e-16]\n",
            "   [ 1.12083197e-02  4.03035161e-02  5.15571898e-02  2.34089448e-16\n",
            "    -1.40327415e-17  7.58596288e-03]\n",
            "   [ 1.39163536e-18  7.96858858e-19  1.81928779e-17 -4.71439059e-16\n",
            "     2.61280264e-17  2.46671779e-18]\n",
            "   [-2.21448773e-17 -2.24389899e-16  9.82013489e-17  1.36326286e-01\n",
            "     1.56544110e-17 -1.75311250e-16]]\n",
            "\n",
            "  [[ 2.58536922e-02  3.38081759e-02  1.12083197e-02 -2.96688123e-17\n",
            "     4.82257252e-17 -1.03687761e-02]\n",
            "   [ 3.38081759e-02  1.56942623e-01  4.03035161e-02 -2.58232163e-16\n",
            "     1.85840787e-16 -4.16508161e-02]\n",
            "   [ 1.12083197e-02  4.03035161e-02  5.15571898e-02  2.23783317e-16\n",
            "    -1.36134789e-17  7.58596288e-03]\n",
            "   [-2.97972569e-17 -2.61847696e-16  2.35964043e-16  8.80159093e-01\n",
            "     1.19318156e-16 -2.94083257e-16]\n",
            "   [ 4.82055664e-17  1.85707247e-16 -1.53028808e-17  1.31230979e-16\n",
            "     4.74444451e-02  7.93879615e-17]\n",
            "   [-1.03687761e-02 -4.16508161e-02  7.58596288e-03 -3.21629968e-16\n",
            "     7.50654506e-17  2.41407920e-02]]\n",
            "\n",
            "  [[ 3.27781801e-18  4.03018732e-18  1.13619271e-18 -1.94179518e-17\n",
            "    -1.86740213e-17 -1.15973083e-18]\n",
            "   [ 4.39325053e-18  2.47241661e-17  4.44955508e-18  4.27864026e-16\n",
            "    -7.46071593e-17 -5.45432181e-18]\n",
            "   [ 1.20053221e-18  2.23843275e-18  1.83729586e-17 -4.63012919e-16\n",
            "     2.66247084e-17 -3.37293348e-20]\n",
            "   [ 4.82082262e-17  1.86557640e-16 -1.29934856e-17  1.29342292e-16\n",
            "     4.74444451e-02  7.96945049e-17]\n",
            "   [ 7.05493912e-18 -1.33370965e-16  2.87479943e-16  7.85270203e-01\n",
            "     1.08357142e-16 -2.03342632e-16]\n",
            "   [-4.96210888e-19 -1.00229546e-17  1.43449577e-17  8.38700782e-16\n",
            "     4.07384676e-18  6.81391433e-19]]\n",
            "\n",
            "  [[-1.17298875e-17 -3.75986707e-17 -1.78356988e-17  4.10551212e-03\n",
            "    -3.06815897e-19 -9.95169287e-18]\n",
            "   [-2.89442279e-17 -3.20115812e-17 -1.50277919e-16 -1.21924948e-01\n",
            "    -1.81141714e-17  1.21427555e-16]\n",
            "   [-2.38518530e-17 -2.22843417e-16  1.00055437e-16  1.36326286e-01\n",
            "     2.39252182e-17 -1.85523048e-16]\n",
            "   [-1.03687761e-02 -4.16508161e-02  7.58596288e-03 -3.25968278e-16\n",
            "     7.57461184e-17  2.41407920e-02]\n",
            "   [-9.27189055e-19 -1.01481291e-17  1.30402473e-17  8.43694480e-16\n",
            "     5.95217837e-18 -8.26731775e-18]\n",
            "   [ 2.81241687e-17  1.46853854e-16  1.08952214e-16  5.54511357e-01\n",
            "     1.40930612e-16  1.41500219e-16]]]\n",
            "\n",
            "\n",
            " [[[-7.13123801e-16  8.40900185e-16 -8.85904976e-16  1.56732381e-16\n",
            "     1.11539591e+00  1.48702420e-15]\n",
            "   [ 1.08829055e-16 -2.93239032e-17  2.02623812e-17 -2.24902600e-18\n",
            "    -1.22985373e-02 -2.48508296e-17]\n",
            "   [-2.22418512e-17 -6.76421987e-17 -2.38349697e-18 -5.80055603e-19\n",
            "    -4.28354178e-03  5.84967032e-17]\n",
            "   [ 3.89447521e-18  4.75159527e-18  1.26694751e-18  4.82050047e-17\n",
            "     7.13614850e-18 -1.17597369e-18]\n",
            "   [ 2.58536922e-02  3.38081759e-02  1.12083197e-02 -1.86875095e-17\n",
            "     7.69228146e-17 -1.03687761e-02]\n",
            "   [ 2.83277621e-17  1.12993851e-16  3.91526045e-17 -2.59456639e-19\n",
            "     4.10551212e-03  1.76435528e-17]]\n",
            "\n",
            "  [[ 1.08215664e-16 -2.90880807e-17  1.96667954e-17 -2.35313716e-18\n",
            "    -1.22985373e-02 -2.10148217e-17]\n",
            "   [-2.13305763e-17  2.91545327e-16 -3.62174615e-16  1.05475477e-16\n",
            "     7.77829097e-01  6.24069814e-16]\n",
            "   [-7.50774469e-17 -6.39876353e-17 -2.39381729e-16 -1.13031924e-18\n",
            "     4.78181725e-02  7.11441560e-16]\n",
            "   [ 4.41769055e-18  2.01907289e-17  2.09224241e-18  1.85571062e-16\n",
            "    -1.36855023e-16 -8.63600282e-18]\n",
            "   [ 3.38081759e-02  1.56942623e-01  4.03035161e-02 -7.39957938e-17\n",
            "     8.11190943e-16 -4.16508161e-02]\n",
            "   [ 1.03388226e-16  2.40462844e-16  4.12464364e-16 -7.56980657e-18\n",
            "    -1.21924948e-01 -6.01395707e-16]]\n",
            "\n",
            "  [[-2.01316826e-17 -6.89394693e-17 -4.70757434e-18 -3.48859745e-19\n",
            "    -4.28354178e-03  6.16247449e-17]\n",
            "   [-7.30147935e-17 -5.46487424e-17 -2.39252562e-16 -1.73800261e-19\n",
            "     4.78181725e-02  7.14939854e-16]\n",
            "   [-6.42029904e-17  1.00101464e-16 -4.78491311e-16  1.18371978e-16\n",
            "     7.25741700e-01  4.21012573e-16]\n",
            "   [ 1.25764466e-18  3.20032050e-18  2.58651612e-17 -1.13090259e-17\n",
            "     2.91729157e-16  1.29177377e-17]\n",
            "   [ 1.12083197e-02  4.03035161e-02  5.15571898e-02  2.47827865e-17\n",
            "    -4.65022151e-16  7.58596288e-03]\n",
            "   [ 4.49472251e-17  5.30541380e-16 -2.75820877e-16  2.47548539e-17\n",
            "     1.36326286e-01  7.43113045e-16]]\n",
            "\n",
            "  [[ 3.40136514e-18  4.91268074e-18  1.30365652e-18  4.82048189e-17\n",
            "     7.16804602e-18 -1.61369602e-18]\n",
            "   [ 3.94896887e-18  2.00938601e-17  1.33409003e-18  1.85138687e-16\n",
            "    -1.35215850e-16 -9.66636622e-18]\n",
            "   [ 1.10449652e-18  1.17648468e-18  2.62702952e-17 -1.05755333e-17\n",
            "     2.94562232e-16  1.37653676e-17]\n",
            "   [-1.89276406e-17  4.21915041e-16 -4.09237393e-16  1.25823369e-16\n",
            "     7.85270203e-01  7.75935986e-16]\n",
            "   [-1.86558544e-17 -7.43826410e-17  2.24404212e-17  4.74444451e-02\n",
            "     1.13699535e-16  3.28316864e-18]\n",
            "   [-6.75534299e-19 -7.89027549e-18  2.42263788e-17  7.82584972e-17\n",
            "    -2.06260167e-16  8.03038910e-18]]\n",
            "\n",
            "  [[ 2.58536922e-02  3.38081759e-02  1.12083197e-02 -1.86627123e-17\n",
            "     7.70179220e-17 -1.03687761e-02]\n",
            "   [ 3.38081759e-02  1.56942623e-01  4.03035161e-02 -7.44574570e-17\n",
            "     7.82050601e-16 -4.16508161e-02]\n",
            "   [ 1.12083197e-02  4.03035161e-02  5.15571898e-02  2.64578999e-17\n",
            "    -4.08444381e-16  7.58596288e-03]\n",
            "   [-1.86546304e-17 -7.43559619e-17  2.25851505e-17  4.74444451e-02\n",
            "     1.14839375e-16  4.06427496e-18]\n",
            "   [ 7.70915955e-17  7.84355515e-16 -4.51571483e-16  1.12210137e-16\n",
            "     8.80159093e-01  1.00067729e-15]\n",
            "   [-1.03687761e-02 -4.16508161e-02  7.58596288e-03  1.37279104e-18\n",
            "     1.00388355e-15  2.41407920e-02]]\n",
            "\n",
            "  [[ 2.96341192e-17  1.09571768e-16  4.29277345e-17 -8.96072088e-19\n",
            "     4.10551212e-03  1.87583455e-17]\n",
            "   [ 1.03092700e-16  2.19616673e-16  4.43691464e-16 -1.40222050e-17\n",
            "    -1.21924948e-01 -5.90195154e-16]\n",
            "   [ 4.34770222e-17  5.53047952e-16 -2.96832243e-16  3.37251983e-17\n",
            "     1.36326286e-01  6.88700542e-16]\n",
            "   [-3.51832295e-19 -1.18048038e-17  2.58862961e-17  8.05772607e-17\n",
            "    -2.05878524e-16  1.23514484e-17]\n",
            "   [-1.03687761e-02 -4.16508161e-02  7.58596288e-03  6.42090199e-18\n",
            "     1.01664484e-15  2.41407920e-02]\n",
            "   [-7.49591459e-17 -3.84407142e-16  3.08606876e-17  1.20997460e-16\n",
            "     5.54511357e-01 -7.69117394e-16]]]\n",
            "\n",
            "\n",
            " [[[ 1.59790984e-01 -2.42118626e-01  2.65843254e-01 -4.83246992e-16\n",
            "     1.50308204e-15  7.34481338e-01]\n",
            "   [-2.66865302e-02  4.54101197e-03 -5.34487452e-03  1.72835839e-17\n",
            "    -3.92311894e-17 -5.21692816e-03]\n",
            "   [ 6.40512562e-03  1.65509332e-02  2.07171914e-03 -1.99102119e-17\n",
            "     5.37145766e-17 -1.59999430e-02]\n",
            "   [-1.22946953e-17 -2.94133978e-17 -2.29124053e-17 -1.03687761e-02\n",
            "    -1.40944348e-18  2.96864273e-17]\n",
            "   [ 3.29350210e-17  1.00875137e-16  4.71095643e-17 -1.12025496e-18\n",
            "    -1.03687761e-02 -7.24850391e-17]\n",
            "   [ 2.11708054e-02  8.74204002e-03  4.81053325e-03 -1.16268968e-17\n",
            "     2.62921020e-17 -8.28037465e-03]]\n",
            "\n",
            "  [[-2.66865302e-02  4.54101197e-03 -5.34487452e-03  2.06457583e-17\n",
            "    -3.21566699e-17 -5.21692816e-03]\n",
            "   [-2.69295995e-03 -1.20862414e-01  1.01782960e-01 -1.56146043e-16\n",
            "     5.54232192e-16  6.12883783e-01]\n",
            "   [ 2.03747148e-02  2.11790621e-02  6.86961222e-02 -2.12054587e-16\n",
            "     6.64604252e-16 -9.90962252e-02]\n",
            "   [-3.74111338e-17 -3.11211464e-17 -2.15869924e-16 -4.16508161e-02\n",
            "    -4.53332270e-18  1.65155513e-16]\n",
            "   [ 1.05750518e-16  2.20948378e-16  5.18375404e-16 -2.71030620e-18\n",
            "    -4.16508161e-02 -4.06050553e-16]\n",
            "   [ 8.74204002e-03  8.19731113e-02 -6.06860239e-02  1.25475108e-16\n",
            "    -5.75920021e-16 -1.95498046e-02]]\n",
            "\n",
            "  [[ 6.40512562e-03  1.65509332e-02  2.07171914e-03 -1.88920537e-17\n",
            "     5.55384988e-17 -1.59999430e-02]\n",
            "   [ 2.03747148e-02  2.11790621e-02  6.86961222e-02 -2.17103687e-16\n",
            "     6.72677321e-16 -9.90962252e-02]\n",
            "   [ 1.41651559e-02 -5.09591903e-02  1.24533083e-01 -1.54633565e-16\n",
            "     4.27827424e-16  5.81960146e-01]\n",
            "   [-1.72492556e-17 -1.55842037e-16  9.52344846e-17  7.58596288e-03\n",
            "     1.22389384e-17  8.28306791e-17]\n",
            "   [ 4.20376292e-17  4.44635801e-16 -2.93990258e-16  2.74652234e-18\n",
            "     7.58596288e-03  2.13373222e-16]\n",
            "   [ 4.81053325e-03 -6.06860239e-02  1.22969373e-01 -1.81884340e-16\n",
            "     7.78906696e-16 -4.47663569e-02]]\n",
            "\n",
            "  [[-1.11851093e-17 -2.82154731e-17 -2.26216729e-17 -1.03687761e-02\n",
            "    -1.37685617e-18  2.81317589e-17]\n",
            "   [-3.74288038e-17 -3.18236091e-17 -2.13981096e-16 -4.16508161e-02\n",
            "    -8.24640887e-18  1.47265483e-16]\n",
            "   [-1.67046105e-17 -1.50725361e-16  9.06795695e-17  7.58596288e-03\n",
            "     1.04022825e-17  9.40863126e-17]\n",
            "   [ 4.10551212e-03 -1.21924948e-01  1.36326286e-01 -3.27009745e-16\n",
            "     8.00859514e-16  5.54511357e-01]\n",
            "   [-5.08820124e-19 -2.05261572e-17  1.96381341e-17  7.94882257e-17\n",
            "    -1.71298432e-19  1.02151434e-16]\n",
            "   [-1.28209216e-17  1.03418489e-16 -1.91905182e-16  2.41407920e-02\n",
            "     1.20035686e-17  1.58234002e-16]]\n",
            "\n",
            "  [[ 3.20174711e-17  9.80801285e-17  4.38268495e-17 -1.15451283e-18\n",
            "    -1.03687761e-02 -6.65645826e-17]\n",
            "   [ 1.07407738e-16  2.15107141e-16  5.37200015e-16 -4.86399089e-18\n",
            "    -4.16508161e-02 -3.95979568e-16]\n",
            "   [ 4.31563202e-17  4.54074040e-16 -2.75726955e-16 -1.11741704e-18\n",
            "     7.58596288e-03  1.78976468e-16]\n",
            "   [-5.37564934e-19 -2.22741331e-17  2.12566805e-17  7.82275386e-17\n",
            "    -5.14643883e-21  1.05148518e-16]\n",
            "   [ 4.10551212e-03 -1.21924948e-01  1.36326286e-01 -2.14260105e-16\n",
            "     1.00711486e-15  5.54511357e-01]\n",
            "   [ 1.41311411e-17 -4.99471336e-16  8.05185736e-16 -1.52929542e-18\n",
            "     2.41407920e-02 -6.62144336e-16]]\n",
            "\n",
            "  [[ 2.11708054e-02  8.74204002e-03  4.81053325e-03 -1.46219050e-17\n",
            "     2.49482866e-17 -8.28037465e-03]\n",
            "   [ 8.74204002e-03  8.19731113e-02 -6.06860239e-02  1.37556980e-16\n",
            "    -5.13996307e-16 -1.95498046e-02]\n",
            "   [ 4.81053325e-03 -6.06860239e-02  1.22969373e-01 -1.91476189e-16\n",
            "     7.33784493e-16 -4.47663569e-02]\n",
            "   [-1.15381481e-17  1.25812032e-16 -1.93617366e-16  2.41407920e-02\n",
            "     9.73339262e-18  1.43152365e-16]\n",
            "   [ 2.20871984e-17 -4.97363951e-16  8.16447691e-16 -1.09684712e-17\n",
            "     2.41407920e-02 -6.76452877e-16]\n",
            "   [-8.28037465e-03 -1.95498046e-02 -4.47663569e-02  1.10133636e-16\n",
            "    -7.42881971e-16  7.04304126e-01]]]]\n"
          ]
        }
      ],
      "source": [
        "hamiltonian = qmolecule.hamiltonian\n",
        "coefficients = hamiltonian.electronic_integrals\n",
        "print(coefficients.alpha)\n",
        "second_q_op = hamiltonian.second_q_op()"
      ]
    },
    {
      "cell_type": "code",
      "execution_count": 8,
      "metadata": {
        "id": "zLhtOziW8xCC"
      },
      "outputs": [
        {
          "name": "stderr",
          "output_type": "stream",
          "text": [
            "/tmp/ipykernel_1477896/561404713.py:2: DeprecationWarning: The QubitConverter class is deprecated as of version 0.6.0 and will be removed no sooner than 3 months after the release . Instead you should directly use the QubitMapper instance which you used to pass into the QubitConverter as the first argument. Refer to the documentation of the qiskit_nature.second_q.mappers module for more information.\n",
            "  converter = QubitConverter(mapper=mapper, two_qubit_reduction=False)\n",
            "/common/home/zl606/.conda/envs/qiskit43/lib/python3.11/site-packages/qiskit_nature/deprecation.py:297: PauliSumOpDeprecationWarning: PauliSumOp is deprecated as of version 0.6.0 and support for them will be removed no sooner than 3 months after the release. Instead, use SparsePauliOp. You can switch to SparsePauliOp immediately, by setting `qiskit_nature.settings.use_pauli_sum_op` to `False`.\n",
            "  return func(*args, **kwargs)\n"
          ]
        }
      ],
      "source": [
        "mapper = JordanWignerMapper()\n",
        "converter = QubitConverter(mapper=mapper, two_qubit_reduction=False)\n",
        "qubit_op = converter.convert(second_q_op)"
      ]
    },
    {
      "cell_type": "markdown",
      "metadata": {
        "id": "rAQ3oSvbKFIU"
      },
      "source": [
        "We recommend to use classical minimum eigensolver to obtain a reference energy at this step. In case some of the classical minimum eigensolver donot directly gives nuclear repulsion energy, we give reference energies below: *Comupted Energy*: -78.75252123, *Nuclear Repulsion_energy*: 4.36537496654537. *Obtained Reference Ground State Energy*: -74.38714627."
      ]
    },
    {
      "cell_type": "code",
      "execution_count": 9,
      "metadata": {
        "id": "gZQaJ8T441s7"
      },
      "outputs": [],
      "source": [
        "from qiskit.algorithms.minimum_eigensolvers import NumPyMinimumEigensolver\n",
        "from qiskit_nature.second_q.algorithms import GroundStateEigensolver\n",
        "\n",
        "solver = GroundStateEigensolver(\n",
        "    JordanWignerMapper(),\n",
        "    NumPyMinimumEigensolver(),\n",
        ")"
      ]
    },
    {
      "cell_type": "code",
      "execution_count": 10,
      "metadata": {
        "colab": {
          "base_uri": "https://localhost:8080/"
        },
        "id": "CzsPX9Fg42zY",
        "outputId": "57ff628a-9fb8-479d-af26-fb644d807202"
      },
      "outputs": [
        {
          "name": "stdout",
          "output_type": "stream",
          "text": [
            "[-78.75252123]\n"
          ]
        }
      ],
      "source": [
        "result = solver.solve(qmolecule)\n",
        "print(result.computed_energies)"
      ]
    },
    {
      "cell_type": "code",
      "execution_count": 11,
      "metadata": {
        "colab": {
          "base_uri": "https://localhost:8080/"
        },
        "id": "zP_A04usULdu",
        "outputId": "b09f2d22-4a51-4f60-a4f5-5d83b0b9477a"
      },
      "outputs": [
        {
          "name": "stdout",
          "output_type": "stream",
          "text": [
            "4.36537496654537\n"
          ]
        }
      ],
      "source": [
        "print(result.nuclear_repulsion_energy)"
      ]
    },
    {
      "cell_type": "code",
      "execution_count": 12,
      "metadata": {
        "colab": {
          "base_uri": "https://localhost:8080/"
        },
        "id": "CjUk5SkJUQkn",
        "outputId": "925ff152-1a4f-4cb0-f3f2-cbe3798562be"
      },
      "outputs": [
        {
          "name": "stdout",
          "output_type": "stream",
          "text": [
            "[-74.38714627]\n"
          ]
        }
      ],
      "source": [
        "ref_value = result.computed_energies + result.nuclear_repulsion_energy\n",
        "print(ref_value)"
      ]
    },
    {
      "cell_type": "markdown",
      "metadata": {
        "id": "7FoppB2vK3Pb"
      },
      "source": [
        "## Construct Ansatz"
      ]
    },
    {
      "cell_type": "markdown",
      "metadata": {
        "id": "FXhkX--4LLjy"
      },
      "source": [
        "At this stage, you can implement various techniques to search good ansatz architecture which is important for variational quantum algorihms. Moreover, how to obtain a good initial state is a good topic to do research, we require participant to self-reflection there techniques (include the techniques for preprocessing ansatz or initial states) with maximum 10 points, and submit a short description for used techniques, we will have three graders to evaluate the techniques."
      ]
    },
    {
      "cell_type": "code",
      "execution_count": 28,
      "metadata": {
        "id": "TR3cvipPWCQ5"
      },
      "outputs": [],
      "source": [
        "ansatz = UCCSD(\n",
        "    qmolecule.num_spatial_orbitals,\n",
        "    qmolecule.num_particles,\n",
        "    mapper,\n",
        "    initial_state=HartreeFock(\n",
        "        qmolecule.num_spatial_orbitals,\n",
        "        qmolecule.num_particles,\n",
        "        mapper,\n",
        "    ),\n",
        ")\n"
      ]
    },
    {
      "cell_type": "code",
      "execution_count": 29,
      "metadata": {
        "id": "HAepMEuOyygR"
      },
      "outputs": [],
      "source": [
        "from qiskit_nature.second_q.algorithms import GroundStateEigensolver"
      ]
    },
    {
      "cell_type": "code",
      "execution_count": 15,
      "metadata": {
        "id": "vzVDjGNVfWA8"
      },
      "outputs": [],
      "source": [
        "estimator = Estimator(\n",
        "    backend_options = {\n",
        "        'method': 'statevector',\n",
        "        'device': 'CPU'\n",
        "        # 'noise_model': noise_model\n",
        "    },\n",
        "    run_options = {\n",
        "        'shots': shot,\n",
        "        'seed': seeds,\n",
        "    },\n",
        "    transpile_options = {\n",
        "        'seed_transpiler':seed_transpiler\n",
        "    }\n",
        ")"
      ]
    },
    {
      "cell_type": "code",
      "execution_count": 16,
      "metadata": {},
      "outputs": [
        {
          "data": {
            "text/html": [
              "<pre style=\"word-wrap: normal;white-space: pre;background: #fff0;line-height: 1.1;font-family: &quot;Courier New&quot;,Courier,monospace\">      ┌───┐\n",
              " q_0: ┤ X ├\n",
              "      ├───┤\n",
              " q_1: ┤ X ├\n",
              "      ├───┤\n",
              " q_2: ┤ X ├\n",
              "      ├───┤\n",
              " q_3: ┤ X ├\n",
              "      └───┘\n",
              " q_4: ─────\n",
              "           \n",
              " q_5: ─────\n",
              "      ┌───┐\n",
              " q_6: ┤ X ├\n",
              "      ├───┤\n",
              " q_7: ┤ X ├\n",
              "      ├───┤\n",
              " q_8: ┤ X ├\n",
              "      ├───┤\n",
              " q_9: ┤ X ├\n",
              "      └───┘\n",
              "q_10: ─────\n",
              "           \n",
              "q_11: ─────\n",
              "           </pre>"
            ],
            "text/plain": [
              "      ┌───┐\n",
              " q_0: ┤ X ├\n",
              "      ├───┤\n",
              " q_1: ┤ X ├\n",
              "      ├───┤\n",
              " q_2: ┤ X ├\n",
              "      ├───┤\n",
              " q_3: ┤ X ├\n",
              "      └───┘\n",
              " q_4: ─────\n",
              "           \n",
              " q_5: ─────\n",
              "      ┌───┐\n",
              " q_6: ┤ X ├\n",
              "      ├───┤\n",
              " q_7: ┤ X ├\n",
              "      ├───┤\n",
              " q_8: ┤ X ├\n",
              "      ├───┤\n",
              " q_9: ┤ X ├\n",
              "      └───┘\n",
              "q_10: ─────\n",
              "           \n",
              "q_11: ─────\n",
              "           "
            ]
          },
          "execution_count": 16,
          "metadata": {},
          "output_type": "execute_result"
        }
      ],
      "source": [
        "ansatz.initial_state.draw()"
      ]
    },
    {
      "cell_type": "code",
      "execution_count": 18,
      "metadata": {
        "id": "37uQ745tydW3"
      },
      "outputs": [],
      "source": [
        "vqe_solver = VQE(estimator, ansatz.initial_state, SLSQP())\n",
        "vqe_solver.initial_point = [0.0] * ansatz.num_parameters"
      ]
    },
    {
      "cell_type": "code",
      "execution_count": 38,
      "metadata": {},
      "outputs": [
        {
          "name": "stdout",
          "output_type": "stream",
          "text": [
            "12 qubits\n",
            "MEASURECIRCUIT: Generated graph for the Hamiltonian with 630 nodes.\n",
            "MEASURECIRCUIT: BronKerbosch found 142 unique circuits\n",
            "MEASURECIRCUIT: Elapsed time: 413.376770s\n",
            "c {'**Z***Z*****', '*Z*********Z', '*Z******Z***', '******ZZ****', '*********ZZ*', '*Z*****Z****', '***Z*****Z**', '*****Z**Z***', '***Z******Z*', '***ZZ*******', '*********Z**', '***Z********', '**********Z*', '*******Z***Z', '****Z***Z***', '******Z*****', 'Z*******Z***', '*Z*Z********', '****Z*****Z*', '****Z*******', '*Z****Z*****', '***Z*Z******', '***Z**Z*****', '*******Z*Z**', '*******ZZ***', 'ZZ**********', 'Z*Z*********', '*Z*******Z**', '******Z****Z', '*Z********Z*', '**Z*********', '**Z**Z******', '****Z**Z****', 'Z**********Z', '**Z*Z*******', 'Z***********', '*****Z***Z**', '******Z*Z***', '*****ZZ*****', '**Z********Z', '**Z*******Z*', '********Z**Z', '***Z*******Z', '********Z*Z*', 'Z*********Z*', '*********Z*Z', '***********Z', '*Z**********', '**Z*****Z***', '****ZZ******', '********ZZ**', 'Z****Z******', '****Z*Z*****', '*****Z****Z*', '*Z***Z******', 'Z********Z**', 'Z******Z****', '******Z**Z**', '****Z****Z**', 'Z**Z********', '*******Z**Z*', '***Z***Z****', '*****Z*****Z', 'Z***Z*******', '*ZZ*********', '***Z****Z***', '*******Z****', '**********ZZ', '********Z***', '**Z****Z****', '*****Z*Z****', '****Z******Z', '******Z***Z*', '*****Z******', 'Z*****Z*****', '**ZZ********', '**Z******Z**', '*Z**Z*******'}\n",
            "c {'***XX*******', '******YZ*Y**', 'XZZX********', '***XX****YY*', '*******Z*YY*', 'XZZXXX******', 'X*ZX********', '*********YY*', '******YZZYYY', 'XZZX*****YY*', '*Z*******YY*', '***X*X******', '****XX****YY', 'XZ*X********', '****XX******', '*Z**XX******', '********Z*YY', '**ZXX*******', '*Z********YY', '**********YY', 'XZZ*X*******', '***XX***Z***', '****XX**Z***', '***XX*****YY', '**Z*******YY', '******YZZY**', '***XX**Z****', '**Z***YZZY**', '**Z*XX******', '***XX*YZZY**', '*Z*XX*******', '********ZYY*', '****XX***YY*', '****XXYZZY**', 'XZZX****Z***', 'XZZX***Z****', '****XX*Z****', '******Y*ZY**', 'XZZX******YY', '*******Z**YY', '**Z******YY*', '*Z****YZZY**', '*********Y*Y', '******YZZ*Y*', 'XZZX**YZZY**'}\n",
            "c {'******XZZX**', '********Z*XX', '**Z*YY******', '***YY*******', '******XZ*X**', '*Z*YY*******', '****YYXZZX**', 'YZZY********', '*********X*X', '******XZZXXX', '***YY****XX*', 'YZZY*****XX*', '*********XX*', '****YY*Z****', '**ZYY*******', '******X*ZX**', '***YY***Z***', '****YY****XX', 'Y*ZY********', '*******Z**XX', '***YY**Z****', '**Z******XX*', '*Z********XX', 'YZZY***Z****', 'YZZY******XX', '*Z****XZZX**', '*Z**YY******', 'YZZYYY******', 'YZZY**XZZX**', '*Z*******XX*', '***YY*XZZX**', '*******Z*XX*', '******XZZ*X*', '****YY***XX*', '**Z*******XX', 'YZ*Y********', '****YY**Z***', 'YZZY****Z***', '********ZXX*', '***YY*****XX', '**Z***XZZX**', '****YY******', '***Y*Y******', 'YZZ*Y*******', '**********XX'}\n",
            "c {'****YYYZZY**', '***Z**YZZY**', 'YZZZY***Z***', 'Y*ZZY*******', '****YY****Z*', '***Z*****YZY', '******YZZ*ZY', '******YZZYZ*', '*Z*******YZY', 'YZ*ZY*******', '****YY***YZY', '*********YZY', 'YZZZY****YZY', 'YZZZY*YZZY**', '*******Z*YZY', '***ZYY******', '********ZYZY', 'YZZZY*******', '**Z******YZY', 'YZZZ*Y******', 'YZZZY**Z****', 'YZZZY*****Z*'}\n",
            "c {'***ZXX******', '****XX****XX', 'XZZZX*XZZZX*', '****XXXZZZX*', '***Z******XX', '****XX***Z**', '******XZZZ*X', '*Z****XZZZX*', '*********ZXX', 'XZZZ*X******', '***Z**XZZZX*', 'XZZZX*****XX', '******XZ*ZX*', 'X*ZZX*******', '******X*ZZX*', '**Z***XZZZX*', 'XZ*ZX*******', '******XZZZX*', 'XZZZX****Z**', 'XZZZX*******', 'XZZZX***Z***', 'XZZZX**Z****'}\n",
            "c {'**Z***YZZZY*', '*Z****YZZZY*', '***YZY*Z****', 'YZZY**YZZZY*', 'YZZY******YY', '****Z*****YY', '*Z*YZY******', '***YZY**Z***', '******Y*ZZY*', '******YZ*ZY*', '***YZYYZZZY*', '****Z*YZZZY*', '***YZY****YY', '**ZYZY******', '***YZY******', '******YZZZY*', '******YZZZ*Y', 'YZZ*ZY******', '*********ZYY', '***YZY***Z**', 'YZZY*****Z**', 'YZZYZ*******'}\n",
            "c {'****Z*XZZX**', '******XZZ*ZX', '********ZXZX', 'XZZXZ*******', '**Z******XZX', '***XZX*Z****', '***XZX***XZX', '***XZX******', 'XZZX*****XZX', '*Z*XZX******', '**ZXZX******', '*Z*******XZX', '***XZXXZZX**', '****Z****XZX', '***XZX****Z*', 'XZZ*ZX******', '******XZZXZ*', '*********XZX', 'XZZX**XZZX**', '***XZX**Z***', 'XZZX******Z*', '*******Z*XZX'}\n",
            "c {'XZZZZXZ*****', 'XZZZZX******', '***Z*****XX*', 'XZZZZX***XX*', '******Z***XX', '****Z****XX*', '******Z**XX*', 'XZ*ZZX******', '****Z*****XX', 'XZZZZX*Z****', 'X*ZZZX******', 'XZZZZX****XX', 'XZZZZX**Z***'}\n",
            "c {'****XX****Z*', '**Z***XZZZZX', '***XX*****Z*', '***XX****Z**', 'Z**XX*******', 'Z*****XZZZZX', '******XZ*ZZX', '******XZZZZX', '****XXXZZZZX', '*Z****XZZZZX', 'Z***XX******', '***XX*XZZZZX', '******X*ZZZX'}\n",
            "c {'YZZZZY****YY', 'YZZZZY***YY*', '***Z******YY', 'YZ*ZZY******', 'YZZZZY******', 'YZZZZY**Z***', 'YZZZZY*Z****', 'Y*ZZZY******', '***Z*****YY*', '******Z**YY*', '******Z***YY', '****Z****YY*', 'YZZZZYZ*****'}\n",
            "c {'Z*****YZZZZY', '***YY*YZZZZY', '******YZ*ZZY', '**Z***YZZZZY', 'Z***YY******', '****YY***Z**', '***YY****Z**', 'Z**YY*******', '*Z****YZZZZY', '****YYYZZZZY', '******Y*ZZZY', '***YY*****Z*', '******YZZZZY'}\n",
            "c {'Z*********YY', 'Z********YY*', 'Z*****YZZY**', '***YY*YZZY**', '***YYZ******', '***YY****YY*', '***YY*****YY', '*****Z***YY*', '*****Z****YY', '*****ZYZZY**'}\n",
            "c {'***XX*XZZX**', '***XX******Z', '****XXXZZX**', '*********XXZ', '***XX****XX*', '****XX***XX*', '******XZZX*Z', 'Z*****XZZX**', 'Z********XX*', '****XX*****Z'}\n",
            "c {'XZZX**Z*****', '***XX*Z*****', '*****Z****XX', '***XXZ******', 'XZZX*Z******', '*****Z***XX*', '***XX*****XX', 'XZZX******XX', 'XZZX*****XX*'}\n",
            "c {'***YY*Z*****', 'YZZY**Z*****', '*********YYZ', '****YY*****Z', 'YZZY*******Z', '***YY******Z', '****YY***YY*', '****YYZ*****', 'YZZY*****YY*'}\n",
            "c {'***XZX***XX*', '*XX****XX***', 'Z*********XX', '***XZX****XX', '**XX****XX**', '***XZXZ*****', 'Z**XZX******'}\n",
            "c {'****XXZ*****', '**XX****YY**', '***XX****YZY', 'Z********YZY', '******Z**YZY', '*XX****YY***', '****XX***YZY'}\n",
            "c {'*YZY***YZY**', '*YZY**YY****', 'YY****YY****', 'YY*****YZY**', '***YZY****Z*', '****Z****YZY', '***YZY***YZY'}\n",
            "c {'YY****XX****', '***YZY*****Z', 'YY*****XZX**', '*YZY**XX****', '***YZY***XX*', '*YZY***XZX**'}\n",
            "c {'*XZX**YY****', 'XX*****YZY**', '*XZX***YZY**', 'XX****YY****', '***XZX****YY', '***XZX***YY*'}\n",
            "c {'*XZZX*XX****', 'XX*****XZX**', '***Z*****XZX', '*XZZX**XZX**', 'XX****XX****', '****XX***XZX'}\n",
            "c {'YZZZY*****YY', '****YY****YY', 'YZZZY****Z**', '****YYYZZZY*', 'YZZZY*YZZZY*', '***Z**YZZZY*'}\n",
            "c {'***XZX*****Z', 'XZZX*******Z', '***XZX***Z**', 'XZZX*****Z**', 'XZZX**XZZZX*', '******XZZZXZ', '***XZXXZZZX*', '****Z*XZZZX*'}\n",
            "c {'XZZZXZ******', 'XZZZX*XZZX**', '***Z**XZZX**', '*****Z***XZX', 'XZZZX*****Z*', '*****ZXZZX**', 'XZZZX****XZX'}\n",
            "c {'***YZY***XZX', '***YZYZ*****', '**YY****XX**', '******Z**XZX', 'Z********XZX', 'Z**YZY******', '*YY****XX***'}\n",
            "c {'****Z*YZZY**', 'YZZY*****YZY', 'YZZY******Z*', 'YZZY*Z******', '*****Z***YZY', 'YZZY**YZZY**'}\n",
            "c {'**YY**XZX***', 'YZY***XZX***', '***YY****XZX', 'YZY*****XX**', '****YY***XZX'}\n",
            "c {'YZZZY******Z', 'YZZZY*Z*****', 'YZZZY****XX*', 'YZZZYZ******'}\n",
            "c {'YZY***YZY***', 'YZY*****YY**', '**YY**YZY***', '***YZY****XX', '**YY****YY**'}\n",
            "c {'***XX*YZZZY*', '******YZZZYZ', '*****ZYZZZY*', 'Z*****YZZZY*'}\n",
            "c {'******YZZY*Z', 'YZZZZY*****Z', 'YZZZZY****Z*', 'YZZZZYYZZY**'}\n",
            "c {'XZX***YZY***', 'XZX*****YZY*', '**XZZX**YZY*', '**XZZXYZY***'}\n",
            "c {'***XX****XZX', 'XZX*****XX**', '**XX**XZX***', 'XZX***XZX***'}\n",
            "c {'XZZZZX***Z**', '****Z*XZZZZX', 'XZZZZX****Z*', 'XZZZZXXZZZZX', '***Z**XZZZZX'}\n",
            "c {'**YY****YZY*', '*YY****YY***'}\n",
            "c {'******XZZXYY', 'XZZZZXXZZX**', 'XZZZZX****YY'}\n",
            "c {'YZZYXX******', '******YZZYXX'}\n",
            "c {'YZZZZY***Z**', '****Z*YZZZZY', 'YZZZZYYZZZZY', '***Z**YZZZZY'}\n",
            "c {'XZZXYY******', 'XZZX**XZZZZX', '****YYXZZZZX'}\n",
            "c {'XZZZX******Z', 'XZZZX****YY*', 'XZZZX*Z*****'}\n",
            "c {'**XX**YZY***', '***XZX***YZY', 'XZX*****YY**'}\n",
            "c {'***XX*XZZZX*', 'Z*****XZZZX*', '*****ZXZZZX*'}\n",
            "c {'******XZZYYX', 'XZZYYX******'}\n",
            "c {'***XX*YZZZZY', '*****ZYZZZZY', 'XZZX**YZZZZY'}\n",
            "c {'YZY*****YZZY', '**YZY*YZY***', '**YZY***YZZY'}\n",
            "c {'YZY*****XZZX', '**YZZY**XZZX', '**YZZYXZX***'}\n",
            "c {'**XZZXXZX***', '**XZZX**XZZX', 'XZX*****XZZX'}\n",
            "c {'YY*****YZZZY', '*YZZY*YY****', '*YZZY**YZZZY'}\n",
            "c {'XX*****YZZZY', '*XZZX**YZZZY', '*XZZX*YY****'}\n",
            "c {'YY*****XZZZX', '*YZZZYXX****', '*YZZZY*XZZZX'}\n",
            "c {'*XZZZX*XZZZX', '*XZZZXXX****', 'XX*****XZZZX'}\n",
            "c {'YZZY**XZZZZX', '*****ZXZZZZX', '***YY*XZZZZX'}\n",
            "c {'XZZZZX*****Z', 'XZZZZX***YY*', 'XZZZZXYZZY**'}\n",
            "c {'**XZX*YZY***', 'XZX*****YZZY', '**XZX***YZZY'}\n",
            "c {'YZZZY*XZZZX*', 'YZZZY*****XX', '****YYXZZZX*'}\n",
            "c {'**YZY***XZX*', '**YZY*XZX***', 'YZY*****XZX*'}\n",
            "c {'**XZX*XZX***', '**XZX***XZX*', 'XZX*****XZX*'}\n",
            "c {'*YZZZY*YZZY*', 'YY*****YZZY*', '*YZZZYYY****'}\n",
            "c {'*XZZZX*YZZY*', '*XZZZXYY****', 'XX*****YZZY*'}\n",
            "c {'YY*****XZZX*', '*YZZY*XX****', '*YZZY**XZZX*'}\n",
            "c {'*XZX***XZZX*', '*XZX**XX****', 'XX*****XZZX*'}\n",
            "c {'YZY*****YZY*', '**YZZY**YZY*', '**YZZYYZY***'}\n",
            "c {'YZZZZY***XX*', '******YZZXXY'}\n",
            "c {'XZZZX*YZZZY*', 'XZZZX*****YY', '****XXYZZZY*'}\n",
            "c {'****XXYZZZZY', 'XZZZX*YZZZZY'}\n",
            "c {'YZZZZY****XX', 'YZZZZYXZZZX*'}\n",
            "c {'***YZYXZZZX*', 'YZZY**XZZZX*'}\n",
            "c {'YZZY**YZZZZY', '***YZYYZZZZY'}\n",
            "c {'YZZZZY***XZX', 'YZZZZYXZZX**'}\n",
            "c {'XZZZX*YZZY**', 'XZZZX****YZY'}\n",
            "c {'YZZZY*XZZX**', 'YZZZY****XZX'}\n",
            "c {'XZZX*****YZY', '***XZXYZZY**'}\n",
            "c {'***YZYXZZX**', 'YZZY*****XZX'}\n",
            "c {'***YZY***YY*', '***YZYYZZY**'}\n",
            "c {'***XZXYZZZY*', 'XZZX**YZZZY*'}\n",
            "c {'***XZXYZZZZY'}\n",
            "c {'***YZYXZZZZX'}\n",
            "c {'***XZXXZZZZX'}\n",
            "c {'**YZZY**YZZY'}\n",
            "c {'**XZZX**YZZY'}\n",
            "c {'*YZZZY*YZZZY'}\n",
            "c {'*XZZZX*YZZZY'}\n",
            "c {'YZZZZY***YZY'}\n",
            "c {'XZZZZX***YZY'}\n",
            "c {'XZZZZX***XZX'}\n",
            "c {'XZZZZXYZZZZY'}\n",
            "c {'YZZZZYXZZZZX'}\n",
            "c {'***YY****YZY'}\n",
            "c {'**YZY***XZZX'}\n",
            "c {'**XZX***XZZX'}\n",
            "c {'*YZZY**XZZZX'}\n",
            "c {'*XZZX**XZZZX'}\n",
            "c {'YZZZY*YZZZZY'}\n",
            "c {'YZZZY*XZZZZX'}\n",
            "c {'XZZZX*XZZZZX'}\n",
            "c {'**YY****YZZY'}\n",
            "c {'**XX****YZZY'}\n",
            "c {'**YY****XZZX'}\n",
            "c {'**XX****XZZX'}\n",
            "c {'*YZY***YZZZY'}\n",
            "c {'*XZX***YZZZY'}\n",
            "c {'*YZY***XZZZX'}\n",
            "c {'*XZX***XZZZX'}\n",
            "c {'**YZZY**XZX*'}\n",
            "c {'**XZZX**XZX*'}\n",
            "c {'*YZZZY*XZZX*'}\n",
            "c {'*XZZZX*XZZX*'}\n",
            "c {'YZZZZYYZZZY*'}\n",
            "c {'XZZZZXYZZZY*'}\n",
            "c {'XZZZZXXZZZX*'}\n",
            "c {'***YY*YZZZY*'}\n",
            "c {'***YY*XZZZX*'}\n",
            "c {'**YZY***YZY*'}\n",
            "c {'**XZX***YZY*'}\n",
            "c {'*YZZY**YZZY*'}\n",
            "c {'*XZZX**YZZY*'}\n",
            "c {'*XZZX**XZZX*'}\n",
            "c {'YZZZY****YY*'}\n",
            "c {'XZZZX****XX*'}\n",
            "c {'**XX****YZY*'}\n",
            "c {'**YY****XZX*'}\n",
            "c {'**XX****XZX*'}\n",
            "c {'*YZY***YZZY*'}\n",
            "c {'*XZX***YZZY*'}\n",
            "c {'*YZY***XZZX*'}\n",
            "c {'**YZZY**YY**'}\n",
            "c {'**XZZX**YY**'}\n",
            "c {'**YZZY**XX**'}\n",
            "c {'**XZZX**XX**'}\n",
            "c {'*YZZZY*YZY**'}\n",
            "c {'*XZZZX*YZY**'}\n",
            "c {'*YZZZY*XZX**'}\n",
            "c {'*XZZZX*XZX**'}\n",
            "c {'**YZY***YY**'}\n",
            "c {'**XZX***YY**'}\n",
            "c {'**YZY***XX**'}\n",
            "c {'**XZX***XX**'}\n",
            "c {'*YZZY**YZY**'}\n",
            "c {'*XZZX**YZY**'}\n",
            "c {'*YZZY**XZX**'}\n",
            "c {'*XZX***XZX**'}\n",
            "c {'YZZXXY******'}\n",
            "Total measurement terms:  142\n"
          ]
        }
      ],
      "source": [
        "from utils.varsaw import parseHamiltonian, group_measurements, varsaw_expectation"
      ]
    },
    {
      "cell_type": "code",
      "execution_count": 39,
      "metadata": {},
      "outputs": [],
      "source": [
        "import pickle\n",
        "# run once!\n",
        "h, first_term = parseHamiltonian('Hamiltonian/OHhamiltonian.txt')\n",
        "measurements, measurement_dict = group_measurements(h)\n",
        "filehandler = open(b\"142observables.obj\",\"wb\")\n",
        "pickle.dump((measurements, measurement_dict),filehandler)"
      ]
    },
    {
      "cell_type": "code",
      "execution_count": 42,
      "metadata": {},
      "outputs": [
        {
          "ename": "CircuitError",
          "evalue": "'Index 11 out of range for size 0.'",
          "output_type": "error",
          "traceback": [
            "\u001b[0;31m---------------------------------------------------------------------------\u001b[0m",
            "\u001b[0;31mIndexError\u001b[0m                                Traceback (most recent call last)",
            "File \u001b[0;32m~/.conda/envs/qiskit43/lib/python3.11/site-packages/qiskit/circuit/quantumcircuit.py:5137\u001b[0m, in \u001b[0;36m_bit_argument_conversion\u001b[0;34m(specifier, bit_sequence, bit_set, type_)\u001b[0m\n\u001b[1;32m   5136\u001b[0m \u001b[39mtry\u001b[39;00m:\n\u001b[0;32m-> 5137\u001b[0m     \u001b[39mreturn\u001b[39;00m [bit_sequence[specifier]]\n\u001b[1;32m   5138\u001b[0m \u001b[39mexcept\u001b[39;00m \u001b[39mIndexError\u001b[39;00m \u001b[39mas\u001b[39;00m ex:\n",
            "\u001b[0;31mIndexError\u001b[0m: list index out of range",
            "\nThe above exception was the direct cause of the following exception:\n",
            "\u001b[0;31mCircuitError\u001b[0m                              Traceback (most recent call last)",
            "\u001b[1;32m/common/home/zl606/ACCAD_QC_Contest/examplecode.ipynb Cell 28\u001b[0m line \u001b[0;36m1\n\u001b[1;32m      <a href='vscode-notebook-cell://ssh-remote%2Bcp.cs.rutgers.edu/common/home/zl606/ACCAD_QC_Contest/examplecode.ipynb#X54sdnNjb2RlLXJlbW90ZQ%3D%3D?line=7'>8</a>\u001b[0m test_ansatz\u001b[39m.\u001b[39mx(\u001b[39m8\u001b[39m)\n\u001b[1;32m      <a href='vscode-notebook-cell://ssh-remote%2Bcp.cs.rutgers.edu/common/home/zl606/ACCAD_QC_Contest/examplecode.ipynb#X54sdnNjb2RlLXJlbW90ZQ%3D%3D?line=8'>9</a>\u001b[0m test_ansatz\u001b[39m.\u001b[39mx(\u001b[39m9\u001b[39m)\n\u001b[0;32m---> <a href='vscode-notebook-cell://ssh-remote%2Bcp.cs.rutgers.edu/common/home/zl606/ACCAD_QC_Contest/examplecode.ipynb#X54sdnNjb2RlLXJlbW90ZQ%3D%3D?line=9'>10</a>\u001b[0m varsaw_expectation(test_ansatz, measurements, measurement_dict, first_term, h)\n",
            "File \u001b[0;32m~/ACCAD_QC_Contest/utils/varsaw.py:388\u001b[0m, in \u001b[0;36mvarsaw_expectation\u001b[0;34m(circuit, measurements, measure_dict, first_term, hamiltonian)\u001b[0m\n\u001b[1;32m    386\u001b[0m \u001b[39mfor\u001b[39;00m term \u001b[39min\u001b[39;00m measurements:\n\u001b[1;32m    387\u001b[0m     cir\u001b[39m=\u001b[39mcircuit\u001b[39m.\u001b[39mcopy()\n\u001b[0;32m--> 388\u001b[0m     list_of_circuit\u001b[39m.\u001b[39mappend(vqe_circuit(cir,term,\u001b[39mlen\u001b[39;49m(term)))\n\u001b[1;32m    390\u001b[0m \u001b[39mfor\u001b[39;00m cir \u001b[39min\u001b[39;00m list_of_circuit:\n\u001b[1;32m    391\u001b[0m     \u001b[39mprint\u001b[39m(cir)\n",
            "File \u001b[0;32m~/ACCAD_QC_Contest/utils/varsaw.py:353\u001b[0m, in \u001b[0;36mvqe_circuit\u001b[0;34m(input_circuit, hamiltonian, Nq)\u001b[0m\n\u001b[1;32m    351\u001b[0m     \u001b[39mcontinue\u001b[39;00m\n\u001b[1;32m    352\u001b[0m \u001b[39melif\u001b[39;00m el \u001b[39m==\u001b[39m \u001b[39m'\u001b[39m\u001b[39mZ\u001b[39m\u001b[39m'\u001b[39m:\n\u001b[0;32m--> 353\u001b[0m     final_circuit\u001b[39m.\u001b[39;49mmeasure(i, Nq\u001b[39m-\u001b[39;49mi\u001b[39m-\u001b[39;49m\u001b[39m1\u001b[39;49m)\n\u001b[1;32m    354\u001b[0m \u001b[39melif\u001b[39;00m el \u001b[39m==\u001b[39m \u001b[39m'\u001b[39m\u001b[39mX\u001b[39m\u001b[39m'\u001b[39m:\n\u001b[1;32m    355\u001b[0m     final_circuit\u001b[39m.\u001b[39mh(i)\n",
            "File \u001b[0;32m~/.conda/envs/qiskit43/lib/python3.11/site-packages/qiskit/circuit/quantumcircuit.py:2368\u001b[0m, in \u001b[0;36mQuantumCircuit.measure\u001b[0;34m(self, qubit, cbit)\u001b[0m\n\u001b[1;32m   2295\u001b[0m \u001b[39mdef\u001b[39;00m \u001b[39mmeasure\u001b[39m(\u001b[39mself\u001b[39m, qubit: QubitSpecifier, cbit: ClbitSpecifier) \u001b[39m-\u001b[39m\u001b[39m>\u001b[39m InstructionSet:\n\u001b[1;32m   2296\u001b[0m     \u001b[39mr\u001b[39m\u001b[39m\"\"\"Measure a quantum bit (``qubit``) in the Z basis into a classical bit (``cbit``).\u001b[39;00m\n\u001b[1;32m   2297\u001b[0m \n\u001b[1;32m   2298\u001b[0m \u001b[39m    When a quantum state is measured, a qubit is projected in the computational (Pauli Z) basis\u001b[39;00m\n\u001b[0;32m   (...)\u001b[0m\n\u001b[1;32m   2366\u001b[0m \n\u001b[1;32m   2367\u001b[0m \u001b[39m    \"\"\"\u001b[39;00m\n\u001b[0;32m-> 2368\u001b[0m     \u001b[39mreturn\u001b[39;00m \u001b[39mself\u001b[39;49m\u001b[39m.\u001b[39;49mappend(Measure(), [qubit], [cbit])\n",
            "File \u001b[0;32m~/.conda/envs/qiskit43/lib/python3.11/site-packages/qiskit/circuit/quantumcircuit.py:1303\u001b[0m, in \u001b[0;36mQuantumCircuit.append\u001b[0;34m(self, instruction, qargs, cargs)\u001b[0m\n\u001b[1;32m   1300\u001b[0m         operation \u001b[39m=\u001b[39m copy\u001b[39m.\u001b[39mdeepcopy(operation)\n\u001b[1;32m   1302\u001b[0m expanded_qargs \u001b[39m=\u001b[39m [\u001b[39mself\u001b[39m\u001b[39m.\u001b[39mqbit_argument_conversion(qarg) \u001b[39mfor\u001b[39;00m qarg \u001b[39min\u001b[39;00m qargs \u001b[39mor\u001b[39;00m []]\n\u001b[0;32m-> 1303\u001b[0m expanded_cargs \u001b[39m=\u001b[39m [\u001b[39mself\u001b[39;49m\u001b[39m.\u001b[39;49mcbit_argument_conversion(carg) \u001b[39mfor\u001b[39;49;00m carg \u001b[39min\u001b[39;49;00m cargs \u001b[39mor\u001b[39;49;00m []]\n\u001b[1;32m   1305\u001b[0m \u001b[39mif\u001b[39;00m \u001b[39mself\u001b[39m\u001b[39m.\u001b[39m_control_flow_scopes:\n\u001b[1;32m   1306\u001b[0m     appender \u001b[39m=\u001b[39m \u001b[39mself\u001b[39m\u001b[39m.\u001b[39m_control_flow_scopes[\u001b[39m-\u001b[39m\u001b[39m1\u001b[39m]\u001b[39m.\u001b[39mappend\n",
            "File \u001b[0;32m~/.conda/envs/qiskit43/lib/python3.11/site-packages/qiskit/circuit/quantumcircuit.py:1303\u001b[0m, in \u001b[0;36m<listcomp>\u001b[0;34m(.0)\u001b[0m\n\u001b[1;32m   1300\u001b[0m         operation \u001b[39m=\u001b[39m copy\u001b[39m.\u001b[39mdeepcopy(operation)\n\u001b[1;32m   1302\u001b[0m expanded_qargs \u001b[39m=\u001b[39m [\u001b[39mself\u001b[39m\u001b[39m.\u001b[39mqbit_argument_conversion(qarg) \u001b[39mfor\u001b[39;00m qarg \u001b[39min\u001b[39;00m qargs \u001b[39mor\u001b[39;00m []]\n\u001b[0;32m-> 1303\u001b[0m expanded_cargs \u001b[39m=\u001b[39m [\u001b[39mself\u001b[39;49m\u001b[39m.\u001b[39;49mcbit_argument_conversion(carg) \u001b[39mfor\u001b[39;00m carg \u001b[39min\u001b[39;00m cargs \u001b[39mor\u001b[39;00m []]\n\u001b[1;32m   1305\u001b[0m \u001b[39mif\u001b[39;00m \u001b[39mself\u001b[39m\u001b[39m.\u001b[39m_control_flow_scopes:\n\u001b[1;32m   1306\u001b[0m     appender \u001b[39m=\u001b[39m \u001b[39mself\u001b[39m\u001b[39m.\u001b[39m_control_flow_scopes[\u001b[39m-\u001b[39m\u001b[39m1\u001b[39m]\u001b[39m.\u001b[39mappend\n",
            "File \u001b[0;32m~/.conda/envs/qiskit43/lib/python3.11/site-packages/qiskit/circuit/quantumcircuit.py:1198\u001b[0m, in \u001b[0;36mQuantumCircuit.cbit_argument_conversion\u001b[0;34m(self, clbit_representation)\u001b[0m\n\u001b[1;32m   1187\u001b[0m \u001b[39mdef\u001b[39;00m \u001b[39mcbit_argument_conversion\u001b[39m(\u001b[39mself\u001b[39m, clbit_representation: ClbitSpecifier) \u001b[39m-\u001b[39m\u001b[39m>\u001b[39m \u001b[39mlist\u001b[39m[Clbit]:\n\u001b[1;32m   1188\u001b[0m     \u001b[39m\"\"\"\u001b[39;00m\n\u001b[1;32m   1189\u001b[0m \u001b[39m    Converts several classical bit representations (such as indexes, range, etc.)\u001b[39;00m\n\u001b[1;32m   1190\u001b[0m \u001b[39m    into a list of classical bits.\u001b[39;00m\n\u001b[0;32m   (...)\u001b[0m\n\u001b[1;32m   1196\u001b[0m \u001b[39m        List(tuple): Where each tuple is a classical bit.\u001b[39;00m\n\u001b[1;32m   1197\u001b[0m \u001b[39m    \"\"\"\u001b[39;00m\n\u001b[0;32m-> 1198\u001b[0m     \u001b[39mreturn\u001b[39;00m _bit_argument_conversion(\n\u001b[1;32m   1199\u001b[0m         clbit_representation, \u001b[39mself\u001b[39;49m\u001b[39m.\u001b[39;49mclbits, \u001b[39mself\u001b[39;49m\u001b[39m.\u001b[39;49m_clbit_indices, Clbit\n\u001b[1;32m   1200\u001b[0m     )\n",
            "File \u001b[0;32m~/.conda/envs/qiskit43/lib/python3.11/site-packages/qiskit/circuit/quantumcircuit.py:5139\u001b[0m, in \u001b[0;36m_bit_argument_conversion\u001b[0;34m(specifier, bit_sequence, bit_set, type_)\u001b[0m\n\u001b[1;32m   5137\u001b[0m         \u001b[39mreturn\u001b[39;00m [bit_sequence[specifier]]\n\u001b[1;32m   5138\u001b[0m     \u001b[39mexcept\u001b[39;00m \u001b[39mIndexError\u001b[39;00m \u001b[39mas\u001b[39;00m ex:\n\u001b[0;32m-> 5139\u001b[0m         \u001b[39mraise\u001b[39;00m CircuitError(\n\u001b[1;32m   5140\u001b[0m             \u001b[39mf\u001b[39m\u001b[39m\"\u001b[39m\u001b[39mIndex \u001b[39m\u001b[39m{\u001b[39;00mspecifier\u001b[39m}\u001b[39;00m\u001b[39m out of range for size \u001b[39m\u001b[39m{\u001b[39;00m\u001b[39mlen\u001b[39m(bit_sequence)\u001b[39m}\u001b[39;00m\u001b[39m.\u001b[39m\u001b[39m\"\u001b[39m\n\u001b[1;32m   5141\u001b[0m         ) \u001b[39mfrom\u001b[39;00m \u001b[39mex\u001b[39;00m\n\u001b[1;32m   5142\u001b[0m \u001b[39m# Slices can't raise IndexError - they just return an empty list.\u001b[39;00m\n\u001b[1;32m   5143\u001b[0m \u001b[39mif\u001b[39;00m \u001b[39misinstance\u001b[39m(specifier, \u001b[39mslice\u001b[39m):\n",
            "\u001b[0;31mCircuitError\u001b[0m: 'Index 11 out of range for size 0.'"
          ]
        }
      ],
      "source": [
        "test_ansatz = QuantumCircuit(12)\n",
        "test_ansatz.x(0)\n",
        "test_ansatz.x(1)\n",
        "test_ansatz.x(2)\n",
        "test_ansatz.x(3)\n",
        "test_ansatz.x(6)\n",
        "test_ansatz.x(7)\n",
        "test_ansatz.x(8)\n",
        "test_ansatz.x(9)\n",
        "varsaw_expectation(test_ansatz, measurements, measurement_dict, first_term, h)"
      ]
    },
    {
      "cell_type": "code",
      "execution_count": null,
      "metadata": {
        "colab": {
          "base_uri": "https://localhost:8080/"
        },
        "id": "HiJ4ojaDy38R",
        "outputId": "5cdb012c-8e39-4112-9605-ae60821e7ca2"
      },
      "outputs": [],
      "source": [
        "start_time = time.time()\n",
        "calc = GroundStateEigensolver(mapper, vqe_solver)\n",
        "res = calc.solve(qmolecule)\n",
        "end_time = time.time()\n",
        "print(res)"
      ]
    },
    {
      "cell_type": "markdown",
      "metadata": {
        "id": "vNP5HcDxlq-d"
      },
      "source": [
        "## Calculate the Accuracy (Most Important Metric)"
      ]
    },
    {
      "cell_type": "code",
      "execution_count": null,
      "metadata": {
        "colab": {
          "base_uri": "https://localhost:8080/"
        },
        "id": "qbP7CkZxlh8X",
        "outputId": "0d85b95a-4eba-4830-e98c-283a86f9f683"
      },
      "outputs": [],
      "source": [
        "result = res.computed_energies + res.nuclear_repulsion_energy\n",
        "error_rate = abs(abs(ref_value - result) / ref_value * 100)\n",
        "print(\"Error rate: %f%%\" % (error_rate))"
      ]
    },
    {
      "cell_type": "code",
      "execution_count": 20,
      "metadata": {},
      "outputs": [],
      "source": [
        "from arch import load_coupling_map\n",
        "from time import time as ctime\n",
        "from utils.parallel_bl import gate_count_oriented_scheduling\n",
        "from utils.synthesis_broccoli import synthesis\n",
        "from qiskit import QuantumCircuit, transpile\n",
        "\n",
        "def Tetris_Montreal(parr, use_bridge=False):\n",
        "    print('Tetris passes, Our schedule, Our synthesis, montreal', flush=True)\n",
        "    lnq = len(parr[0][0]) # lnq: number of qubits\n",
        "    length = lnq // 2 # `length' is a hyperparameter, and can be adjusted for best performance. Here we keep `length' fixed for simplicity.\n",
        "    coup = load_coupling_map('montreal')\n",
        "    t0 = ctime()\n",
        "    a2 = gate_count_oriented_scheduling(parr) # parr is the pauli_block list\n",
        "    # a2 = [[block] for block in parr]\n",
        "    qc, metrics = synthesis(a2, arch='montreal', use_bridge=use_bridge)\n",
        "    pnq = qc.num_qubits\n",
        "    print(pnq)\n",
        "    print('Tetris, Time costed:', ctime()-t0, flush=True)\n",
        "    t0 = ctime()\n",
        "    qc2 = transpile(qc, basis_gates=['u3', 'cx'], coupling_map=coup, initial_layout=list(range(pnq)), optimization_level=3)\n",
        "    print('Qiskit L3, Time costed:', ctime()-t0, flush=True)\n",
        "    return qc2\n"
      ]
    },
    {
      "cell_type": "code",
      "execution_count": 21,
      "metadata": {},
      "outputs": [
        {
          "name": "stdout",
          "output_type": "stream",
          "text": [
            "Tetris passes, Our schedule, Our synthesis, montreal\n",
            "27\n",
            "27\n",
            "Tetris, Time costed: 0.3336620330810547\n",
            "Qiskit L3, Time costed: 17.822885751724243\n"
          ]
        }
      ],
      "source": [
        "import ast\n",
        "from benchmark.mypauli import pauliString\n",
        "\n",
        "pauli_blocks = []\n",
        "for pauli_list in ansatz._operators: # load all pauli blocks to a list\n",
        "    block = ast.literal_eval(pauli_list._primitive._pauli_list.__str__())\n",
        "    block = [pauliString(ps) for ps in block]\n",
        "    pauli_blocks.append(block)\n",
        "\n",
        "new_ansatz = Tetris_Montreal(pauli_blocks, use_bridge=False)"
      ]
    },
    {
      "cell_type": "code",
      "execution_count": 27,
      "metadata": {},
      "outputs": [],
      "source": [
        "with open('pauli_string.txt', 'w') as f:\n",
        "    for block in pauli_blocks:\n",
        "        f.write(str(block) + '\\n')"
      ]
    },
    {
      "cell_type": "code",
      "execution_count": 40,
      "metadata": {},
      "outputs": [
        {
          "name": "stdout",
          "output_type": "stream",
          "text": [
            "640\n"
          ]
        }
      ],
      "source": [
        "cnt = 0\n",
        "for block in pauli_blocks:\n",
        "    for ps in block:\n",
        "        cnt = cnt + 1\n",
        "print(cnt)"
      ]
    },
    {
      "cell_type": "markdown",
      "metadata": {
        "id": "hw8SxNyclYyT"
      },
      "source": [
        "## Obtain the Duration of Quantum Circuit"
      ]
    },
    {
      "cell_type": "code",
      "execution_count": 32,
      "metadata": {
        "id": "3TBtAF24iuFD"
      },
      "outputs": [],
      "source": [
        "from qiskit.providers.fake_provider import *\n",
        "backend = FakeMontreal()"
      ]
    },
    {
      "cell_type": "code",
      "execution_count": 37,
      "metadata": {
        "id": "_julUiabi5iI"
      },
      "outputs": [],
      "source": [
        "with pulse.build(backend) as my_program1:\n",
        "  pulse.call(ansatz)"
      ]
    },
    {
      "cell_type": "code",
      "execution_count": 38,
      "metadata": {
        "colab": {
          "base_uri": "https://localhost:8080/"
        },
        "id": "E3jGzVpNkT00",
        "outputId": "01595668-7f90-44de-d2b5-cbac21f44497"
      },
      "outputs": [
        {
          "data": {
            "text/plain": [
              "19696160"
            ]
          },
          "execution_count": 38,
          "metadata": {},
          "output_type": "execute_result"
        }
      ],
      "source": [
        "my_program1.duration "
      ]
    }
  ],
  "metadata": {
    "colab": {
      "provenance": []
    },
    "kernelspec": {
      "display_name": "Python 3 (ipykernel)",
      "language": "python",
      "name": "python3"
    },
    "language_info": {
      "codemirror_mode": {
        "name": "ipython",
        "version": 3
      },
      "file_extension": ".py",
      "mimetype": "text/x-python",
      "name": "python",
      "nbconvert_exporter": "python",
      "pygments_lexer": "ipython3",
      "version": "3.11.4"
    }
  },
  "nbformat": 4,
  "nbformat_minor": 0
}
