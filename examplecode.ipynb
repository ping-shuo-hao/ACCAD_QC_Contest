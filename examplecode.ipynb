{
  "cells": [
    {
      "cell_type": "markdown",
      "metadata": {
        "id": "gj3jZbCBSn71"
      },
      "source": [
        "# Example Code for Estimating the Ground State Energy of Hydroxyl (·OH)"
      ]
    },
    {
      "cell_type": "markdown",
      "metadata": {
        "id": "54NH9S1vHrq8"
      },
      "source": [
        "## Basic Installation"
      ]
    },
    {
      "cell_type": "markdown",
      "metadata": {
        "id": "R0OZ3HZZS9Me"
      },
      "source": [
        "Install required package, we highly recommend participant to use qiskit platform, or at least participants can finish preprocessing at other platform and transfer the circuit to qiskit format, since our noise model is from IBM real machine backend and we restricted some algorithmic seeds which could be varied from different platform."
      ]
    },
    {
      "cell_type": "code",
      "execution_count": 1,
      "metadata": {
        "colab": {
          "base_uri": "https://localhost:8080/"
        },
        "id": "Pi-oJxidjBSw",
        "outputId": "d23754fa-04a2-4afc-fce2-cc4d90db62d4"
      },
      "outputs": [
        {
          "name": "stdout",
          "output_type": "stream",
          "text": [
            "Requirement already satisfied: qiskit in /common/home/zl606/.conda/envs/qiskit43/lib/python3.11/site-packages (0.43.2)\n",
            "Collecting qiskit-terra==0.24.1 (from qiskit)\n",
            "  Using cached qiskit_terra-0.24.1-cp311-cp311-manylinux_2_17_x86_64.manylinux2014_x86_64.whl (5.9 MB)\n",
            "Requirement already satisfied: qiskit-aer==0.12.1 in /common/home/zl606/.conda/envs/qiskit43/lib/python3.11/site-packages (from qiskit) (0.12.1)\n",
            "Requirement already satisfied: qiskit-ibmq-provider==0.20.2 in /common/home/zl606/.conda/envs/qiskit43/lib/python3.11/site-packages (from qiskit) (0.20.2)\n",
            "Requirement already satisfied: numpy>=1.16.3 in /common/home/zl606/.conda/envs/qiskit43/lib/python3.11/site-packages (from qiskit-aer==0.12.1->qiskit) (1.23.5)\n",
            "Requirement already satisfied: scipy>=1.0 in /common/home/zl606/.conda/envs/qiskit43/lib/python3.11/site-packages (from qiskit-aer==0.12.1->qiskit) (1.11.1)\n",
            "Requirement already satisfied: requests>=2.19 in /common/home/zl606/.conda/envs/qiskit43/lib/python3.11/site-packages (from qiskit-ibmq-provider==0.20.2->qiskit) (2.31.0)\n",
            "Requirement already satisfied: requests-ntlm<=1.1.0 in /common/home/zl606/.conda/envs/qiskit43/lib/python3.11/site-packages (from qiskit-ibmq-provider==0.20.2->qiskit) (1.1.0)\n",
            "Requirement already satisfied: urllib3>=1.21.1 in /common/home/zl606/.conda/envs/qiskit43/lib/python3.11/site-packages (from qiskit-ibmq-provider==0.20.2->qiskit) (2.0.3)\n",
            "Requirement already satisfied: python-dateutil>=2.8.0 in /common/home/zl606/.conda/envs/qiskit43/lib/python3.11/site-packages (from qiskit-ibmq-provider==0.20.2->qiskit) (2.8.2)\n",
            "Requirement already satisfied: websocket-client>=1.5.1 in /common/home/zl606/.conda/envs/qiskit43/lib/python3.11/site-packages (from qiskit-ibmq-provider==0.20.2->qiskit) (1.6.1)\n",
            "Requirement already satisfied: websockets>=10.0 in /common/home/zl606/.conda/envs/qiskit43/lib/python3.11/site-packages (from qiskit-ibmq-provider==0.20.2->qiskit) (11.0.3)\n",
            "Requirement already satisfied: rustworkx>=0.12.0 in /common/home/zl606/.conda/envs/qiskit43/lib/python3.11/site-packages (from qiskit-terra==0.24.1->qiskit) (0.13.0)\n",
            "Requirement already satisfied: ply>=3.10 in /common/home/zl606/.conda/envs/qiskit43/lib/python3.11/site-packages (from qiskit-terra==0.24.1->qiskit) (3.11)\n",
            "Requirement already satisfied: psutil>=5 in /common/home/zl606/.conda/envs/qiskit43/lib/python3.11/site-packages (from qiskit-terra==0.24.1->qiskit) (5.9.0)\n",
            "Requirement already satisfied: sympy>=1.3 in /common/home/zl606/.conda/envs/qiskit43/lib/python3.11/site-packages (from qiskit-terra==0.24.1->qiskit) (1.12)\n",
            "Requirement already satisfied: dill>=0.3 in /common/home/zl606/.conda/envs/qiskit43/lib/python3.11/site-packages (from qiskit-terra==0.24.1->qiskit) (0.3.6)\n",
            "Requirement already satisfied: stevedore>=3.0.0 in /common/home/zl606/.conda/envs/qiskit43/lib/python3.11/site-packages (from qiskit-terra==0.24.1->qiskit) (5.1.0)\n",
            "Requirement already satisfied: symengine<0.10,>=0.9 in /common/home/zl606/.conda/envs/qiskit43/lib/python3.11/site-packages (from qiskit-terra==0.24.1->qiskit) (0.9.2)\n",
            "Requirement already satisfied: six>=1.5 in /common/home/zl606/.conda/envs/qiskit43/lib/python3.11/site-packages (from python-dateutil>=2.8.0->qiskit-ibmq-provider==0.20.2->qiskit) (1.16.0)\n",
            "Requirement already satisfied: charset-normalizer<4,>=2 in /common/home/zl606/.conda/envs/qiskit43/lib/python3.11/site-packages (from requests>=2.19->qiskit-ibmq-provider==0.20.2->qiskit) (3.2.0)\n",
            "Requirement already satisfied: idna<4,>=2.5 in /common/home/zl606/.conda/envs/qiskit43/lib/python3.11/site-packages (from requests>=2.19->qiskit-ibmq-provider==0.20.2->qiskit) (3.4)\n",
            "Requirement already satisfied: certifi>=2017.4.17 in /common/home/zl606/.conda/envs/qiskit43/lib/python3.11/site-packages (from requests>=2.19->qiskit-ibmq-provider==0.20.2->qiskit) (2023.5.7)\n",
            "Requirement already satisfied: ntlm-auth>=1.0.2 in /common/home/zl606/.conda/envs/qiskit43/lib/python3.11/site-packages (from requests-ntlm<=1.1.0->qiskit-ibmq-provider==0.20.2->qiskit) (1.5.0)\n",
            "Requirement already satisfied: cryptography>=1.3 in /common/home/zl606/.conda/envs/qiskit43/lib/python3.11/site-packages (from requests-ntlm<=1.1.0->qiskit-ibmq-provider==0.20.2->qiskit) (41.0.2)\n",
            "Requirement already satisfied: pbr!=2.1.0,>=2.0.0 in /common/home/zl606/.conda/envs/qiskit43/lib/python3.11/site-packages (from stevedore>=3.0.0->qiskit-terra==0.24.1->qiskit) (5.11.1)\n",
            "Requirement already satisfied: mpmath>=0.19 in /common/home/zl606/.conda/envs/qiskit43/lib/python3.11/site-packages (from sympy>=1.3->qiskit-terra==0.24.1->qiskit) (1.3.0)\n",
            "Requirement already satisfied: cffi>=1.12 in /common/home/zl606/.conda/envs/qiskit43/lib/python3.11/site-packages (from cryptography>=1.3->requests-ntlm<=1.1.0->qiskit-ibmq-provider==0.20.2->qiskit) (1.15.1)\n",
            "Requirement already satisfied: pycparser in /common/home/zl606/.conda/envs/qiskit43/lib/python3.11/site-packages (from cffi>=1.12->cryptography>=1.3->requests-ntlm<=1.1.0->qiskit-ibmq-provider==0.20.2->qiskit) (2.21)\n",
            "Installing collected packages: qiskit-terra\n",
            "  Attempting uninstall: qiskit-terra\n",
            "    Found existing installation: qiskit-terra 0.25.0\n",
            "    Uninstalling qiskit-terra-0.25.0:\n",
            "      Successfully uninstalled qiskit-terra-0.25.0\n",
            "\u001b[31mERROR: pip's dependency resolver does not currently take into account all the packages that are installed. This behaviour is the source of the following dependency conflicts.\n",
            "qiskit-ibm-provider 0.6.2 requires qiskit-terra>=0.24.2, but you have qiskit-terra 0.24.1 which is incompatible.\u001b[0m\u001b[31m\n",
            "\u001b[0mSuccessfully installed qiskit-terra-0.24.1\n",
            "Requirement already satisfied: qiskit-nature[pyscf] in /common/home/zl606/.conda/envs/qiskit43/lib/python3.11/site-packages (0.6.2)\n",
            "Requirement already satisfied: qiskit-terra>=0.24 in /common/home/zl606/.conda/envs/qiskit43/lib/python3.11/site-packages (from qiskit-nature[pyscf]) (0.24.1)\n",
            "Requirement already satisfied: scipy>=1.4 in /common/home/zl606/.conda/envs/qiskit43/lib/python3.11/site-packages (from qiskit-nature[pyscf]) (1.11.1)\n",
            "Requirement already satisfied: numpy>=1.17 in /common/home/zl606/.conda/envs/qiskit43/lib/python3.11/site-packages (from qiskit-nature[pyscf]) (1.23.5)\n",
            "Requirement already satisfied: psutil>=5 in /common/home/zl606/.conda/envs/qiskit43/lib/python3.11/site-packages (from qiskit-nature[pyscf]) (5.9.0)\n",
            "Requirement already satisfied: scikit-learn>=0.20.0 in /common/home/zl606/.conda/envs/qiskit43/lib/python3.11/site-packages (from qiskit-nature[pyscf]) (1.3.0)\n",
            "Requirement already satisfied: setuptools>=40.1.0 in /common/home/zl606/.conda/envs/qiskit43/lib/python3.11/site-packages (from qiskit-nature[pyscf]) (67.8.0)\n",
            "Requirement already satisfied: typing-extensions in /common/home/zl606/.conda/envs/qiskit43/lib/python3.11/site-packages (from qiskit-nature[pyscf]) (4.7.1)\n",
            "Requirement already satisfied: h5py in /common/home/zl606/.conda/envs/qiskit43/lib/python3.11/site-packages (from qiskit-nature[pyscf]) (3.9.0)\n",
            "Requirement already satisfied: rustworkx in /common/home/zl606/.conda/envs/qiskit43/lib/python3.11/site-packages (from qiskit-nature[pyscf]) (0.13.0)\n",
            "Requirement already satisfied: pyscf in /common/home/zl606/.conda/envs/qiskit43/lib/python3.11/site-packages (from qiskit-nature[pyscf]) (2.3.0)\n",
            "Requirement already satisfied: ply>=3.10 in /common/home/zl606/.conda/envs/qiskit43/lib/python3.11/site-packages (from qiskit-terra>=0.24->qiskit-nature[pyscf]) (3.11)\n",
            "Requirement already satisfied: sympy>=1.3 in /common/home/zl606/.conda/envs/qiskit43/lib/python3.11/site-packages (from qiskit-terra>=0.24->qiskit-nature[pyscf]) (1.12)\n",
            "Requirement already satisfied: dill>=0.3 in /common/home/zl606/.conda/envs/qiskit43/lib/python3.11/site-packages (from qiskit-terra>=0.24->qiskit-nature[pyscf]) (0.3.6)\n",
            "Requirement already satisfied: python-dateutil>=2.8.0 in /common/home/zl606/.conda/envs/qiskit43/lib/python3.11/site-packages (from qiskit-terra>=0.24->qiskit-nature[pyscf]) (2.8.2)\n",
            "Requirement already satisfied: stevedore>=3.0.0 in /common/home/zl606/.conda/envs/qiskit43/lib/python3.11/site-packages (from qiskit-terra>=0.24->qiskit-nature[pyscf]) (5.1.0)\n",
            "Requirement already satisfied: symengine<0.10,>=0.9 in /common/home/zl606/.conda/envs/qiskit43/lib/python3.11/site-packages (from qiskit-terra>=0.24->qiskit-nature[pyscf]) (0.9.2)\n",
            "Requirement already satisfied: joblib>=1.1.1 in /common/home/zl606/.conda/envs/qiskit43/lib/python3.11/site-packages (from scikit-learn>=0.20.0->qiskit-nature[pyscf]) (1.3.1)\n",
            "Requirement already satisfied: threadpoolctl>=2.0.0 in /common/home/zl606/.conda/envs/qiskit43/lib/python3.11/site-packages (from scikit-learn>=0.20.0->qiskit-nature[pyscf]) (3.1.0)\n",
            "Requirement already satisfied: six>=1.5 in /common/home/zl606/.conda/envs/qiskit43/lib/python3.11/site-packages (from python-dateutil>=2.8.0->qiskit-terra>=0.24->qiskit-nature[pyscf]) (1.16.0)\n",
            "Requirement already satisfied: pbr!=2.1.0,>=2.0.0 in /common/home/zl606/.conda/envs/qiskit43/lib/python3.11/site-packages (from stevedore>=3.0.0->qiskit-terra>=0.24->qiskit-nature[pyscf]) (5.11.1)\n",
            "Requirement already satisfied: mpmath>=0.19 in /common/home/zl606/.conda/envs/qiskit43/lib/python3.11/site-packages (from sympy>=1.3->qiskit-terra>=0.24->qiskit-nature[pyscf]) (1.3.0)\n"
          ]
        }
      ],
      "source": [
        "!pip install qiskit\n",
        "!pip install qiskit-nature[pyscf] -U"
      ]
    },
    {
      "cell_type": "code",
      "execution_count": 2,
      "metadata": {
        "colab": {
          "base_uri": "https://localhost:8080/"
        },
        "id": "-kyJUxyJzk_k",
        "outputId": "153f1581-81d4-43b0-d14e-40f75cd99e39"
      },
      "outputs": [
        {
          "name": "stdout",
          "output_type": "stream",
          "text": [
            "Requirement already satisfied: qiskit_aer in /common/home/zl606/.conda/envs/qiskit43/lib/python3.11/site-packages (0.12.1)\n",
            "Requirement already satisfied: qiskit-terra>=0.21.0 in /common/home/zl606/.conda/envs/qiskit43/lib/python3.11/site-packages (from qiskit_aer) (0.24.1)\n",
            "Requirement already satisfied: numpy>=1.16.3 in /common/home/zl606/.conda/envs/qiskit43/lib/python3.11/site-packages (from qiskit_aer) (1.23.5)\n",
            "Requirement already satisfied: scipy>=1.0 in /common/home/zl606/.conda/envs/qiskit43/lib/python3.11/site-packages (from qiskit_aer) (1.11.1)\n",
            "Requirement already satisfied: rustworkx>=0.12.0 in /common/home/zl606/.conda/envs/qiskit43/lib/python3.11/site-packages (from qiskit-terra>=0.21.0->qiskit_aer) (0.13.0)\n",
            "Requirement already satisfied: ply>=3.10 in /common/home/zl606/.conda/envs/qiskit43/lib/python3.11/site-packages (from qiskit-terra>=0.21.0->qiskit_aer) (3.11)\n",
            "Requirement already satisfied: psutil>=5 in /common/home/zl606/.conda/envs/qiskit43/lib/python3.11/site-packages (from qiskit-terra>=0.21.0->qiskit_aer) (5.9.0)\n",
            "Requirement already satisfied: sympy>=1.3 in /common/home/zl606/.conda/envs/qiskit43/lib/python3.11/site-packages (from qiskit-terra>=0.21.0->qiskit_aer) (1.12)\n",
            "Requirement already satisfied: dill>=0.3 in /common/home/zl606/.conda/envs/qiskit43/lib/python3.11/site-packages (from qiskit-terra>=0.21.0->qiskit_aer) (0.3.6)\n",
            "Requirement already satisfied: python-dateutil>=2.8.0 in /common/home/zl606/.conda/envs/qiskit43/lib/python3.11/site-packages (from qiskit-terra>=0.21.0->qiskit_aer) (2.8.2)\n",
            "Requirement already satisfied: stevedore>=3.0.0 in /common/home/zl606/.conda/envs/qiskit43/lib/python3.11/site-packages (from qiskit-terra>=0.21.0->qiskit_aer) (5.1.0)\n",
            "Requirement already satisfied: symengine<0.10,>=0.9 in /common/home/zl606/.conda/envs/qiskit43/lib/python3.11/site-packages (from qiskit-terra>=0.21.0->qiskit_aer) (0.9.2)\n",
            "Requirement already satisfied: six>=1.5 in /common/home/zl606/.conda/envs/qiskit43/lib/python3.11/site-packages (from python-dateutil>=2.8.0->qiskit-terra>=0.21.0->qiskit_aer) (1.16.0)\n",
            "Requirement already satisfied: pbr!=2.1.0,>=2.0.0 in /common/home/zl606/.conda/envs/qiskit43/lib/python3.11/site-packages (from stevedore>=3.0.0->qiskit-terra>=0.21.0->qiskit_aer) (5.11.1)\n",
            "Requirement already satisfied: mpmath>=0.19 in /common/home/zl606/.conda/envs/qiskit43/lib/python3.11/site-packages (from sympy>=1.3->qiskit-terra>=0.21.0->qiskit_aer) (1.3.0)\n"
          ]
        }
      ],
      "source": [
        "!pip install qiskit_aer"
      ]
    },
    {
      "cell_type": "code",
      "execution_count": 3,
      "metadata": {
        "id": "Ib7BjPjxvJNk"
      },
      "outputs": [],
      "source": [
        "from qiskit_nature.units import DistanceUnit\n",
        "from qiskit_nature.second_q.drivers import PySCFDriver\n",
        "from qiskit_nature.second_q.mappers import JordanWignerMapper,ParityMapper,QubitConverter\n",
        "from qiskit.algorithms.minimum_eigensolvers import VQE\n",
        "from qiskit.algorithms.optimizers import SLSQP\n",
        "from qiskit_aer.primitives import Estimator\n",
        "from qiskit_nature.second_q.circuit.library import HartreeFock, UCCSD\n",
        "import numpy as np\n",
        "import pylab\n",
        "import qiskit.providers\n",
        "from qiskit import Aer,pulse, QuantumCircuit\n",
        "from qiskit.utils import QuantumInstance, algorithm_globals\n",
        "import time"
      ]
    },
    {
      "cell_type": "markdown",
      "metadata": {
        "id": "QRxsKX9zTc9g"
      },
      "source": [
        "Here we require paticipants to fix the algorithm seed in qiskit. *MUST* translate other format circuit to qiskit before any place need algorithm seed. And we give 20, 21, 30, 33, 36, 42, 43, 55, 67, 170 as seeds that requires to run, and the result will be calculated as the average of results from each seed. And please use shots as 4000."
      ]
    },
    {
      "cell_type": "code",
      "execution_count": 4,
      "metadata": {
        "id": "_z5kT9vNSWus"
      },
      "outputs": [],
      "source": [
        "seeds = 170\n",
        "algorithm_globals.random_seed = seeds\n",
        "seed_transpiler = seeds\n",
        "iterations = 125\n",
        "shot = 4000"
      ]
    },
    {
      "cell_type": "markdown",
      "metadata": {
        "id": "67IPjEJPJAWk"
      },
      "source": [
        "## Generate Hamiltonian and Pauli String"
      ]
    },
    {
      "cell_type": "markdown",
      "metadata": {
        "id": "7TljW2BrJKHC"
      },
      "source": [
        "At this step, the example code uses PySCF to generate the hamiltonian of hydroxyl with basis function as 'sto3g' to fit the spin orbital, then uses JordanWignerMapper to map the fermionic terms to pauli strings. To be noticed, other chemistry tool also allowed to be used at this step, but keep in mind to use 'sto-3g' and Jordan Wigner Mapper which should gives 12 qubits and 631 paulil terms."
      ]
    },
    {
      "cell_type": "code",
      "execution_count": 5,
      "metadata": {
        "id": "kXSoiGtopCRX"
      },
      "outputs": [
        {
          "name": "stderr",
          "output_type": "stream",
          "text": [
            "/common/home/zl606/.conda/envs/qiskit43/lib/python3.11/site-packages/pyscf/dft/libxc.py:772: UserWarning: Since PySCF-2.3, B3LYP (and B3P86) are changed to the VWN-RPA variant, the same to the B3LYP functional in Gaussian and ORCA (issue 1480). To restore the VWN5 definition, you can put the setting \"B3LYP_WITH_VWN5 = True\" in pyscf_conf.py\n",
            "  warnings.warn('Since PySCF-2.3, B3LYP (and B3P86) are changed to the VWN-RPA variant, '\n"
          ]
        }
      ],
      "source": [
        "ultra_simplified_ala_string = \"\"\"\n",
        "O 0.0 0.0 0.0\n",
        "H 0.45 -0.1525 -0.8454\n",
        "\"\"\"\n",
        "\n",
        "driver = PySCFDriver(\n",
        "    atom=ultra_simplified_ala_string.strip(),\n",
        "    basis='sto3g',\n",
        "    charge=1,\n",
        "    spin=0,\n",
        "    unit=DistanceUnit.ANGSTROM\n",
        ")\n",
        "qmolecule = driver.run()"
      ]
    },
    {
      "cell_type": "code",
      "execution_count": 6,
      "metadata": {
        "colab": {
          "base_uri": "https://localhost:8080/"
        },
        "id": "ojwVkSeRwTH4",
        "outputId": "127b9320-1734-4c77-e753-677181892158"
      },
      "outputs": [
        {
          "name": "stdout",
          "output_type": "stream",
          "text": [
            "Polynomial Tensor\n",
            " \"+-\":\n",
            "[[-3.21461222e+01  5.59899100e-01  1.87617178e-01  4.59375332e-16\n",
            "   2.55294499e-16 -1.94702445e-01]\n",
            " [ 5.59899100e-01 -7.35898345e+00 -2.46352634e-01 -4.49290587e-16\n",
            "  -1.52178237e-15  9.51226718e-01]\n",
            " [ 1.87617178e-01 -2.46352634e-01 -6.56995119e+00  4.89279104e-16\n",
            "   8.77541874e-16 -1.09726793e+00]\n",
            " [ 4.58743923e-16 -4.71598875e-16  4.52043368e-16 -6.94886145e+00\n",
            "   5.89618743e-16 -3.18424836e-15]\n",
            " [ 2.56042220e-16 -1.55935791e-15  4.69584358e-16  6.20923704e-16\n",
            "  -6.94886145e+00 -3.64846899e-15]\n",
            " [-1.94702445e-01  9.51226718e-01 -1.09726793e+00 -3.33781267e-15\n",
            "  -3.59604030e-15 -4.64967973e+00]]\n",
            " \"++--\":\n",
            "[[[[ 4.74977044e+00 -4.38465691e-01 -1.51436760e-01 -3.65847738e-16\n",
            "    -2.19813702e-16  1.59790984e-01]\n",
            "   [-4.38465691e-01  6.47204045e-02  1.84429506e-02  4.39987149e-17\n",
            "     3.39768983e-17 -2.66865302e-02]\n",
            "   [-1.51436760e-01  1.84429506e-02  2.46189939e-02 -9.35569483e-19\n",
            "    -2.35650154e-18  6.40512562e-03]\n",
            "   [-3.65901709e-16  4.43408880e-17 -2.22927131e-18  2.58536922e-02\n",
            "    -3.17571270e-18  1.89227503e-17]\n",
            "   [-2.18973397e-16  3.30858146e-17 -3.93600188e-18 -4.20497160e-18\n",
            "     2.58536922e-02  1.35762279e-17]\n",
            "   [ 1.59790984e-01 -2.66865302e-02  6.40512562e-03  2.09047008e-17\n",
            "     1.44270469e-17  2.11708054e-02]]\n",
            "\n",
            "  [[-4.38465691e-01  6.47204045e-02  1.84429506e-02  4.42251393e-17\n",
            "     3.38584255e-17 -2.66865302e-02]\n",
            "   [ 1.06368185e+00 -1.50469869e-02 -1.72330627e-02 -4.31628289e-17\n",
            "    -4.11275341e-18 -2.69295995e-03]\n",
            "   [ 8.78369520e-02 -9.36020789e-03  2.16452114e-02 -2.63939644e-17\n",
            "    -2.19502072e-17  2.03747148e-02]\n",
            "   [ 1.95578021e-16 -2.37102229e-17 -2.82562635e-17  3.38081759e-02\n",
            "    -2.48680997e-18  5.48225115e-17]\n",
            "   [ 3.34863925e-16 -1.18379301e-17 -2.20249906e-17 -4.49432370e-18\n",
            "     3.38081759e-02  3.85616212e-17]\n",
            "   [-2.42118626e-01  4.54101197e-03  1.65509332e-02  4.38922128e-17\n",
            "     3.95701526e-17  8.74204002e-03]]\n",
            "\n",
            "  [[-1.51436760e-01  1.84429506e-02  2.46189939e-02 -1.81567633e-18\n",
            "    -3.09617578e-18  6.40512562e-03]\n",
            "   [ 8.78369520e-02 -9.36020789e-03  2.16452114e-02 -2.70783238e-17\n",
            "    -1.87081292e-17  2.03747148e-02]\n",
            "   [ 9.90974245e-01 -1.31679803e-02  8.70090353e-03 -3.31465451e-17\n",
            "    -1.51731076e-17  1.41651559e-02]\n",
            "   [-2.46218199e-16 -5.28135802e-19  4.18776963e-18  1.12083197e-02\n",
            "    -1.48880547e-18  2.69969062e-17]\n",
            "   [-1.97215336e-16  1.99467169e-17  1.07271987e-17 -1.22225437e-18\n",
            "     1.12083197e-02  1.68317681e-17]\n",
            "   [ 2.65843254e-01 -5.34487452e-03  2.07171914e-03  3.32607444e-17\n",
            "     1.37835653e-17  4.81053325e-03]]\n",
            "\n",
            "  [[-3.65723238e-16  4.42255979e-17 -2.21708181e-18  2.58536922e-02\n",
            "    -2.25332194e-18  2.00963841e-17]\n",
            "   [ 2.00191650e-16 -2.29082049e-17 -2.81726902e-17  3.38081759e-02\n",
            "    -3.58095645e-18  5.49451329e-17]\n",
            "   [-2.36096912e-16 -2.17570210e-18  3.26209655e-18  1.12083197e-02\n",
            "    -1.34368536e-18  2.75935871e-17]\n",
            "   [ 1.11539591e+00 -1.22985373e-02 -4.28354178e-03  4.40879191e-17\n",
            "    -5.14873055e-18  4.10551212e-03]\n",
            "   [-7.63588310e-17 -4.61573731e-18 -9.28306605e-19  1.53376522e-17\n",
            "     2.70221128e-17 -2.13705252e-18]\n",
            "   [ 7.25699246e-16 -1.19565532e-17  3.17455445e-17 -1.03687761e-02\n",
            "     1.60182025e-18  1.14130476e-17]]\n",
            "\n",
            "  [[-2.18846563e-16  3.37438685e-17 -2.44135992e-18 -2.78765247e-18\n",
            "     2.58536922e-02  1.44276703e-17]\n",
            "   [ 3.52810075e-16 -1.02607482e-17 -1.65039824e-17 -3.80853288e-18\n",
            "     3.38081759e-02  4.03145594e-17]\n",
            "   [-3.12513493e-16  1.66737358e-17  6.86569406e-18 -1.29529252e-18\n",
            "     1.12083197e-02  2.01329845e-17]\n",
            "   [-9.42616620e-17 -5.33075443e-18 -1.05537163e-18  1.53455946e-17\n",
            "     2.70189884e-17 -2.04559013e-18]\n",
            "   [ 1.11539591e+00 -1.22985373e-02 -4.28354178e-03 -1.05576905e-17\n",
            "     2.54728015e-17  4.10551212e-03]\n",
            "   [ 5.30168317e-16  1.75650167e-17  2.48820896e-17  1.59453578e-18\n",
            "    -1.03687761e-02 -5.28090617e-20]]\n",
            "\n",
            "  [[ 1.59790984e-01 -2.66865302e-02  6.40512562e-03  1.99341688e-17\n",
            "     1.34916966e-17  2.11708054e-02]\n",
            "   [-2.42118626e-01  4.54101197e-03  1.65509332e-02  4.33034203e-17\n",
            "     3.83147770e-17  8.74204002e-03]\n",
            "   [ 2.65843254e-01 -5.34487452e-03  2.07171914e-03  3.35712263e-17\n",
            "     1.46196854e-17  4.81053325e-03]\n",
            "   [ 7.66956767e-16 -1.80004793e-17  2.93189307e-17 -1.03687761e-02\n",
            "     2.48636841e-18  1.24858738e-17]\n",
            "   [ 5.82028998e-16  4.53334386e-18  1.56731621e-17  8.59894166e-19\n",
            "    -1.03687761e-02  1.24462450e-17]\n",
            "   [ 7.34481338e-01 -5.21692816e-03 -1.59999430e-02 -4.37457344e-17\n",
            "    -2.84731732e-17 -8.28037465e-03]]]\n",
            "\n",
            "\n",
            " [[[-4.38465691e-01  1.06368185e+00  8.78369520e-02  2.06131688e-16\n",
            "     3.34680133e-16 -2.42118626e-01]\n",
            "   [ 6.47204045e-02 -1.50469869e-02 -9.36020789e-03 -2.31469503e-17\n",
            "    -1.03072768e-17  4.54101197e-03]\n",
            "   [ 1.84429506e-02 -1.72330627e-02  2.16452114e-02 -2.81915843e-17\n",
            "    -2.04699569e-17  1.65509332e-02]\n",
            "   [ 4.42324678e-17 -4.24792261e-17 -2.62724816e-17  3.38081759e-02\n",
            "    -1.25857047e-19  4.33093594e-17]\n",
            "   [ 3.33026550e-17 -4.44320810e-18 -1.76125465e-17 -3.17375732e-18\n",
            "     3.38081759e-02  3.73038589e-17]\n",
            "   [-2.66865302e-02 -2.69295995e-03  2.03747148e-02  5.40265432e-17\n",
            "     3.76110436e-17  8.74204002e-03]]\n",
            "\n",
            "  [[ 6.47204045e-02 -1.50469869e-02 -9.36020789e-03 -2.22841049e-17\n",
            "    -1.07633244e-17  4.54101197e-03]\n",
            "   [-1.50469869e-02  7.82246148e-01 -2.82736344e-02 -7.98096905e-17\n",
            "     1.59503571e-16 -1.20862414e-01]\n",
            "   [-9.36020789e-03 -2.82736344e-02  1.38461310e-01 -3.67759567e-17\n",
            "    -1.26613008e-17  2.11790621e-02]\n",
            "   [-2.33377182e-17 -7.59275367e-17 -3.10811651e-17  1.56942623e-01\n",
            "    -1.23228202e-17  6.35706204e-17]\n",
            "   [-7.31474164e-18  1.43977279e-16 -2.20333907e-17 -1.03215091e-17\n",
            "     1.56942623e-01  1.11956244e-16]\n",
            "   [ 4.54101197e-03 -1.20862414e-01  2.11790621e-02  5.58595012e-17\n",
            "     1.23829686e-16  8.19731113e-02]]\n",
            "\n",
            "  [[ 1.84429506e-02 -1.72330627e-02  2.16452114e-02 -2.84187790e-17\n",
            "    -1.77705004e-17  1.65509332e-02]\n",
            "   [-9.36020789e-03 -2.82736344e-02  1.38461310e-01 -3.36814115e-17\n",
            "    -6.13637793e-18  2.11790621e-02]\n",
            "   [-1.31679803e-02  7.08160916e-01  6.20624861e-02 -6.12188099e-17\n",
            "     1.24306171e-16 -5.09591903e-02]\n",
            "   [-1.80131409e-18 -1.55934985e-16 -6.79262153e-17  4.03035161e-02\n",
            "    -2.72961324e-18  1.65747446e-16]\n",
            "   [ 1.85396329e-18 -4.24527487e-17 -4.12106071e-17 -4.39897746e-18\n",
            "     4.03035161e-02  6.40357917e-17]\n",
            "   [-5.34487452e-03  1.01782960e-01  6.86961222e-02  2.77243881e-16\n",
            "     1.38473232e-16 -6.06860239e-02]]\n",
            "\n",
            "  [[ 4.41890864e-17 -4.26145109e-17 -2.76177533e-17  3.38081759e-02\n",
            "    -2.56642743e-18  4.32393919e-17]\n",
            "   [-2.23845185e-17 -7.05240954e-17 -3.23962731e-17  1.56942623e-01\n",
            "    -1.73893306e-17  6.07450028e-17]\n",
            "   [-4.50187420e-18 -1.66159091e-16 -6.66997223e-17  4.03035161e-02\n",
            "    -7.52424176e-18  1.72707939e-16]\n",
            "   [-1.22985373e-02  7.77829097e-01  4.78181725e-02  3.13611198e-16\n",
            "     1.86935556e-16 -1.21924948e-01]\n",
            "   [ 1.18903774e-18 -3.09315587e-17 -1.79490086e-18  6.05797639e-17\n",
            "     9.35066067e-17  3.67967030e-17]\n",
            "   [-8.97743712e-18  2.80124093e-16  2.71379777e-16 -4.16508161e-02\n",
            "     9.90554161e-18 -1.89360166e-16]]\n",
            "\n",
            "  [[ 3.36482355e-17 -5.78409365e-18 -1.72959652e-17 -3.40776215e-18\n",
            "     3.38081759e-02  3.61504824e-17]\n",
            "   [-7.66615743e-18  1.60762656e-16 -1.16206844e-17 -1.32326235e-17\n",
            "     1.56942623e-01  1.16103441e-16]\n",
            "   [ 9.55894871e-19 -4.83615535e-17 -2.41701618e-17 -7.14085299e-18\n",
            "     4.03035161e-02  6.14626723e-17]\n",
            "   [ 8.64023229e-19 -3.60330205e-17 -2.29599296e-18  5.97522144e-17\n",
            "     9.32923854e-17  3.60082253e-17]\n",
            "   [-1.22985373e-02  7.77829097e-01  4.78181725e-02  1.06510771e-16\n",
            "     3.10639177e-16 -1.21924948e-01]\n",
            "   [-6.53777039e-18  3.20724409e-16  1.72476726e-16  4.88332388e-18\n",
            "    -4.16508161e-02 -2.15642304e-16]]\n",
            "\n",
            "  [[-2.66865302e-02 -2.69295995e-03  2.03747148e-02  5.38668493e-17\n",
            "     3.68192867e-17  8.74204002e-03]\n",
            "   [ 4.54101197e-03 -1.20862414e-01  2.11790621e-02  5.43095410e-17\n",
            "     1.11108111e-16  8.19731113e-02]\n",
            "   [-5.34487452e-03  1.01782960e-01  6.86961222e-02  2.83742701e-16\n",
            "     1.85274012e-16 -6.06860239e-02]\n",
            "   [-1.67674001e-17  2.97641864e-16  2.73751593e-16 -4.16508161e-02\n",
            "    -1.22354836e-18 -1.67176620e-16]\n",
            "   [-9.07942676e-18  3.42539718e-16  2.00113038e-16 -3.96071651e-18\n",
            "    -4.16508161e-02 -2.05104917e-16]\n",
            "   [-5.21692816e-03  6.12883783e-01 -9.90962252e-02 -2.71752749e-16\n",
            "    -1.56283207e-17 -1.95498046e-02]]]\n",
            "\n",
            "\n",
            " [[[-1.51436760e-01  8.78369520e-02  9.90974245e-01 -2.60470587e-16\n",
            "    -1.48206920e-16  2.65843254e-01]\n",
            "   [ 1.84429506e-02 -9.36020789e-03 -1.31679803e-02 -3.39714797e-18\n",
            "     3.33503386e-18 -5.34487452e-03]\n",
            "   [ 2.46189939e-02  2.16452114e-02  8.70090353e-03  3.78653142e-18\n",
            "     2.78575857e-18  2.07171914e-03]\n",
            "   [-2.06101458e-18 -2.71884271e-17 -3.23921786e-17  1.12083197e-02\n",
            "    -1.39905070e-18  3.32238425e-17]\n",
            "   [-2.30540521e-18 -1.59819498e-17 -1.43252531e-17 -3.36611703e-19\n",
            "     1.12083197e-02  1.42303069e-17]\n",
            "   [ 6.40512562e-03  2.03747148e-02  1.41651559e-02  2.36073090e-17\n",
            "     1.53978570e-17  4.81053325e-03]]\n",
            "\n",
            "  [[ 1.84429506e-02 -9.36020789e-03 -1.31679803e-02 -3.66110676e-18\n",
            "     4.43081122e-18 -5.34487452e-03]\n",
            "   [-1.72330627e-02 -2.82736344e-02  7.08160916e-01 -1.20834172e-16\n",
            "    -2.71887720e-17  1.01782960e-01]\n",
            "   [ 2.16452114e-02  1.38461310e-01  6.20624861e-02 -6.84356744e-17\n",
            "     2.29653679e-18  6.86961222e-02]\n",
            "   [-2.93647576e-17 -3.10811651e-17 -5.33932881e-17  4.03035161e-02\n",
            "    -4.91516450e-18  2.79846484e-16]\n",
            "   [-2.20770540e-17 -2.20333907e-17  1.29228574e-16 -6.53041317e-18\n",
            "     4.03035161e-02  1.52555412e-16]\n",
            "   [ 1.65509332e-02  2.11790621e-02 -5.09591903e-02  1.75850349e-16\n",
            "     6.30442666e-17 -6.06860239e-02]]\n",
            "\n",
            "  [[ 2.46189939e-02  2.16452114e-02  8.70090353e-03  4.74755775e-18\n",
            "    -6.97677378e-19  2.07171914e-03]\n",
            "   [ 2.16452114e-02  1.38461310e-01  6.20624861e-02 -6.72845602e-17\n",
            "    -3.51150470e-18  6.86961222e-02]\n",
            "   [ 8.70090353e-03  6.20624861e-02  7.76790044e-01 -6.34775262e-17\n",
            "    -1.18920277e-16  1.24533083e-01]\n",
            "   [ 4.17852634e-18 -6.74925345e-17 -7.61869328e-17  5.15571898e-02\n",
            "     5.94186199e-18 -2.06396518e-17]\n",
            "   [ 6.20572518e-19 -2.03939253e-17 -1.49001188e-16  4.17022430e-18\n",
            "     5.15571898e-02 -7.80576978e-17]\n",
            "   [ 2.07171914e-03  6.86961222e-02  1.24533083e-01 -7.57777906e-18\n",
            "    -7.67529771e-17  1.22969373e-01]]\n",
            "\n",
            "  [[-2.50531025e-18 -2.74305622e-17 -3.31849056e-17  1.12083197e-02\n",
            "    -7.41128566e-19  3.33877345e-17]\n",
            "   [-2.87666821e-17 -3.33672370e-17 -5.35809732e-17  4.03035161e-02\n",
            "    -4.90580884e-18  2.85042331e-16]\n",
            "   [ 3.43505297e-18 -7.01693519e-17 -8.67887705e-17  5.15571898e-02\n",
            "     7.08922631e-18 -2.29385253e-17]\n",
            "   [-4.28354178e-03  4.78181725e-02  7.25741700e-01 -1.26394587e-16\n",
            "     9.07648740e-18  1.36326286e-01]\n",
            "   [ 1.69691010e-19 -2.01824922e-18 -4.07913124e-17  7.68605575e-18\n",
            "     1.97013791e-17 -1.71950659e-17]\n",
            "   [ 3.40758172e-17  2.74744418e-16  3.16631793e-16  7.58596288e-03\n",
            "     1.49582054e-17  2.68790073e-16]]\n",
            "\n",
            "  [[-4.21285580e-18 -2.05082954e-17 -1.42536857e-17 -1.15957067e-18\n",
            "     1.12083197e-02  1.38268705e-17]\n",
            "   [-1.50926557e-17  1.49099450e-18  1.28719406e-16 -6.59136911e-18\n",
            "     4.03035161e-02  1.70748024e-16]\n",
            "   [ 9.83919759e-19 -1.16166876e-17 -1.48026694e-16  2.57074704e-18\n",
            "     5.15571898e-02 -7.43430473e-17]\n",
            "   [ 1.93247102e-19 -4.03071644e-18 -3.31799055e-17  9.98399910e-18\n",
            "     1.84619687e-17 -1.79883604e-17]\n",
            "   [-4.28354178e-03  4.78181725e-02  7.25741700e-01 -8.03598465e-17\n",
            "    -4.94202601e-17  1.36326286e-01]\n",
            "   [ 1.24556927e-17  1.92147401e-16  1.87393637e-16  1.12068906e-17\n",
            "     7.58596288e-03  2.56073043e-16]]\n",
            "\n",
            "  [[ 6.40512562e-03  2.03747148e-02  1.41651559e-02  2.30151495e-17\n",
            "     2.23658258e-17  4.81053325e-03]\n",
            "   [ 1.65509332e-02  2.11790621e-02 -5.09591903e-02  1.76723788e-16\n",
            "     6.37037805e-17 -6.06860239e-02]\n",
            "   [ 2.07171914e-03  6.86961222e-02  1.24533083e-01 -6.70018274e-18\n",
            "    -1.11207983e-16  1.22969373e-01]\n",
            "   [ 3.12722808e-17  2.67680061e-16  3.31836059e-16  7.58596288e-03\n",
            "     2.09625588e-17  2.69928866e-16]\n",
            "   [ 1.65754135e-17  2.00113038e-16  2.04769599e-16  6.09717868e-18\n",
            "     7.58596288e-03  2.79307188e-16]\n",
            "   [-1.59999430e-02 -9.90962252e-02  5.81960146e-01  1.23649318e-16\n",
            "    -1.56860830e-16 -4.47663569e-02]]]\n",
            "\n",
            "\n",
            " [[[-3.65835005e-16  2.10491684e-16 -2.69566010e-16  1.11539591e+00\n",
            "    -1.05859960e-16  7.40938382e-16]\n",
            "   [ 4.40248971e-17 -2.38565260e-17  6.20795061e-19 -1.22985373e-02\n",
            "     1.11599096e-18 -1.28396190e-17]\n",
            "   [-8.55010475e-19 -2.81641809e-17  5.32905435e-18 -4.28354178e-03\n",
            "    -3.41254048e-19  3.23554140e-17]\n",
            "   [ 2.58536922e-02  3.38081759e-02  1.12083197e-02  4.40285964e-17\n",
            "     1.53691668e-17 -1.03687761e-02]\n",
            "   [-3.87645698e-18 -4.46829200e-18 -6.60245373e-19 -5.82664308e-18\n",
            "     2.69140124e-17  5.62676331e-19]\n",
            "   [ 2.09321206e-17  5.49669724e-17  2.21971539e-17  4.10551212e-03\n",
            "     1.52859807e-18  1.33148163e-17]]\n",
            "\n",
            "  [[ 4.41676214e-17 -2.36315704e-17  4.42400878e-19 -1.22985373e-02\n",
            "     9.68503347e-19 -1.22187907e-17]\n",
            "   [-4.31985846e-17 -7.82938041e-17 -1.32395730e-16  7.77829097e-01\n",
            "    -6.61608666e-17  3.04663837e-16]\n",
            "   [-2.58873841e-17 -3.72778967e-17 -6.58700016e-17  4.78181725e-02\n",
            "    -1.07940690e-17  2.82125197e-16]\n",
            "   [ 3.38081759e-02  1.56942623e-01  4.03035161e-02  3.10080135e-16\n",
            "     5.94514450e-17 -4.16508161e-02]\n",
            "   [-4.94102042e-18 -1.46322860e-17 -2.48203208e-18  1.73141139e-16\n",
            "     9.04010130e-17  4.78891706e-18]\n",
            "   [ 4.43464845e-17  5.99533302e-17  1.70560954e-16 -1.21924948e-01\n",
            "     3.57385233e-17 -1.73402089e-16]]\n",
            "\n",
            "  [[-1.65881702e-18 -2.91874375e-17  5.71283811e-18 -4.28354178e-03\n",
            "    -1.57724458e-19  3.22731947e-17]\n",
            "   [-2.69649267e-17 -3.04455484e-17 -6.63939440e-17  4.78181725e-02\n",
            "    -6.34759721e-18  2.79383013e-16]\n",
            "   [-3.33755435e-17 -5.23183276e-17 -7.43571479e-17  7.25741700e-01\n",
            "    -6.44700841e-17  3.34716680e-16]\n",
            "   [ 1.12083197e-02  4.03035161e-02  5.15571898e-02 -1.11099588e-16\n",
            "     1.65767461e-17  7.58596288e-03]\n",
            "   [-1.54914200e-18 -8.35416868e-18 -2.92901762e-18  6.36929605e-17\n",
            "     4.75837722e-17 -1.26477460e-17]\n",
            "   [ 3.38848381e-17  2.78299927e-16 -2.83401887e-17  1.36326286e-01\n",
            "    -1.13736129e-17  2.63626760e-16]]\n",
            "\n",
            "  [[ 2.58536922e-02  3.38081759e-02  1.12083197e-02  4.40162068e-17\n",
            "     1.53798983e-17 -1.03687761e-02]\n",
            "   [ 3.38081759e-02  1.56942623e-01  4.03035161e-02  3.11989963e-16\n",
            "     5.85085835e-17 -4.16508161e-02]\n",
            "   [ 1.12083197e-02  4.03035161e-02  5.15571898e-02 -1.19812484e-16\n",
            "     1.83582350e-17  7.58596288e-03]\n",
            "   [ 4.40540378e-17  3.15659036e-16 -1.28177894e-16  8.80159093e-01\n",
            "    -3.41996522e-17  3.97632033e-16]\n",
            "   [ 1.53512048e-17  6.05537322e-17  1.10513759e-17 -4.92700981e-17\n",
            "     4.74444451e-02  4.44134462e-17]\n",
            "   [-1.03687761e-02 -4.16508161e-02  7.58596288e-03  4.01375650e-16\n",
            "     4.30868913e-17  2.41407920e-02]]\n",
            "\n",
            "  [[-3.09224569e-18 -2.62592452e-18 -9.81742991e-19 -5.69221323e-18\n",
            "     2.70018311e-17  7.18386121e-20]\n",
            "   [-3.37336721e-18 -1.71475858e-17 -1.00047578e-18  1.71141055e-16\n",
            "     8.86622588e-17  2.36315447e-18]\n",
            "   [-9.56250290e-19 -6.62074477e-18 -5.19967596e-18 -7.85951633e-18\n",
            "     5.17779745e-17 -1.69050529e-17]\n",
            "   [ 1.53544756e-17  6.02775010e-17  1.13449915e-17 -6.16852375e-17\n",
            "     4.74444451e-02  4.37881682e-17]\n",
            "   [-1.05351083e-17  1.06752554e-16 -8.40285282e-17  7.85270203e-01\n",
            "    -1.36641566e-16  4.22696585e-16]\n",
            "   [ 7.43132604e-19  8.11838196e-18  3.05465495e-20  5.03365487e-16\n",
            "     5.08257215e-17 -6.55867142e-18]]\n",
            "\n",
            "  [[ 2.02000695e-17  5.43084887e-17  2.32548096e-17  4.10551212e-03\n",
            "     1.21946188e-18  1.10006717e-17]\n",
            "   [ 4.30301653e-17  5.60500316e-17  1.74948984e-16 -1.21924948e-01\n",
            "     1.34288355e-17 -1.57255197e-16]\n",
            "   [ 3.31854753e-17  2.85265835e-16 -3.14262409e-17  1.36326286e-01\n",
            "     6.88917501e-18  2.51204718e-16]\n",
            "   [-1.03687761e-02 -4.16508161e-02  7.58596288e-03  4.10095043e-16\n",
            "     4.15729894e-17  2.41407920e-02]\n",
            "   [ 1.61883569e-18  5.25278745e-18 -5.99694063e-18  4.95051025e-16\n",
            "     6.89743485e-17 -1.86011413e-17]\n",
            "   [-4.25374031e-17 -2.70264267e-16  1.25441975e-16  5.54511357e-01\n",
            "    -3.74677208e-17 -8.03844460e-17]]]\n",
            "\n",
            "\n",
            " [[[-2.19704982e-16  3.09056894e-16 -1.89780892e-16 -1.04501372e-16\n",
            "     1.11539591e+00  7.39112698e-16]\n",
            "   [ 3.41870026e-17 -6.64977829e-18  1.25348476e-17  2.25914281e-18\n",
            "    -1.22985373e-02 -2.49687061e-17]\n",
            "   [-4.07363681e-18 -1.71252196e-17  3.55074659e-18  7.14364595e-19\n",
            "    -4.28354178e-03  7.76988673e-18]\n",
            "   [-2.74203183e-18 -1.47548336e-18 -5.91972031e-19  1.53735085e-17\n",
            "    -1.05710972e-17  1.58819529e-18]\n",
            "   [ 2.58536922e-02  3.38081759e-02  1.12083197e-02  2.69994945e-17\n",
            "     2.48984443e-17 -1.03687761e-02]\n",
            "   [ 1.08981580e-17  3.95096532e-17  1.54727404e-17 -5.80995696e-19\n",
            "     4.10551212e-03  1.16495824e-17]]\n",
            "\n",
            "  [[ 3.42519961e-17 -6.52928716e-18  1.19646391e-17  2.02354097e-18\n",
            "    -1.22985373e-02 -2.01541330e-17]\n",
            "   [-4.12995017e-18  1.50683420e-16 -9.45720860e-17 -7.68096305e-17\n",
            "     7.77829097e-01  4.02156198e-16]\n",
            "   [-2.06549188e-17 -3.38255605e-19 -2.57544368e-17 -7.97677342e-18\n",
            "     4.78181725e-02  2.07603952e-16]\n",
            "   [-2.24567769e-18 -1.82971850e-17 -5.15629678e-18  5.91073451e-17\n",
            "     1.08074872e-16  5.33560708e-18]\n",
            "   [ 3.38081759e-02  1.56942623e-01  4.03035161e-02  9.43041433e-17\n",
            "     3.24130776e-16 -4.16508161e-02]\n",
            "   [ 3.82527052e-17  1.38690517e-16  9.84877664e-17  3.19255304e-17\n",
            "    -1.21924948e-01 -2.90796838e-16]]\n",
            "\n",
            "  [[-3.60372662e-18 -1.29464321e-17  2.09309556e-18  1.00383831e-18\n",
            "    -4.28354178e-03  7.57237067e-18]\n",
            "   [-1.79977232e-17 -3.69544032e-18 -4.37740588e-17 -6.24004635e-19\n",
            "     4.78181725e-02  2.09953841e-16]\n",
            "   [-1.41495088e-17  1.18698899e-16 -1.15941479e-16 -7.74857505e-17\n",
            "     7.25741700e-01  2.70636807e-16]\n",
            "   [-1.42852240e-18 -4.84943388e-18  2.64067177e-18  1.65798297e-17\n",
            "    -7.40731005e-17 -3.77980198e-18]\n",
            "   [ 1.12083197e-02  4.03035161e-02  5.15571898e-02  2.88738965e-17\n",
            "    -4.23312556e-17  7.58596288e-03]\n",
            "   [ 1.44542628e-17  1.57681430e-16 -5.47766973e-17 -3.11896159e-17\n",
            "     1.36326286e-01  2.63254292e-16]]\n",
            "\n",
            "  [[-2.25026444e-18 -4.36721169e-18 -1.56339306e-18  1.53686470e-17\n",
            "    -1.05215610e-17  1.90525446e-18]\n",
            "   [-3.02684432e-18 -1.65909972e-17 -4.91966021e-18  5.87614346e-17\n",
            "     1.05744371e-16  4.76184503e-18]\n",
            "   [-9.87684619e-19 -5.46859527e-18  3.14018035e-18  1.76980370e-17\n",
            "    -8.48801255e-17 -5.64586011e-18]\n",
            "   [-5.30122617e-18  1.70879884e-16  1.29163199e-17 -5.95699830e-17\n",
            "     7.85270203e-01  4.16943434e-16]\n",
            "   [ 2.69958595e-17  9.27744350e-17  3.38101892e-17  4.74444451e-02\n",
            "    -1.22384996e-16  5.57911759e-17]\n",
            "   [ 9.67319470e-19  4.47117542e-18  3.48242712e-18  4.35834051e-17\n",
            "     4.23184547e-16 -1.50651526e-17]]\n",
            "\n",
            "  [[ 2.58536922e-02  3.38081759e-02  1.12083197e-02  2.70726073e-17\n",
            "     2.52179417e-17 -1.03687761e-02]\n",
            "   [ 3.38081759e-02  1.56942623e-01  4.03035161e-02  9.28688188e-17\n",
            "     2.97847671e-16 -4.16508161e-02]\n",
            "   [ 1.12083197e-02  4.03035161e-02  5.15571898e-02  3.22937696e-17\n",
            "     1.24071124e-17  7.58596288e-03]\n",
            "   [ 2.69950886e-17  9.29072882e-17  3.22911728e-17  4.74444451e-02\n",
            "    -1.42897061e-16  5.59050822e-17]\n",
            "   [ 2.52370559e-17  2.92528707e-16  1.63951052e-17 -1.32018408e-16\n",
            "     8.80159093e-01  5.74214193e-16]\n",
            "   [-1.03687761e-02 -4.16508161e-02  7.58596288e-03  3.47833347e-17\n",
            "     5.46663481e-16  2.41407920e-02]]\n",
            "\n",
            "  [[ 1.28648346e-17  3.70842622e-17  2.10660537e-17 -1.34126797e-18\n",
            "     4.10551212e-03  9.65891700e-18]\n",
            "   [ 3.92285199e-17  1.08008932e-16  1.56389801e-16  2.17534581e-18\n",
            "    -1.21924948e-01 -2.42295014e-16]\n",
            "   [ 1.26018573e-17  1.52925229e-16 -7.33346585e-17 -1.79181070e-17\n",
            "     1.36326286e-01  2.36147637e-16]\n",
            "   [ 1.82977414e-18  4.53576220e-18  3.45876664e-18  4.50727228e-17\n",
            "     4.44400843e-16 -1.99211711e-17]\n",
            "   [-1.03687761e-02 -4.16508161e-02  7.58596288e-03  4.90640782e-17\n",
            "     6.88507040e-16  2.41407920e-02]\n",
            "   [-2.81167756e-17 -4.49252830e-17 -1.41753582e-16 -3.90068436e-17\n",
            "     5.54511357e-01 -1.06753763e-16]]]\n",
            "\n",
            "\n",
            " [[[ 1.59790984e-01 -2.42118626e-01  2.65843254e-01  7.37657419e-16\n",
            "     6.82743456e-16  7.34481338e-01]\n",
            "   [-2.66865302e-02  4.54101197e-03 -5.34487452e-03 -1.39917803e-17\n",
            "    -1.01087363e-17 -5.21692816e-03]\n",
            "   [ 6.40512562e-03  1.65509332e-02  2.07171914e-03  3.18526534e-17\n",
            "     1.23797644e-17 -1.59999430e-02]\n",
            "   [ 1.97901121e-17  4.35981823e-17  3.34766742e-17 -1.03687761e-02\n",
            "     6.60550485e-19 -4.11237279e-17]\n",
            "   [ 1.35762279e-17  3.89604873e-17  1.54923020e-17  1.89713495e-19\n",
            "    -1.03687761e-02 -3.00838873e-17]\n",
            "   [ 2.11708054e-02  8.74204002e-03  4.81053325e-03  1.23827910e-17\n",
            "     1.06202476e-17 -8.28037465e-03]]\n",
            "\n",
            "  [[-2.66865302e-02  4.54101197e-03 -5.34487452e-03 -8.85022115e-18\n",
            "    -9.61176278e-18 -5.21692816e-03]\n",
            "   [-2.69295995e-03 -1.20862414e-01  1.01782960e-01  3.07759460e-16\n",
            "     4.28796633e-16  6.12883783e-01]\n",
            "   [ 2.03747148e-02  2.11790621e-02  6.86961222e-02  2.87471608e-16\n",
            "     2.29669966e-16 -9.90962252e-02]\n",
            "   [ 5.36672200e-17  6.23181615e-17  2.81968090e-16 -4.16508161e-02\n",
            "     3.60088361e-18 -2.61279774e-16]\n",
            "   [ 3.54045546e-17  9.12436889e-17  1.42511515e-16  4.50048945e-18\n",
            "    -4.16508161e-02 -6.32904645e-17]\n",
            "   [ 8.74204002e-03  8.19731113e-02 -6.06860239e-02 -1.72010954e-16\n",
            "    -2.99564728e-16 -1.95498046e-02]]\n",
            "\n",
            "  [[ 6.40512562e-03  1.65509332e-02  2.07171914e-03  3.31113601e-17\n",
            "     1.15747741e-17 -1.59999430e-02]\n",
            "   [ 2.03747148e-02  2.11790621e-02  6.86961222e-02  2.82796869e-16\n",
            "     2.37982109e-16 -9.90962252e-02]\n",
            "   [ 1.41651559e-02 -5.09591903e-02  1.24533083e-01  3.35326844e-16\n",
            "     2.49023078e-16  5.81960146e-01]\n",
            "   [ 2.47416941e-17  1.76922409e-16 -2.16041809e-17  7.58596288e-03\n",
            "    -1.68744353e-18  1.54396155e-16]\n",
            "   [ 2.05177843e-17  1.53096018e-16 -7.13270575e-17 -1.49869156e-17\n",
            "     7.58596288e-03 -1.17889248e-17]\n",
            "   [ 4.81053325e-03 -6.06860239e-02  1.22969373e-01  2.69800295e-16\n",
            "     2.43965236e-16 -4.47663569e-02]]\n",
            "\n",
            "  [[ 2.02664566e-17  4.33296833e-17  3.32114051e-17 -1.03687761e-02\n",
            "     5.01731838e-19 -4.09428936e-17]\n",
            "   [ 5.42849137e-17  5.65268625e-17  2.85169840e-16 -4.16508161e-02\n",
            "    -4.34519000e-19 -2.70951840e-16]\n",
            "   [ 2.57324489e-17  1.80080222e-16 -2.43581653e-17  7.58596288e-03\n",
            "    -4.67188012e-18  1.43553537e-16]\n",
            "   [ 4.10551212e-03 -1.21924948e-01  1.36326286e-01  3.83754245e-16\n",
            "     4.19973810e-16  5.54511357e-01]\n",
            "   [-1.68111541e-19  3.04769035e-18 -1.88777259e-17  5.13523401e-17\n",
            "     5.27469788e-17 -5.91403613e-17]\n",
            "   [ 7.38389706e-18 -1.74958908e-16  2.63187895e-16  2.41407920e-02\n",
            "    -2.94371180e-18 -6.58339970e-17]]\n",
            "\n",
            "  [[ 1.51087014e-17  3.68196476e-17  1.22376820e-17  7.32212858e-19\n",
            "    -1.03687761e-02 -2.04928998e-17]\n",
            "   [ 3.61592207e-17  9.11790364e-17  1.57902735e-16  4.38608782e-18\n",
            "    -4.16508161e-02 -3.88409787e-17]\n",
            "   [ 2.15286695e-17  1.51918357e-16 -6.62253345e-17 -1.96557771e-17\n",
            "     7.58596288e-03 -3.97075219e-17]\n",
            "   [-1.62168486e-19  1.88961530e-18 -1.99174187e-17  5.08511875e-17\n",
            "     5.33047832e-17 -5.23770127e-17]\n",
            "   [ 4.10551212e-03 -1.21924948e-01  1.36326286e-01  4.28790755e-16\n",
            "     5.41723018e-16  5.54511357e-01]\n",
            "   [ 2.66633602e-18 -1.76881669e-16  2.95326400e-16 -1.41473119e-17\n",
            "     2.41407920e-02 -1.07922683e-16]]\n",
            "\n",
            "  [[ 2.11708054e-02  8.74204002e-03  4.81053325e-03  8.88173930e-18\n",
            "     1.39788855e-17 -8.28037465e-03]\n",
            "   [ 8.74204002e-03  8.19731113e-02 -6.06860239e-02 -1.55103528e-16\n",
            "    -2.27226651e-16 -1.95498046e-02]\n",
            "   [ 4.81053325e-03 -6.06860239e-02  1.22969373e-01  2.50973691e-16\n",
            "     1.97909805e-16 -4.47663569e-02]\n",
            "   [ 1.00896035e-17 -1.58981695e-16  2.64141691e-16  2.41407920e-02\n",
            "    -1.06663355e-17 -5.83755334e-17]\n",
            "   [ 7.84959524e-18 -1.69577433e-16  3.12752136e-16 -3.00155893e-17\n",
            "     2.41407920e-02 -1.10476992e-16]\n",
            "   [-8.28037465e-03 -1.95498046e-02 -4.47663569e-02 -8.00609852e-17\n",
            "    -1.70853080e-16  7.04304126e-01]]]]\n"
          ]
        }
      ],
      "source": [
        "hamiltonian = qmolecule.hamiltonian\n",
        "coefficients = hamiltonian.electronic_integrals\n",
        "print(coefficients.alpha)\n",
        "second_q_op = hamiltonian.second_q_op()"
      ]
    },
    {
      "cell_type": "code",
      "execution_count": 7,
      "metadata": {
        "id": "zLhtOziW8xCC"
      },
      "outputs": [
        {
          "name": "stderr",
          "output_type": "stream",
          "text": [
            "/tmp/ipykernel_3361524/561404713.py:2: DeprecationWarning: The QubitConverter class is deprecated as of version 0.6.0 and will be removed no sooner than 3 months after the release . Instead you should directly use the QubitMapper instance which you used to pass into the QubitConverter as the first argument. Refer to the documentation of the qiskit_nature.second_q.mappers module for more information.\n",
            "  converter = QubitConverter(mapper=mapper, two_qubit_reduction=False)\n",
            "/common/home/zl606/.conda/envs/qiskit43/lib/python3.11/site-packages/qiskit_nature/deprecation.py:297: PauliSumOpDeprecationWarning: PauliSumOp is deprecated as of version 0.6.0 and support for them will be removed no sooner than 3 months after the release. Instead, use SparsePauliOp. You can switch to SparsePauliOp immediately, by setting `qiskit_nature.settings.use_pauli_sum_op` to `False`.\n",
            "  return func(*args, **kwargs)\n"
          ]
        }
      ],
      "source": [
        "mapper = JordanWignerMapper()\n",
        "converter = QubitConverter(mapper=mapper, two_qubit_reduction=False)\n",
        "qubit_op = converter.convert(second_q_op)"
      ]
    },
    {
      "cell_type": "markdown",
      "metadata": {
        "id": "rAQ3oSvbKFIU"
      },
      "source": [
        "We recommend to use classical minimum eigensolver to obtain a reference energy at this step. In case some of the classical minimum eigensolver donot directly gives nuclear repulsion energy, we give reference energies below: *Comupted Energy*: -78.75252123, *Nuclear Repulsion_energy*: 4.36537496654537. *Obtained Reference Ground State Energy*: -74.38714627."
      ]
    },
    {
      "cell_type": "code",
      "execution_count": 8,
      "metadata": {
        "id": "gZQaJ8T441s7"
      },
      "outputs": [],
      "source": [
        "from qiskit.algorithms.minimum_eigensolvers import NumPyMinimumEigensolver\n",
        "from qiskit_nature.second_q.algorithms import GroundStateEigensolver\n",
        "\n",
        "solver = GroundStateEigensolver(\n",
        "    JordanWignerMapper(),\n",
        "    NumPyMinimumEigensolver(),\n",
        ")"
      ]
    },
    {
      "cell_type": "code",
      "execution_count": 9,
      "metadata": {
        "colab": {
          "base_uri": "https://localhost:8080/"
        },
        "id": "CzsPX9Fg42zY",
        "outputId": "57ff628a-9fb8-479d-af26-fb644d807202"
      },
      "outputs": [
        {
          "name": "stdout",
          "output_type": "stream",
          "text": [
            "[-78.75252123]\n"
          ]
        }
      ],
      "source": [
        "result = solver.solve(qmolecule)\n",
        "print(result.computed_energies)"
      ]
    },
    {
      "cell_type": "code",
      "execution_count": 10,
      "metadata": {
        "colab": {
          "base_uri": "https://localhost:8080/"
        },
        "id": "zP_A04usULdu",
        "outputId": "b09f2d22-4a51-4f60-a4f5-5d83b0b9477a"
      },
      "outputs": [
        {
          "name": "stdout",
          "output_type": "stream",
          "text": [
            "4.36537496654537\n"
          ]
        }
      ],
      "source": [
        "print(result.nuclear_repulsion_energy)"
      ]
    },
    {
      "cell_type": "code",
      "execution_count": 11,
      "metadata": {
        "colab": {
          "base_uri": "https://localhost:8080/"
        },
        "id": "CjUk5SkJUQkn",
        "outputId": "925ff152-1a4f-4cb0-f3f2-cbe3798562be"
      },
      "outputs": [
        {
          "name": "stdout",
          "output_type": "stream",
          "text": [
            "[-74.38714627]\n"
          ]
        }
      ],
      "source": [
        "ref_value = result.computed_energies + result.nuclear_repulsion_energy\n",
        "print(ref_value)"
      ]
    },
    {
      "cell_type": "markdown",
      "metadata": {
        "id": "7FoppB2vK3Pb"
      },
      "source": [
        "## Construct Ansatz"
      ]
    },
    {
      "cell_type": "markdown",
      "metadata": {
        "id": "FXhkX--4LLjy"
      },
      "source": [
        "At this stage, you can implement various techniques to search good ansatz architecture which is important for variational quantum algorihms. Moreover, how to obtain a good initial state is a good topic to do research, we require participant to self-reflection there techniques (include the techniques for preprocessing ansatz or initial states) with maximum 10 points, and submit a short description for used techniques, we will have three graders to evaluate the techniques."
      ]
    },
    {
      "cell_type": "code",
      "execution_count": 12,
      "metadata": {
        "id": "TR3cvipPWCQ5"
      },
      "outputs": [],
      "source": [
        "ansatz = UCCSD(\n",
        "    qmolecule.num_spatial_orbitals,\n",
        "    qmolecule.num_particles,\n",
        "    mapper,\n",
        "    initial_state=HartreeFock(\n",
        "        qmolecule.num_spatial_orbitals,\n",
        "        qmolecule.num_particles,\n",
        "        mapper,\n",
        "    ),\n",
        ")\n"
      ]
    },
    {
      "cell_type": "code",
      "execution_count": 13,
      "metadata": {
        "id": "HAepMEuOyygR"
      },
      "outputs": [],
      "source": [
        "from qiskit_nature.second_q.algorithms import GroundStateEigensolver"
      ]
    },
    {
      "cell_type": "code",
      "execution_count": 14,
      "metadata": {
        "id": "vzVDjGNVfWA8"
      },
      "outputs": [],
      "source": [
        "estimator = Estimator(\n",
        "    backend_options = {\n",
        "        'method': 'statevector',\n",
        "        'device': 'CPU'\n",
        "        # 'noise_model': noise_model\n",
        "    },\n",
        "    run_options = {\n",
        "        'shots': shot,\n",
        "        'seed': seeds,\n",
        "    },\n",
        "    transpile_options = {\n",
        "        'seed_transpiler':seed_transpiler\n",
        "    }\n",
        ")"
      ]
    },
    {
      "cell_type": "code",
      "execution_count": 15,
      "metadata": {
        "id": "37uQ745tydW3"
      },
      "outputs": [],
      "source": [
        "vqe_solver = VQE(estimator, ansatz, SLSQP())\n",
        "vqe_solver.initial_point = [0.0] * ansatz.num_parameters"
      ]
    },
    {
      "cell_type": "code",
      "execution_count": 16,
      "metadata": {
        "colab": {
          "base_uri": "https://localhost:8080/"
        },
        "id": "HiJ4ojaDy38R",
        "outputId": "5cdb012c-8e39-4112-9605-ae60821e7ca2"
      },
      "outputs": [
        {
          "name": "stdout",
          "output_type": "stream",
          "text": [
            "=== GROUND STATE ENERGY ===\n",
            " \n",
            "* Electronic ground state energy (Hartree): -78.273598019274\n",
            "  - computed part:      -78.273598019274\n",
            "~ Nuclear repulsion energy (Hartree): 4.365374966545\n",
            "> Total ground state energy (Hartree): -73.908223052728\n",
            " \n",
            "=== MEASURED OBSERVABLES ===\n",
            " \n",
            "  0:  # Particles: 8.000 S: 0.018 S^2: 0.019 M: 0.000\n",
            " \n",
            "=== DIPOLE MOMENTS ===\n",
            " \n",
            "~ Nuclear dipole moment (a.u.): [0.85037676  -0.28818323  -1.59757447]\n",
            " \n",
            "  0: \n",
            "  * Electronic dipole moment (a.u.): [0.375523354243  -0.144500827011  -0.703084279131]\n",
            "    - computed part:      [0.375523354243  -0.144500827011  -0.703084279131]\n",
            "  > Dipole moment (a.u.): [0.474853405757  -0.143682402989  -0.894490190869]  Total: 1.022860250205\n",
            "                 (debye): [1.206956854386  -0.365204206266  -2.273567071358]  Total: 2.599851185854\n",
            " \n"
          ]
        }
      ],
      "source": [
        "start_time = time.time()\n",
        "calc = GroundStateEigensolver(mapper, vqe_solver)\n",
        "res = calc.solve(qmolecule)\n",
        "end_time = time.time()\n",
        "print(res)"
      ]
    },
    {
      "cell_type": "markdown",
      "metadata": {
        "id": "vNP5HcDxlq-d"
      },
      "source": [
        "## Calculate the Accuracy (Most Important Metric)"
      ]
    },
    {
      "cell_type": "code",
      "execution_count": 17,
      "metadata": {
        "colab": {
          "base_uri": "https://localhost:8080/"
        },
        "id": "qbP7CkZxlh8X",
        "outputId": "0d85b95a-4eba-4830-e98c-283a86f9f683"
      },
      "outputs": [
        {
          "name": "stdout",
          "output_type": "stream",
          "text": [
            "Error rate: 0.643825%\n"
          ]
        }
      ],
      "source": [
        "result = res.computed_energies + res.nuclear_repulsion_energy\n",
        "error_rate = abs(abs(ref_value - result) / ref_value * 100)\n",
        "print(\"Error rate: %f%%\" % (error_rate))"
      ]
    },
    {
      "cell_type": "code",
      "execution_count": 30,
      "metadata": {},
      "outputs": [],
      "source": [
        "from arch import load_coupling_map\n",
        "from time import time as ctime\n",
        "from utils.parallel_bl import gate_count_oriented_scheduling\n",
        "from utils.synthesis_broccoli import synthesis\n",
        "from qiskit import QuantumCircuit, transpile\n",
        "\n",
        "def Tetris_Montreal(parr, use_bridge=False):\n",
        "    print('Tetris passes, Our schedule, Our synthesis, montreal', flush=True)\n",
        "    lnq = len(parr[0][0]) # lnq: number of qubits\n",
        "    length = lnq // 2 # `length' is a hyperparameter, and can be adjusted for best performance. Here we keep `length' fixed for simplicity.\n",
        "    coup = load_coupling_map('montreal')\n",
        "    t0 = ctime()\n",
        "    a2 = gate_count_oriented_scheduling(parr) # parr is the pauli_block list\n",
        "    # a2 = [[block] for block in parr]\n",
        "    qc, metrics = synthesis(a2, arch='montreal', use_bridge=use_bridge)\n",
        "    pnq = qc.num_qubits\n",
        "    print(pnq)\n",
        "    print('Tetris, Time costed:', ctime()-t0, flush=True)\n",
        "    t0 = ctime()\n",
        "    qc2 = transpile(qc, basis_gates=['u3', 'cx'], coupling_map=coup, initial_layout=list(range(pnq)), optimization_level=3)\n",
        "    print('Qiskit L3, Time costed:', ctime()-t0, flush=True)\n",
        "    return qc2\n"
      ]
    },
    {
      "cell_type": "code",
      "execution_count": 31,
      "metadata": {},
      "outputs": [
        {
          "name": "stdout",
          "output_type": "stream",
          "text": [
            "Tetris passes, Our schedule, Our synthesis, montreal\n",
            "92\n",
            "[92, 92, 92, 92, 92, 92, 92, 92, 92, 92, 92, 92]\n",
            "27\n",
            "Tetris, Time costed: 0.238206148147583\n",
            "Qiskit L3, Time costed: 14.940710544586182\n"
          ]
        }
      ],
      "source": [
        "import ast\n",
        "from benchmark.mypauli import pauliString\n",
        "\n",
        "pauli_blocks = []\n",
        "for pauli_list in ansatz._operators: # load all pauli blocks to a list\n",
        "    block = ast.literal_eval(pauli_list._primitive._pauli_list.__str__())\n",
        "    block = [pauliString(ps) for ps in block]\n",
        "    pauli_blocks.append(block)\n",
        "\n",
        "new_ansatz = Tetris_Montreal(pauli_blocks, use_bridge=False)"
      ]
    },
    {
      "cell_type": "code",
      "execution_count": 40,
      "metadata": {},
      "outputs": [
        {
          "name": "stdout",
          "output_type": "stream",
          "text": [
            "640\n"
          ]
        }
      ],
      "source": [
        "cnt = 0\n",
        "for block in pauli_blocks:\n",
        "    for ps in block:\n",
        "        cnt = cnt + 1\n",
        "print(cnt)"
      ]
    },
    {
      "cell_type": "markdown",
      "metadata": {
        "id": "hw8SxNyclYyT"
      },
      "source": [
        "## Obtain the Duration of Quantum Circuit"
      ]
    },
    {
      "cell_type": "code",
      "execution_count": 32,
      "metadata": {
        "id": "3TBtAF24iuFD"
      },
      "outputs": [],
      "source": [
        "from qiskit.providers.fake_provider import *\n",
        "backend = FakeMontreal()"
      ]
    },
    {
      "cell_type": "code",
      "execution_count": 37,
      "metadata": {
        "id": "_julUiabi5iI"
      },
      "outputs": [],
      "source": [
        "with pulse.build(backend) as my_program1:\n",
        "  pulse.call(ansatz)"
      ]
    },
    {
      "cell_type": "code",
      "execution_count": 38,
      "metadata": {
        "colab": {
          "base_uri": "https://localhost:8080/"
        },
        "id": "E3jGzVpNkT00",
        "outputId": "01595668-7f90-44de-d2b5-cbac21f44497"
      },
      "outputs": [
        {
          "data": {
            "text/plain": [
              "19696160"
            ]
          },
          "execution_count": 38,
          "metadata": {},
          "output_type": "execute_result"
        }
      ],
      "source": [
        "my_program1.duration "
      ]
    }
  ],
  "metadata": {
    "colab": {
      "provenance": []
    },
    "kernelspec": {
      "display_name": "Python 3 (ipykernel)",
      "language": "python",
      "name": "python3"
    },
    "language_info": {
      "codemirror_mode": {
        "name": "ipython",
        "version": 3
      },
      "file_extension": ".py",
      "mimetype": "text/x-python",
      "name": "python",
      "nbconvert_exporter": "python",
      "pygments_lexer": "ipython3",
      "version": "3.11.4"
    }
  },
  "nbformat": 4,
  "nbformat_minor": 0
}
