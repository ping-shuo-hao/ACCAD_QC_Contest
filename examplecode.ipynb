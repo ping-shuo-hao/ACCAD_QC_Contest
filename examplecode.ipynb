{
  "cells": [
    {
      "cell_type": "markdown",
      "metadata": {
        "id": "gj3jZbCBSn71"
      },
      "source": [
        "# Example Code for Estimating the Ground State Energy of Hydroxyl (·OH)"
      ]
    },
    {
      "cell_type": "markdown",
      "metadata": {
        "id": "54NH9S1vHrq8"
      },
      "source": [
        "## Basic Installation"
      ]
    },
    {
      "cell_type": "markdown",
      "metadata": {
        "id": "R0OZ3HZZS9Me"
      },
      "source": [
        "Install required package, we highly recommend participant to use qiskit platform, or at least participants can finish preprocessing at other platform and transfer the circuit to qiskit format, since our noise model is from IBM real machine backend and we restricted some algorithmic seeds which could be varied from different platform."
      ]
    },
    {
      "cell_type": "code",
      "execution_count": 1,
      "metadata": {
        "colab": {
          "base_uri": "https://localhost:8080/"
        },
        "id": "Pi-oJxidjBSw",
        "outputId": "d23754fa-04a2-4afc-fce2-cc4d90db62d4"
      },
      "outputs": [
        {
          "name": "stdout",
          "output_type": "stream",
          "text": [
            "Requirement already satisfied: qiskit in /common/home/zl606/.conda/envs/qiskit43/lib/python3.11/site-packages (0.43.2)\n",
            "Requirement already satisfied: qiskit-terra==0.24.1 in /common/home/zl606/.conda/envs/qiskit43/lib/python3.11/site-packages (from qiskit) (0.24.1)\n",
            "Requirement already satisfied: qiskit-aer==0.12.1 in /common/home/zl606/.conda/envs/qiskit43/lib/python3.11/site-packages (from qiskit) (0.12.1)\n",
            "Requirement already satisfied: qiskit-ibmq-provider==0.20.2 in /common/home/zl606/.conda/envs/qiskit43/lib/python3.11/site-packages (from qiskit) (0.20.2)\n",
            "Requirement already satisfied: numpy>=1.16.3 in /common/home/zl606/.conda/envs/qiskit43/lib/python3.11/site-packages (from qiskit-aer==0.12.1->qiskit) (1.23.5)\n",
            "Requirement already satisfied: scipy>=1.0 in /common/home/zl606/.conda/envs/qiskit43/lib/python3.11/site-packages (from qiskit-aer==0.12.1->qiskit) (1.11.1)\n",
            "Requirement already satisfied: requests>=2.19 in /common/home/zl606/.conda/envs/qiskit43/lib/python3.11/site-packages (from qiskit-ibmq-provider==0.20.2->qiskit) (2.31.0)\n",
            "Requirement already satisfied: requests-ntlm<=1.1.0 in /common/home/zl606/.conda/envs/qiskit43/lib/python3.11/site-packages (from qiskit-ibmq-provider==0.20.2->qiskit) (1.1.0)\n",
            "Requirement already satisfied: urllib3>=1.21.1 in /common/home/zl606/.conda/envs/qiskit43/lib/python3.11/site-packages (from qiskit-ibmq-provider==0.20.2->qiskit) (2.0.3)\n",
            "Requirement already satisfied: python-dateutil>=2.8.0 in /common/home/zl606/.conda/envs/qiskit43/lib/python3.11/site-packages (from qiskit-ibmq-provider==0.20.2->qiskit) (2.8.2)\n",
            "Requirement already satisfied: websocket-client>=1.5.1 in /common/home/zl606/.conda/envs/qiskit43/lib/python3.11/site-packages (from qiskit-ibmq-provider==0.20.2->qiskit) (1.6.1)\n",
            "Requirement already satisfied: websockets>=10.0 in /common/home/zl606/.conda/envs/qiskit43/lib/python3.11/site-packages (from qiskit-ibmq-provider==0.20.2->qiskit) (11.0.3)\n",
            "Requirement already satisfied: rustworkx>=0.12.0 in /common/home/zl606/.conda/envs/qiskit43/lib/python3.11/site-packages (from qiskit-terra==0.24.1->qiskit) (0.13.0)\n",
            "Requirement already satisfied: ply>=3.10 in /common/home/zl606/.conda/envs/qiskit43/lib/python3.11/site-packages (from qiskit-terra==0.24.1->qiskit) (3.11)\n",
            "Requirement already satisfied: psutil>=5 in /common/home/zl606/.conda/envs/qiskit43/lib/python3.11/site-packages (from qiskit-terra==0.24.1->qiskit) (5.9.0)\n",
            "Requirement already satisfied: sympy>=1.3 in /common/home/zl606/.conda/envs/qiskit43/lib/python3.11/site-packages (from qiskit-terra==0.24.1->qiskit) (1.12)\n",
            "Requirement already satisfied: dill>=0.3 in /common/home/zl606/.conda/envs/qiskit43/lib/python3.11/site-packages (from qiskit-terra==0.24.1->qiskit) (0.3.6)\n",
            "Requirement already satisfied: stevedore>=3.0.0 in /common/home/zl606/.conda/envs/qiskit43/lib/python3.11/site-packages (from qiskit-terra==0.24.1->qiskit) (5.1.0)\n",
            "Requirement already satisfied: symengine<0.10,>=0.9 in /common/home/zl606/.conda/envs/qiskit43/lib/python3.11/site-packages (from qiskit-terra==0.24.1->qiskit) (0.9.2)\n",
            "Requirement already satisfied: six>=1.5 in /common/home/zl606/.conda/envs/qiskit43/lib/python3.11/site-packages (from python-dateutil>=2.8.0->qiskit-ibmq-provider==0.20.2->qiskit) (1.16.0)\n",
            "Requirement already satisfied: charset-normalizer<4,>=2 in /common/home/zl606/.conda/envs/qiskit43/lib/python3.11/site-packages (from requests>=2.19->qiskit-ibmq-provider==0.20.2->qiskit) (3.2.0)\n",
            "Requirement already satisfied: idna<4,>=2.5 in /common/home/zl606/.conda/envs/qiskit43/lib/python3.11/site-packages (from requests>=2.19->qiskit-ibmq-provider==0.20.2->qiskit) (3.4)\n",
            "Requirement already satisfied: certifi>=2017.4.17 in /common/home/zl606/.conda/envs/qiskit43/lib/python3.11/site-packages (from requests>=2.19->qiskit-ibmq-provider==0.20.2->qiskit) (2023.5.7)\n",
            "Requirement already satisfied: ntlm-auth>=1.0.2 in /common/home/zl606/.conda/envs/qiskit43/lib/python3.11/site-packages (from requests-ntlm<=1.1.0->qiskit-ibmq-provider==0.20.2->qiskit) (1.5.0)\n",
            "Requirement already satisfied: cryptography>=1.3 in /common/home/zl606/.conda/envs/qiskit43/lib/python3.11/site-packages (from requests-ntlm<=1.1.0->qiskit-ibmq-provider==0.20.2->qiskit) (41.0.2)\n",
            "Requirement already satisfied: pbr!=2.1.0,>=2.0.0 in /common/home/zl606/.conda/envs/qiskit43/lib/python3.11/site-packages (from stevedore>=3.0.0->qiskit-terra==0.24.1->qiskit) (5.11.1)\n",
            "Requirement already satisfied: mpmath>=0.19 in /common/home/zl606/.conda/envs/qiskit43/lib/python3.11/site-packages (from sympy>=1.3->qiskit-terra==0.24.1->qiskit) (1.3.0)\n",
            "Requirement already satisfied: cffi>=1.12 in /common/home/zl606/.conda/envs/qiskit43/lib/python3.11/site-packages (from cryptography>=1.3->requests-ntlm<=1.1.0->qiskit-ibmq-provider==0.20.2->qiskit) (1.15.1)\n",
            "Requirement already satisfied: pycparser in /common/home/zl606/.conda/envs/qiskit43/lib/python3.11/site-packages (from cffi>=1.12->cryptography>=1.3->requests-ntlm<=1.1.0->qiskit-ibmq-provider==0.20.2->qiskit) (2.21)\n",
            "Requirement already satisfied: qiskit-nature[pyscf] in /common/home/zl606/.conda/envs/qiskit43/lib/python3.11/site-packages (0.6.2)\n",
            "Requirement already satisfied: qiskit-terra>=0.24 in /common/home/zl606/.conda/envs/qiskit43/lib/python3.11/site-packages (from qiskit-nature[pyscf]) (0.24.1)\n",
            "Requirement already satisfied: scipy>=1.4 in /common/home/zl606/.conda/envs/qiskit43/lib/python3.11/site-packages (from qiskit-nature[pyscf]) (1.11.1)\n",
            "Requirement already satisfied: numpy>=1.17 in /common/home/zl606/.conda/envs/qiskit43/lib/python3.11/site-packages (from qiskit-nature[pyscf]) (1.23.5)\n",
            "Requirement already satisfied: psutil>=5 in /common/home/zl606/.conda/envs/qiskit43/lib/python3.11/site-packages (from qiskit-nature[pyscf]) (5.9.0)\n",
            "Requirement already satisfied: scikit-learn>=0.20.0 in /common/home/zl606/.conda/envs/qiskit43/lib/python3.11/site-packages (from qiskit-nature[pyscf]) (1.3.0)\n",
            "Requirement already satisfied: setuptools>=40.1.0 in /common/home/zl606/.conda/envs/qiskit43/lib/python3.11/site-packages (from qiskit-nature[pyscf]) (67.8.0)\n",
            "Requirement already satisfied: typing-extensions in /common/home/zl606/.conda/envs/qiskit43/lib/python3.11/site-packages (from qiskit-nature[pyscf]) (4.7.1)\n",
            "Requirement already satisfied: h5py in /common/home/zl606/.conda/envs/qiskit43/lib/python3.11/site-packages (from qiskit-nature[pyscf]) (3.9.0)\n",
            "Requirement already satisfied: rustworkx in /common/home/zl606/.conda/envs/qiskit43/lib/python3.11/site-packages (from qiskit-nature[pyscf]) (0.13.0)\n",
            "Requirement already satisfied: pyscf in /common/home/zl606/.conda/envs/qiskit43/lib/python3.11/site-packages (from qiskit-nature[pyscf]) (2.3.0)\n",
            "Requirement already satisfied: ply>=3.10 in /common/home/zl606/.conda/envs/qiskit43/lib/python3.11/site-packages (from qiskit-terra>=0.24->qiskit-nature[pyscf]) (3.11)\n",
            "Requirement already satisfied: sympy>=1.3 in /common/home/zl606/.conda/envs/qiskit43/lib/python3.11/site-packages (from qiskit-terra>=0.24->qiskit-nature[pyscf]) (1.12)\n",
            "Requirement already satisfied: dill>=0.3 in /common/home/zl606/.conda/envs/qiskit43/lib/python3.11/site-packages (from qiskit-terra>=0.24->qiskit-nature[pyscf]) (0.3.6)\n",
            "Requirement already satisfied: python-dateutil>=2.8.0 in /common/home/zl606/.conda/envs/qiskit43/lib/python3.11/site-packages (from qiskit-terra>=0.24->qiskit-nature[pyscf]) (2.8.2)\n",
            "Requirement already satisfied: stevedore>=3.0.0 in /common/home/zl606/.conda/envs/qiskit43/lib/python3.11/site-packages (from qiskit-terra>=0.24->qiskit-nature[pyscf]) (5.1.0)\n",
            "Requirement already satisfied: symengine<0.10,>=0.9 in /common/home/zl606/.conda/envs/qiskit43/lib/python3.11/site-packages (from qiskit-terra>=0.24->qiskit-nature[pyscf]) (0.9.2)\n",
            "Requirement already satisfied: joblib>=1.1.1 in /common/home/zl606/.conda/envs/qiskit43/lib/python3.11/site-packages (from scikit-learn>=0.20.0->qiskit-nature[pyscf]) (1.3.1)\n",
            "Requirement already satisfied: threadpoolctl>=2.0.0 in /common/home/zl606/.conda/envs/qiskit43/lib/python3.11/site-packages (from scikit-learn>=0.20.0->qiskit-nature[pyscf]) (3.1.0)\n",
            "Requirement already satisfied: six>=1.5 in /common/home/zl606/.conda/envs/qiskit43/lib/python3.11/site-packages (from python-dateutil>=2.8.0->qiskit-terra>=0.24->qiskit-nature[pyscf]) (1.16.0)\n",
            "Requirement already satisfied: pbr!=2.1.0,>=2.0.0 in /common/home/zl606/.conda/envs/qiskit43/lib/python3.11/site-packages (from stevedore>=3.0.0->qiskit-terra>=0.24->qiskit-nature[pyscf]) (5.11.1)\n",
            "Requirement already satisfied: mpmath>=0.19 in /common/home/zl606/.conda/envs/qiskit43/lib/python3.11/site-packages (from sympy>=1.3->qiskit-terra>=0.24->qiskit-nature[pyscf]) (1.3.0)\n"
          ]
        }
      ],
      "source": [
        "!pip install qiskit\n",
        "!pip install qiskit-nature[pyscf] -U"
      ]
    },
    {
      "cell_type": "code",
      "execution_count": 2,
      "metadata": {
        "colab": {
          "base_uri": "https://localhost:8080/"
        },
        "id": "-kyJUxyJzk_k",
        "outputId": "153f1581-81d4-43b0-d14e-40f75cd99e39"
      },
      "outputs": [
        {
          "name": "stdout",
          "output_type": "stream",
          "text": [
            "Requirement already satisfied: qiskit_aer in /common/home/zl606/.conda/envs/qiskit43/lib/python3.11/site-packages (0.12.1)\n",
            "Requirement already satisfied: qiskit-terra>=0.21.0 in /common/home/zl606/.conda/envs/qiskit43/lib/python3.11/site-packages (from qiskit_aer) (0.24.1)\n",
            "Requirement already satisfied: numpy>=1.16.3 in /common/home/zl606/.conda/envs/qiskit43/lib/python3.11/site-packages (from qiskit_aer) (1.23.5)\n",
            "Requirement already satisfied: scipy>=1.0 in /common/home/zl606/.conda/envs/qiskit43/lib/python3.11/site-packages (from qiskit_aer) (1.11.1)\n",
            "Requirement already satisfied: rustworkx>=0.12.0 in /common/home/zl606/.conda/envs/qiskit43/lib/python3.11/site-packages (from qiskit-terra>=0.21.0->qiskit_aer) (0.13.0)\n",
            "Requirement already satisfied: ply>=3.10 in /common/home/zl606/.conda/envs/qiskit43/lib/python3.11/site-packages (from qiskit-terra>=0.21.0->qiskit_aer) (3.11)\n",
            "Requirement already satisfied: psutil>=5 in /common/home/zl606/.conda/envs/qiskit43/lib/python3.11/site-packages (from qiskit-terra>=0.21.0->qiskit_aer) (5.9.0)\n",
            "Requirement already satisfied: sympy>=1.3 in /common/home/zl606/.conda/envs/qiskit43/lib/python3.11/site-packages (from qiskit-terra>=0.21.0->qiskit_aer) (1.12)\n",
            "Requirement already satisfied: dill>=0.3 in /common/home/zl606/.conda/envs/qiskit43/lib/python3.11/site-packages (from qiskit-terra>=0.21.0->qiskit_aer) (0.3.6)\n",
            "Requirement already satisfied: python-dateutil>=2.8.0 in /common/home/zl606/.conda/envs/qiskit43/lib/python3.11/site-packages (from qiskit-terra>=0.21.0->qiskit_aer) (2.8.2)\n",
            "Requirement already satisfied: stevedore>=3.0.0 in /common/home/zl606/.conda/envs/qiskit43/lib/python3.11/site-packages (from qiskit-terra>=0.21.0->qiskit_aer) (5.1.0)\n",
            "Requirement already satisfied: symengine<0.10,>=0.9 in /common/home/zl606/.conda/envs/qiskit43/lib/python3.11/site-packages (from qiskit-terra>=0.21.0->qiskit_aer) (0.9.2)\n",
            "Requirement already satisfied: six>=1.5 in /common/home/zl606/.conda/envs/qiskit43/lib/python3.11/site-packages (from python-dateutil>=2.8.0->qiskit-terra>=0.21.0->qiskit_aer) (1.16.0)\n",
            "Requirement already satisfied: pbr!=2.1.0,>=2.0.0 in /common/home/zl606/.conda/envs/qiskit43/lib/python3.11/site-packages (from stevedore>=3.0.0->qiskit-terra>=0.21.0->qiskit_aer) (5.11.1)\n",
            "Requirement already satisfied: mpmath>=0.19 in /common/home/zl606/.conda/envs/qiskit43/lib/python3.11/site-packages (from sympy>=1.3->qiskit-terra>=0.21.0->qiskit_aer) (1.3.0)\n"
          ]
        }
      ],
      "source": [
        "!pip install qiskit_aer"
      ]
    },
    {
      "cell_type": "code",
      "execution_count": 3,
      "metadata": {
        "id": "Ib7BjPjxvJNk"
      },
      "outputs": [],
      "source": [
        "from qiskit_nature.units import DistanceUnit\n",
        "from qiskit_nature.second_q.drivers import PySCFDriver\n",
        "from qiskit_nature.second_q.mappers import JordanWignerMapper,ParityMapper,QubitConverter\n",
        "from qiskit.algorithms.minimum_eigensolvers import VQE\n",
        "from qiskit.algorithms.optimizers import SLSQP\n",
        "from qiskit_aer.primitives import Estimator\n",
        "from qiskit_nature.second_q.circuit.library import HartreeFock, UCCSD\n",
        "import numpy as np\n",
        "import pylab\n",
        "import qiskit.providers\n",
        "from qiskit import Aer,pulse, QuantumCircuit\n",
        "from qiskit.utils import QuantumInstance, algorithm_globals\n",
        "import time"
      ]
    },
    {
      "cell_type": "markdown",
      "metadata": {
        "id": "QRxsKX9zTc9g"
      },
      "source": [
        "Here we require paticipants to fix the algorithm seed in qiskit. *MUST* translate other format circuit to qiskit before any place need algorithm seed. And we give 20, 21, 30, 33, 36, 42, 43, 55, 67, 170 as seeds that requires to run, and the result will be calculated as the average of results from each seed. And please use shots as 4000."
      ]
    },
    {
      "cell_type": "code",
      "execution_count": 4,
      "metadata": {
        "id": "_z5kT9vNSWus"
      },
      "outputs": [],
      "source": [
        "seeds = 170\n",
        "algorithm_globals.random_seed = seeds\n",
        "seed_transpiler = seeds\n",
        "iterations = 125\n",
        "shot = 4000"
      ]
    },
    {
      "cell_type": "markdown",
      "metadata": {
        "id": "67IPjEJPJAWk"
      },
      "source": [
        "## Generate Hamiltonian and Pauli String"
      ]
    },
    {
      "cell_type": "markdown",
      "metadata": {
        "id": "7TljW2BrJKHC"
      },
      "source": [
        "At this step, the example code uses PySCF to generate the hamiltonian of hydroxyl with basis function as 'sto3g' to fit the spin orbital, then uses JordanWignerMapper to map the fermionic terms to pauli strings. To be noticed, other chemistry tool also allowed to be used at this step, but keep in mind to use 'sto-3g' and Jordan Wigner Mapper which should gives 12 qubits and 631 paulil terms."
      ]
    },
    {
      "cell_type": "code",
      "execution_count": 5,
      "metadata": {
        "id": "kXSoiGtopCRX"
      },
      "outputs": [
        {
          "name": "stderr",
          "output_type": "stream",
          "text": [
            "/common/home/zl606/.conda/envs/qiskit43/lib/python3.11/site-packages/pyscf/dft/libxc.py:772: UserWarning: Since PySCF-2.3, B3LYP (and B3P86) are changed to the VWN-RPA variant, the same to the B3LYP functional in Gaussian and ORCA (issue 1480). To restore the VWN5 definition, you can put the setting \"B3LYP_WITH_VWN5 = True\" in pyscf_conf.py\n",
            "  warnings.warn('Since PySCF-2.3, B3LYP (and B3P86) are changed to the VWN-RPA variant, '\n"
          ]
        }
      ],
      "source": [
        "ultra_simplified_ala_string = \"\"\"\n",
        "O 0.0 0.0 0.0\n",
        "H 0.45 -0.1525 -0.8454\n",
        "\"\"\"\n",
        "\n",
        "driver = PySCFDriver(\n",
        "    atom=ultra_simplified_ala_string.strip(),\n",
        "    basis='sto3g',\n",
        "    charge=1,\n",
        "    spin=0,\n",
        "    unit=DistanceUnit.ANGSTROM\n",
        ")\n",
        "qmolecule = driver.run()"
      ]
    },
    {
      "cell_type": "code",
      "execution_count": 6,
      "metadata": {
        "colab": {
          "base_uri": "https://localhost:8080/"
        },
        "id": "ojwVkSeRwTH4",
        "outputId": "127b9320-1734-4c77-e753-677181892158"
      },
      "outputs": [
        {
          "name": "stdout",
          "output_type": "stream",
          "text": [
            "Polynomial Tensor\n",
            " \"+-\":\n",
            "[[-3.21461222e+01  5.59899100e-01  1.87617178e-01 -4.56343387e-17\n",
            "   2.41250904e-16 -1.94702445e-01]\n",
            " [ 5.59899100e-01 -7.35898345e+00 -2.46352634e-01  2.39982429e-16\n",
            "  -7.57528634e-16  9.51226718e-01]\n",
            " [ 1.87617178e-01 -2.46352634e-01 -6.56995119e+00  5.63137781e-16\n",
            "   7.91837340e-16 -1.09726793e+00]\n",
            " [-4.54848900e-17  2.05430655e-16  5.24773314e-16 -6.94886145e+00\n",
            "   1.56026214e-15  4.12531363e-16]\n",
            " [ 2.45643545e-16 -8.91028759e-16 -4.57755709e-18  1.55483212e-15\n",
            "  -6.94886145e+00 -2.07120237e-15]\n",
            " [-1.94702445e-01  9.51226718e-01 -1.09726793e+00  3.50125199e-16\n",
            "  -2.87761855e-15 -4.64967973e+00]]\n",
            " \"++--\":\n",
            "[[[[ 4.74977044e+00 -4.38465691e-01 -1.51436760e-01  4.89323067e-17\n",
            "    -1.83704413e-16  1.59790984e-01]\n",
            "   [-4.38465691e-01  6.47204045e-02  1.84429506e-02 -6.55656318e-18\n",
            "     2.71307968e-17 -2.66865302e-02]\n",
            "   [-1.51436760e-01  1.84429506e-02  2.46189939e-02 -1.60762618e-18\n",
            "    -1.65835535e-18  6.40512562e-03]\n",
            "   [ 4.89487958e-17 -6.44131745e-18 -2.64663956e-18  2.58536922e-02\n",
            "    -5.95011679e-18 -2.83344807e-18]\n",
            "   [-1.83246252e-16  2.64176490e-17 -2.83624666e-19 -5.81291384e-18\n",
            "     2.58536922e-02  1.20986636e-17]\n",
            "   [ 1.59790984e-01 -2.66865302e-02  6.40512562e-03 -3.03897051e-18\n",
            "     1.18266953e-17  2.11708054e-02]]\n",
            "\n",
            "  [[-4.38465691e-01  6.47204045e-02  1.84429506e-02 -6.52776541e-18\n",
            "     2.66273760e-17 -2.66865302e-02]\n",
            "   [ 1.06368185e+00 -1.50469869e-02 -1.72330627e-02  3.99264559e-18\n",
            "    -9.38822114e-18 -2.69295995e-03]\n",
            "   [ 8.78369520e-02 -9.36020789e-03  2.16452114e-02  1.16310356e-18\n",
            "    -9.06463408e-18  2.03747148e-02]\n",
            "   [-5.28765876e-17  4.08794211e-18  9.54199779e-19  3.38081759e-02\n",
            "    -8.86419811e-18 -7.51526008e-18]\n",
            "   [ 2.34372286e-16 -1.05638128e-17 -1.23149540e-17 -8.87650376e-18\n",
            "     3.38081759e-02  3.35312424e-17]\n",
            "   [-2.42118626e-01  4.54101197e-03  1.65509332e-02 -6.93208555e-18\n",
            "     3.82841253e-17  8.74204002e-03]]\n",
            "\n",
            "  [[-1.51436760e-01  1.84429506e-02  2.46189939e-02 -1.75935263e-18\n",
            "     2.33842989e-19  6.40512562e-03]\n",
            "   [ 8.78369520e-02 -9.36020789e-03  2.16452114e-02  9.29254823e-19\n",
            "    -8.50312984e-18  2.03747148e-02]\n",
            "   [ 9.90974245e-01 -1.31679803e-02  8.70090353e-03  1.83694338e-18\n",
            "    -9.21475556e-18  1.41651559e-02]\n",
            "   [-5.18932965e-17 -4.55172131e-18 -3.43669997e-19  1.12083197e-02\n",
            "    -2.91478620e-18 -3.07064785e-18]\n",
            "   [-1.42315585e-16  1.75489152e-17  7.31335021e-18 -2.99401625e-18\n",
            "     1.12083197e-02  1.68518373e-17]\n",
            "   [ 2.65843254e-01 -5.34487452e-03  2.07171914e-03 -2.95356715e-18\n",
            "     1.10328208e-17  4.81053325e-03]]\n",
            "\n",
            "  [[ 4.90501742e-17 -6.57394509e-18 -2.23439656e-18  2.58536922e-02\n",
            "    -6.37460753e-18 -2.77387683e-18]\n",
            "   [-5.27611704e-17  4.27215518e-18  7.34845522e-19  3.38081759e-02\n",
            "    -8.88462533e-18 -6.78454867e-18]\n",
            "   [-4.35946096e-17 -6.34555902e-18 -5.38734074e-19  1.12083197e-02\n",
            "    -3.30927663e-18 -2.82251876e-18]\n",
            "   [ 1.11539591e+00 -1.22985373e-02 -4.28354178e-03 -6.00648428e-18\n",
            "    -4.80731434e-18  4.10551212e-03]\n",
            "   [-2.11521750e-16  6.47987005e-19 -2.52967735e-19  1.27208880e-17\n",
            "    -3.78668237e-18 -2.76754251e-18]\n",
            "   [-1.27643631e-16 -2.93610743e-18 -1.73350401e-18 -1.03687761e-02\n",
            "     3.79575609e-18 -9.90281865e-19]]\n",
            "\n",
            "  [[-1.82914515e-16  2.68558994e-17  4.88355068e-19 -6.20196312e-18\n",
            "     2.58536922e-02  1.41616912e-17]\n",
            "   [ 2.28941774e-16 -1.02729895e-17 -8.65739277e-18 -8.56247387e-18\n",
            "     3.38081759e-02  3.26352688e-17]\n",
            "   [-1.42920406e-16  1.55259862e-17  4.22146586e-18 -3.03327932e-18\n",
            "     1.12083197e-02  2.07418011e-17]\n",
            "   [-2.50564848e-16  5.74645249e-19 -2.31643414e-19  1.27192164e-17\n",
            "    -3.78519251e-18 -2.75758326e-18]\n",
            "   [ 1.11539591e+00 -1.22985373e-02 -4.28354178e-03  1.09111489e-18\n",
            "     2.04244349e-17  4.10551212e-03]\n",
            "   [ 4.43558711e-16  1.78974396e-17  1.94806801e-17  3.38629599e-18\n",
            "    -1.03687761e-02  4.45042045e-18]]\n",
            "\n",
            "  [[ 1.59790984e-01 -2.66865302e-02  6.40512562e-03 -2.97222221e-18\n",
            "     1.42958239e-17  2.11708054e-02]\n",
            "   [-2.42118626e-01  4.54101197e-03  1.65509332e-02 -6.54694677e-18\n",
            "     3.49047634e-17  8.74204002e-03]\n",
            "   [ 2.65843254e-01 -5.34487452e-03  2.07171914e-03 -3.35769412e-18\n",
            "     1.50701633e-17  4.81053325e-03]\n",
            "   [-8.14160403e-17 -6.97396718e-18 -2.25287627e-18 -1.03687761e-02\n",
            "     3.20802676e-18 -4.63718477e-19]\n",
            "   [ 3.95868538e-16  1.23765168e-17  1.27257569e-17  2.44080847e-18\n",
            "    -1.03687761e-02  1.68841599e-17]\n",
            "   [ 7.34481338e-01 -5.21692816e-03 -1.59999430e-02  6.31592641e-18\n",
            "    -2.99339982e-17 -8.28037465e-03]]]\n",
            "\n",
            "\n",
            " [[[-4.38465691e-01  1.06368185e+00  8.78369520e-02 -5.02177522e-17\n",
            "     2.07471694e-16 -2.42118626e-01]\n",
            "   [ 6.47204045e-02 -1.50469869e-02 -9.36020789e-03  4.43727295e-18\n",
            "    -6.70793273e-18  4.54101197e-03]\n",
            "   [ 1.84429506e-02 -1.72330627e-02  2.16452114e-02  9.36316412e-19\n",
            "    -1.14154773e-17  1.65509332e-02]\n",
            "   [-6.54973767e-18  3.97660383e-18  2.56705603e-18  3.38081759e-02\n",
            "    -8.23821319e-18 -6.42617805e-18]\n",
            "   [ 2.64176490e-17 -8.20037065e-18 -1.66178552e-17 -6.94615174e-18\n",
            "     3.38081759e-02  2.87963344e-17]\n",
            "   [-2.66865302e-02 -2.69295995e-03  2.03747148e-02 -1.00266922e-17\n",
            "     3.19420876e-17  8.74204002e-03]]\n",
            "\n",
            "  [[ 6.47204045e-02 -1.50469869e-02 -9.36020789e-03  4.32041371e-18\n",
            "    -7.29912365e-18  4.54101197e-03]\n",
            "   [-1.50469869e-02  7.82246148e-01 -2.82736344e-02 -1.04217694e-17\n",
            "     7.15597896e-17 -1.20862414e-01]\n",
            "   [-9.36020789e-03 -2.82736344e-02  1.38461310e-01 -1.03404998e-17\n",
            "     4.54894024e-18  2.11790621e-02]\n",
            "   [ 2.68047278e-18 -5.31663087e-18 -8.81549005e-18  1.56942623e-01\n",
            "    -3.60060828e-17 -1.41686344e-17]\n",
            "   [-8.12670122e-18  9.16888479e-17  1.57268114e-19 -3.50150194e-17\n",
            "     1.56942623e-01  6.22310093e-17]\n",
            "   [ 4.54101197e-03 -1.20862414e-01  2.11790621e-02 -9.91024673e-18\n",
            "     6.94032942e-17  8.19731113e-02]]\n",
            "\n",
            "  [[ 1.84429506e-02 -1.72330627e-02  2.16452114e-02  1.39113707e-18\n",
            "    -8.34616684e-18  1.65509332e-02]\n",
            "   [-9.36020789e-03 -2.82736344e-02  1.38461310e-01 -7.80790931e-18\n",
            "     3.11614764e-18  2.11790621e-02]\n",
            "   [-1.31679803e-02  7.08160916e-01  6.20624861e-02 -1.82452882e-17\n",
            "     5.44869973e-17 -5.09591903e-02]\n",
            "   [ 1.84737222e-18 -6.55699718e-17 -7.55000835e-18  4.03035161e-02\n",
            "    -1.07353229e-17 -2.54686269e-17]\n",
            "   [-5.33758247e-19  1.45685035e-18  1.42567757e-17 -1.36673286e-17\n",
            "     4.03035161e-02  5.85078410e-17]\n",
            "   [-5.34487452e-03  1.01782960e-01  6.86961222e-02 -4.84890565e-17\n",
            "     1.39945533e-16 -6.06860239e-02]]\n",
            "\n",
            "  [[-6.74238495e-18  4.58038324e-18  1.19220362e-18  3.38081759e-02\n",
            "    -8.11453574e-18 -6.62675412e-18]\n",
            "   [ 3.46753323e-18 -3.76891232e-18 -9.25952538e-18  1.56942623e-01\n",
            "    -3.74393702e-17 -1.33159853e-17]\n",
            "   [-8.59083923e-19 -7.54861228e-17 -1.21916943e-17  4.03035161e-02\n",
            "    -1.34738994e-17 -2.04509183e-17]\n",
            "   [-1.22985373e-02  7.77829097e-01  4.78181725e-02 -5.01856814e-17\n",
            "     1.16298261e-16 -1.21924948e-01]\n",
            "   [ 3.14343129e-18 -1.68659713e-16 -1.98611015e-17  4.91568636e-17\n",
            "    -2.00749639e-17  4.12330986e-17]\n",
            "   [ 7.61682007e-18 -9.41473205e-17 -5.10428159e-17 -4.16508161e-02\n",
            "     1.22524360e-17  1.77312351e-17]]\n",
            "\n",
            "  [[ 2.65500270e-17 -8.46651557e-18 -1.11309428e-17 -8.06456249e-18\n",
            "     3.38081759e-02  2.99015392e-17]\n",
            "   [-8.17881819e-18  5.86150426e-17 -2.31693319e-18 -3.60567511e-17\n",
            "     1.56942623e-01  6.22439743e-17]\n",
            "   [-1.62287381e-18  1.50377074e-16  2.84733083e-17 -1.55635517e-17\n",
            "     4.03035161e-02  5.70049434e-17]\n",
            "   [ 3.01939109e-18 -1.89747209e-16 -2.14781737e-17  4.98629312e-17\n",
            "    -2.01167839e-17  4.03743650e-17]\n",
            "   [-1.22985373e-02  7.77829097e-01  4.78181725e-02 -3.27268823e-17\n",
            "     1.99436798e-16 -1.21924948e-01]\n",
            "   [-5.90424321e-18  2.93503181e-16  1.90973740e-16  8.13627525e-18\n",
            "    -4.16508161e-02 -1.96079888e-16]]\n",
            "\n",
            "  [[-2.66865302e-02 -2.69295995e-03  2.03747148e-02 -8.63064804e-18\n",
            "     3.33815688e-17  8.74204002e-03]\n",
            "   [ 4.54101197e-03 -1.20862414e-01  2.11790621e-02 -8.66173407e-18\n",
            "     7.57387041e-17  8.19731113e-02]\n",
            "   [-5.34487452e-03  1.01782960e-01  6.86961222e-02 -4.12527039e-17\n",
            "     1.52652605e-16 -6.06860239e-02]\n",
            "   [-1.35058691e-19 -8.48063864e-17 -5.40811299e-17 -4.16508161e-02\n",
            "     1.13185707e-17  2.92209451e-17]\n",
            "   [-7.46209196e-18  3.03629637e-16  2.19098311e-16  4.50219111e-18\n",
            "    -4.16508161e-02 -1.94752069e-16]\n",
            "   [-5.21692816e-03  6.12883783e-01 -9.90962252e-02  5.71629584e-18\n",
            "    -7.78803022e-17 -1.95498046e-02]]]\n",
            "\n",
            "\n",
            " [[[-1.51436760e-01  8.78369520e-02  9.90974245e-01 -6.57285038e-17\n",
            "     2.81116762e-17  2.65843254e-01]\n",
            "   [ 1.84429506e-02 -9.36020789e-03 -1.31679803e-02  2.11672473e-18\n",
            "    -1.32996939e-18 -5.34487452e-03]\n",
            "   [ 2.46189939e-02  2.16452114e-02  8.70090353e-03 -1.33187793e-19\n",
            "     2.22643300e-18  2.07171914e-03]\n",
            "   [-1.77927782e-18  2.25605706e-18  2.88662965e-18  1.12083197e-02\n",
            "    -3.07028568e-18 -2.86426704e-18]\n",
            "   [-2.83624666e-19 -8.36847563e-18 -9.76894980e-18 -2.49669970e-18\n",
            "     1.12083197e-02  1.31902235e-17]\n",
            "   [ 6.40512562e-03  2.03747148e-02  1.41651559e-02 -6.81383297e-18\n",
            "     1.47132639e-17  4.81053325e-03]]\n",
            "\n",
            "  [[ 1.84429506e-02 -9.36020789e-03 -1.31679803e-02  2.04478204e-18\n",
            "    -3.39732378e-19 -5.34487452e-03]\n",
            "   [-1.72330627e-02 -2.82736344e-02  7.08160916e-01 -4.47828752e-17\n",
            "     2.04535891e-17  1.01782960e-01]\n",
            "   [ 2.16452114e-02  1.38461310e-01  6.20624861e-02 -7.56799699e-18\n",
            "    -5.36309387e-18  6.86961222e-02]\n",
            "   [ 2.20616962e-18 -5.14975205e-18 -1.43865456e-17  4.03035161e-02\n",
            "    -1.34189912e-17 -4.25351391e-17]\n",
            "   [-1.90841528e-17  1.33562754e-17  7.71402525e-17 -1.38700045e-17\n",
            "     4.03035161e-02  1.33558673e-16]\n",
            "   [ 1.65509332e-02  2.11790621e-02 -5.09591903e-02 -7.96763523e-18\n",
            "     6.36952431e-17 -6.06860239e-02]]\n",
            "\n",
            "  [[ 2.46189939e-02  2.16452114e-02  8.70090353e-03  1.63744730e-19\n",
            "    -1.96994801e-19  2.07171914e-03]\n",
            "   [ 2.16452114e-02  1.38461310e-01  6.20624861e-02 -8.73312213e-18\n",
            "    -1.84097033e-17  6.86961222e-02]\n",
            "   [ 8.70090353e-03  6.20624861e-02  7.76790044e-01 -3.28391091e-17\n",
            "    -3.81868040e-17  1.24533083e-01]\n",
            "   [-3.35388799e-19 -1.00369654e-18 -3.41381570e-17  5.15571898e-02\n",
            "    -2.76596305e-18  1.03109578e-17]\n",
            "   [-4.22222381e-19 -1.56106857e-17 -7.66183499e-17  2.11888592e-18\n",
            "     5.15571898e-02 -5.96391127e-17]\n",
            "   [ 2.07171914e-03  6.86961222e-02  1.24533083e-01  1.82007125e-17\n",
            "    -4.08017318e-17  1.22969373e-01]]\n",
            "\n",
            "  [[-8.99906129e-19  7.74271171e-19  2.63927450e-18  1.12083197e-02\n",
            "    -2.85616052e-18 -2.83000231e-18]\n",
            "   [ 2.00452073e-18 -7.11965768e-18 -2.16664627e-17  4.03035161e-02\n",
            "    -1.23901360e-17 -3.59881457e-17]\n",
            "   [-1.24872605e-18 -4.42090512e-18 -3.23775699e-17  5.15571898e-02\n",
            "    -3.56815475e-19  1.60065977e-17]\n",
            "   [-4.28354178e-03  4.78181725e-02  7.25741700e-01 -1.03104642e-16\n",
            "     3.06551049e-17  1.36326286e-01]\n",
            "   [ 1.29172963e-18 -1.11144055e-17 -1.56955944e-16  1.94320532e-18\n",
            "     1.45949771e-17 -3.14857966e-17]\n",
            "   [ 1.94571813e-19 -4.41720118e-17 -3.40121174e-17  7.58596288e-03\n",
            "     1.05253071e-17 -3.57376790e-17]]\n",
            "\n",
            "  [[-1.39455286e-18 -1.09036013e-17 -1.15105994e-17 -2.88320047e-18\n",
            "     1.12083197e-02  1.40804855e-17]\n",
            "   [-1.24834186e-17  1.02501568e-17  6.87034612e-17 -1.12794927e-17\n",
            "     4.03035161e-02  1.48941031e-16]\n",
            "   [-1.52164277e-18 -2.63098763e-17 -5.33183254e-17  1.28724710e-18\n",
            "     5.15571898e-02 -5.59303667e-17]\n",
            "   [ 1.21776783e-18 -1.10778068e-17 -1.62470762e-16  1.71171667e-18\n",
            "     1.34493923e-17 -3.20032429e-17]\n",
            "   [-4.28354178e-03  4.78181725e-02  7.25741700e-01 -3.16838465e-17\n",
            "     7.31987909e-17  1.36326286e-01]\n",
            "   [ 1.35032974e-17  1.58530607e-16  1.48252557e-16  1.88161880e-17\n",
            "     7.58596288e-03  2.53175082e-16]]\n",
            "\n",
            "  [[ 6.40512562e-03  2.03747148e-02  1.41651559e-02 -7.72064981e-18\n",
            "     1.82893542e-17  4.81053325e-03]\n",
            "   [ 1.65509332e-02  2.11790621e-02 -5.09591903e-02 -2.93334548e-18\n",
            "     9.91020885e-17 -6.06860239e-02]\n",
            "   [ 2.07171914e-03  6.86961222e-02  1.24533083e-01  1.69293582e-17\n",
            "    -6.01369391e-17  1.22969373e-01]\n",
            "   [-3.14676789e-18 -4.68471850e-17 -4.68635840e-17  7.58596288e-03\n",
            "     1.59468567e-17 -3.86185919e-17]\n",
            "   [ 1.36260994e-17  1.37575612e-16  2.05645880e-16  1.53629036e-17\n",
            "     7.58596288e-03  2.60446027e-16]\n",
            "   [-1.59999430e-02 -9.90962252e-02  5.81960146e-01  1.85040809e-18\n",
            "    -1.39125124e-16 -4.47663569e-02]]]\n",
            "\n",
            "\n",
            " [[[ 4.89338605e-17 -4.61846907e-17 -6.62289563e-17  1.11539591e+00\n",
            "    -2.46409503e-16 -1.11218541e-16]\n",
            "   [-6.60762078e-18  3.11417481e-18  1.63502750e-18 -1.22985373e-02\n",
            "    -5.52490583e-18  6.89753616e-19]\n",
            "   [-1.61585743e-18  5.89732967e-19 -2.49223520e-19 -4.28354178e-03\n",
            "    -2.20166566e-18 -2.61601881e-18]\n",
            "   [ 2.58536922e-02  3.38081759e-02  1.12083197e-02 -5.98146930e-18\n",
            "     1.27460759e-17 -1.03687761e-02]\n",
            "   [-5.81291384e-18 -7.57546115e-18 -2.37237057e-18 -5.28921509e-18\n",
            "    -3.80344455e-18  2.49383820e-18]\n",
            "   [-2.57747090e-18 -8.25496522e-18 -8.41284644e-18  4.10551212e-03\n",
            "     2.77233798e-18  5.35794272e-19]]\n",
            "\n",
            "  [[-6.62726835e-18  2.98931518e-18  1.55963038e-18 -1.22985373e-02\n",
            "    -5.65346649e-18  5.92783578e-19]\n",
            "   [ 3.76820933e-18 -9.76459250e-18 -5.47636767e-17  7.77829097e-01\n",
            "    -1.94544958e-16 -4.62945718e-17]\n",
            "   [ 1.85878528e-18 -6.97026822e-18 -1.00805742e-17  4.78181725e-02\n",
            "    -1.80567250e-17 -3.31291007e-17]\n",
            "   [ 3.38081759e-02  1.56942623e-01  4.03035161e-02 -4.72688852e-17\n",
            "     4.91462161e-17 -4.16508161e-02]\n",
            "   [-8.70208711e-18 -3.68345904e-17 -1.34787475e-17  1.03144119e-16\n",
            "    -1.72104118e-17  9.73701644e-18]\n",
            "   [-6.41626458e-18 -5.03762641e-18 -4.76070302e-18 -1.21924948e-01\n",
            "     4.06039073e-17  2.39350608e-17]]\n",
            "\n",
            "  [[-1.47781587e-18  7.13543559e-19  7.83736469e-20 -4.28354178e-03\n",
            "    -1.96547220e-18 -2.62830262e-18]\n",
            "   [ 1.08557106e-18 -7.93286342e-18 -7.54075065e-18  4.78181725e-02\n",
            "    -1.58432917e-17 -3.77153117e-17]\n",
            "   [ 2.37792343e-18 -1.59649570e-17 -3.30692134e-17  7.25741700e-01\n",
            "    -1.64015908e-16 -2.94098778e-17]\n",
            "   [ 1.12083197e-02  4.03035161e-02  5.15571898e-02 -1.00617487e-16\n",
            "     8.64270084e-18  7.58596288e-03]\n",
            "   [-3.00992517e-18 -1.28848145e-17  1.31515986e-18  6.72688460e-18\n",
            "     9.63264616e-18 -1.86740994e-18]\n",
            "   [-2.68229606e-18 -4.24306531e-17  1.32423531e-17  1.36326286e-01\n",
            "    -4.82107193e-17 -2.87524921e-17]]\n",
            "\n",
            "  [[ 2.58536922e-02  3.38081759e-02  1.12083197e-02 -6.12237388e-18\n",
            "     1.27709834e-17 -1.03687761e-02]\n",
            "   [ 3.38081759e-02  1.56942623e-01  4.03035161e-02 -5.37190922e-17\n",
            "     4.91484904e-17 -4.16508161e-02]\n",
            "   [ 1.12083197e-02  4.03035161e-02  5.15571898e-02 -8.22248373e-17\n",
            "     6.74851364e-18  7.58596288e-03]\n",
            "   [-6.04404126e-18 -4.88846388e-17 -1.03055569e-16  8.80159093e-01\n",
            "    -2.06846198e-16 -9.80113208e-17]\n",
            "   [ 1.27218823e-17  4.91568636e-17  8.71240408e-18 -2.06803707e-16\n",
            "     4.74444451e-02  2.81620552e-17]\n",
            "   [-1.03687761e-02 -4.16508161e-02  7.58596288e-03 -7.45473083e-17\n",
            "     1.99774577e-17  2.41407920e-02]]\n",
            "\n",
            "  [[-6.17243952e-18 -7.63417780e-18 -2.76642481e-18 -5.64670509e-18\n",
            "    -3.78709999e-18  2.03828101e-18]\n",
            "   [-8.13046301e-18 -3.68363681e-17 -1.18471717e-17  1.15040531e-16\n",
            "    -1.79384460e-17  8.04351312e-18]\n",
            "   [-2.94785524e-18 -1.31498717e-17  8.91887250e-19  5.30333569e-17\n",
            "     1.19787484e-17 -4.89252972e-18]\n",
            "   [ 1.27182440e-17  4.95725149e-17  8.67462732e-18 -2.12536042e-16\n",
            "     4.74444451e-02  2.65073966e-17]\n",
            "   [ 1.11509530e-18 -3.24161584e-17 -3.31544038e-17  7.85270203e-01\n",
            "    -2.29310526e-16 -3.56761437e-17]\n",
            "   [ 3.35592037e-18  6.45626454e-18  1.61367511e-17  4.28509575e-16\n",
            "     1.13299844e-17 -4.16426440e-18]]\n",
            "\n",
            "  [[-2.26015087e-18 -7.72309988e-18 -8.56004735e-18  4.10551212e-03\n",
            "     2.12559116e-18 -1.79779596e-18]\n",
            "   [-5.74738066e-18 -7.58936811e-18 -4.24308820e-18 -1.21924948e-01\n",
            "     2.97879038e-17  3.35656961e-17]\n",
            "   [-3.95513623e-18 -4.28153602e-17  1.40804017e-17  1.36326286e-01\n",
            "    -3.99196915e-17 -3.41207462e-17]\n",
            "   [-1.03687761e-02 -4.16508161e-02  7.58596288e-03 -1.28748370e-16\n",
            "     2.32343782e-17  2.41407920e-02]\n",
            "   [ 3.43249935e-18  7.45310962e-18  1.35412625e-17  3.64872375e-16\n",
            "     1.43745677e-17 -1.28132662e-17]\n",
            "   [ 4.67643261e-18  2.28632777e-17 -3.55275749e-18  5.54511357e-01\n",
            "    -7.78739900e-17  8.94441962e-18]]]\n",
            "\n",
            "\n",
            " [[[-1.83588753e-16  2.03534027e-16  3.16369053e-17 -2.81666880e-16\n",
            "     1.11539591e+00  5.75040340e-16]\n",
            "   [ 2.73372135e-17 -4.23845295e-18 -1.24100966e-17  9.10265812e-18\n",
            "    -1.22985373e-02 -2.83619053e-17]\n",
            "   [-1.63113896e-18 -8.85018311e-18 -7.20471839e-18  3.48546277e-18\n",
            "    -4.28354178e-03  3.38787075e-18]\n",
            "   [-5.51643592e-18 -7.99683638e-18 -2.74502503e-18  1.27315141e-17\n",
            "     1.28264686e-18  2.10128170e-18]\n",
            "   [ 2.58536922e-02  3.38081759e-02  1.12083197e-02 -3.83346002e-18\n",
            "     1.95832177e-17 -1.03687761e-02]\n",
            "   [ 9.99999004e-18  3.02029103e-17  2.96414320e-17 -4.41802843e-18\n",
            "     4.10551212e-03  1.83089537e-17]]\n",
            "\n",
            "  [[ 2.67617501e-17 -4.50776265e-18 -1.14016071e-17  8.94501432e-18\n",
            "    -1.22985373e-02 -2.79483089e-17]\n",
            "   [-8.06620511e-18  6.64051230e-17  4.25695031e-17 -1.78127731e-16\n",
            "     7.77829097e-01  3.00088458e-16]\n",
            "   [-1.13384555e-17  1.52332673e-17 -2.26602511e-19 -1.69551067e-17\n",
            "     4.78181725e-02  1.88622514e-16]\n",
            "   [-8.23821319e-18 -4.27486856e-17 -1.08169060e-17  4.89200198e-17\n",
            "    -3.26059332e-17  1.16461321e-17]\n",
            "   [ 3.38081759e-02  1.56942623e-01  4.03035161e-02 -1.74020749e-17\n",
            "     2.11451299e-16 -4.16508161e-02]\n",
            "   [ 3.38340565e-17  9.30435025e-17  3.13817805e-17  4.59977475e-17\n",
            "    -1.21924948e-01 -2.54564434e-16]]\n",
            "\n",
            "  [[ 2.88133082e-19 -9.95687349e-18 -9.97873022e-18  3.73598461e-18\n",
            "    -4.28354178e-03  3.89142762e-18]\n",
            "   [-1.24427819e-17  2.19598730e-17 -1.46660339e-17 -1.34006421e-17\n",
            "     4.78181725e-02  2.01111463e-16]\n",
            "   [-1.13793686e-17  6.98642179e-17 -2.40831143e-17 -1.62625729e-16\n",
            "     7.25741700e-01  1.75149076e-16]\n",
            "   [-3.25231504e-18 -1.28055817e-17 -1.44038406e-18  1.07915576e-17\n",
            "    -4.66766639e-17  3.76606621e-18]\n",
            "   [ 1.12083197e-02  4.03035161e-02  5.15571898e-02  1.15292915e-17\n",
            "     1.23179432e-16  7.58596288e-03]\n",
            "   [ 1.41201709e-17  1.54344377e-16 -5.46161620e-17 -3.43840613e-17\n",
            "     1.36326286e-01  2.13887928e-16]]\n",
            "\n",
            "  [[-5.86737340e-18 -7.75545772e-18 -2.31301992e-18  1.27578983e-17\n",
            "     1.25323215e-18  2.13459645e-18]\n",
            "   [-7.35360326e-18 -4.12534031e-17 -1.02126897e-17  4.86994073e-17\n",
            "    -3.43079413e-17  7.68364701e-18]\n",
            "   [-2.64229571e-18 -1.29932348e-17 -1.62980525e-18  9.77384003e-18\n",
            "    -2.21177300e-17  2.09807385e-18]\n",
            "   [-4.97295503e-18  1.14914824e-16  4.83937602e-17 -1.89957180e-16\n",
            "     7.85270203e-01  3.00329514e-16]\n",
            "   [-3.81009519e-18 -1.90533788e-17  1.84075838e-17  4.74444451e-02\n",
            "    -2.40707547e-16  1.77905418e-17]\n",
            "   [ 2.72029113e-18  9.46486071e-18  1.39942050e-17  2.21452925e-17\n",
            "    -5.51942623e-17 -4.48899641e-18]]\n",
            "\n",
            "  [[ 2.58536922e-02  3.38081759e-02  1.12083197e-02 -3.78198855e-18\n",
            "     1.99905445e-17 -1.03687761e-02]\n",
            "   [ 3.38081759e-02  1.56942623e-01  4.03035161e-02 -1.83840412e-17\n",
            "     2.12213347e-16 -4.16508161e-02]\n",
            "   [ 1.12083197e-02  4.03035161e-02  5.15571898e-02  1.38982181e-17\n",
            "     1.05264983e-16  7.58596288e-03]\n",
            "   [-3.80823852e-18 -1.90693863e-17  1.69188392e-17  4.74444451e-02\n",
            "    -2.26112135e-16  1.75029826e-17]\n",
            "   [ 2.03001421e-17  1.98263026e-16  1.11362707e-16 -2.28115543e-16\n",
            "     8.80159093e-01  4.32051007e-16]\n",
            "   [-1.03687761e-02 -4.16508161e-02  7.58596288e-03  1.02454504e-17\n",
            "     4.31665951e-16  2.41407920e-02]]\n",
            "\n",
            "  [[ 1.40805692e-17  2.63989609e-17  3.18238748e-17 -5.14253968e-18\n",
            "     4.10551212e-03  2.23792290e-17]\n",
            "   [ 3.00940685e-17  8.49765591e-17  6.97705311e-17  3.10260117e-17\n",
            "    -1.21924948e-01 -2.20438493e-16]\n",
            "   [ 1.03751401e-17  1.45013218e-16 -6.12823308e-17 -2.72737238e-17\n",
            "     1.36326286e-01  1.93155949e-16]\n",
            "   [ 3.86468216e-18  9.79670071e-18  1.43031479e-17  2.72818125e-17\n",
            "    -6.70834890e-17 -6.54221755e-18]\n",
            "   [-1.03687761e-02 -4.16508161e-02  7.58596288e-03  2.04782762e-17\n",
            "     5.89632102e-16  2.41407920e-02]\n",
            "   [-3.00867297e-17 -1.07016444e-16 -8.02331780e-17 -9.68134428e-17\n",
            "     5.54511357e-01 -1.98289993e-16]]]\n",
            "\n",
            "\n",
            " [[[ 1.59790984e-01 -2.42118626e-01  2.65843254e-01 -1.07243589e-16\n",
            "     5.24807283e-16  7.34481338e-01]\n",
            "   [-2.66865302e-02  4.54101197e-03 -5.34487452e-03 -2.38771509e-18\n",
            "    -1.20445254e-17 -5.21692816e-03]\n",
            "   [ 6.40512562e-03  1.65509332e-02  2.07171914e-03 -3.05090697e-18\n",
            "     9.99335013e-18 -1.59999430e-02]\n",
            "   [-3.02575212e-18 -7.01535840e-18 -3.08317778e-18 -1.03687761e-02\n",
            "     2.11354989e-18  8.59097850e-18]\n",
            "   [ 1.20138161e-17  3.03189390e-17  1.58288481e-17  2.49914118e-18\n",
            "    -1.03687761e-02 -3.07570041e-17]\n",
            "   [ 2.11708054e-02  8.74204002e-03  4.81053325e-03  7.42167673e-19\n",
            "     1.28661674e-17 -8.28037465e-03]]\n",
            "\n",
            "  [[-2.66865302e-02  4.54101197e-03 -5.34487452e-03  2.80735715e-18\n",
            "    -4.78391705e-18 -5.21692816e-03]\n",
            "   [-2.69295995e-03 -1.20862414e-01  1.01782960e-01 -5.82231313e-17\n",
            "     2.72817133e-16  6.12883783e-01]\n",
            "   [ 2.03747148e-02  2.11790621e-02  6.86961222e-02 -3.40758508e-17\n",
            "     1.79843630e-16 -9.90962252e-02]\n",
            "   [-8.88991183e-18 -4.77487359e-18 -3.91883741e-17 -4.16508161e-02\n",
            "     9.50226414e-18  3.88360030e-17]\n",
            "   [ 3.37857851e-17  5.23317539e-17  1.28778740e-16  1.21694065e-17\n",
            "    -4.16508161e-02 -9.78970586e-17]\n",
            "   [ 8.74204002e-03  8.19731113e-02 -6.06860239e-02  2.77886464e-17\n",
            "    -2.09531689e-16 -1.95498046e-02]]\n",
            "\n",
            "  [[ 6.40512562e-03  1.65509332e-02  2.07171914e-03 -2.07678054e-18\n",
            "     1.14620582e-17 -1.59999430e-02]\n",
            "   [ 2.03747148e-02  2.11790621e-02  6.86961222e-02 -4.03519891e-17\n",
            "     1.87846389e-16 -9.90962252e-02]\n",
            "   [ 1.41651559e-02 -5.09591903e-02  1.24533083e-01 -4.25804058e-17\n",
            "     1.60651864e-16  5.81960146e-01]\n",
            "   [-6.30699918e-18 -1.79408599e-17  1.25364088e-17  7.58596288e-03\n",
            "     9.33030836e-18 -2.20175659e-17]\n",
            "   [ 2.03825940e-17  1.29329885e-16 -4.05193824e-17 -6.14530446e-18\n",
            "     7.58596288e-03  6.57464385e-17]\n",
            "   [ 4.81053325e-03 -6.06860239e-02  1.22969373e-01 -3.43542611e-17\n",
            "     2.15440128e-16 -4.47663569e-02]]\n",
            "\n",
            "  [[-2.76456495e-18 -6.18776414e-18 -3.36018126e-18 -1.03687761e-02\n",
            "     2.50815813e-18  6.72929569e-18]\n",
            "   [-9.08487255e-18 -3.39494653e-18 -3.76643718e-17 -4.16508161e-02\n",
            "     6.73646636e-18  3.03990467e-17]\n",
            "   [-5.50680690e-18 -1.52503425e-17  9.43276237e-18  7.58596288e-03\n",
            "     7.40274513e-18 -2.63210522e-17]\n",
            "   [ 4.10551212e-03 -1.21924948e-01  1.36326286e-01 -1.29309952e-16\n",
            "     3.15268025e-16  5.54511357e-01]\n",
            "   [-1.75434901e-18  2.42676779e-17 -3.97351761e-17  2.84165979e-17\n",
            "     1.52124158e-17 -9.77789002e-17]\n",
            "   [-5.65840653e-18  9.58908285e-18 -3.16613753e-17  2.41407920e-02\n",
            "     5.57803378e-18  1.31790162e-17]]\n",
            "\n",
            "  [[ 1.13955313e-17  2.70735789e-17  1.34730813e-17  2.39821368e-18\n",
            "    -1.03687761e-02 -1.97097590e-17]\n",
            "   [ 2.95021763e-17  5.27261581e-17  1.45686958e-16  9.71092412e-18\n",
            "    -4.16508161e-02 -8.77835799e-17]\n",
            "   [ 2.06604373e-17  1.17940299e-16 -3.22735027e-17 -9.68845651e-18\n",
            "     7.58596288e-03  3.27661929e-17]\n",
            "   [-1.69442885e-18  2.25523506e-17 -3.86477002e-17  2.77325552e-17\n",
            "     1.47782155e-17 -1.09161163e-16]\n",
            "   [ 4.10551212e-03 -1.21924948e-01  1.36326286e-01 -3.96008719e-17\n",
            "     3.94311328e-16  5.54511357e-01]\n",
            "   [ 8.71432403e-19 -1.14059304e-16  2.67634031e-16 -1.19685429e-17\n",
            "     2.41407920e-02 -1.94680541e-16]]\n",
            "\n",
            "  [[ 2.11708054e-02  8.74204002e-03  4.81053325e-03 -3.20356921e-18\n",
            "     1.26435790e-17 -8.28037465e-03]\n",
            "   [ 8.74204002e-03  8.19731113e-02 -6.06860239e-02  4.58081970e-17\n",
            "    -1.61012431e-16 -1.95498046e-02]\n",
            "   [ 4.81053325e-03 -6.06860239e-02  1.22969373e-01 -3.86186176e-17\n",
            "     1.83391616e-16 -4.47663569e-02]\n",
            "   [-2.37739253e-18  2.98098183e-17 -3.47565628e-17  2.41407920e-02\n",
            "     1.55878187e-18  1.25674885e-17]\n",
            "   [ 4.26715545e-18 -1.34338366e-16  2.66027360e-16 -2.07138124e-17\n",
            "     2.41407920e-02 -1.80146221e-16]\n",
            "   [-8.28037465e-03 -1.95498046e-02 -4.47663569e-02 -5.93787149e-18\n",
            "    -2.98229333e-16  7.04304126e-01]]]]\n"
          ]
        }
      ],
      "source": [
        "hamiltonian = qmolecule.hamiltonian\n",
        "coefficients = hamiltonian.electronic_integrals\n",
        "print(coefficients.alpha)\n",
        "second_q_op = hamiltonian.second_q_op()"
      ]
    },
    {
      "cell_type": "code",
      "execution_count": 7,
      "metadata": {
        "id": "zLhtOziW8xCC"
      },
      "outputs": [
        {
          "name": "stderr",
          "output_type": "stream",
          "text": [
            "/tmp/ipykernel_528114/561404713.py:2: DeprecationWarning: The QubitConverter class is deprecated as of version 0.6.0 and will be removed no sooner than 3 months after the release . Instead you should directly use the QubitMapper instance which you used to pass into the QubitConverter as the first argument. Refer to the documentation of the qiskit_nature.second_q.mappers module for more information.\n",
            "  converter = QubitConverter(mapper=mapper, two_qubit_reduction=False)\n"
          ]
        },
        {
          "name": "stderr",
          "output_type": "stream",
          "text": [
            "/common/home/zl606/.conda/envs/qiskit43/lib/python3.11/site-packages/qiskit_nature/deprecation.py:297: PauliSumOpDeprecationWarning: PauliSumOp is deprecated as of version 0.6.0 and support for them will be removed no sooner than 3 months after the release. Instead, use SparsePauliOp. You can switch to SparsePauliOp immediately, by setting `qiskit_nature.settings.use_pauli_sum_op` to `False`.\n",
            "  return func(*args, **kwargs)\n"
          ]
        }
      ],
      "source": [
        "mapper = JordanWignerMapper()\n",
        "converter = QubitConverter(mapper=mapper, two_qubit_reduction=False)\n",
        "qubit_op = converter.convert(second_q_op)"
      ]
    },
    {
      "cell_type": "markdown",
      "metadata": {
        "id": "rAQ3oSvbKFIU"
      },
      "source": [
        "We recommend to use classical minimum eigensolver to obtain a reference energy at this step. In case some of the classical minimum eigensolver donot directly gives nuclear repulsion energy, we give reference energies below: *Comupted Energy*: -78.75252123, *Nuclear Repulsion_energy*: 4.36537496654537. *Obtained Reference Ground State Energy*: -74.38714627."
      ]
    },
    {
      "cell_type": "code",
      "execution_count": 24,
      "metadata": {
        "id": "gZQaJ8T441s7"
      },
      "outputs": [],
      "source": [
        "from qiskit.algorithms.minimum_eigensolvers import NumPyMinimumEigensolver\n",
        "from qiskit_nature.second_q.algorithms import GroundStateEigensolver\n",
        "\n",
        "solver = GroundStateEigensolver(\n",
        "    JordanWignerMapper(),\n",
        "    NumPyMinimumEigensolver(),\n",
        ")"
      ]
    },
    {
      "cell_type": "code",
      "execution_count": 25,
      "metadata": {
        "colab": {
          "base_uri": "https://localhost:8080/"
        },
        "id": "CzsPX9Fg42zY",
        "outputId": "57ff628a-9fb8-479d-af26-fb644d807202"
      },
      "outputs": [
        {
          "name": "stdout",
          "output_type": "stream",
          "text": [
            "[-78.75252123]\n"
          ]
        }
      ],
      "source": [
        "result = solver.solve(qmolecule)\n",
        "print(result.computed_energies)"
      ]
    },
    {
      "cell_type": "code",
      "execution_count": 21,
      "metadata": {
        "colab": {
          "base_uri": "https://localhost:8080/"
        },
        "id": "zP_A04usULdu",
        "outputId": "b09f2d22-4a51-4f60-a4f5-5d83b0b9477a"
      },
      "outputs": [
        {
          "name": "stdout",
          "output_type": "stream",
          "text": [
            "4.36537496654537\n"
          ]
        }
      ],
      "source": [
        "print(result.nuclear_repulsion_energy)"
      ]
    },
    {
      "cell_type": "code",
      "execution_count": 11,
      "metadata": {
        "colab": {
          "base_uri": "https://localhost:8080/"
        },
        "id": "CjUk5SkJUQkn",
        "outputId": "925ff152-1a4f-4cb0-f3f2-cbe3798562be"
      },
      "outputs": [
        {
          "name": "stdout",
          "output_type": "stream",
          "text": [
            "[-74.38714627]\n"
          ]
        }
      ],
      "source": [
        "ref_value = result.computed_energies + result.nuclear_repulsion_energy\n",
        "print(ref_value)"
      ]
    },
    {
      "cell_type": "markdown",
      "metadata": {
        "id": "7FoppB2vK3Pb"
      },
      "source": [
        "## Construct Ansatz"
      ]
    },
    {
      "cell_type": "markdown",
      "metadata": {
        "id": "FXhkX--4LLjy"
      },
      "source": [
        "At this stage, you can implement various techniques to search good ansatz architecture which is important for variational quantum algorihms. Moreover, how to obtain a good initial state is a good topic to do research, we require participant to self-reflection there techniques (include the techniques for preprocessing ansatz or initial states) with maximum 10 points, and submit a short description for used techniques, we will have three graders to evaluate the techniques."
      ]
    },
    {
      "cell_type": "code",
      "execution_count": 12,
      "metadata": {
        "id": "TR3cvipPWCQ5"
      },
      "outputs": [],
      "source": [
        "ansatz = UCCSD(\n",
        "    qmolecule.num_spatial_orbitals,\n",
        "    qmolecule.num_particles,\n",
        "    mapper,\n",
        "    initial_state=HartreeFock(\n",
        "        qmolecule.num_spatial_orbitals,\n",
        "        qmolecule.num_particles,\n",
        "        mapper,\n",
        "    ),\n",
        ")\n"
      ]
    },
    {
      "cell_type": "markdown",
      "metadata": {},
      "source": [
        "Load the noise models."
      ]
    },
    {
      "cell_type": "code",
      "execution_count": 13,
      "metadata": {
        "id": "HAepMEuOyygR"
      },
      "outputs": [],
      "source": [
        "import numpy as np\n",
        "from qiskit import QuantumCircuit, transpile\n",
        "from qiskit.quantum_info import Kraus, SuperOp\n",
        "from qiskit_aer import AerSimulator\n",
        "from qiskit.tools.visualization import plot_histogram\n",
        "from qiskit_aer.noise import (NoiseModel, QuantumError, ReadoutError,\n",
        "    pauli_error, depolarizing_error, thermal_relaxation_error)\n",
        "import numpy as np\n",
        "import warnings\n",
        "warnings.filterwarnings('ignore')\n",
        "from qiskit import *\n",
        "import time\n",
        "from qiskit.providers.aer.noise import NoiseModel\n",
        "import qiskit.providers.aer.noise as noise\n",
        "from qiskit.utils import QuantumInstance, algorithm_globals\n",
        "from qiskit.providers.fake_provider import *\n",
        "import pickle\n",
        "from qiskit_aer.primitives import Sampler\n"
      ]
    },
    {
      "cell_type": "code",
      "execution_count": 14,
      "metadata": {},
      "outputs": [],
      "source": [
        "with open('NoiseModel/fakekolkata.pkl', 'rb') as file:\n",
        "    noise_model_kolkata = pickle.load(file)\n",
        "with open('NoiseModel/fakecairo.pkl', 'rb') as file:\n",
        "    noise_model_cairo = pickle.load(file)\n",
        "with open('NoiseModel/fakemontreal.pkl', 'rb') as file:\n",
        "    noise_model_montreal = pickle.load(file)\n",
        "noise_model1 = noise.NoiseModel()\n",
        "noise_model2= noise.NoiseModel()\n",
        "noise_model3 = noise.NoiseModel()\n",
        "noise_model_kolkata = noise_model1.from_dict(noise_model_kolkata)\n",
        "noise_model_cairo = noise_model2.from_dict(noise_model_cairo)\n",
        "noise_model_montreal = noise_model3.from_dict(noise_model_montreal)"
      ]
    },
    {
      "cell_type": "code",
      "execution_count": 15,
      "metadata": {
        "id": "vzVDjGNVfWA8"
      },
      "outputs": [],
      "source": [
        "sampler = Sampler(\n",
        "    backend_options = {\n",
        "        'method': 'statevector',\n",
        "        'device': 'CPU',\n",
        "        'noise_model': noise_model_kolkata\n",
        "    },\n",
        "    run_options = {\n",
        "        'shots': shot,\n",
        "        'seed': seeds,\n",
        "    },\n",
        "    transpile_options = {\n",
        "        'seed_transpiler':seed_transpiler\n",
        "    }\n",
        ")"
      ]
    },
    {
      "cell_type": "markdown",
      "metadata": {},
      "source": [
        "### Group measurement"
      ]
    },
    {
      "cell_type": "code",
      "execution_count": 16,
      "metadata": {},
      "outputs": [],
      "source": [
        "from utils.varsaw import parseHamiltonian, group_measurements, varsaw_expectation"
      ]
    },
    {
      "cell_type": "code",
      "execution_count": 17,
      "metadata": {},
      "outputs": [],
      "source": [
        "import pickle\n",
        "# run once!\n",
        "h, first_term = parseHamiltonian('Hamiltonian/OHhamiltonian.txt')\n",
        "# measurements, measurement_dict = group_measurements(h)\n",
        "# filehandler = open(b\"142observables.obj\",\"wb\")\n",
        "# pickle.dump((measurements, measurement_dict),filehandler)\n",
        "\n",
        "filehandler = open(b\"142observables.obj\",\"rb\")\n",
        "measurements, measurement_dict = pickle.load(filehandler)\n"
      ]
    },
    {
      "cell_type": "code",
      "execution_count": 20,
      "metadata": {},
      "outputs": [],
      "source": [
        "test_ansatz = QuantumCircuit(12, 12)\n",
        "test_ansatz.x(0)\n",
        "test_ansatz.x(1)\n",
        "test_ansatz.x(2)\n",
        "test_ansatz.x(3)\n",
        "test_ansatz.x(6)\n",
        "test_ansatz.x(7)\n",
        "test_ansatz.x(8)\n",
        "test_ansatz.x(9)\n",
        "computed_energies = varsaw_expectation(test_ansatz, measurements, measurement_dict, first_term, h, sampler)"
      ]
    },
    {
      "cell_type": "code",
      "execution_count": 29,
      "metadata": {},
      "outputs": [
        {
          "name": "stdout",
          "output_type": "stream",
          "text": [
            "OPENQASM 2.0;\n",
            "include \"qelib1.inc\";\n",
            "qreg q[12];\n",
            "creg c[12];\n",
            "x q[0];\n",
            "x q[1];\n",
            "x q[2];\n",
            "x q[3];\n",
            "x q[6];\n",
            "x q[7];\n",
            "x q[8];\n",
            "x q[9];\n",
            "\n",
            "OPENQASM 2.0;\n",
            "include \"qelib1.inc\";\n",
            "qreg q[27];\n",
            "creg c[12];\n",
            "x q[0];\n",
            "x q[1];\n",
            "x q[2];\n",
            "x q[3];\n",
            "x q[6];\n",
            "x q[7];\n",
            "x q[8];\n",
            "x q[9];\n",
            "\n"
          ]
        }
      ],
      "source": [
        "system_model = FakeMontreal()\n",
        "transpiled_circuit = transpile(test_ansatz, backend=system_model)\n",
        "print(test_ansatz.qasm())\n",
        "print(transpiled_circuit.qasm())"
      ]
    },
    {
      "cell_type": "markdown",
      "metadata": {
        "id": "vNP5HcDxlq-d"
      },
      "source": [
        "## Calculate the Accuracy (Most Important Metric)"
      ]
    },
    {
      "cell_type": "code",
      "execution_count": 26,
      "metadata": {
        "colab": {
          "base_uri": "https://localhost:8080/"
        },
        "id": "qbP7CkZxlh8X",
        "outputId": "0d85b95a-4eba-4830-e98c-283a86f9f683"
      },
      "outputs": [
        {
          "name": "stdout",
          "output_type": "stream",
          "text": [
            "Error rate: 1.959242%\n",
            "Escore: 98.040758\n"
          ]
        }
      ],
      "source": [
        "estimated = computed_energies + result.nuclear_repulsion_energy\n",
        "error_rate = abs(abs(ref_value - estimated) / ref_value * 100)\n",
        "print(\"Error rate: %f%%\" % (error_rate))\n",
        "print(\"Escore: %f\" % (100-error_rate))"
      ]
    },
    {
      "cell_type": "code",
      "execution_count": 20,
      "metadata": {},
      "outputs": [],
      "source": [
        "from arch import load_coupling_map\n",
        "from time import time as ctime\n",
        "from utils.parallel_bl import gate_count_oriented_scheduling\n",
        "from utils.synthesis_broccoli import synthesis\n",
        "from qiskit import QuantumCircuit, transpile\n",
        "\n",
        "def Tetris_Montreal(parr, use_bridge=False):\n",
        "    print('Tetris passes, Our schedule, Our synthesis, montreal', flush=True)\n",
        "    lnq = len(parr[0][0]) # lnq: number of qubits\n",
        "    length = lnq // 2 # `length' is a hyperparameter, and can be adjusted for best performance. Here we keep `length' fixed for simplicity.\n",
        "    coup = load_coupling_map('montreal')\n",
        "    t0 = ctime()\n",
        "    a2 = gate_count_oriented_scheduling(parr) # parr is the pauli_block list\n",
        "    # a2 = [[block] for block in parr]\n",
        "    qc, metrics = synthesis(a2, arch='montreal', use_bridge=use_bridge)\n",
        "    pnq = qc.num_qubits\n",
        "    print(pnq)\n",
        "    print('Tetris, Time costed:', ctime()-t0, flush=True)\n",
        "    t0 = ctime()\n",
        "    qc2 = transpile(qc, basis_gates=['u3', 'cx'], coupling_map=coup, initial_layout=list(range(pnq)), optimization_level=3)\n",
        "    print('Qiskit L3, Time costed:', ctime()-t0, flush=True)\n",
        "    return qc2\n"
      ]
    },
    {
      "cell_type": "code",
      "execution_count": 21,
      "metadata": {},
      "outputs": [
        {
          "name": "stdout",
          "output_type": "stream",
          "text": [
            "Tetris passes, Our schedule, Our synthesis, montreal\n",
            "27\n",
            "27\n",
            "Tetris, Time costed: 0.3336620330810547\n",
            "Qiskit L3, Time costed: 17.822885751724243\n"
          ]
        }
      ],
      "source": [
        "import ast\n",
        "from benchmark.mypauli import pauliString\n",
        "\n",
        "pauli_blocks = []\n",
        "for pauli_list in ansatz._operators: # load all pauli blocks to a list\n",
        "    block = ast.literal_eval(pauli_list._primitive._pauli_list.__str__())\n",
        "    block = [pauliString(ps) for ps in block]\n",
        "    pauli_blocks.append(block)\n",
        "\n",
        "new_ansatz = Tetris_Montreal(pauli_blocks, use_bridge=False)"
      ]
    },
    {
      "cell_type": "code",
      "execution_count": 27,
      "metadata": {},
      "outputs": [],
      "source": [
        "with open('pauli_string.txt', 'w') as f:\n",
        "    for block in pauli_blocks:\n",
        "        f.write(str(block) + '\\n')"
      ]
    },
    {
      "cell_type": "code",
      "execution_count": 40,
      "metadata": {},
      "outputs": [
        {
          "name": "stdout",
          "output_type": "stream",
          "text": [
            "640\n"
          ]
        }
      ],
      "source": [
        "cnt = 0\n",
        "for block in pauli_blocks:\n",
        "    for ps in block:\n",
        "        cnt = cnt + 1\n",
        "print(cnt)"
      ]
    },
    {
      "cell_type": "markdown",
      "metadata": {
        "id": "hw8SxNyclYyT"
      },
      "source": [
        "## Obtain the Duration of Quantum Circuit"
      ]
    },
    {
      "cell_type": "code",
      "execution_count": 32,
      "metadata": {
        "id": "3TBtAF24iuFD"
      },
      "outputs": [],
      "source": [
        "from qiskit.providers.fake_provider import *\n",
        "backend = FakeMontreal()"
      ]
    },
    {
      "cell_type": "code",
      "execution_count": 37,
      "metadata": {
        "id": "_julUiabi5iI"
      },
      "outputs": [],
      "source": [
        "with pulse.build(backend) as my_program1:\n",
        "  pulse.call(ansatz)"
      ]
    },
    {
      "cell_type": "code",
      "execution_count": 38,
      "metadata": {
        "colab": {
          "base_uri": "https://localhost:8080/"
        },
        "id": "E3jGzVpNkT00",
        "outputId": "01595668-7f90-44de-d2b5-cbac21f44497"
      },
      "outputs": [
        {
          "data": {
            "text/plain": [
              "19696160"
            ]
          },
          "execution_count": 38,
          "metadata": {},
          "output_type": "execute_result"
        }
      ],
      "source": [
        "my_program1.duration "
      ]
    }
  ],
  "metadata": {
    "colab": {
      "provenance": []
    },
    "kernelspec": {
      "display_name": "Python 3 (ipykernel)",
      "language": "python",
      "name": "python3"
    },
    "language_info": {
      "codemirror_mode": {
        "name": "ipython",
        "version": 3
      },
      "file_extension": ".py",
      "mimetype": "text/x-python",
      "name": "python",
      "nbconvert_exporter": "python",
      "pygments_lexer": "ipython3",
      "version": "3.11.4"
    }
  },
  "nbformat": 4,
  "nbformat_minor": 0
}
