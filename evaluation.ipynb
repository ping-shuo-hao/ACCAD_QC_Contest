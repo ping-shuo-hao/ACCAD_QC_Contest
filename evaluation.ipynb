{
  "cells": [
    {
      "cell_type": "markdown",
      "metadata": {
        "id": "gj3jZbCBSn71"
      },
      "source": [
        "# Example Code for Estimating the Ground State Energy of Hydroxyl (·OH)"
      ]
    },
    {
      "cell_type": "markdown",
      "metadata": {
        "id": "54NH9S1vHrq8"
      },
      "source": [
        "## Basic Installation"
      ]
    },
    {
      "cell_type": "markdown",
      "metadata": {
        "id": "R0OZ3HZZS9Me"
      },
      "source": [
        "Install required package, we highly recommend participant to use qiskit platform, or at least participants can finish preprocessing at other platform and transfer the circuit to qiskit format, since our noise model is from IBM real machine backend and we restricted some algorithmic seeds which could be varied from different platform."
      ]
    },
    {
      "cell_type": "code",
      "execution_count": 1,
      "metadata": {
        "colab": {
          "base_uri": "https://localhost:8080/"
        },
        "id": "Pi-oJxidjBSw",
        "outputId": "d23754fa-04a2-4afc-fce2-cc4d90db62d4"
      },
      "outputs": [
        {
          "name": "stdout",
          "output_type": "stream",
          "text": [
            "Requirement already satisfied: qiskit in /common/home/zl606/.conda/envs/qiskit43/lib/python3.11/site-packages (0.43.2)\n",
            "Requirement already satisfied: qiskit-terra==0.24.1 in /common/home/zl606/.conda/envs/qiskit43/lib/python3.11/site-packages (from qiskit) (0.24.1)\n",
            "Requirement already satisfied: qiskit-aer==0.12.1 in /common/home/zl606/.conda/envs/qiskit43/lib/python3.11/site-packages (from qiskit) (0.12.1)\n",
            "Requirement already satisfied: qiskit-ibmq-provider==0.20.2 in /common/home/zl606/.conda/envs/qiskit43/lib/python3.11/site-packages (from qiskit) (0.20.2)\n",
            "Requirement already satisfied: numpy>=1.16.3 in /common/home/zl606/.conda/envs/qiskit43/lib/python3.11/site-packages (from qiskit-aer==0.12.1->qiskit) (1.23.5)\n",
            "Requirement already satisfied: scipy>=1.0 in /common/home/zl606/.conda/envs/qiskit43/lib/python3.11/site-packages (from qiskit-aer==0.12.1->qiskit) (1.11.1)\n",
            "Requirement already satisfied: requests>=2.19 in /common/home/zl606/.conda/envs/qiskit43/lib/python3.11/site-packages (from qiskit-ibmq-provider==0.20.2->qiskit) (2.31.0)\n",
            "Requirement already satisfied: requests-ntlm<=1.1.0 in /common/home/zl606/.conda/envs/qiskit43/lib/python3.11/site-packages (from qiskit-ibmq-provider==0.20.2->qiskit) (1.1.0)\n",
            "Requirement already satisfied: urllib3>=1.21.1 in /common/home/zl606/.conda/envs/qiskit43/lib/python3.11/site-packages (from qiskit-ibmq-provider==0.20.2->qiskit) (2.0.3)\n",
            "Requirement already satisfied: python-dateutil>=2.8.0 in /common/home/zl606/.conda/envs/qiskit43/lib/python3.11/site-packages (from qiskit-ibmq-provider==0.20.2->qiskit) (2.8.2)\n",
            "Requirement already satisfied: websocket-client>=1.5.1 in /common/home/zl606/.conda/envs/qiskit43/lib/python3.11/site-packages (from qiskit-ibmq-provider==0.20.2->qiskit) (1.6.1)\n",
            "Requirement already satisfied: websockets>=10.0 in /common/home/zl606/.conda/envs/qiskit43/lib/python3.11/site-packages (from qiskit-ibmq-provider==0.20.2->qiskit) (11.0.3)\n",
            "Requirement already satisfied: rustworkx>=0.12.0 in /common/home/zl606/.conda/envs/qiskit43/lib/python3.11/site-packages (from qiskit-terra==0.24.1->qiskit) (0.13.0)\n",
            "Requirement already satisfied: ply>=3.10 in /common/home/zl606/.conda/envs/qiskit43/lib/python3.11/site-packages (from qiskit-terra==0.24.1->qiskit) (3.11)\n",
            "Requirement already satisfied: psutil>=5 in /common/home/zl606/.conda/envs/qiskit43/lib/python3.11/site-packages (from qiskit-terra==0.24.1->qiskit) (5.9.0)\n",
            "Requirement already satisfied: sympy>=1.3 in /common/home/zl606/.conda/envs/qiskit43/lib/python3.11/site-packages (from qiskit-terra==0.24.1->qiskit) (1.12)\n",
            "Requirement already satisfied: dill>=0.3 in /common/home/zl606/.conda/envs/qiskit43/lib/python3.11/site-packages (from qiskit-terra==0.24.1->qiskit) (0.3.6)\n",
            "Requirement already satisfied: stevedore>=3.0.0 in /common/home/zl606/.conda/envs/qiskit43/lib/python3.11/site-packages (from qiskit-terra==0.24.1->qiskit) (5.1.0)\n",
            "Requirement already satisfied: symengine<0.10,>=0.9 in /common/home/zl606/.conda/envs/qiskit43/lib/python3.11/site-packages (from qiskit-terra==0.24.1->qiskit) (0.9.2)\n",
            "Requirement already satisfied: six>=1.5 in /common/home/zl606/.conda/envs/qiskit43/lib/python3.11/site-packages (from python-dateutil>=2.8.0->qiskit-ibmq-provider==0.20.2->qiskit) (1.16.0)\n",
            "Requirement already satisfied: charset-normalizer<4,>=2 in /common/home/zl606/.conda/envs/qiskit43/lib/python3.11/site-packages (from requests>=2.19->qiskit-ibmq-provider==0.20.2->qiskit) (3.2.0)\n",
            "Requirement already satisfied: idna<4,>=2.5 in /common/home/zl606/.conda/envs/qiskit43/lib/python3.11/site-packages (from requests>=2.19->qiskit-ibmq-provider==0.20.2->qiskit) (3.4)\n",
            "Requirement already satisfied: certifi>=2017.4.17 in /common/home/zl606/.conda/envs/qiskit43/lib/python3.11/site-packages (from requests>=2.19->qiskit-ibmq-provider==0.20.2->qiskit) (2023.5.7)\n",
            "Requirement already satisfied: ntlm-auth>=1.0.2 in /common/home/zl606/.conda/envs/qiskit43/lib/python3.11/site-packages (from requests-ntlm<=1.1.0->qiskit-ibmq-provider==0.20.2->qiskit) (1.5.0)\n",
            "Requirement already satisfied: cryptography>=1.3 in /common/home/zl606/.conda/envs/qiskit43/lib/python3.11/site-packages (from requests-ntlm<=1.1.0->qiskit-ibmq-provider==0.20.2->qiskit) (41.0.2)\n",
            "Requirement already satisfied: pbr!=2.1.0,>=2.0.0 in /common/home/zl606/.conda/envs/qiskit43/lib/python3.11/site-packages (from stevedore>=3.0.0->qiskit-terra==0.24.1->qiskit) (5.11.1)\n",
            "Requirement already satisfied: mpmath>=0.19 in /common/home/zl606/.conda/envs/qiskit43/lib/python3.11/site-packages (from sympy>=1.3->qiskit-terra==0.24.1->qiskit) (1.3.0)\n",
            "Requirement already satisfied: cffi>=1.12 in /common/home/zl606/.conda/envs/qiskit43/lib/python3.11/site-packages (from cryptography>=1.3->requests-ntlm<=1.1.0->qiskit-ibmq-provider==0.20.2->qiskit) (1.15.1)\n",
            "Requirement already satisfied: pycparser in /common/home/zl606/.conda/envs/qiskit43/lib/python3.11/site-packages (from cffi>=1.12->cryptography>=1.3->requests-ntlm<=1.1.0->qiskit-ibmq-provider==0.20.2->qiskit) (2.21)\n",
            "Requirement already satisfied: qiskit-nature[pyscf] in /common/home/zl606/.conda/envs/qiskit43/lib/python3.11/site-packages (0.6.2)\n",
            "Requirement already satisfied: qiskit-terra>=0.24 in /common/home/zl606/.conda/envs/qiskit43/lib/python3.11/site-packages (from qiskit-nature[pyscf]) (0.24.1)\n",
            "Requirement already satisfied: scipy>=1.4 in /common/home/zl606/.conda/envs/qiskit43/lib/python3.11/site-packages (from qiskit-nature[pyscf]) (1.11.1)\n",
            "Requirement already satisfied: numpy>=1.17 in /common/home/zl606/.conda/envs/qiskit43/lib/python3.11/site-packages (from qiskit-nature[pyscf]) (1.23.5)\n",
            "Requirement already satisfied: psutil>=5 in /common/home/zl606/.conda/envs/qiskit43/lib/python3.11/site-packages (from qiskit-nature[pyscf]) (5.9.0)\n",
            "Requirement already satisfied: scikit-learn>=0.20.0 in /common/home/zl606/.conda/envs/qiskit43/lib/python3.11/site-packages (from qiskit-nature[pyscf]) (1.3.0)\n",
            "Requirement already satisfied: setuptools>=40.1.0 in /common/home/zl606/.conda/envs/qiskit43/lib/python3.11/site-packages (from qiskit-nature[pyscf]) (67.8.0)\n",
            "Requirement already satisfied: typing-extensions in /common/home/zl606/.conda/envs/qiskit43/lib/python3.11/site-packages (from qiskit-nature[pyscf]) (4.7.1)\n",
            "Requirement already satisfied: h5py in /common/home/zl606/.conda/envs/qiskit43/lib/python3.11/site-packages (from qiskit-nature[pyscf]) (3.9.0)\n",
            "Requirement already satisfied: rustworkx in /common/home/zl606/.conda/envs/qiskit43/lib/python3.11/site-packages (from qiskit-nature[pyscf]) (0.13.0)\n",
            "Requirement already satisfied: pyscf in /common/home/zl606/.conda/envs/qiskit43/lib/python3.11/site-packages (from qiskit-nature[pyscf]) (2.3.0)\n",
            "Requirement already satisfied: ply>=3.10 in /common/home/zl606/.conda/envs/qiskit43/lib/python3.11/site-packages (from qiskit-terra>=0.24->qiskit-nature[pyscf]) (3.11)\n",
            "Requirement already satisfied: sympy>=1.3 in /common/home/zl606/.conda/envs/qiskit43/lib/python3.11/site-packages (from qiskit-terra>=0.24->qiskit-nature[pyscf]) (1.12)\n",
            "Requirement already satisfied: dill>=0.3 in /common/home/zl606/.conda/envs/qiskit43/lib/python3.11/site-packages (from qiskit-terra>=0.24->qiskit-nature[pyscf]) (0.3.6)\n",
            "Requirement already satisfied: python-dateutil>=2.8.0 in /common/home/zl606/.conda/envs/qiskit43/lib/python3.11/site-packages (from qiskit-terra>=0.24->qiskit-nature[pyscf]) (2.8.2)\n",
            "Requirement already satisfied: stevedore>=3.0.0 in /common/home/zl606/.conda/envs/qiskit43/lib/python3.11/site-packages (from qiskit-terra>=0.24->qiskit-nature[pyscf]) (5.1.0)\n",
            "Requirement already satisfied: symengine<0.10,>=0.9 in /common/home/zl606/.conda/envs/qiskit43/lib/python3.11/site-packages (from qiskit-terra>=0.24->qiskit-nature[pyscf]) (0.9.2)\n",
            "Requirement already satisfied: joblib>=1.1.1 in /common/home/zl606/.conda/envs/qiskit43/lib/python3.11/site-packages (from scikit-learn>=0.20.0->qiskit-nature[pyscf]) (1.3.1)\n",
            "Requirement already satisfied: threadpoolctl>=2.0.0 in /common/home/zl606/.conda/envs/qiskit43/lib/python3.11/site-packages (from scikit-learn>=0.20.0->qiskit-nature[pyscf]) (3.1.0)\n",
            "Requirement already satisfied: six>=1.5 in /common/home/zl606/.conda/envs/qiskit43/lib/python3.11/site-packages (from python-dateutil>=2.8.0->qiskit-terra>=0.24->qiskit-nature[pyscf]) (1.16.0)\n",
            "Requirement already satisfied: pbr!=2.1.0,>=2.0.0 in /common/home/zl606/.conda/envs/qiskit43/lib/python3.11/site-packages (from stevedore>=3.0.0->qiskit-terra>=0.24->qiskit-nature[pyscf]) (5.11.1)\n",
            "Requirement already satisfied: mpmath>=0.19 in /common/home/zl606/.conda/envs/qiskit43/lib/python3.11/site-packages (from sympy>=1.3->qiskit-terra>=0.24->qiskit-nature[pyscf]) (1.3.0)\n"
          ]
        }
      ],
      "source": [
        "!pip install qiskit\n",
        "!pip install qiskit-nature[pyscf] -U"
      ]
    },
    {
      "cell_type": "code",
      "execution_count": 2,
      "metadata": {
        "colab": {
          "base_uri": "https://localhost:8080/"
        },
        "id": "-kyJUxyJzk_k",
        "outputId": "153f1581-81d4-43b0-d14e-40f75cd99e39"
      },
      "outputs": [
        {
          "name": "stdout",
          "output_type": "stream",
          "text": [
            "Requirement already satisfied: qiskit_aer in /common/home/zl606/.conda/envs/qiskit43/lib/python3.11/site-packages (0.12.1)\n",
            "Requirement already satisfied: qiskit-terra>=0.21.0 in /common/home/zl606/.conda/envs/qiskit43/lib/python3.11/site-packages (from qiskit_aer) (0.24.1)\n",
            "Requirement already satisfied: numpy>=1.16.3 in /common/home/zl606/.conda/envs/qiskit43/lib/python3.11/site-packages (from qiskit_aer) (1.23.5)\n",
            "Requirement already satisfied: scipy>=1.0 in /common/home/zl606/.conda/envs/qiskit43/lib/python3.11/site-packages (from qiskit_aer) (1.11.1)\n",
            "Requirement already satisfied: rustworkx>=0.12.0 in /common/home/zl606/.conda/envs/qiskit43/lib/python3.11/site-packages (from qiskit-terra>=0.21.0->qiskit_aer) (0.13.0)\n",
            "Requirement already satisfied: ply>=3.10 in /common/home/zl606/.conda/envs/qiskit43/lib/python3.11/site-packages (from qiskit-terra>=0.21.0->qiskit_aer) (3.11)\n",
            "Requirement already satisfied: psutil>=5 in /common/home/zl606/.conda/envs/qiskit43/lib/python3.11/site-packages (from qiskit-terra>=0.21.0->qiskit_aer) (5.9.0)\n",
            "Requirement already satisfied: sympy>=1.3 in /common/home/zl606/.conda/envs/qiskit43/lib/python3.11/site-packages (from qiskit-terra>=0.21.0->qiskit_aer) (1.12)\n",
            "Requirement already satisfied: dill>=0.3 in /common/home/zl606/.conda/envs/qiskit43/lib/python3.11/site-packages (from qiskit-terra>=0.21.0->qiskit_aer) (0.3.6)\n",
            "Requirement already satisfied: python-dateutil>=2.8.0 in /common/home/zl606/.conda/envs/qiskit43/lib/python3.11/site-packages (from qiskit-terra>=0.21.0->qiskit_aer) (2.8.2)\n",
            "Requirement already satisfied: stevedore>=3.0.0 in /common/home/zl606/.conda/envs/qiskit43/lib/python3.11/site-packages (from qiskit-terra>=0.21.0->qiskit_aer) (5.1.0)\n",
            "Requirement already satisfied: symengine<0.10,>=0.9 in /common/home/zl606/.conda/envs/qiskit43/lib/python3.11/site-packages (from qiskit-terra>=0.21.0->qiskit_aer) (0.9.2)\n",
            "Requirement already satisfied: six>=1.5 in /common/home/zl606/.conda/envs/qiskit43/lib/python3.11/site-packages (from python-dateutil>=2.8.0->qiskit-terra>=0.21.0->qiskit_aer) (1.16.0)\n",
            "Requirement already satisfied: pbr!=2.1.0,>=2.0.0 in /common/home/zl606/.conda/envs/qiskit43/lib/python3.11/site-packages (from stevedore>=3.0.0->qiskit-terra>=0.21.0->qiskit_aer) (5.11.1)\n",
            "Requirement already satisfied: mpmath>=0.19 in /common/home/zl606/.conda/envs/qiskit43/lib/python3.11/site-packages (from sympy>=1.3->qiskit-terra>=0.21.0->qiskit_aer) (1.3.0)\n"
          ]
        }
      ],
      "source": [
        "!pip install qiskit_aer"
      ]
    },
    {
      "cell_type": "code",
      "execution_count": 3,
      "metadata": {
        "id": "Ib7BjPjxvJNk"
      },
      "outputs": [],
      "source": [
        "from qiskit_nature.units import DistanceUnit\n",
        "from qiskit_nature.second_q.drivers import PySCFDriver\n",
        "from qiskit_nature.second_q.mappers import JordanWignerMapper,ParityMapper,QubitConverter\n",
        "from qiskit.algorithms.minimum_eigensolvers import VQE\n",
        "from qiskit.algorithms.optimizers import SLSQP\n",
        "from qiskit_aer.primitives import Estimator\n",
        "from qiskit_nature.second_q.circuit.library import HartreeFock, UCCSD\n",
        "import numpy as np\n",
        "import pylab\n",
        "import qiskit.providers\n",
        "from qiskit import Aer,pulse, QuantumCircuit\n",
        "from qiskit.utils import QuantumInstance, algorithm_globals\n",
        "import time"
      ]
    },
    {
      "cell_type": "markdown",
      "metadata": {
        "id": "QRxsKX9zTc9g"
      },
      "source": [
        "Here we require paticipants to fix the algorithm seed in qiskit. *MUST* translate other format circuit to qiskit before any place need algorithm seed. And we give 20, 21, 30, 33, 36, 42, 43, 55, 67, 170 as seeds that requires to run, and the result will be calculated as the average of results from each seed. And please use shots as 4000."
      ]
    },
    {
      "cell_type": "code",
      "execution_count": 4,
      "metadata": {
        "id": "_z5kT9vNSWus"
      },
      "outputs": [],
      "source": [
        "seeds = 170\n",
        "algorithm_globals.random_seed = seeds\n",
        "seed_transpiler = seeds\n",
        "iterations = 125\n",
        "shot = 4000"
      ]
    },
    {
      "cell_type": "markdown",
      "metadata": {
        "id": "67IPjEJPJAWk"
      },
      "source": [
        "## Generate Hamiltonian and Pauli String"
      ]
    },
    {
      "cell_type": "markdown",
      "metadata": {
        "id": "7TljW2BrJKHC"
      },
      "source": [
        "At this step, the example code uses PySCF to generate the hamiltonian of hydroxyl with basis function as 'sto3g' to fit the spin orbital, then uses JordanWignerMapper to map the fermionic terms to pauli strings. To be noticed, other chemistry tool also allowed to be used at this step, but keep in mind to use 'sto-3g' and Jordan Wigner Mapper which should gives 12 qubits and 631 paulil terms."
      ]
    },
    {
      "cell_type": "code",
      "execution_count": 5,
      "metadata": {
        "id": "kXSoiGtopCRX"
      },
      "outputs": [
        {
          "name": "stderr",
          "output_type": "stream",
          "text": [
            "/common/home/zl606/.conda/envs/qiskit43/lib/python3.11/site-packages/pyscf/dft/libxc.py:772: UserWarning: Since PySCF-2.3, B3LYP (and B3P86) are changed to the VWN-RPA variant, the same to the B3LYP functional in Gaussian and ORCA (issue 1480). To restore the VWN5 definition, you can put the setting \"B3LYP_WITH_VWN5 = True\" in pyscf_conf.py\n",
            "  warnings.warn('Since PySCF-2.3, B3LYP (and B3P86) are changed to the VWN-RPA variant, '\n"
          ]
        }
      ],
      "source": [
        "ultra_simplified_ala_string = \"\"\"\n",
        "O 0.0 0.0 0.0\n",
        "H 0.45 -0.1525 -0.8454\n",
        "\"\"\"\n",
        "\n",
        "driver = PySCFDriver(\n",
        "    atom=ultra_simplified_ala_string.strip(),\n",
        "    basis='sto3g',\n",
        "    charge=1,\n",
        "    spin=0,\n",
        "    unit=DistanceUnit.ANGSTROM\n",
        ")\n",
        "qmolecule = driver.run()"
      ]
    },
    {
      "cell_type": "code",
      "execution_count": 6,
      "metadata": {
        "colab": {
          "base_uri": "https://localhost:8080/"
        },
        "id": "ojwVkSeRwTH4",
        "outputId": "127b9320-1734-4c77-e753-677181892158"
      },
      "outputs": [
        {
          "name": "stdout",
          "output_type": "stream",
          "text": [
            "Polynomial Tensor\n",
            " \"+-\":\n",
            "[[-3.21461222e+01  5.59899100e-01  1.87617178e-01  1.01255650e-15\n",
            "   8.11480219e-16 -1.94702445e-01]\n",
            " [ 5.59899100e-01 -7.35898345e+00 -2.46352634e-01 -1.30936709e-15\n",
            "  -2.55042478e-15  9.51226718e-01]\n",
            " [ 1.87617178e-01 -2.46352634e-01 -6.56995119e+00  3.21526376e-15\n",
            "   4.26166795e-15 -1.09726793e+00]\n",
            " [ 1.01240566e-15 -1.30835286e-15  3.05517355e-15 -6.94886145e+00\n",
            "   8.05414387e-16 -5.99383933e-15]\n",
            " [ 8.12281085e-16 -2.67843588e-15  3.91912265e-15  1.05277494e-15\n",
            "  -6.94886145e+00 -7.55119945e-15]\n",
            " [-1.94702445e-01  9.51226718e-01 -1.09726793e+00 -6.05046761e-15\n",
            "  -7.43333720e-15 -4.64967973e+00]]\n",
            " \"++--\":\n",
            "[[[[ 4.74977044e+00 -4.38465691e-01 -1.51436760e-01 -8.26158100e-16\n",
            "    -6.26098781e-16  1.59790984e-01]\n",
            "   [-4.38465691e-01  6.47204045e-02  1.84429506e-02  1.06166485e-16\n",
            "     9.65364155e-17 -2.66865302e-02]\n",
            "   [-1.51436760e-01  1.84429506e-02  2.46189939e-02 -1.53212272e-17\n",
            "    -2.23430157e-17  6.40512562e-03]\n",
            "   [-8.25955988e-16  1.05875759e-16 -1.54695706e-17  2.58536922e-02\n",
            "    -1.49191362e-18  3.72579781e-17]\n",
            "   [-6.26088378e-16  9.57375948e-17 -2.39842543e-17 -1.48564212e-18\n",
            "     2.58536922e-02  3.06398939e-17]\n",
            "   [ 1.59790984e-01 -2.66865302e-02  6.40512562e-03  3.80942709e-17\n",
            "     3.06484752e-17  2.11708054e-02]]\n",
            "\n",
            "  [[-4.38465691e-01  6.47204045e-02  1.84429506e-02  1.06007892e-16\n",
            "     9.63703620e-17 -2.66865302e-02]\n",
            "   [ 1.06368185e+00 -1.50469869e-02 -1.72330627e-02 -7.91232156e-17\n",
            "    -1.47875858e-17 -2.69295995e-03]\n",
            "   [ 8.78369520e-02 -9.36020789e-03  2.16452114e-02 -7.63493253e-17\n",
            "    -7.04604757e-17  2.03747148e-02]\n",
            "   [ 5.65641780e-16 -4.69095564e-17 -7.21660399e-17  3.38081759e-02\n",
            "    -4.22911503e-18  1.21053837e-16]\n",
            "   [ 7.70842408e-16 -2.33324089e-17 -6.03565018e-17  8.28285203e-19\n",
            "     3.38081759e-02  1.07964500e-16]\n",
            "   [-2.42118626e-01  4.54101197e-03  1.65509332e-02  9.66902010e-17\n",
            "     9.84097094e-17  8.74204002e-03]]\n",
            "\n",
            "  [[-1.51436760e-01  1.84429506e-02  2.46189939e-02 -1.43974289e-17\n",
            "    -2.46731785e-17  6.40512562e-03]\n",
            "   [ 8.78369520e-02 -9.36020789e-03  2.16452114e-02 -7.66517543e-17\n",
            "    -7.20859366e-17  2.03747148e-02]\n",
            "   [ 9.90974245e-01 -1.31679803e-02  8.70090353e-03 -8.03222256e-17\n",
            "    -6.29257647e-17  1.41651559e-02]\n",
            "   [-9.15928552e-16  7.60752059e-19  1.45455390e-18  1.12083197e-02\n",
            "     4.70257012e-19  5.35598955e-17]\n",
            "   [-9.76934604e-16  1.88971327e-17 -9.16144040e-18 -1.96202979e-18\n",
            "     1.12083197e-02  3.21570018e-17]\n",
            "   [ 2.65843254e-01 -5.34487452e-03  2.07171914e-03  7.22680627e-17\n",
            "     4.54988092e-17  4.81053325e-03]]\n",
            "\n",
            "  [[-8.25938899e-16  1.05862802e-16 -1.60039189e-17  2.58536922e-02\n",
            "    -2.19534725e-18  3.82647629e-17]\n",
            "   [ 5.58866595e-16 -4.58271020e-17 -7.09272746e-17  3.38081759e-02\n",
            "    -2.09988357e-18  1.20295135e-16]\n",
            "   [-9.07767634e-16 -2.59328585e-18  7.29887401e-19  1.12083197e-02\n",
            "     5.43549918e-19  5.54031106e-17]\n",
            "   [ 1.11539591e+00 -1.22985373e-02 -4.28354178e-03  9.71506452e-17\n",
            "    -1.71611012e-17  4.10551212e-03]\n",
            "   [ 5.71473303e-17  1.34145146e-17  4.44763552e-18  4.18641635e-17\n",
            "     6.00119499e-17 -8.96734795e-18]\n",
            "   [ 1.43230795e-15 -2.55952892e-17  7.17460831e-17 -1.03687761e-02\n",
            "    -2.77540803e-18  2.51854414e-17]]\n",
            "\n",
            "  [[-6.25922503e-16  9.61519790e-17 -2.48522163e-17 -2.50135469e-18\n",
            "     2.58536922e-02  3.05766215e-17]\n",
            "   [ 7.77998481e-16 -2.31371932e-17 -5.99311633e-17 -4.37689733e-18\n",
            "     3.38081759e-02  1.06203634e-16]\n",
            "   [-1.04621291e-15  1.70079276e-17 -9.01213293e-18 -7.09679977e-19\n",
            "     1.12083197e-02  3.47577633e-17]\n",
            "   [ 8.54621157e-17  1.20838332e-17  3.98791160e-18  4.18679091e-17\n",
            "     6.00090514e-17 -8.88417921e-18]\n",
            "   [ 1.11539591e+00 -1.22985373e-02 -4.28354178e-03 -2.29915056e-17\n",
            "     6.70739514e-17  4.10551212e-03]\n",
            "   [ 1.43312231e-15 -1.90338249e-17  4.91027286e-17 -2.90080581e-19\n",
            "    -1.03687761e-02  6.08464605e-18]]\n",
            "\n",
            "  [[ 1.59790984e-01 -2.66865302e-02  6.40512562e-03  3.82214997e-17\n",
            "     3.01074586e-17  2.11708054e-02]\n",
            "   [-2.42118626e-01  4.54101197e-03  1.65509332e-02  9.71575911e-17\n",
            "     9.47943323e-17  8.74204002e-03]\n",
            "   [ 2.65843254e-01 -5.34487452e-03  2.07171914e-03  7.17493543e-17\n",
            "     4.70695305e-17  4.81053325e-03]\n",
            "   [ 1.45188399e-15 -3.60340685e-17  6.79771658e-17 -1.03687761e-02\n",
            "    -4.51787828e-18  3.07996598e-17]\n",
            "   [ 1.47533122e-15 -2.78287908e-17  4.71164774e-17 -2.45138202e-18\n",
            "    -1.03687761e-02  1.38801185e-17]\n",
            "   [ 7.34481338e-01 -5.21692816e-03 -1.59999430e-02 -8.92157547e-17\n",
            "    -6.63699644e-17 -8.28037465e-03]]]\n",
            "\n",
            "\n",
            " [[[-4.38465691e-01  1.06368185e+00  8.78369520e-02  5.54854767e-16\n",
            "     7.54321674e-16 -2.42118626e-01]\n",
            "   [ 6.47204045e-02 -1.50469869e-02 -9.36020789e-03 -4.70753681e-17\n",
            "    -2.22724914e-17  4.54101197e-03]\n",
            "   [ 1.84429506e-02 -1.72330627e-02  2.16452114e-02 -7.15942872e-17\n",
            "    -6.60418119e-17  1.65509332e-02]\n",
            "   [ 1.05875759e-16 -7.85148895e-17 -7.51906280e-17  3.38081759e-02\n",
            "    -4.90283637e-18  9.79410275e-17]\n",
            "   [ 9.57375948e-17 -1.33176781e-17 -7.07341347e-17 -6.11060870e-18\n",
            "     3.38081759e-02  9.60984339e-17]\n",
            "   [-2.66865302e-02 -2.69295995e-03  2.03747148e-02  1.20691642e-16\n",
            "     1.05416957e-16  8.74204002e-03]]\n",
            "\n",
            "  [[ 6.47204045e-02 -1.50469869e-02 -9.36020789e-03 -4.57225289e-17\n",
            "    -1.94039645e-17  4.54101197e-03]\n",
            "   [-1.50469869e-02  7.82246148e-01 -2.82736344e-02 -9.67210500e-17\n",
            "     2.70355847e-16 -1.20862414e-01]\n",
            "   [-9.36020789e-03 -2.82736344e-02  1.38461310e-01 -1.05961347e-16\n",
            "    -9.31507878e-17  2.11790621e-02]\n",
            "   [-4.76558928e-17 -1.05242209e-16 -8.97248541e-17  1.56942623e-01\n",
            "     1.15997870e-18  1.28561011e-16]\n",
            "   [-2.28316064e-17  2.46106939e-16 -6.17248372e-17  1.21981787e-17\n",
            "     1.56942623e-01  2.02953068e-16]\n",
            "   [ 4.54101197e-03 -1.20862414e-01  2.11790621e-02  1.26109741e-16\n",
            "     2.07979413e-16  8.19731113e-02]]\n",
            "\n",
            "  [[ 1.84429506e-02 -1.72330627e-02  2.16452114e-02 -7.30081169e-17\n",
            "    -6.22609259e-17  1.65509332e-02]\n",
            "   [-9.36020789e-03 -2.82736344e-02  1.38461310e-01 -1.00322120e-16\n",
            "    -7.39851385e-17  2.11790621e-02]\n",
            "   [-1.31679803e-02  7.08160916e-01  6.20624861e-02 -1.18974562e-16\n",
            "     8.45037844e-17 -5.09591903e-02]\n",
            "   [ 1.36085323e-18 -4.34440382e-16 -2.06473320e-16  4.03035161e-02\n",
            "    -2.34676616e-18  4.35702241e-16]\n",
            "   [ 1.42918377e-17 -3.76965472e-16 -2.48366976e-16  1.01270180e-17\n",
            "     4.03035161e-02  3.87049638e-16]\n",
            "   [-5.34487452e-03  1.01782960e-01  6.86961222e-02  6.48587680e-16\n",
            "     5.06372780e-16 -6.06860239e-02]]\n",
            "\n",
            "  [[ 1.06184316e-16 -7.92373127e-17 -7.57510925e-17  3.38081759e-02\n",
            "    -2.81125228e-18  9.61029532e-17]\n",
            "   [-4.72178833e-17 -9.67105557e-17 -9.29402447e-17  1.56942623e-01\n",
            "    -2.28050095e-17  1.30567768e-16]\n",
            "   [-1.09383435e-18 -4.31607099e-16 -2.10337537e-16  4.03035161e-02\n",
            "    -4.06282101e-18  4.38159370e-16]\n",
            "   [-1.22985373e-02  7.77829097e-01  4.78181725e-02  7.10072009e-16\n",
            "     3.69831311e-16 -1.21924948e-01]\n",
            "   [ 1.83987815e-18  3.39376389e-18  1.65567412e-17  1.52572600e-16\n",
            "     2.17854838e-16 -1.32113225e-17]\n",
            "   [-2.44012890e-17  4.71150317e-16  6.47370126e-16 -4.16508161e-02\n",
            "     2.61707128e-17 -3.64486982e-16]]\n",
            "\n",
            "  [[ 9.66693261e-17 -1.38924276e-17 -7.12319925e-17 -2.79753495e-18\n",
            "     3.38081759e-02  9.17791795e-17]\n",
            "   [-2.36640212e-17  2.74301914e-16 -6.24992532e-17 -4.10754377e-18\n",
            "     1.56942623e-01  2.05295856e-16]\n",
            "   [ 1.58209453e-17 -3.65730485e-16 -2.46973298e-16  9.98023238e-18\n",
            "     4.03035161e-02  3.90165479e-16]\n",
            "   [ 1.01136097e-18 -4.08957511e-17  1.44220933e-17  1.52657453e-16\n",
            "     2.18278824e-16 -3.04980858e-17]\n",
            "   [-1.22985373e-02  7.77829097e-01  4.78181725e-02  2.71308008e-16\n",
            "     7.06180878e-16 -1.21924948e-01]\n",
            "   [-2.90637048e-17  5.35523995e-16  5.51822295e-16  7.15971649e-18\n",
            "    -4.16508161e-02 -3.89615214e-16]]\n",
            "\n",
            "  [[-2.66865302e-02 -2.69295995e-03  2.03747148e-02  1.18096024e-16\n",
            "     1.02831294e-16  8.74204002e-03]\n",
            "   [ 4.54101197e-03 -1.20862414e-01  2.11790621e-02  1.28348111e-16\n",
            "     2.28717060e-16  8.19731113e-02]\n",
            "   [-5.34487452e-03  1.01782960e-01  6.86961222e-02  6.51880224e-16\n",
            "     5.15930074e-16 -6.06860239e-02]\n",
            "   [-3.16150546e-17  5.14760173e-16  6.36892590e-16 -4.16508161e-02\n",
            "     1.29701360e-17 -3.46963479e-16]\n",
            "   [-2.63924974e-17  6.37564567e-16  5.50859996e-16  4.36383746e-18\n",
            "    -4.16508161e-02 -4.15480639e-16]\n",
            "   [-5.21692816e-03  6.12883783e-01 -9.90962252e-02 -5.94507385e-16\n",
            "    -3.84893151e-16 -1.95498046e-02]]]\n",
            "\n",
            "\n",
            " [[[-1.51436760e-01  8.78369520e-02  9.90974245e-01 -9.13385366e-16\n",
            "    -9.78812065e-16  2.65843254e-01]\n",
            "   [ 1.84429506e-02 -9.36020789e-03 -1.31679803e-02  1.47157911e-17\n",
            "     2.88176879e-17 -5.34487452e-03]\n",
            "   [ 2.46189939e-02  2.16452114e-02  8.70090353e-03  9.77007359e-18\n",
            "     7.50800243e-19  2.07171914e-03]\n",
            "   [-1.58064313e-17 -7.49969876e-17 -8.11749993e-17  1.12083197e-02\n",
            "    -3.81484649e-19  7.17575520e-17]\n",
            "   [-2.23693059e-17 -7.09736848e-17 -6.21131175e-17 -2.34532421e-18\n",
            "     1.12083197e-02  4.66460906e-17]\n",
            "   [ 6.40512562e-03  2.03747148e-02  1.41651559e-02  4.52097244e-17\n",
            "     2.68910127e-17  4.81053325e-03]]\n",
            "\n",
            "  [[ 1.84429506e-02 -9.36020789e-03 -1.31679803e-02  1.49924299e-17\n",
            "     2.96404288e-17 -5.34487452e-03]\n",
            "   [-1.72330627e-02 -2.82736344e-02  7.08160916e-01 -4.50879152e-16\n",
            "    -4.18865917e-16  1.01782960e-01]\n",
            "   [ 2.16452114e-02  1.38461310e-01  6.20624861e-02 -1.97225623e-16\n",
            "    -2.09093253e-16  6.86961222e-02]\n",
            "   [-7.26965410e-17 -9.87857523e-17 -1.12209451e-16  4.03035161e-02\n",
            "     9.28807682e-18  6.36823281e-16]\n",
            "   [-6.19714502e-17 -8.20624186e-17  1.13659177e-16  1.07423766e-17\n",
            "     4.03035161e-02  4.88905651e-16]\n",
            "   [ 1.65509332e-02  2.11790621e-02 -5.09591903e-02  4.17746076e-16\n",
            "     3.53648366e-16 -6.06860239e-02]]\n",
            "\n",
            "  [[ 2.46189939e-02  2.16452114e-02  8.70090353e-03  8.88150769e-18\n",
            "    -1.28828616e-18  2.07171914e-03]\n",
            "   [ 2.16452114e-02  1.38461310e-01  6.20624861e-02 -2.03086985e-16\n",
            "    -2.26335647e-16  6.86961222e-02]\n",
            "   [ 8.70090353e-03  6.20624861e-02  7.76790044e-01 -4.01829793e-16\n",
            "    -5.12495352e-16  1.24533083e-01]\n",
            "   [ 3.73037345e-18 -2.08494484e-16 -3.72472757e-16  5.15571898e-02\n",
            "    -5.36797766e-17 -1.82273111e-16]\n",
            "   [-6.94038257e-18 -2.24799498e-16 -5.03616276e-16 -3.84139235e-17\n",
            "     5.15571898e-02 -2.89686659e-16]\n",
            "   [ 2.07171914e-03  6.86961222e-02  1.24533083e-01 -1.75019402e-16\n",
            "    -2.85770220e-16  1.22969373e-01]]\n",
            "\n",
            "  [[-1.43193940e-17 -7.56244690e-17 -8.07208711e-17  1.12083197e-02\n",
            "    -1.00072611e-18  7.09431810e-17]\n",
            "   [-7.14608599e-17 -9.62643449e-17 -1.19940674e-16  4.03035161e-02\n",
            "     1.16249950e-17  6.53490583e-16]\n",
            "   [ 3.57240294e-18 -2.11292645e-16 -4.24859315e-16  5.15571898e-02\n",
            "    -5.18851811e-17 -1.78773011e-16]\n",
            "   [-4.28354178e-03  4.78181725e-02  7.25741700e-01 -3.89265016e-16\n",
            "    -4.06973006e-16  1.36326286e-01]\n",
            "   [-1.06308155e-20  3.63862861e-17 -8.71094813e-17  2.33727654e-17\n",
            "     3.60926171e-17 -6.12817980e-17]\n",
            "   [ 7.31966344e-17  6.73799767e-16  5.30332083e-16  7.58596288e-03\n",
            "    -5.08573711e-17  6.69016179e-16]]\n",
            "\n",
            "  [[-2.01953666e-17 -7.33893167e-17 -6.34885594e-17 -1.59679182e-18\n",
            "     1.12083197e-02  4.62727128e-17]\n",
            "   [-6.36637343e-17 -7.77684748e-17  8.74614604e-17  7.50533579e-18\n",
            "     4.03035161e-02  5.02552424e-16]\n",
            "   [-6.55099175e-18 -2.30777341e-16 -5.22809205e-16 -4.18585909e-17\n",
            "     5.15571898e-02 -2.81476662e-16]\n",
            "   [ 3.00711635e-20  3.21566088e-17 -1.79594980e-16  2.02804074e-17\n",
            "     3.46490732e-17 -6.47295366e-17]\n",
            "   [-4.28354178e-03  4.78181725e-02  7.25741700e-01 -3.95528030e-16\n",
            "    -4.70833687e-16  1.36326286e-01]\n",
            "   [ 5.14134933e-17  6.13343527e-16  4.67389239e-16 -3.91051162e-17\n",
            "     7.58596288e-03  7.24410711e-16]]\n",
            "\n",
            "  [[ 6.40512562e-03  2.03747148e-02  1.41651559e-02  4.61597112e-17\n",
            "     3.05605285e-17  4.81053325e-03]\n",
            "   [ 1.65509332e-02  2.11790621e-02 -5.09591903e-02  4.26220472e-16\n",
            "     3.83658508e-16 -6.06860239e-02]\n",
            "   [ 2.07171914e-03  6.86961222e-02  1.24533083e-01 -1.84013470e-16\n",
            "    -3.02778335e-16  1.22969373e-01]\n",
            "   [ 6.97350893e-17  6.68555313e-16  5.50732401e-16  7.58596288e-03\n",
            "    -5.45863284e-17  6.89427486e-16]\n",
            "   [ 4.95244319e-17  6.10497342e-16  4.81998725e-16 -4.98725558e-17\n",
            "     7.58596288e-03  7.53073142e-16]\n",
            "   [-1.59999430e-02 -9.90962252e-02  5.81960146e-01  1.27034034e-16\n",
            "     4.26798336e-17 -4.47663569e-02]]]\n",
            "\n",
            "\n",
            " [[[-8.26099628e-16  5.47028333e-16 -8.65930431e-16  1.11539591e+00\n",
            "    -7.82886365e-17  1.50071469e-15]\n",
            "   [ 1.06039650e-16 -4.72943587e-17  2.10276519e-18 -1.22985373e-02\n",
            "    -7.66496192e-18 -3.13030923e-17]\n",
            "   [-1.47183800e-17 -7.19012699e-17  5.27761275e-18 -4.28354178e-03\n",
            "    -4.66586917e-18  7.27696729e-17]\n",
            "   [ 2.58536922e-02  3.38081759e-02  1.12083197e-02  9.68918447e-17\n",
            "     4.17745172e-17 -1.03687761e-02]\n",
            "   [ 6.52818457e-19 -8.30895682e-18 -9.88262981e-19 -1.78419555e-17\n",
            "     5.98291734e-17 -1.74324022e-18]\n",
            "   [ 3.86568751e-17  1.21397774e-16  5.12575515e-17  4.10551212e-03\n",
            "     8.91069181e-18  2.87820705e-17]]\n",
            "\n",
            "  [[ 1.05834358e-16 -4.67905559e-17  2.45545325e-18 -1.22985373e-02\n",
            "    -7.86850065e-18 -3.05028249e-17]\n",
            "   [-7.93606112e-17 -9.72915448e-17 -4.16714658e-16  7.77829097e-01\n",
            "    -1.15379207e-16  5.67818347e-16]\n",
            "   [-7.70630784e-17 -9.98432114e-17 -1.87331301e-16  4.78181725e-02\n",
            "    -1.88175444e-17  7.12417884e-16]\n",
            "   [ 3.38081759e-02  1.56942623e-01  4.03035161e-02  7.04781371e-16\n",
            "     1.53370875e-16 -4.16508161e-02]\n",
            "   [-1.65402493e-18 -2.43507894e-17  6.00183083e-18  3.68720160e-16\n",
            "     2.14965814e-16  7.54932239e-18]\n",
            "   [ 9.71672139e-17  1.46222573e-16  4.09526815e-16 -1.21924948e-01\n",
            "     4.76886796e-17 -4.63035187e-16]]\n",
            "\n",
            "  [[-1.43262605e-17 -7.40490481e-17  3.47501923e-18 -4.28354178e-03\n",
            "    -4.51284863e-18  7.35541345e-17]\n",
            "   [-7.72396393e-17 -9.38488532e-17 -1.89950849e-16  4.78181725e-02\n",
            "    -1.02556665e-17  7.15486110e-16]\n",
            "   [-8.05184750e-17 -1.06972757e-16 -4.16741633e-16  7.25741700e-01\n",
            "    -7.46903188e-17  5.13054346e-16]\n",
            "   [ 1.12083197e-02  4.03035161e-02  5.15571898e-02 -4.23825751e-16\n",
            "     3.21342144e-17  7.58596288e-03]\n",
            "   [-2.23488884e-18  2.54483683e-18 -4.41261305e-17 -4.32640418e-16\n",
            "     2.67057841e-17 -4.55467202e-17]\n",
            "   [ 7.26137096e-17  6.38610004e-16 -1.62761706e-16  1.36326286e-01\n",
            "    -8.72639239e-17  6.53568916e-16]]\n",
            "\n",
            "  [[ 2.58536922e-02  3.38081759e-02  1.12083197e-02  9.68312596e-17\n",
            "     4.18897055e-17 -1.03687761e-02]\n",
            "   [ 3.38081759e-02  1.56942623e-01  4.03035161e-02  7.10306883e-16\n",
            "     1.51173519e-16 -4.16508161e-02]\n",
            "   [ 1.12083197e-02  4.03035161e-02  5.15571898e-02 -3.98982708e-16\n",
            "     3.60896885e-17  7.58596288e-03]\n",
            "   [ 9.71692799e-17  7.09806759e-16 -4.04203806e-16  8.80159093e-01\n",
            "     1.11090844e-17  8.46137696e-16]\n",
            "   [ 4.18506109e-17  1.55668254e-16  1.66734216e-17 -2.57338724e-17\n",
            "     4.74444451e-02  1.20521206e-16]\n",
            "   [-1.03687761e-02 -4.16508161e-02  7.58596288e-03  9.00684509e-16\n",
            "     1.20424668e-16  2.41407920e-02]]\n",
            "\n",
            "  [[-1.73861133e-18 -1.36014373e-18  3.69792219e-19 -1.78642856e-17\n",
            "     6.00146987e-17 -2.15247199e-18]\n",
            "   [-4.90366971e-18 -1.57612737e-17  4.83899517e-18  3.64408676e-16\n",
            "     2.10749290e-16  1.02764406e-17]\n",
            "   [-1.05037478e-18  3.79902710e-18 -4.81709489e-17 -3.70892700e-16\n",
            "     3.64448434e-17 -5.48053303e-17]\n",
            "   [ 4.18562881e-17  1.56506517e-16  1.72125490e-17 -6.22143325e-17\n",
            "     4.74444451e-02  1.21184837e-16]\n",
            "   [-2.29953837e-17  2.74495258e-16 -4.16676465e-16  7.85270203e-01\n",
            "    -8.63303143e-17  7.51891565e-16]\n",
            "   [ 3.95891393e-19  1.76983024e-17 -3.90081926e-17  1.02879611e-15\n",
            "     6.27810907e-17 -6.24356002e-18]]\n",
            "\n",
            "  [[ 3.89968726e-17  1.18473514e-16  5.32640901e-17  4.10551212e-03\n",
            "     9.26878515e-18  2.81326912e-17]\n",
            "   [ 9.66896831e-17  1.35947377e-16  4.35981300e-16 -1.21924948e-01\n",
            "    -5.17037830e-19 -4.39435536e-16]\n",
            "   [ 6.95319690e-17  6.49483783e-16 -1.85001633e-16  1.36326286e-01\n",
            "    -3.67274907e-17  6.26969978e-16]\n",
            "   [-1.03687761e-02 -4.16508161e-02  7.58596288e-03  9.01922605e-16\n",
            "     1.43944519e-16  2.41407920e-02]\n",
            "   [ 3.42938456e-18  1.58192027e-17 -4.87277104e-17  1.00686694e-15\n",
            "     1.00630735e-16 -3.61376527e-17]\n",
            "   [-9.07986950e-17 -5.85287442e-16  6.11202423e-17  5.54511357e-01\n",
            "     2.17247434e-17 -5.47560767e-16]]]\n",
            "\n",
            "\n",
            " [[[-6.26293451e-16  7.62630777e-16 -8.85903026e-16 -1.70661215e-16\n",
            "     1.11539591e+00  1.49317071e-15]\n",
            "   [ 9.60638000e-17 -2.33187858e-17  2.18234749e-19 -1.02621831e-17\n",
            "    -1.22985373e-02 -3.40109914e-17]\n",
            "   [-2.11318269e-17 -6.68250036e-17 -1.37591945e-17 -6.82017833e-18\n",
            "    -4.28354178e-03  4.99104644e-17]\n",
            "   [-5.99715264e-18 -3.50497357e-18 -5.49914983e-19  4.17209762e-17\n",
            "    -2.31807821e-17  3.91266639e-19]\n",
            "   [ 2.58536922e-02  3.38081759e-02  1.12083197e-02  5.97328268e-17\n",
            "     6.65268068e-17 -1.03687761e-02]\n",
            "   [ 3.34898376e-17  1.03268974e-16  4.84347625e-17  1.38079163e-17\n",
            "     4.10551212e-03  1.75415414e-17]]\n",
            "\n",
            "  [[ 9.64792550e-17 -2.30502279e-17 -2.94972425e-19 -1.04854352e-17\n",
            "    -1.22985373e-02 -2.99226521e-17]\n",
            "   [-1.52367883e-17  2.84532855e-16 -3.89496371e-16 -5.94398221e-17\n",
            "     7.77829097e-01  6.36942764e-16]\n",
            "   [-7.09042847e-17 -9.58693985e-17 -2.06223646e-16  8.11407307e-18\n",
            "     4.78181725e-02  6.38912603e-16]\n",
            "   [-1.08311483e-17 -9.62025574e-19  1.04814031e-18  1.55891018e-16\n",
            "     2.81137642e-16 -1.43093787e-17]\n",
            "   [ 3.38081759e-02  1.56942623e-01  4.03035161e-02  2.17418449e-16\n",
            "     7.25709840e-16 -4.16508161e-02]\n",
            "   [ 9.71070441e-17  1.92079240e-16  3.76974362e-16  7.01525592e-18\n",
            "    -1.21924948e-01 -5.53671420e-16]]\n",
            "\n",
            "  [[-2.27816221e-17 -6.59233775e-17 -1.66429246e-17 -6.64164980e-18\n",
            "    -4.28354178e-03  5.29865415e-17]\n",
            "   [-7.17193418e-17 -6.95980287e-17 -2.21504904e-16  1.71666438e-17\n",
            "     4.78181725e-02  6.38242501e-16]\n",
            "   [-6.12875568e-17  8.37700709e-17 -5.11297624e-16 -8.23737521e-17\n",
            "     7.25741700e-01  4.64980608e-16]\n",
            "   [-2.04761303e-18  1.55636166e-18 -3.12675716e-17  2.41248686e-17\n",
            "    -4.30022244e-16 -4.60320650e-17]\n",
            "   [ 1.12083197e-02  4.03035161e-02  5.15571898e-02  1.89876864e-17\n",
            "    -5.35997116e-16  7.58596288e-03]\n",
            "   [ 4.40923437e-17  4.96050824e-16 -2.40992157e-16 -6.55810870e-17\n",
            "     1.36326286e-01  6.92610540e-16]]\n",
            "\n",
            "  [[-9.39804041e-19 -4.57478056e-19  2.24153756e-19  4.18391050e-17\n",
            "    -2.30985821e-17 -4.81834700e-19]\n",
            "   [-1.00118598e-17 -1.06228835e-17 -1.88086989e-18  1.53048921e-16\n",
            "     2.77869765e-16  8.77905655e-18]\n",
            "   [-3.05089915e-18  3.09496198e-18 -3.48404986e-17  3.05906111e-17\n",
            "    -4.30018082e-16 -3.97909048e-17]\n",
            "   [-1.71678300e-17  3.74352590e-16 -4.52505360e-16 -2.61874703e-17\n",
            "     7.85270203e-01  8.32089679e-16]\n",
            "   [ 5.99179468e-17  2.15185942e-16  1.34065099e-17  4.74444451e-02\n",
            "    -9.90406219e-17  8.61239418e-17]\n",
            "   [ 2.92994659e-18  2.09633614e-17 -3.12816516e-17  1.29677416e-16\n",
            "     7.59109510e-16 -3.36017451e-17]]\n",
            "\n",
            "  [[ 2.58536922e-02  3.38081759e-02  1.12083197e-02  5.99001843e-17\n",
            "     6.67585055e-17 -1.03687761e-02]\n",
            "   [ 3.38081759e-02  1.56942623e-01  4.03035161e-02  2.13541423e-16\n",
            "     7.16772738e-16 -4.16508161e-02]\n",
            "   [ 1.12083197e-02  4.03035161e-02  5.15571898e-02  2.90532344e-17\n",
            "    -5.18098822e-16  7.58596288e-03]\n",
            "   [ 5.99204005e-17  2.14809377e-16  1.44133127e-17  4.74444451e-02\n",
            "    -9.58098357e-17  8.64073743e-17]\n",
            "   [ 6.70251140e-17  7.06614559e-16 -5.13185701e-16 -1.04739042e-16\n",
            "     8.80159093e-01  9.81472962e-16]\n",
            "   [-1.03687761e-02 -4.16508161e-02  7.58596288e-03  8.42209825e-17\n",
            "     1.03099335e-15  2.41407920e-02]]\n",
            "\n",
            "  [[ 3.00417299e-17  1.02276482e-16  5.15873060e-17  1.38230437e-17\n",
            "     4.10551212e-03  1.91954987e-17]\n",
            "   [ 9.40935330e-17  2.03857695e-16  3.95954966e-16 -3.77498637e-17\n",
            "    -1.21924948e-01 -5.48987455e-16]\n",
            "   [ 4.54365735e-17  5.07372583e-16 -2.59838586e-16 -2.86795574e-17\n",
            "     1.36326286e-01  6.59074113e-16]\n",
            "   [ 1.25259829e-18 -3.30750638e-19 -3.33266483e-17  1.53003207e-16\n",
            "     7.80863163e-16 -3.05166308e-17]\n",
            "   [-1.03687761e-02 -4.16508161e-02  7.58596288e-03  1.17236205e-16\n",
            "     1.09396647e-15  2.41407920e-02]\n",
            "   [-6.92136660e-17 -3.59416452e-16 -3.59685358e-17 -1.17366685e-16\n",
            "     5.54511357e-01 -5.77265234e-16]]]\n",
            "\n",
            "\n",
            " [[[ 1.59790984e-01 -2.42118626e-01  2.65843254e-01  1.50916488e-15\n",
            "     1.53002909e-15  7.34481338e-01]\n",
            "   [-2.66865302e-02  4.54101197e-03 -5.34487452e-03 -3.08552120e-17\n",
            "    -3.02019687e-17 -5.21692816e-03]\n",
            "   [ 6.40512562e-03  1.65509332e-02  2.07171914e-03  7.46513054e-17\n",
            "     5.35961112e-17 -1.59999430e-02]\n",
            "   [ 3.91863420e-17  9.40378997e-17  7.16912394e-17 -1.03687761e-02\n",
            "    -8.85570918e-19 -8.96445547e-17]\n",
            "   [ 3.30024290e-17  9.26289870e-17  4.55768603e-17 -2.51715363e-18\n",
            "    -1.03687761e-02 -6.92998419e-17]\n",
            "   [ 2.11708054e-02  8.74204002e-03  4.81053325e-03  2.44034716e-17\n",
            "     1.08416481e-17 -8.28037465e-03]]\n",
            "\n",
            "  [[-2.66865302e-02  4.54101197e-03 -5.34487452e-03 -2.82998602e-17\n",
            "    -2.33980542e-17 -5.21692816e-03]\n",
            "   [-2.69295995e-03 -1.20862414e-01  1.01782960e-01  5.06032647e-16\n",
            "     6.12289077e-16  6.12883783e-01]\n",
            "   [ 2.03747148e-02  2.11790621e-02  6.86961222e-02  6.90428809e-16\n",
            "     6.19264932e-16 -9.90962252e-02]\n",
            "   [ 1.19365514e-16  1.33377901e-16  6.44002216e-16 -4.16508161e-02\n",
            "     1.45310241e-19 -5.87006965e-16]\n",
            "   [ 1.04974154e-16  2.06901615e-16  4.92614649e-16 -6.14880280e-18\n",
            "    -4.16508161e-02 -3.62867863e-16]\n",
            "   [ 8.74204002e-03  8.19731113e-02 -6.06860239e-02 -4.43030430e-16\n",
            "    -5.64953879e-16 -1.95498046e-02]]\n",
            "\n",
            "  [[ 6.40512562e-03  1.65509332e-02  2.07171914e-03  7.42757020e-17\n",
            "     5.45017337e-17 -1.59999430e-02]\n",
            "   [ 2.03747148e-02  2.11790621e-02  6.86961222e-02  6.89150051e-16\n",
            "     6.22873320e-16 -9.90962252e-02]\n",
            "   [ 1.41651559e-02 -5.09591903e-02  1.24533083e-01  5.16480017e-16\n",
            "     4.89610269e-16  5.81960146e-01]\n",
            "   [ 5.30566146e-17  4.51903714e-16 -1.88235763e-16  7.58596288e-03\n",
            "    -2.84334622e-17  1.44540212e-16]\n",
            "   [ 3.92446070e-17  4.22338953e-16 -2.72223680e-16 -4.29825685e-17\n",
            "     7.58596288e-03  3.34031502e-17]\n",
            "   [ 4.81053325e-03 -6.06860239e-02  1.22969373e-01  6.68208324e-16\n",
            "     7.12115689e-16 -4.47663569e-02]]\n",
            "\n",
            "  [[ 3.91074977e-17  9.62208138e-17  6.99278177e-17 -1.03687761e-02\n",
            "     4.11570705e-19 -8.63956710e-17]\n",
            "   [ 1.17659694e-16  1.37820633e-16  6.53754004e-16 -4.16508161e-02\n",
            "    -3.62905613e-18 -6.00728434e-16]\n",
            "   [ 5.38710525e-17  4.51732749e-16 -1.84698436e-16  7.58596288e-03\n",
            "    -3.77069363e-17  1.77795420e-16]\n",
            "   [ 4.10551212e-03 -1.21924948e-01  1.36326286e-01  8.55438635e-16\n",
            "     8.95770696e-16  5.54511357e-01]\n",
            "   [ 3.08201615e-18  5.39153544e-18 -1.68976381e-17  1.23751103e-16\n",
            "     5.55511336e-17 -1.03250063e-16]\n",
            "   [ 2.43579540e-17 -4.09558240e-16  6.60272659e-16  2.41407920e-02\n",
            "     1.18739937e-17 -5.00236334e-16]]\n",
            "\n",
            "  [[ 3.19235535e-17  9.48629860e-17  4.42788406e-17 -6.12017531e-19\n",
            "    -1.03687761e-02 -6.30978644e-17]\n",
            "   [ 1.03278986e-16  2.08231279e-16  5.06349203e-16 -3.31515086e-18\n",
            "    -4.16508161e-02 -3.63372479e-16]\n",
            "   [ 3.91845055e-17  4.20254876e-16 -2.76991459e-16 -5.31435278e-17\n",
            "     7.58596288e-03  8.35093524e-17]\n",
            "   [ 2.94193702e-18 -1.65194578e-17 -1.28734326e-17  1.22641918e-16\n",
            "     5.33548281e-17 -1.28033977e-16]\n",
            "   [ 4.10551212e-03 -1.21924948e-01  1.36326286e-01  7.56388794e-16\n",
            "     1.03082174e-15  5.54511357e-01]\n",
            "   [ 1.62026220e-17 -4.61963800e-16  7.16764827e-16  7.17898197e-18\n",
            "     2.41407920e-02 -5.59292028e-16]]\n",
            "\n",
            "  [[ 2.11708054e-02  8.74204002e-03  4.81053325e-03  2.46608994e-17\n",
            "     1.11678699e-17 -8.28037465e-03]\n",
            "   [ 8.74204002e-03  8.19731113e-02 -6.06860239e-02 -4.05882844e-16\n",
            "    -5.21071070e-16 -1.95498046e-02]\n",
            "   [ 4.81053325e-03 -6.06860239e-02  1.22969373e-01  6.32319001e-16\n",
            "     6.76277111e-16 -4.47663569e-02]\n",
            "   [ 2.54445420e-17 -3.94962855e-16  6.64568476e-16  2.41407920e-02\n",
            "    -1.20811738e-17 -5.31245397e-16]\n",
            "   [ 1.76266249e-17 -4.76493383e-16  7.37758054e-16 -2.47277070e-17\n",
            "     2.41407920e-02 -5.59140404e-16]\n",
            "   [-8.28037465e-03 -1.95498046e-02 -4.47663569e-02 -5.26145936e-16\n",
            "    -5.28641556e-16  7.04304126e-01]]]]\n"
          ]
        }
      ],
      "source": [
        "hamiltonian = qmolecule.hamiltonian\n",
        "coefficients = hamiltonian.electronic_integrals\n",
        "print(coefficients.alpha)\n",
        "second_q_op = hamiltonian.second_q_op()"
      ]
    },
    {
      "cell_type": "code",
      "execution_count": 7,
      "metadata": {
        "id": "zLhtOziW8xCC"
      },
      "outputs": [
        {
          "name": "stderr",
          "output_type": "stream",
          "text": [
            "/tmp/ipykernel_1017741/561404713.py:2: DeprecationWarning: The QubitConverter class is deprecated as of version 0.6.0 and will be removed no sooner than 3 months after the release . Instead you should directly use the QubitMapper instance which you used to pass into the QubitConverter as the first argument. Refer to the documentation of the qiskit_nature.second_q.mappers module for more information.\n",
            "  converter = QubitConverter(mapper=mapper, two_qubit_reduction=False)\n",
            "/common/home/zl606/.conda/envs/qiskit43/lib/python3.11/site-packages/qiskit_nature/deprecation.py:297: PauliSumOpDeprecationWarning: PauliSumOp is deprecated as of version 0.6.0 and support for them will be removed no sooner than 3 months after the release. Instead, use SparsePauliOp. You can switch to SparsePauliOp immediately, by setting `qiskit_nature.settings.use_pauli_sum_op` to `False`.\n",
            "  return func(*args, **kwargs)\n"
          ]
        }
      ],
      "source": [
        "mapper = JordanWignerMapper()\n",
        "converter = QubitConverter(mapper=mapper, two_qubit_reduction=False)\n",
        "qubit_op = converter.convert(second_q_op)"
      ]
    },
    {
      "cell_type": "markdown",
      "metadata": {
        "id": "rAQ3oSvbKFIU"
      },
      "source": [
        "We recommend to use classical minimum eigensolver to obtain a reference energy at this step. In case some of the classical minimum eigensolver donot directly gives nuclear repulsion energy, we give reference energies below: *Comupted Energy*: -78.75252123, *Nuclear Repulsion_energy*: 4.36537496654537. *Obtained Reference Ground State Energy*: -74.38714627."
      ]
    },
    {
      "cell_type": "code",
      "execution_count": 8,
      "metadata": {
        "id": "gZQaJ8T441s7"
      },
      "outputs": [],
      "source": [
        "from qiskit.algorithms.minimum_eigensolvers import NumPyMinimumEigensolver\n",
        "from qiskit_nature.second_q.algorithms import GroundStateEigensolver\n",
        "\n",
        "solver = GroundStateEigensolver(\n",
        "    JordanWignerMapper(),\n",
        "    NumPyMinimumEigensolver(),\n",
        ")"
      ]
    },
    {
      "cell_type": "code",
      "execution_count": 9,
      "metadata": {
        "colab": {
          "base_uri": "https://localhost:8080/"
        },
        "id": "CzsPX9Fg42zY",
        "outputId": "57ff628a-9fb8-479d-af26-fb644d807202"
      },
      "outputs": [
        {
          "name": "stdout",
          "output_type": "stream",
          "text": [
            "[-78.75252123]\n"
          ]
        }
      ],
      "source": [
        "result = solver.solve(qmolecule)\n",
        "print(result.computed_energies)"
      ]
    },
    {
      "cell_type": "code",
      "execution_count": 10,
      "metadata": {
        "colab": {
          "base_uri": "https://localhost:8080/"
        },
        "id": "zP_A04usULdu",
        "outputId": "b09f2d22-4a51-4f60-a4f5-5d83b0b9477a"
      },
      "outputs": [
        {
          "name": "stdout",
          "output_type": "stream",
          "text": [
            "4.36537496654537\n"
          ]
        }
      ],
      "source": [
        "print(result.nuclear_repulsion_energy)"
      ]
    },
    {
      "cell_type": "code",
      "execution_count": 11,
      "metadata": {
        "colab": {
          "base_uri": "https://localhost:8080/"
        },
        "id": "CjUk5SkJUQkn",
        "outputId": "925ff152-1a4f-4cb0-f3f2-cbe3798562be"
      },
      "outputs": [
        {
          "name": "stdout",
          "output_type": "stream",
          "text": [
            "[-74.38714627]\n"
          ]
        }
      ],
      "source": [
        "ref_value = result.computed_energies + result.nuclear_repulsion_energy\n",
        "print(ref_value)"
      ]
    },
    {
      "cell_type": "markdown",
      "metadata": {},
      "source": [
        "### Load the Noise Models.\n",
        "\n",
        "Load three noise models: ibmq_kolkata, ibmq_montreal, ibmq_cairo"
      ]
    },
    {
      "cell_type": "code",
      "execution_count": 12,
      "metadata": {
        "id": "HAepMEuOyygR"
      },
      "outputs": [],
      "source": [
        "import numpy as np\n",
        "from qiskit import QuantumCircuit, transpile\n",
        "from qiskit.quantum_info import Kraus, SuperOp\n",
        "from qiskit_aer import AerSimulator\n",
        "from qiskit.tools.visualization import plot_histogram\n",
        "from qiskit_aer.noise import (NoiseModel, QuantumError, ReadoutError,\n",
        "    pauli_error, depolarizing_error, thermal_relaxation_error)\n",
        "import numpy as np\n",
        "import warnings\n",
        "warnings.filterwarnings('ignore')\n",
        "from qiskit import *\n",
        "import time\n",
        "from qiskit.providers.aer.noise import NoiseModel\n",
        "import qiskit.providers.aer.noise as noise\n",
        "from qiskit.utils import QuantumInstance, algorithm_globals\n",
        "from qiskit.providers.fake_provider import *\n",
        "import pickle\n",
        "from qiskit_aer.primitives import Sampler\n",
        "from qiskit import qasm2\n"
      ]
    },
    {
      "cell_type": "code",
      "execution_count": 13,
      "metadata": {},
      "outputs": [],
      "source": [
        "with open('NoiseModel/fakekolkata.pkl', 'rb') as file:\n",
        "    noise_model_kolkata = pickle.load(file)\n",
        "with open('NoiseModel/fakecairo.pkl', 'rb') as file:\n",
        "    noise_model_cairo = pickle.load(file)\n",
        "with open('NoiseModel/fakemontreal.pkl', 'rb') as file:\n",
        "    noise_model_montreal = pickle.load(file)\n",
        "noise_model1 = noise.NoiseModel()\n",
        "noise_model2= noise.NoiseModel()\n",
        "noise_model3 = noise.NoiseModel()\n",
        "noise_model_kolkata = noise_model1.from_dict(noise_model_kolkata)\n",
        "noise_model_cairo = noise_model2.from_dict(noise_model_cairo)\n",
        "noise_model_montreal = noise_model3.from_dict(noise_model_montreal)"
      ]
    },
    {
      "cell_type": "markdown",
      "metadata": {},
      "source": [
        "### Group measurement\n",
        "\n",
        "This is the part for **pauli grouping**.\n",
        "\n",
        "All the implementation is in `utils/varsaw.py`.\n",
        "\n",
        "We use pauli_grouping to reduce the total 631 observables to only **142 observables**.\n",
        "\n",
        "For each observable we take 4000 shots, we our total number of shots is 142*4000 = **568000**. It is under 1800000."
      ]
    },
    {
      "cell_type": "code",
      "execution_count": 14,
      "metadata": {},
      "outputs": [],
      "source": [
        "from utils.varsaw import parseHamiltonian, group_measurements, varsaw_expectation"
      ]
    },
    {
      "cell_type": "code",
      "execution_count": 15,
      "metadata": {},
      "outputs": [],
      "source": [
        "import pickle\n",
        "# run once (commented code)!\n",
        "h, first_term = parseHamiltonian('Hamiltonian/OHhamiltonian.txt')\n",
        "# measurements, measurement_dict = group_measurements(h)\n",
        "# filehandler = open(b\"142observables.obj\",\"wb\")\n",
        "# pickle.dump((measurements, measurement_dict),filehandler)\n",
        "\n",
        "filehandler = open(b\"142observables.obj\",\"rb\")\n",
        "measurements, measurement_dict = pickle.load(filehandler)\n"
      ]
    },
    {
      "cell_type": "markdown",
      "metadata": {},
      "source": [
        "### Load all the Ansatzs.\n",
        "\n",
        "Load 3 ansatzs from qasm file. The 3 ansatzs will be used for 3 different noise models."
      ]
    },
    {
      "cell_type": "code",
      "execution_count": 16,
      "metadata": {},
      "outputs": [],
      "source": [
        "circuit_montreal = qasm2.load('montreal.qasm')\n",
        "# computed_energies_montreal = varsaw_expectation(circuit_montreal, measurements, measurement_dict, first_term, h, sampler_montreal)\n",
        "\n",
        "circuit_kolkata = qasm2.load('kolkata.qasm')\n",
        "# computed_energies_kolkata = varsaw_expectation(circuit_montreal, measurements, measurement_dict, first_term, h, sampler_kolkata)\n",
        "\n",
        "circuit_cairo = qasm2.load('cairo.qasm')\n",
        "# computed_energies_cairo = varsaw_expectation(circuit_montreal, measurements, measurement_dict, first_term, h, sampler_cairo)"
      ]
    },
    {
      "cell_type": "markdown",
      "metadata": {},
      "source": [
        "####  Build 3 samplers with 3 noise models.\n",
        "\n",
        "The samplers here have the same function as qiskit estimator. They both use noise models and take the same arguments like `shots` and `seed`.\n",
        "\n",
        "We try different seeds here. For each seed, we build 3 samplers for 3 noise models. Then we test 3 ansatzs on the correspondent 3 samplers respectively.\n",
        "\n",
        "It may takes around 20 mins."
      ]
    },
    {
      "cell_type": "code",
      "execution_count": 17,
      "metadata": {
        "id": "vzVDjGNVfWA8"
      },
      "outputs": [
        {
          "name": "stdout",
          "output_type": "stream",
          "text": [
            "======================Seed: 20=========================\n",
            "Noise model: ibmq_montreal:\n",
            "Error rate: 2.468030%\n",
            "Escore: 97.531970\n",
            "Noise model: ibmq_kolkata:\n",
            "Error rate: 1.967509%\n",
            "Escore: 98.032491\n",
            "Noise model: ibmq_cairo:\n",
            "Error rate: 1.327241%\n",
            "Escore: 98.672759\n",
            "======================Seed: 21=========================\n",
            "Noise model: ibmq_montreal:\n",
            "Error rate: 2.468071%\n",
            "Escore: 97.531929\n",
            "Noise model: ibmq_kolkata:\n",
            "Error rate: 1.967373%\n",
            "Escore: 98.032627\n",
            "Noise model: ibmq_cairo:\n",
            "Error rate: 1.327053%\n",
            "Escore: 98.672947\n",
            "======================Seed: 30=========================\n",
            "Noise model: ibmq_montreal:\n",
            "Error rate: 2.466273%\n",
            "Escore: 97.533727\n",
            "Noise model: ibmq_kolkata:\n",
            "Error rate: 1.973335%\n",
            "Escore: 98.026665\n",
            "Noise model: ibmq_cairo:\n",
            "Error rate: 1.325874%\n",
            "Escore: 98.674126\n",
            "======================Seed: 33=========================\n",
            "Noise model: ibmq_montreal:\n",
            "Error rate: 2.467117%\n",
            "Escore: 97.532883\n",
            "Noise model: ibmq_kolkata:\n",
            "Error rate: 1.973323%\n",
            "Escore: 98.026677\n",
            "Noise model: ibmq_cairo:\n",
            "Error rate: 1.325965%\n",
            "Escore: 98.674035\n",
            "======================Seed: 36=========================\n",
            "Noise model: ibmq_montreal:\n",
            "Error rate: 2.467342%\n",
            "Escore: 97.532658\n",
            "Noise model: ibmq_kolkata:\n",
            "Error rate: 1.972922%\n",
            "Escore: 98.027078\n",
            "Noise model: ibmq_cairo:\n",
            "Error rate: 1.325599%\n",
            "Escore: 98.674401\n",
            "======================Seed: 42=========================\n",
            "Noise model: ibmq_montreal:\n",
            "Error rate: 2.465991%\n",
            "Escore: 97.534009\n",
            "Noise model: ibmq_kolkata:\n",
            "Error rate: 1.972052%\n",
            "Escore: 98.027948\n",
            "Noise model: ibmq_cairo:\n",
            "Error rate: 1.324856%\n",
            "Escore: 98.675144\n",
            "======================Seed: 43=========================\n",
            "Noise model: ibmq_montreal:\n",
            "Error rate: 2.465581%\n",
            "Escore: 97.534419\n",
            "Noise model: ibmq_kolkata:\n",
            "Error rate: 1.971417%\n",
            "Escore: 98.028583\n",
            "Noise model: ibmq_cairo:\n",
            "Error rate: 1.324262%\n",
            "Escore: 98.675738\n",
            "======================Seed: 55=========================\n",
            "Noise model: ibmq_montreal:\n",
            "Error rate: 2.458388%\n",
            "Escore: 97.541612\n",
            "Noise model: ibmq_kolkata:\n",
            "Error rate: 1.963536%\n",
            "Escore: 98.036464\n",
            "Noise model: ibmq_cairo:\n",
            "Error rate: 1.316728%\n",
            "Escore: 98.683272\n",
            "======================Seed: 67=========================\n",
            "Noise model: ibmq_montreal:\n",
            "Error rate: 2.482178%\n",
            "Escore: 97.517822\n",
            "Noise model: ibmq_kolkata:\n",
            "Error rate: 1.979561%\n",
            "Escore: 98.020439\n",
            "Noise model: ibmq_cairo:\n",
            "Error rate: 1.332637%\n",
            "Escore: 98.667363\n",
            "======================Seed: 170=========================\n",
            "Noise model: ibmq_montreal:\n",
            "Error rate: 2.457865%\n",
            "Escore: 97.542135\n",
            "Noise model: ibmq_kolkata:\n",
            "Error rate: 1.959242%\n",
            "Escore: 98.040758\n",
            "Noise model: ibmq_cairo:\n",
            "Error rate: 1.305682%\n",
            "Escore: 98.694318\n"
          ]
        }
      ],
      "source": [
        "for seeds in [20, 21, 30, 33, 36, 42, 43, 55, 67, 170]:\n",
        "    algorithm_globals.random_seed = seeds\n",
        "    seed_transpiler = seeds\n",
        "    iterations = 125\n",
        "    shot = 4000\n",
        "\n",
        "    sampler_kolkata = Sampler(\n",
        "        backend_options = {\n",
        "            'method': 'statevector',\n",
        "            'device': 'CPU',\n",
        "            'noise_model': noise_model_kolkata\n",
        "        },\n",
        "        run_options = {\n",
        "            'shots': shot,\n",
        "            'seed': seeds,\n",
        "        },\n",
        "        transpile_options = {\n",
        "            'seed_transpiler':seed_transpiler\n",
        "        }\n",
        "    )\n",
        "    sampler_montreal = Sampler(\n",
        "        backend_options = {\n",
        "            'method': 'statevector',\n",
        "            'device': 'CPU',\n",
        "            'noise_model': noise_model_montreal\n",
        "        },\n",
        "        run_options = {\n",
        "            'shots': shot,\n",
        "            'seed': seeds,\n",
        "        },\n",
        "        transpile_options = {\n",
        "            'seed_transpiler':seed_transpiler\n",
        "        }\n",
        "    )\n",
        "    sampler_cairo = Sampler(\n",
        "        backend_options = {\n",
        "            'method': 'statevector',\n",
        "            'device': 'CPU',\n",
        "            'noise_model': noise_model_cairo\n",
        "        },\n",
        "        run_options = {\n",
        "            'shots': shot,\n",
        "            'seed': seeds,\n",
        "        },\n",
        "        transpile_options = {\n",
        "            'seed_transpiler':seed_transpiler\n",
        "        }\n",
        "    )\n",
        "    computed_energies_montreal = varsaw_expectation(circuit_montreal, measurements, measurement_dict, first_term, h, sampler_montreal)\n",
        "\n",
        "    computed_energies_kolkata = varsaw_expectation(circuit_montreal, measurements, measurement_dict, first_term, h, sampler_kolkata)\n",
        "\n",
        "    computed_energies_cairo = varsaw_expectation(circuit_montreal, measurements, measurement_dict, first_term, h, sampler_cairo)\n",
        "    \n",
        "    # Calculate the Accuracy (Most Important Metric)\n",
        "    \n",
        "    print(f\"======================Seed: {seeds}=========================\")\n",
        "    \n",
        "    estimated = computed_energies_montreal + result.nuclear_repulsion_energy\n",
        "    error_rate = abs(abs(ref_value - estimated) / ref_value * 100)\n",
        "    print(\"Noise model: ibmq_montreal:\")\n",
        "    print(\"Error rate: %f%%\" % (error_rate))\n",
        "    print(\"Escore: %f\" % (100-error_rate))\n",
        "\n",
        "    estimated = computed_energies_kolkata + result.nuclear_repulsion_energy\n",
        "    error_rate = abs(abs(ref_value - estimated) / ref_value * 100)\n",
        "    print(\"Noise model: ibmq_kolkata:\")\n",
        "    print(\"Error rate: %f%%\" % (error_rate))\n",
        "    print(\"Escore: %f\" % (100-error_rate))\n",
        "\n",
        "    estimated = computed_energies_cairo + result.nuclear_repulsion_energy\n",
        "    error_rate = abs(abs(ref_value - estimated) / ref_value * 100)\n",
        "    print(\"Noise model: ibmq_cairo:\")\n",
        "    print(\"Error rate: %f%%\" % (error_rate))\n",
        "    print(\"Escore: %f\" % (100-error_rate))"
      ]
    },
    {
      "cell_type": "markdown",
      "metadata": {},
      "source": [
        "## Obtain the Duration of Quantum Circuit"
      ]
    },
    {
      "cell_type": "code",
      "execution_count": 18,
      "metadata": {},
      "outputs": [
        {
          "name": "stdout",
          "output_type": "stream",
          "text": [
            "duration on ibmq_montreal.qasm is 160\n",
            "duration on ibmq_kolkata.qasm is 160\n",
            "duration on ibmq_cairo.qasm is 96\n"
          ]
        }
      ],
      "source": [
        "from qiskit.providers.fake_provider import *\n",
        "for name, system_model in [('montreal.qasm', FakeMontreal()), ('kolkata.qasm', FakeKolkata()), ('cairo.qasm', FakeCairo())]:\n",
        "    transpiled_circuit = qasm2.load(name)\n",
        "    with pulse.build(system_model) as my_program1:\n",
        "        pulse.call(transpiled_circuit)\n",
        "    print(f'duration on ibmq_{name} is {my_program1.duration}')\n"
      ]
    },
    {
      "cell_type": "markdown",
      "metadata": {},
      "source": [
        "On above we have shown our experiment results. Next we will showcase our novel compilation framework for UCCSD ansatz.\n",
        "\n",
        "You don't need to run the code below because it has nothing to do with the grading. We just put the code here for anybody who is interesed in our compilation framework.\n",
        "### Appendix\n",
        "##### Tetris: A Hardware-aware Compilation and Transpilation framework for UCCSD ansatz\n",
        "\n",
        "Here we shows an example code of how to run Tetris to maximize the CNOT cancellation and reduce circuit duration. For more design details please refer to our self-reflection report.\n"
      ]
    },
    {
      "cell_type": "code",
      "execution_count": 19,
      "metadata": {},
      "outputs": [],
      "source": [
        "from arch import load_coupling_map\n",
        "from time import time as ctime\n",
        "from utils.parallel_bl import gate_count_oriented_scheduling\n",
        "from utils.synthesis_broccoli import synthesis\n",
        "from qiskit import QuantumCircuit, transpile\n",
        "\n",
        "def Tetris_Montreal(parr, use_bridge=False):\n",
        "    print('Tetris passes, Our schedule, Our synthesis, montreal', flush=True)\n",
        "    lnq = len(parr[0][0]) # lnq: number of qubits\n",
        "    length = lnq // 2 # `length' is a hyperparameter, and can be adjusted for best performance. Here we keep `length' fixed for simplicity.\n",
        "    coup = load_coupling_map('montreal')\n",
        "    t0 = ctime()\n",
        "    a2 = gate_count_oriented_scheduling(parr) # parr is the pauli_block list\n",
        "    # a2 = [[block] for block in parr]\n",
        "    qc, metrics = synthesis(a2, arch='montreal', use_bridge=use_bridge)\n",
        "    pnq = qc.num_qubits\n",
        "    print(pnq)\n",
        "    print('Tetris, Time costed:', ctime()-t0, flush=True)\n",
        "    t0 = ctime()\n",
        "    qc2 = transpile(qc, basis_gates=['u3', 'cx'], coupling_map=coup, initial_layout=list(range(pnq)), optimization_level=3)\n",
        "    print('Qiskit L3, Time costed:', ctime()-t0, flush=True)\n",
        "    return qc2\n"
      ]
    },
    {
      "cell_type": "code",
      "execution_count": 20,
      "metadata": {},
      "outputs": [
        {
          "ename": "NameError",
          "evalue": "name 'ansatz' is not defined",
          "output_type": "error",
          "traceback": [
            "\u001b[0;31m---------------------------------------------------------------------------\u001b[0m",
            "\u001b[0;31mNameError\u001b[0m                                 Traceback (most recent call last)",
            "\u001b[1;32m/common/home/zl606/ACCAD_QC_Contest/evaluation.ipynb Cell 33\u001b[0m line \u001b[0;36m5\n\u001b[1;32m      <a href='vscode-notebook-cell://ssh-remote%2Bcp.cs.rutgers.edu/common/home/zl606/ACCAD_QC_Contest/evaluation.ipynb#X45sdnNjb2RlLXJlbW90ZQ%3D%3D?line=1'>2</a>\u001b[0m \u001b[39mfrom\u001b[39;00m \u001b[39mbenchmark\u001b[39;00m\u001b[39m.\u001b[39;00m\u001b[39mmypauli\u001b[39;00m \u001b[39mimport\u001b[39;00m pauliString\n\u001b[1;32m      <a href='vscode-notebook-cell://ssh-remote%2Bcp.cs.rutgers.edu/common/home/zl606/ACCAD_QC_Contest/evaluation.ipynb#X45sdnNjb2RlLXJlbW90ZQ%3D%3D?line=3'>4</a>\u001b[0m pauli_blocks \u001b[39m=\u001b[39m []\n\u001b[0;32m----> <a href='vscode-notebook-cell://ssh-remote%2Bcp.cs.rutgers.edu/common/home/zl606/ACCAD_QC_Contest/evaluation.ipynb#X45sdnNjb2RlLXJlbW90ZQ%3D%3D?line=4'>5</a>\u001b[0m \u001b[39mfor\u001b[39;00m pauli_list \u001b[39min\u001b[39;00m ansatz\u001b[39m.\u001b[39m_operators: \u001b[39m# load all pauli blocks to a list\u001b[39;00m\n\u001b[1;32m      <a href='vscode-notebook-cell://ssh-remote%2Bcp.cs.rutgers.edu/common/home/zl606/ACCAD_QC_Contest/evaluation.ipynb#X45sdnNjb2RlLXJlbW90ZQ%3D%3D?line=5'>6</a>\u001b[0m     block \u001b[39m=\u001b[39m ast\u001b[39m.\u001b[39mliteral_eval(pauli_list\u001b[39m.\u001b[39m_primitive\u001b[39m.\u001b[39m_pauli_list\u001b[39m.\u001b[39m\u001b[39m__str__\u001b[39m())\n\u001b[1;32m      <a href='vscode-notebook-cell://ssh-remote%2Bcp.cs.rutgers.edu/common/home/zl606/ACCAD_QC_Contest/evaluation.ipynb#X45sdnNjb2RlLXJlbW90ZQ%3D%3D?line=6'>7</a>\u001b[0m     block \u001b[39m=\u001b[39m [pauliString(ps) \u001b[39mfor\u001b[39;00m ps \u001b[39min\u001b[39;00m block]\n",
            "\u001b[0;31mNameError\u001b[0m: name 'ansatz' is not defined"
          ]
        }
      ],
      "source": [
        "import ast\n",
        "from benchmark.mypauli import pauliString\n",
        "\n",
        "pauli_blocks = []\n",
        "for pauli_list in ansatz._operators: # load all pauli blocks to a list\n",
        "    block = ast.literal_eval(pauli_list._primitive._pauli_list.__str__())\n",
        "    block = [pauliString(ps) for ps in block]\n",
        "    pauli_blocks.append(block)\n",
        "\n",
        "new_ansatz = Tetris_Montreal(pauli_blocks, use_bridge=False)"
      ]
    },
    {
      "cell_type": "code",
      "execution_count": 30,
      "metadata": {},
      "outputs": [
        {
          "name": "stdout",
          "output_type": "stream",
          "text": [
            "duration on ibmq_montreal.qasm is 160\n",
            "duration on ibmq_kolkata.qasm is 160\n",
            "duration on ibmq_cairo.qasm is 96\n"
          ]
        }
      ],
      "source": []
    }
  ],
  "metadata": {
    "colab": {
      "provenance": []
    },
    "kernelspec": {
      "display_name": "Python 3 (ipykernel)",
      "language": "python",
      "name": "python3"
    },
    "language_info": {
      "codemirror_mode": {
        "name": "ipython",
        "version": 3
      },
      "file_extension": ".py",
      "mimetype": "text/x-python",
      "name": "python",
      "nbconvert_exporter": "python",
      "pygments_lexer": "ipython3",
      "version": "3.11.4"
    }
  },
  "nbformat": 4,
  "nbformat_minor": 0
}
